{
 "cells": [
  {
   "cell_type": "markdown",
   "id": "4ca5de15",
   "metadata": {},
   "source": [
    "# Car Price Prediction"
   ]
  },
  {
   "cell_type": "markdown",
   "id": "6ba89a2a",
   "metadata": {},
   "source": [
    "### 1. Importing the libraries"
   ]
  },
  {
   "cell_type": "markdown",
   "id": "c0f2a8e0",
   "metadata": {},
   "source": [
    "A Python library is a collection of related modules. It contains bundles of code that can be used repeatedly in different programs. It makes Python Programming simpler and convenient for the programmer. As we don't need to write the same code again and again for different programs.\n",
    "\n",
    "In this notebook, we will be using the following libraries."
   ]
  },
  {
   "cell_type": "code",
   "execution_count": 1,
   "id": "98e4ac80",
   "metadata": {},
   "outputs": [],
   "source": [
    "### Data Wrangling \n",
    "\n",
    "import numpy as np\n",
    "import pandas as pd\n",
    "import missingno\n",
    "from collections import Counter\n",
    "from collections import OrderedDict\n",
    "\n",
    "### Data Visualization\n",
    "\n",
    "import matplotlib.pyplot as plt\n",
    "import seaborn as sns\n",
    "\n",
    "### Data Preprocessing\n",
    "\n",
    "import statsmodels.api as sm\n",
    "from scipy import stats\n",
    "\n",
    "### Modelling \n",
    "\n",
    "from sklearn.model_selection import train_test_split\n",
    "from math import sqrt\n",
    "from sklearn.metrics import mean_squared_error, r2_score\n",
    "from sklearn.model_selection import GridSearchCV\n",
    "from sklearn.linear_model import LinearRegression\n",
    "from sklearn.linear_model import Lasso\n",
    "from sklearn.linear_model import Ridge\n",
    "from sklearn.svm import SVR\n",
    "from sklearn.tree import DecisionTreeRegressor\n",
    "from sklearn.ensemble import RandomForestRegressor\n",
    "from sklearn.ensemble import StackingRegressor\n",
    "import xgboost as xg\n",
    "\n",
    "### Tabulating the results\n",
    "\n",
    "from tabulate import tabulate\n",
    "\n",
    "### Remove unnecessary warnings\n",
    "\n",
    "import warnings\n",
    "warnings.filterwarnings('ignore')"
   ]
  },
  {
   "cell_type": "markdown",
   "id": "6b4fd9e6",
   "metadata": {},
   "source": [
    "### 2. Importing the data"
   ]
  },
  {
   "cell_type": "markdown",
   "id": "78783ce5",
   "metadata": {},
   "source": [
    "In this section, I will fetch the dataset that is available in the Kaggle's project description in the Data section.\n",
    "\n",
    "The training set should be used to build your machine learning models. For the training set, we provide the outcome (also known as the “ground truth”) for each Car model. Your model will be based on “features” like Manufacturer, Model, Category, Mileage, Cylinders etc. You can also use feature engineering to create new features.\n",
    "\n",
    "The test set should be used to see how well your model performs on unseen data. For the test set, we do not provide the ground truth. It is your job to predict these outcomes. For each car, our task is to predict the price of the car."
   ]
  },
  {
   "cell_type": "code",
   "execution_count": 2,
   "id": "2f709883",
   "metadata": {},
   "outputs": [],
   "source": [
    "### Fetching the dataset\n",
    "\n",
    "dataset = pd.read_csv('../Datasets/car_price_prediction.csv')"
   ]
  },
  {
   "cell_type": "code",
   "execution_count": 3,
   "id": "0dc39786",
   "metadata": {},
   "outputs": [
    {
     "data": {
      "text/html": [
       "<div>\n",
       "<style scoped>\n",
       "    .dataframe tbody tr th:only-of-type {\n",
       "        vertical-align: middle;\n",
       "    }\n",
       "\n",
       "    .dataframe tbody tr th {\n",
       "        vertical-align: top;\n",
       "    }\n",
       "\n",
       "    .dataframe thead th {\n",
       "        text-align: right;\n",
       "    }\n",
       "</style>\n",
       "<table border=\"1\" class=\"dataframe\">\n",
       "  <thead>\n",
       "    <tr style=\"text-align: right;\">\n",
       "      <th></th>\n",
       "      <th>ID</th>\n",
       "      <th>Price</th>\n",
       "      <th>Levy</th>\n",
       "      <th>Manufacturer</th>\n",
       "      <th>Model</th>\n",
       "      <th>Prod. year</th>\n",
       "      <th>Category</th>\n",
       "      <th>Leather interior</th>\n",
       "      <th>Fuel type</th>\n",
       "      <th>Engine volume</th>\n",
       "      <th>Mileage</th>\n",
       "      <th>Cylinders</th>\n",
       "      <th>Gear box type</th>\n",
       "      <th>Drive wheels</th>\n",
       "      <th>Doors</th>\n",
       "      <th>Wheel</th>\n",
       "      <th>Color</th>\n",
       "      <th>Airbags</th>\n",
       "    </tr>\n",
       "  </thead>\n",
       "  <tbody>\n",
       "    <tr>\n",
       "      <th>0</th>\n",
       "      <td>45654403</td>\n",
       "      <td>13328</td>\n",
       "      <td>1399</td>\n",
       "      <td>LEXUS</td>\n",
       "      <td>RX 450</td>\n",
       "      <td>2010</td>\n",
       "      <td>Jeep</td>\n",
       "      <td>Yes</td>\n",
       "      <td>Hybrid</td>\n",
       "      <td>3.5</td>\n",
       "      <td>186005 km</td>\n",
       "      <td>6.0</td>\n",
       "      <td>Automatic</td>\n",
       "      <td>4x4</td>\n",
       "      <td>04-May</td>\n",
       "      <td>Left wheel</td>\n",
       "      <td>Silver</td>\n",
       "      <td>12</td>\n",
       "    </tr>\n",
       "    <tr>\n",
       "      <th>1</th>\n",
       "      <td>44731507</td>\n",
       "      <td>16621</td>\n",
       "      <td>1018</td>\n",
       "      <td>CHEVROLET</td>\n",
       "      <td>Equinox</td>\n",
       "      <td>2011</td>\n",
       "      <td>Jeep</td>\n",
       "      <td>No</td>\n",
       "      <td>Petrol</td>\n",
       "      <td>3</td>\n",
       "      <td>192000 km</td>\n",
       "      <td>6.0</td>\n",
       "      <td>Tiptronic</td>\n",
       "      <td>4x4</td>\n",
       "      <td>04-May</td>\n",
       "      <td>Left wheel</td>\n",
       "      <td>Black</td>\n",
       "      <td>8</td>\n",
       "    </tr>\n",
       "    <tr>\n",
       "      <th>2</th>\n",
       "      <td>45774419</td>\n",
       "      <td>8467</td>\n",
       "      <td>-</td>\n",
       "      <td>HONDA</td>\n",
       "      <td>FIT</td>\n",
       "      <td>2006</td>\n",
       "      <td>Hatchback</td>\n",
       "      <td>No</td>\n",
       "      <td>Petrol</td>\n",
       "      <td>1.3</td>\n",
       "      <td>200000 km</td>\n",
       "      <td>4.0</td>\n",
       "      <td>Variator</td>\n",
       "      <td>Front</td>\n",
       "      <td>04-May</td>\n",
       "      <td>Right-hand drive</td>\n",
       "      <td>Black</td>\n",
       "      <td>2</td>\n",
       "    </tr>\n",
       "    <tr>\n",
       "      <th>3</th>\n",
       "      <td>45769185</td>\n",
       "      <td>3607</td>\n",
       "      <td>862</td>\n",
       "      <td>FORD</td>\n",
       "      <td>Escape</td>\n",
       "      <td>2011</td>\n",
       "      <td>Jeep</td>\n",
       "      <td>Yes</td>\n",
       "      <td>Hybrid</td>\n",
       "      <td>2.5</td>\n",
       "      <td>168966 km</td>\n",
       "      <td>4.0</td>\n",
       "      <td>Automatic</td>\n",
       "      <td>4x4</td>\n",
       "      <td>04-May</td>\n",
       "      <td>Left wheel</td>\n",
       "      <td>White</td>\n",
       "      <td>0</td>\n",
       "    </tr>\n",
       "    <tr>\n",
       "      <th>4</th>\n",
       "      <td>45809263</td>\n",
       "      <td>11726</td>\n",
       "      <td>446</td>\n",
       "      <td>HONDA</td>\n",
       "      <td>FIT</td>\n",
       "      <td>2014</td>\n",
       "      <td>Hatchback</td>\n",
       "      <td>Yes</td>\n",
       "      <td>Petrol</td>\n",
       "      <td>1.3</td>\n",
       "      <td>91901 km</td>\n",
       "      <td>4.0</td>\n",
       "      <td>Automatic</td>\n",
       "      <td>Front</td>\n",
       "      <td>04-May</td>\n",
       "      <td>Left wheel</td>\n",
       "      <td>Silver</td>\n",
       "      <td>4</td>\n",
       "    </tr>\n",
       "    <tr>\n",
       "      <th>5</th>\n",
       "      <td>45802912</td>\n",
       "      <td>39493</td>\n",
       "      <td>891</td>\n",
       "      <td>HYUNDAI</td>\n",
       "      <td>Santa FE</td>\n",
       "      <td>2016</td>\n",
       "      <td>Jeep</td>\n",
       "      <td>Yes</td>\n",
       "      <td>Diesel</td>\n",
       "      <td>2</td>\n",
       "      <td>160931 km</td>\n",
       "      <td>4.0</td>\n",
       "      <td>Automatic</td>\n",
       "      <td>Front</td>\n",
       "      <td>04-May</td>\n",
       "      <td>Left wheel</td>\n",
       "      <td>White</td>\n",
       "      <td>4</td>\n",
       "    </tr>\n",
       "    <tr>\n",
       "      <th>6</th>\n",
       "      <td>45656768</td>\n",
       "      <td>1803</td>\n",
       "      <td>761</td>\n",
       "      <td>TOYOTA</td>\n",
       "      <td>Prius</td>\n",
       "      <td>2010</td>\n",
       "      <td>Hatchback</td>\n",
       "      <td>Yes</td>\n",
       "      <td>Hybrid</td>\n",
       "      <td>1.8</td>\n",
       "      <td>258909 km</td>\n",
       "      <td>4.0</td>\n",
       "      <td>Automatic</td>\n",
       "      <td>Front</td>\n",
       "      <td>04-May</td>\n",
       "      <td>Left wheel</td>\n",
       "      <td>White</td>\n",
       "      <td>12</td>\n",
       "    </tr>\n",
       "    <tr>\n",
       "      <th>7</th>\n",
       "      <td>45816158</td>\n",
       "      <td>549</td>\n",
       "      <td>751</td>\n",
       "      <td>HYUNDAI</td>\n",
       "      <td>Sonata</td>\n",
       "      <td>2013</td>\n",
       "      <td>Sedan</td>\n",
       "      <td>Yes</td>\n",
       "      <td>Petrol</td>\n",
       "      <td>2.4</td>\n",
       "      <td>216118 km</td>\n",
       "      <td>4.0</td>\n",
       "      <td>Automatic</td>\n",
       "      <td>Front</td>\n",
       "      <td>04-May</td>\n",
       "      <td>Left wheel</td>\n",
       "      <td>Grey</td>\n",
       "      <td>12</td>\n",
       "    </tr>\n",
       "    <tr>\n",
       "      <th>8</th>\n",
       "      <td>45641395</td>\n",
       "      <td>1098</td>\n",
       "      <td>394</td>\n",
       "      <td>TOYOTA</td>\n",
       "      <td>Camry</td>\n",
       "      <td>2014</td>\n",
       "      <td>Sedan</td>\n",
       "      <td>Yes</td>\n",
       "      <td>Hybrid</td>\n",
       "      <td>2.5</td>\n",
       "      <td>398069 km</td>\n",
       "      <td>4.0</td>\n",
       "      <td>Automatic</td>\n",
       "      <td>Front</td>\n",
       "      <td>04-May</td>\n",
       "      <td>Left wheel</td>\n",
       "      <td>Black</td>\n",
       "      <td>12</td>\n",
       "    </tr>\n",
       "    <tr>\n",
       "      <th>9</th>\n",
       "      <td>45756839</td>\n",
       "      <td>26657</td>\n",
       "      <td>-</td>\n",
       "      <td>LEXUS</td>\n",
       "      <td>RX 350</td>\n",
       "      <td>2007</td>\n",
       "      <td>Jeep</td>\n",
       "      <td>Yes</td>\n",
       "      <td>Petrol</td>\n",
       "      <td>3.5</td>\n",
       "      <td>128500 km</td>\n",
       "      <td>6.0</td>\n",
       "      <td>Automatic</td>\n",
       "      <td>4x4</td>\n",
       "      <td>04-May</td>\n",
       "      <td>Left wheel</td>\n",
       "      <td>Silver</td>\n",
       "      <td>12</td>\n",
       "    </tr>\n",
       "  </tbody>\n",
       "</table>\n",
       "</div>"
      ],
      "text/plain": [
       "         ID  Price  Levy Manufacturer     Model  Prod. year   Category  \\\n",
       "0  45654403  13328  1399        LEXUS    RX 450        2010       Jeep   \n",
       "1  44731507  16621  1018    CHEVROLET   Equinox        2011       Jeep   \n",
       "2  45774419   8467     -        HONDA       FIT        2006  Hatchback   \n",
       "3  45769185   3607   862         FORD    Escape        2011       Jeep   \n",
       "4  45809263  11726   446        HONDA       FIT        2014  Hatchback   \n",
       "5  45802912  39493   891      HYUNDAI  Santa FE        2016       Jeep   \n",
       "6  45656768   1803   761       TOYOTA     Prius        2010  Hatchback   \n",
       "7  45816158    549   751      HYUNDAI    Sonata        2013      Sedan   \n",
       "8  45641395   1098   394       TOYOTA     Camry        2014      Sedan   \n",
       "9  45756839  26657     -        LEXUS    RX 350        2007       Jeep   \n",
       "\n",
       "  Leather interior Fuel type Engine volume    Mileage  Cylinders  \\\n",
       "0              Yes    Hybrid           3.5  186005 km        6.0   \n",
       "1               No    Petrol             3  192000 km        6.0   \n",
       "2               No    Petrol           1.3  200000 km        4.0   \n",
       "3              Yes    Hybrid           2.5  168966 km        4.0   \n",
       "4              Yes    Petrol           1.3   91901 km        4.0   \n",
       "5              Yes    Diesel             2  160931 km        4.0   \n",
       "6              Yes    Hybrid           1.8  258909 km        4.0   \n",
       "7              Yes    Petrol           2.4  216118 km        4.0   \n",
       "8              Yes    Hybrid           2.5  398069 km        4.0   \n",
       "9              Yes    Petrol           3.5  128500 km        6.0   \n",
       "\n",
       "  Gear box type Drive wheels   Doors             Wheel   Color  Airbags  \n",
       "0     Automatic          4x4  04-May        Left wheel  Silver       12  \n",
       "1     Tiptronic          4x4  04-May        Left wheel   Black        8  \n",
       "2      Variator        Front  04-May  Right-hand drive   Black        2  \n",
       "3     Automatic          4x4  04-May        Left wheel   White        0  \n",
       "4     Automatic        Front  04-May        Left wheel  Silver        4  \n",
       "5     Automatic        Front  04-May        Left wheel   White        4  \n",
       "6     Automatic        Front  04-May        Left wheel   White       12  \n",
       "7     Automatic        Front  04-May        Left wheel    Grey       12  \n",
       "8     Automatic        Front  04-May        Left wheel   Black       12  \n",
       "9     Automatic          4x4  04-May        Left wheel  Silver       12  "
      ]
     },
     "execution_count": 3,
     "metadata": {},
     "output_type": "execute_result"
    }
   ],
   "source": [
    "### Looking at the sample data in the dataset\n",
    "\n",
    "dataset.head(10)"
   ]
  },
  {
   "cell_type": "code",
   "execution_count": 4,
   "id": "094d7410",
   "metadata": {},
   "outputs": [
    {
     "data": {
      "text/plain": [
       "(19237, 18)"
      ]
     },
     "execution_count": 4,
     "metadata": {},
     "output_type": "execute_result"
    }
   ],
   "source": [
    "### Shape of the dataset\n",
    "\n",
    "dataset.shape"
   ]
  },
  {
   "cell_type": "markdown",
   "id": "b7a6c995",
   "metadata": {},
   "source": [
    "The training dataset consists of 18 columns and 19237 rows."
   ]
  },
  {
   "cell_type": "markdown",
   "id": "3adea303",
   "metadata": {},
   "source": [
    "### 3. Exploratory Data Analysis"
   ]
  },
  {
   "cell_type": "markdown",
   "id": "f3da48db",
   "metadata": {},
   "source": [
    "Exploratory Data Analysis refers to the critical process of performing initial investigations on data so as to discover patterns,to spot anomalies,to test hypothesis and to check assumptions with the help of summary statistics and graphical representations.\n",
    "\n",
    "Here, we will perform EDA on the categorical columns of the dataset - Manufacturer, Category, Leather interior, Fuel type, Gear box type, Drive wheels, Doors, Wheel, Color and the numerical columns of the dataset - Price, Levy, Prod. year, Engine volume, Mileage, Cylinders, Airbags."
   ]
  },
  {
   "cell_type": "markdown",
   "id": "4ce75877",
   "metadata": {},
   "source": [
    "#### 3.1 Datatypes, Missing Data, and Summary Statistics"
   ]
  },
  {
   "cell_type": "code",
   "execution_count": 5,
   "id": "66d05444",
   "metadata": {},
   "outputs": [
    {
     "name": "stdout",
     "output_type": "stream",
     "text": [
      "<class 'pandas.core.frame.DataFrame'>\n",
      "RangeIndex: 19237 entries, 0 to 19236\n",
      "Data columns (total 18 columns):\n",
      " #   Column            Non-Null Count  Dtype  \n",
      "---  ------            --------------  -----  \n",
      " 0   ID                19237 non-null  int64  \n",
      " 1   Price             19237 non-null  int64  \n",
      " 2   Levy              19237 non-null  object \n",
      " 3   Manufacturer      19237 non-null  object \n",
      " 4   Model             19237 non-null  object \n",
      " 5   Prod. year        19237 non-null  int64  \n",
      " 6   Category          19237 non-null  object \n",
      " 7   Leather interior  19237 non-null  object \n",
      " 8   Fuel type         19237 non-null  object \n",
      " 9   Engine volume     19237 non-null  object \n",
      " 10  Mileage           19237 non-null  object \n",
      " 11  Cylinders         19237 non-null  float64\n",
      " 12  Gear box type     19237 non-null  object \n",
      " 13  Drive wheels      19237 non-null  object \n",
      " 14  Doors             19237 non-null  object \n",
      " 15  Wheel             19237 non-null  object \n",
      " 16  Color             19237 non-null  object \n",
      " 17  Airbags           19237 non-null  int64  \n",
      "dtypes: float64(1), int64(4), object(13)\n",
      "memory usage: 2.6+ MB\n"
     ]
    }
   ],
   "source": [
    "### Looking at the datatypes of the dataset\n",
    "\n",
    "dataset.info()"
   ]
  },
  {
   "cell_type": "markdown",
   "id": "7d7820d7",
   "metadata": {},
   "source": [
    "Here, the columns - Manufacturer, Model, Category, Leather interior, Fuel type, Gear box type, Drive wheels, Doors, Wheel, Color are categorical. Hence, we modify the datatype of these columns to category."
   ]
  },
  {
   "cell_type": "code",
   "execution_count": 6,
   "id": "5ecb6727",
   "metadata": {},
   "outputs": [],
   "source": [
    "### Modifying the datatypes of the columns to category\n",
    "\n",
    "dataset.Manufacturer = dataset.Manufacturer.astype('category')\n",
    "dataset.Model = dataset.Model.astype('category')\n",
    "dataset.Category = dataset.Category.astype('category')\n",
    "dataset[\"Leather interior\"] = dataset[\"Leather interior\"].astype('category')\n",
    "dataset[\"Fuel type\"] = dataset[\"Fuel type\"].astype('category')\n",
    "dataset[\"Gear box type\"] = dataset[\"Gear box type\"].astype('category')\n",
    "dataset[\"Drive wheels\"] = dataset[\"Drive wheels\"].astype('category')\n",
    "dataset.Doors = dataset.Doors.astype('category')\n",
    "dataset.Wheel = dataset.Wheel.astype('category')\n",
    "dataset.Color = dataset.Color.astype('category')"
   ]
  },
  {
   "cell_type": "markdown",
   "id": "f5ee7190",
   "metadata": {},
   "source": [
    "Looking at the modified datatypes of the columns in the dataset."
   ]
  },
  {
   "cell_type": "code",
   "execution_count": 7,
   "id": "aedc9622",
   "metadata": {},
   "outputs": [
    {
     "name": "stdout",
     "output_type": "stream",
     "text": [
      "<class 'pandas.core.frame.DataFrame'>\n",
      "RangeIndex: 19237 entries, 0 to 19236\n",
      "Data columns (total 18 columns):\n",
      " #   Column            Non-Null Count  Dtype   \n",
      "---  ------            --------------  -----   \n",
      " 0   ID                19237 non-null  int64   \n",
      " 1   Price             19237 non-null  int64   \n",
      " 2   Levy              19237 non-null  object  \n",
      " 3   Manufacturer      19237 non-null  category\n",
      " 4   Model             19237 non-null  category\n",
      " 5   Prod. year        19237 non-null  int64   \n",
      " 6   Category          19237 non-null  category\n",
      " 7   Leather interior  19237 non-null  category\n",
      " 8   Fuel type         19237 non-null  category\n",
      " 9   Engine volume     19237 non-null  object  \n",
      " 10  Mileage           19237 non-null  object  \n",
      " 11  Cylinders         19237 non-null  float64 \n",
      " 12  Gear box type     19237 non-null  category\n",
      " 13  Drive wheels      19237 non-null  category\n",
      " 14  Doors             19237 non-null  category\n",
      " 15  Wheel             19237 non-null  category\n",
      " 16  Color             19237 non-null  category\n",
      " 17  Airbags           19237 non-null  int64   \n",
      "dtypes: category(10), float64(1), int64(4), object(3)\n",
      "memory usage: 1.5+ MB\n"
     ]
    }
   ],
   "source": [
    "### Looking at the modified datatypes of the dataset\n",
    "\n",
    "dataset.info()"
   ]
  },
  {
   "cell_type": "markdown",
   "id": "1aec7444",
   "metadata": {},
   "source": [
    "From the above data, it is evident that there are no missing values in the dataset. But from the initial observation, we see that the missing values are represented using '-' in the dataset."
   ]
  },
  {
   "cell_type": "code",
   "execution_count": 8,
   "id": "9506c7eb",
   "metadata": {},
   "outputs": [
    {
     "name": "stdout",
     "output_type": "stream",
     "text": [
      "Missing values in the dataset:\n",
      "\n",
      "Column: ID - 0\n",
      "Column: Price - 0\n",
      "Column: Levy - 5819\n",
      "Column: Manufacturer - 0\n",
      "Column: Model - 0\n",
      "Column: Prod. year - 0\n",
      "Column: Category - 0\n",
      "Column: Leather interior - 0\n",
      "Column: Fuel type - 0\n",
      "Column: Engine volume - 0\n",
      "Column: Mileage - 0\n",
      "Column: Cylinders - 0\n",
      "Column: Gear box type - 0\n",
      "Column: Drive wheels - 0\n",
      "Column: Doors - 0\n",
      "Column: Wheel - 0\n",
      "Column: Color - 0\n",
      "Column: Airbags - 0\n"
     ]
    }
   ],
   "source": [
    "### Missing values (-) in the dataset\n",
    "\n",
    "print('Missing values in the dataset:\\n')\n",
    "for each_column in dataset.columns:\n",
    "    print('Column: {} - {}'.format(each_column, list(dataset[each_column]).count('-')))"
   ]
  },
  {
   "cell_type": "markdown",
   "id": "7337293f",
   "metadata": {},
   "source": [
    "From the above dataset, we can see that there are missing values in the column - Levy."
   ]
  },
  {
   "cell_type": "code",
   "execution_count": 9,
   "id": "5f3983d5",
   "metadata": {},
   "outputs": [
    {
     "data": {
      "text/plain": [
       "5819"
      ]
     },
     "execution_count": 9,
     "metadata": {},
     "output_type": "execute_result"
    }
   ],
   "source": [
    "### Replacing the '-' to NA's in the column - Levy\n",
    "\n",
    "dataset['Levy'] = [np.nan if value == '-' else float(value) for value in dataset['Levy']]\n",
    "dataset['Levy'].isnull().sum()"
   ]
  },
  {
   "cell_type": "code",
   "execution_count": 10,
   "id": "1d72275a",
   "metadata": {},
   "outputs": [
    {
     "data": {
      "text/plain": [
       "<AxesSubplot:>"
      ]
     },
     "execution_count": 10,
     "metadata": {},
     "output_type": "execute_result"
    },
    {
     "data": {
      "image/png": "[encoded data removed]",
      "text/plain": [
       "<Figure size 1800x720 with 2 Axes>"
      ]
     },
     "metadata": {
      "needs_background": "light"
     },
     "output_type": "display_data"
    }
   ],
   "source": [
    "### Visual representation of the missing data in the dataset\n",
    "\n",
    "missingno.matrix(dataset)"
   ]
  },
  {
   "cell_type": "markdown",
   "id": "0b2737b1",
   "metadata": {},
   "source": [
    "From the above dataset, we can see that there are missing values in the column - Levy."
   ]
  },
  {
   "cell_type": "code",
   "execution_count": 11,
   "id": "79a9ca1e",
   "metadata": {},
   "outputs": [
    {
     "data": {
      "text/html": [
       "<div>\n",
       "<style scoped>\n",
       "    .dataframe tbody tr th:only-of-type {\n",
       "        vertical-align: middle;\n",
       "    }\n",
       "\n",
       "    .dataframe tbody tr th {\n",
       "        vertical-align: top;\n",
       "    }\n",
       "\n",
       "    .dataframe thead th {\n",
       "        text-align: right;\n",
       "    }\n",
       "</style>\n",
       "<table border=\"1\" class=\"dataframe\">\n",
       "  <thead>\n",
       "    <tr style=\"text-align: right;\">\n",
       "      <th></th>\n",
       "      <th>ID</th>\n",
       "      <th>Price</th>\n",
       "      <th>Levy</th>\n",
       "      <th>Prod. year</th>\n",
       "      <th>Cylinders</th>\n",
       "      <th>Airbags</th>\n",
       "    </tr>\n",
       "  </thead>\n",
       "  <tbody>\n",
       "    <tr>\n",
       "      <th>count</th>\n",
       "      <td>1.923700e+04</td>\n",
       "      <td>1.923700e+04</td>\n",
       "      <td>13418.000000</td>\n",
       "      <td>19237.000000</td>\n",
       "      <td>19237.000000</td>\n",
       "      <td>19237.000000</td>\n",
       "    </tr>\n",
       "    <tr>\n",
       "      <th>mean</th>\n",
       "      <td>4.557654e+07</td>\n",
       "      <td>1.855593e+04</td>\n",
       "      <td>906.838128</td>\n",
       "      <td>2010.912824</td>\n",
       "      <td>4.582991</td>\n",
       "      <td>6.582627</td>\n",
       "    </tr>\n",
       "    <tr>\n",
       "      <th>std</th>\n",
       "      <td>9.365914e+05</td>\n",
       "      <td>1.905813e+05</td>\n",
       "      <td>461.867051</td>\n",
       "      <td>5.668673</td>\n",
       "      <td>1.199933</td>\n",
       "      <td>4.320168</td>\n",
       "    </tr>\n",
       "    <tr>\n",
       "      <th>min</th>\n",
       "      <td>2.074688e+07</td>\n",
       "      <td>1.000000e+00</td>\n",
       "      <td>87.000000</td>\n",
       "      <td>1939.000000</td>\n",
       "      <td>1.000000</td>\n",
       "      <td>0.000000</td>\n",
       "    </tr>\n",
       "    <tr>\n",
       "      <th>25%</th>\n",
       "      <td>4.569837e+07</td>\n",
       "      <td>5.331000e+03</td>\n",
       "      <td>640.000000</td>\n",
       "      <td>2009.000000</td>\n",
       "      <td>4.000000</td>\n",
       "      <td>4.000000</td>\n",
       "    </tr>\n",
       "    <tr>\n",
       "      <th>50%</th>\n",
       "      <td>4.577231e+07</td>\n",
       "      <td>1.317200e+04</td>\n",
       "      <td>781.000000</td>\n",
       "      <td>2012.000000</td>\n",
       "      <td>4.000000</td>\n",
       "      <td>6.000000</td>\n",
       "    </tr>\n",
       "    <tr>\n",
       "      <th>75%</th>\n",
       "      <td>4.580204e+07</td>\n",
       "      <td>2.207500e+04</td>\n",
       "      <td>1058.000000</td>\n",
       "      <td>2015.000000</td>\n",
       "      <td>4.000000</td>\n",
       "      <td>12.000000</td>\n",
       "    </tr>\n",
       "    <tr>\n",
       "      <th>max</th>\n",
       "      <td>4.581665e+07</td>\n",
       "      <td>2.630750e+07</td>\n",
       "      <td>11714.000000</td>\n",
       "      <td>2020.000000</td>\n",
       "      <td>16.000000</td>\n",
       "      <td>16.000000</td>\n",
       "    </tr>\n",
       "  </tbody>\n",
       "</table>\n",
       "</div>"
      ],
      "text/plain": [
       "                 ID         Price          Levy    Prod. year     Cylinders  \\\n",
       "count  1.923700e+04  1.923700e+04  13418.000000  19237.000000  19237.000000   \n",
       "mean   4.557654e+07  1.855593e+04    906.838128   2010.912824      4.582991   \n",
       "std    9.365914e+05  1.905813e+05    461.867051      5.668673      1.199933   \n",
       "min    2.074688e+07  1.000000e+00     87.000000   1939.000000      1.000000   \n",
       "25%    4.569837e+07  5.331000e+03    640.000000   2009.000000      4.000000   \n",
       "50%    4.577231e+07  1.317200e+04    781.000000   2012.000000      4.000000   \n",
       "75%    4.580204e+07  2.207500e+04   1058.000000   2015.000000      4.000000   \n",
       "max    4.581665e+07  2.630750e+07  11714.000000   2020.000000     16.000000   \n",
       "\n",
       "            Airbags  \n",
       "count  19237.000000  \n",
       "mean       6.582627  \n",
       "std        4.320168  \n",
       "min        0.000000  \n",
       "25%        4.000000  \n",
       "50%        6.000000  \n",
       "75%       12.000000  \n",
       "max       16.000000  "
      ]
     },
     "execution_count": 11,
     "metadata": {},
     "output_type": "execute_result"
    }
   ],
   "source": [
    "### Summary statistics of the numerical columns in the dataset\n",
    "\n",
    "dataset.describe()"
   ]
  },
  {
   "cell_type": "markdown",
   "id": "2f93db3f",
   "metadata": {},
   "source": [
    "#### 3.2 Feature Analysis"
   ]
  },
  {
   "cell_type": "markdown",
   "id": "df64ef26",
   "metadata": {},
   "source": [
    "##### 3.2.1 Categorical variable - Category"
   ]
  },
  {
   "cell_type": "code",
   "execution_count": 12,
   "id": "f8445d36",
   "metadata": {},
   "outputs": [
    {
     "data": {
      "text/plain": [
       "Sedan          8736\n",
       "Jeep           5473\n",
       "Hatchback      2847\n",
       "Minivan         647\n",
       "Coupe           532\n",
       "Universal       364\n",
       "Microbus        306\n",
       "Goods wagon     233\n",
       "Pickup           52\n",
       "Cabriolet        36\n",
       "Limousine        11\n",
       "Name: Category, dtype: int64"
      ]
     },
     "execution_count": 12,
     "metadata": {},
     "output_type": "execute_result"
    }
   ],
   "source": [
    "### Value counts of the column - Category\n",
    "\n",
    "category_count = dataset['Category'].value_counts(dropna = False)\n",
    "category_count"
   ]
  },
  {
   "cell_type": "code",
   "execution_count": 13,
   "id": "5ed90a4a",
   "metadata": {},
   "outputs": [
    {
     "data": {
      "image/png": "[encoded data removed]",
      "text/plain": [
       "<Figure size 864x432 with 1 Axes>"
      ]
     },
     "metadata": {
      "needs_background": "light"
     },
     "output_type": "display_data"
    }
   ],
   "source": [
    "### Bar graph showing the value counts of the column - Category\n",
    "\n",
    "plt.figure(figsize = (12, 6))\n",
    "sns.barplot(category_count.index, category_count.values, alpha = 0.8)\n",
    "plt.title('Bar graph showing the value counts of the column - Category')\n",
    "plt.ylabel('Number of Occurrences', fontsize = 12)\n",
    "plt.xlabel('Category', fontsize = 12)\n",
    "plt.show()"
   ]
  },
  {
   "cell_type": "markdown",
   "id": "f5ec079c",
   "metadata": {},
   "source": [
    "From the above graph, we can see that there is not sufficient data for the Categories - Cabriolet, Coupe, Goods wagon, Limousine, Microbus, Minivan, Pickup, Universal."
   ]
  },
  {
   "cell_type": "code",
   "execution_count": 14,
   "id": "722fee2a",
   "metadata": {},
   "outputs": [
    {
     "data": {
      "text/html": [
       "<div>\n",
       "<style scoped>\n",
       "    .dataframe tbody tr th:only-of-type {\n",
       "        vertical-align: middle;\n",
       "    }\n",
       "\n",
       "    .dataframe tbody tr th {\n",
       "        vertical-align: top;\n",
       "    }\n",
       "\n",
       "    .dataframe thead th {\n",
       "        text-align: right;\n",
       "    }\n",
       "</style>\n",
       "<table border=\"1\" class=\"dataframe\">\n",
       "  <thead>\n",
       "    <tr style=\"text-align: right;\">\n",
       "      <th></th>\n",
       "      <th>Category</th>\n",
       "      <th>Price</th>\n",
       "    </tr>\n",
       "  </thead>\n",
       "  <tbody>\n",
       "    <tr>\n",
       "      <th>0</th>\n",
       "      <td>Cabriolet</td>\n",
       "      <td>24583.694444</td>\n",
       "    </tr>\n",
       "    <tr>\n",
       "      <th>1</th>\n",
       "      <td>Coupe</td>\n",
       "      <td>21250.406015</td>\n",
       "    </tr>\n",
       "    <tr>\n",
       "      <th>2</th>\n",
       "      <td>Goods wagon</td>\n",
       "      <td>122916.180258</td>\n",
       "    </tr>\n",
       "    <tr>\n",
       "      <th>3</th>\n",
       "      <td>Hatchback</td>\n",
       "      <td>11381.245873</td>\n",
       "    </tr>\n",
       "    <tr>\n",
       "      <th>4</th>\n",
       "      <td>Jeep</td>\n",
       "      <td>23684.285949</td>\n",
       "    </tr>\n",
       "    <tr>\n",
       "      <th>5</th>\n",
       "      <td>Limousine</td>\n",
       "      <td>11534.454545</td>\n",
       "    </tr>\n",
       "    <tr>\n",
       "      <th>6</th>\n",
       "      <td>Microbus</td>\n",
       "      <td>18550.928105</td>\n",
       "    </tr>\n",
       "    <tr>\n",
       "      <th>7</th>\n",
       "      <td>Minivan</td>\n",
       "      <td>20531.221020</td>\n",
       "    </tr>\n",
       "    <tr>\n",
       "      <th>8</th>\n",
       "      <td>Pickup</td>\n",
       "      <td>28805.269231</td>\n",
       "    </tr>\n",
       "    <tr>\n",
       "      <th>9</th>\n",
       "      <td>Sedan</td>\n",
       "      <td>14231.545902</td>\n",
       "    </tr>\n",
       "    <tr>\n",
       "      <th>10</th>\n",
       "      <td>Universal</td>\n",
       "      <td>25253.700549</td>\n",
       "    </tr>\n",
       "  </tbody>\n",
       "</table>\n",
       "</div>"
      ],
      "text/plain": [
       "       Category          Price\n",
       "0     Cabriolet   24583.694444\n",
       "1         Coupe   21250.406015\n",
       "2   Goods wagon  122916.180258\n",
       "3     Hatchback   11381.245873\n",
       "4          Jeep   23684.285949\n",
       "5     Limousine   11534.454545\n",
       "6      Microbus   18550.928105\n",
       "7       Minivan   20531.221020\n",
       "8        Pickup   28805.269231\n",
       "9         Sedan   14231.545902\n",
       "10    Universal   25253.700549"
      ]
     },
     "execution_count": 14,
     "metadata": {},
     "output_type": "execute_result"
    }
   ],
   "source": [
    "### Mean price per each Category \n",
    "\n",
    "mean_price_category = dataset[['Category', 'Price']].groupby('Category', as_index = False).mean()\n",
    "mean_price_category"
   ]
  },
  {
   "cell_type": "code",
   "execution_count": 15,
   "id": "36b544e2",
   "metadata": {},
   "outputs": [
    {
     "data": {
      "image/png": "[encoded data removed]",
      "text/plain": [
       "<Figure size 864x432 with 1 Axes>"
      ]
     },
     "metadata": {
      "needs_background": "light"
     },
     "output_type": "display_data"
    }
   ],
   "source": [
    "### Mean Price for each Category\n",
    "\n",
    "plt.figure(figsize = (12, 6))\n",
    "sns.barplot(mean_price_category['Category'], mean_price_category['Price'], alpha = 0.8)\n",
    "plt.title('Mean Sales Price for each Category')\n",
    "plt.ylabel('Mean Price', fontsize = 12)\n",
    "plt.xlabel('Category', fontsize = 12)\n",
    "plt.show()"
   ]
  },
  {
   "cell_type": "markdown",
   "id": "c7370f75",
   "metadata": {},
   "source": [
    "From the above graph, we can see that the mean price of all the categories is same. However, since there is no sufficient data we have to modify the column in order to get better information from the data."
   ]
  },
  {
   "cell_type": "markdown",
   "id": "3ef7b864",
   "metadata": {},
   "source": [
    "##### 3.2.2 Categorical variable - Leather interior"
   ]
  },
  {
   "cell_type": "code",
   "execution_count": 16,
   "id": "9efea34b",
   "metadata": {},
   "outputs": [
    {
     "data": {
      "text/plain": [
       "Yes    13954\n",
       "No      5283\n",
       "Name: Leather interior, dtype: int64"
      ]
     },
     "execution_count": 16,
     "metadata": {},
     "output_type": "execute_result"
    }
   ],
   "source": [
    "### Value counts of the column - Leather interior\n",
    "\n",
    "interior_count = dataset['Leather interior'].value_counts(dropna = False)\n",
    "interior_count"
   ]
  },
  {
   "cell_type": "code",
   "execution_count": 17,
   "id": "24049e95",
   "metadata": {},
   "outputs": [
    {
     "data": {
      "image/png": "[encoded data removed]",
      "text/plain": [
       "<Figure size 432x288 with 1 Axes>"
      ]
     },
     "metadata": {
      "needs_background": "light"
     },
     "output_type": "display_data"
    }
   ],
   "source": [
    "### Bar graph showing the value counts of the column - Leather interior\n",
    "\n",
    "sns.barplot(interior_count.index, interior_count.values, alpha = 0.8)\n",
    "plt.title('Bar graph showing the value counts of the column - Leather interior')\n",
    "plt.ylabel('Number of Occurrences', fontsize = 12)\n",
    "plt.xlabel('Leather interior', fontsize = 12)\n",
    "plt.show()"
   ]
  },
  {
   "cell_type": "markdown",
   "id": "3f9a14f8",
   "metadata": {},
   "source": [
    "From the above graph, we can see that most of the cars have a leather interior."
   ]
  },
  {
   "cell_type": "code",
   "execution_count": 18,
   "id": "4c4a546d",
   "metadata": {},
   "outputs": [
    {
     "data": {
      "text/html": [
       "<div>\n",
       "<style scoped>\n",
       "    .dataframe tbody tr th:only-of-type {\n",
       "        vertical-align: middle;\n",
       "    }\n",
       "\n",
       "    .dataframe tbody tr th {\n",
       "        vertical-align: top;\n",
       "    }\n",
       "\n",
       "    .dataframe thead th {\n",
       "        text-align: right;\n",
       "    }\n",
       "</style>\n",
       "<table border=\"1\" class=\"dataframe\">\n",
       "  <thead>\n",
       "    <tr style=\"text-align: right;\">\n",
       "      <th></th>\n",
       "      <th>Leather interior</th>\n",
       "      <th>Price</th>\n",
       "    </tr>\n",
       "  </thead>\n",
       "  <tbody>\n",
       "    <tr>\n",
       "      <th>0</th>\n",
       "      <td>No</td>\n",
       "      <td>18322.323301</td>\n",
       "    </tr>\n",
       "    <tr>\n",
       "      <th>1</th>\n",
       "      <td>Yes</td>\n",
       "      <td>18644.369930</td>\n",
       "    </tr>\n",
       "  </tbody>\n",
       "</table>\n",
       "</div>"
      ],
      "text/plain": [
       "  Leather interior         Price\n",
       "0               No  18322.323301\n",
       "1              Yes  18644.369930"
      ]
     },
     "execution_count": 18,
     "metadata": {},
     "output_type": "execute_result"
    }
   ],
   "source": [
    "### Mean price per each Leather interior \n",
    "\n",
    "mean_price_interior = dataset[['Leather interior', 'Price']].groupby('Leather interior', as_index = False).mean()\n",
    "mean_price_interior"
   ]
  },
  {
   "cell_type": "code",
   "execution_count": 19,
   "id": "5ff811b6",
   "metadata": {},
   "outputs": [
    {
     "data": {
      "image/png": "[encoded data removed]",
      "text/plain": [
       "<Figure size 432x288 with 1 Axes>"
      ]
     },
     "metadata": {
      "needs_background": "light"
     },
     "output_type": "display_data"
    }
   ],
   "source": [
    "### Mean Price for each Leather interior\n",
    "\n",
    "sns.barplot(mean_price_interior['Leather interior'], mean_price_interior['Price'], alpha = 0.8)\n",
    "plt.title('Mean Sales Price for each Leather interior')\n",
    "plt.ylabel('Mean Price', fontsize = 12)\n",
    "plt.xlabel('Leather interior', fontsize = 12)\n",
    "plt.show()"
   ]
  },
  {
   "cell_type": "markdown",
   "id": "2aadbed8",
   "metadata": {},
   "source": [
    "From the above graph, we can see that the mean price of the car is same in both the cases."
   ]
  },
  {
   "cell_type": "markdown",
   "id": "9da3a40e",
   "metadata": {},
   "source": [
    "##### 3.2.3 Categorical variable - Fuel type"
   ]
  },
  {
   "cell_type": "code",
   "execution_count": 20,
   "id": "33a98ad4",
   "metadata": {},
   "outputs": [
    {
     "data": {
      "text/plain": [
       "Petrol            10150\n",
       "Diesel             4036\n",
       "Hybrid             3578\n",
       "LPG                 892\n",
       "CNG                 494\n",
       "Plug-in Hybrid       86\n",
       "Hydrogen              1\n",
       "Name: Fuel type, dtype: int64"
      ]
     },
     "execution_count": 20,
     "metadata": {},
     "output_type": "execute_result"
    }
   ],
   "source": [
    "### Value counts of the column - Fuel type\n",
    "\n",
    "fuel_count = dataset['Fuel type'].value_counts(dropna = False)\n",
    "fuel_count"
   ]
  },
  {
   "cell_type": "code",
   "execution_count": 21,
   "id": "8378cf76",
   "metadata": {},
   "outputs": [
    {
     "data": {
      "image/png": "[encoded data removed]",
      "text/plain": [
       "<Figure size 504x360 with 1 Axes>"
      ]
     },
     "metadata": {
      "needs_background": "light"
     },
     "output_type": "display_data"
    }
   ],
   "source": [
    "### Bar graph showing the value counts of the column - Fuel type\n",
    "\n",
    "plt.figure(figsize = (7, 5))\n",
    "sns.barplot(fuel_count.index, fuel_count.values, alpha = 0.8)\n",
    "plt.title('Bar graph showing the value counts of the column - Fuel type')\n",
    "plt.ylabel('Number of Occurrences', fontsize = 12)\n",
    "plt.xlabel('Fuel type', fontsize = 12)\n",
    "plt.show()"
   ]
  },
  {
   "cell_type": "markdown",
   "id": "8c2d7730",
   "metadata": {},
   "source": [
    "From the above graph, there is no sufficient data for the fuel types - Hydrogen and Plug-in Hybrid. "
   ]
  },
  {
   "cell_type": "code",
   "execution_count": 22,
   "id": "99669206",
   "metadata": {},
   "outputs": [
    {
     "data": {
      "text/html": [
       "<div>\n",
       "<style scoped>\n",
       "    .dataframe tbody tr th:only-of-type {\n",
       "        vertical-align: middle;\n",
       "    }\n",
       "\n",
       "    .dataframe tbody tr th {\n",
       "        vertical-align: top;\n",
       "    }\n",
       "\n",
       "    .dataframe thead th {\n",
       "        text-align: right;\n",
       "    }\n",
       "</style>\n",
       "<table border=\"1\" class=\"dataframe\">\n",
       "  <thead>\n",
       "    <tr style=\"text-align: right;\">\n",
       "      <th></th>\n",
       "      <th>Fuel type</th>\n",
       "      <th>Price</th>\n",
       "    </tr>\n",
       "  </thead>\n",
       "  <tbody>\n",
       "    <tr>\n",
       "      <th>0</th>\n",
       "      <td>CNG</td>\n",
       "      <td>8509.591093</td>\n",
       "    </tr>\n",
       "    <tr>\n",
       "      <th>1</th>\n",
       "      <td>Diesel</td>\n",
       "      <td>30631.071358</td>\n",
       "    </tr>\n",
       "    <tr>\n",
       "      <th>2</th>\n",
       "      <td>Hybrid</td>\n",
       "      <td>10849.320570</td>\n",
       "    </tr>\n",
       "    <tr>\n",
       "      <th>3</th>\n",
       "      <td>Hydrogen</td>\n",
       "      <td>20385.000000</td>\n",
       "    </tr>\n",
       "    <tr>\n",
       "      <th>4</th>\n",
       "      <td>LPG</td>\n",
       "      <td>13309.438341</td>\n",
       "    </tr>\n",
       "    <tr>\n",
       "      <th>5</th>\n",
       "      <td>Petrol</td>\n",
       "      <td>17377.351527</td>\n",
       "    </tr>\n",
       "    <tr>\n",
       "      <th>6</th>\n",
       "      <td>Plug-in Hybrid</td>\n",
       "      <td>23700.453488</td>\n",
       "    </tr>\n",
       "  </tbody>\n",
       "</table>\n",
       "</div>"
      ],
      "text/plain": [
       "        Fuel type         Price\n",
       "0             CNG   8509.591093\n",
       "1          Diesel  30631.071358\n",
       "2          Hybrid  10849.320570\n",
       "3        Hydrogen  20385.000000\n",
       "4             LPG  13309.438341\n",
       "5          Petrol  17377.351527\n",
       "6  Plug-in Hybrid  23700.453488"
      ]
     },
     "execution_count": 22,
     "metadata": {},
     "output_type": "execute_result"
    }
   ],
   "source": [
    "### Mean price per each Fuel type\n",
    "\n",
    "mean_price_fuel = dataset[['Fuel type', 'Price']].groupby('Fuel type', as_index = False).mean()\n",
    "mean_price_fuel"
   ]
  },
  {
   "cell_type": "code",
   "execution_count": 23,
   "id": "dbe8466c",
   "metadata": {},
   "outputs": [
    {
     "data": {
      "image/png": "[encoded data removed]",
      "text/plain": [
       "<Figure size 504x360 with 1 Axes>"
      ]
     },
     "metadata": {
      "needs_background": "light"
     },
     "output_type": "display_data"
    }
   ],
   "source": [
    "### Mean Price for each Fuel type\n",
    "\n",
    "plt.figure(figsize = (7, 5))\n",
    "sns.barplot(mean_price_fuel['Fuel type'], mean_price_fuel['Price'], alpha = 0.8)\n",
    "plt.title('Mean Sales Price for each Fuel type')\n",
    "plt.ylabel('Mean Price', fontsize = 12)\n",
    "plt.xlabel('Fuel type', fontsize = 12)\n",
    "plt.show()"
   ]
  },
  {
   "cell_type": "markdown",
   "id": "4892d21b",
   "metadata": {},
   "source": [
    "From the above graph, we can see that the mean price of the cars for every fuel type is different."
   ]
  },
  {
   "cell_type": "markdown",
   "id": "5e920a4a",
   "metadata": {},
   "source": [
    "##### 3.2.4 Categorical variable - Gear box type"
   ]
  },
  {
   "cell_type": "code",
   "execution_count": 24,
   "id": "fcffbdfd",
   "metadata": {},
   "outputs": [
    {
     "data": {
      "text/plain": [
       "Automatic    13514\n",
       "Tiptronic     3102\n",
       "Manual        1875\n",
       "Variator       746\n",
       "Name: Gear box type, dtype: int64"
      ]
     },
     "execution_count": 24,
     "metadata": {},
     "output_type": "execute_result"
    }
   ],
   "source": [
    "### Value counts of the column - Gear box type\n",
    "\n",
    "gear_count = dataset['Gear box type'].value_counts(dropna = False)\n",
    "gear_count"
   ]
  },
  {
   "cell_type": "code",
   "execution_count": 25,
   "id": "c3b9fbd7",
   "metadata": {},
   "outputs": [
    {
     "data": {
      "image/png": "[encoded data removed]",
      "text/plain": [
       "<Figure size 432x288 with 1 Axes>"
      ]
     },
     "metadata": {
      "needs_background": "light"
     },
     "output_type": "display_data"
    }
   ],
   "source": [
    "### Bar graph showing the value counts of the column - Gear box type\n",
    "\n",
    "sns.barplot(gear_count.index, gear_count.values, alpha = 0.8)\n",
    "plt.title('Bar graph showing the value counts of the column - Gear box type')\n",
    "plt.ylabel('Number of Occurrences', fontsize = 12)\n",
    "plt.xlabel('Gear box type', fontsize = 12)\n",
    "plt.show()"
   ]
  },
  {
   "cell_type": "markdown",
   "id": "38154e23",
   "metadata": {},
   "source": [
    "From the above graph, we can see that most of the cars have an automatic gear box type."
   ]
  },
  {
   "cell_type": "code",
   "execution_count": 26,
   "id": "ab43a327",
   "metadata": {},
   "outputs": [
    {
     "data": {
      "text/html": [
       "<div>\n",
       "<style scoped>\n",
       "    .dataframe tbody tr th:only-of-type {\n",
       "        vertical-align: middle;\n",
       "    }\n",
       "\n",
       "    .dataframe tbody tr th {\n",
       "        vertical-align: top;\n",
       "    }\n",
       "\n",
       "    .dataframe thead th {\n",
       "        text-align: right;\n",
       "    }\n",
       "</style>\n",
       "<table border=\"1\" class=\"dataframe\">\n",
       "  <thead>\n",
       "    <tr style=\"text-align: right;\">\n",
       "      <th></th>\n",
       "      <th>Gear box type</th>\n",
       "      <th>Price</th>\n",
       "    </tr>\n",
       "  </thead>\n",
       "  <tbody>\n",
       "    <tr>\n",
       "      <th>0</th>\n",
       "      <td>Automatic</td>\n",
       "      <td>15974.326032</td>\n",
       "    </tr>\n",
       "    <tr>\n",
       "      <th>1</th>\n",
       "      <td>Manual</td>\n",
       "      <td>25614.896533</td>\n",
       "    </tr>\n",
       "    <tr>\n",
       "      <th>2</th>\n",
       "      <td>Tiptronic</td>\n",
       "      <td>26448.307221</td>\n",
       "    </tr>\n",
       "    <tr>\n",
       "      <th>3</th>\n",
       "      <td>Variator</td>\n",
       "      <td>14762.399464</td>\n",
       "    </tr>\n",
       "  </tbody>\n",
       "</table>\n",
       "</div>"
      ],
      "text/plain": [
       "  Gear box type         Price\n",
       "0     Automatic  15974.326032\n",
       "1        Manual  25614.896533\n",
       "2     Tiptronic  26448.307221\n",
       "3      Variator  14762.399464"
      ]
     },
     "execution_count": 26,
     "metadata": {},
     "output_type": "execute_result"
    }
   ],
   "source": [
    "### Mean price per each Gear box type\n",
    "\n",
    "mean_price_gear = dataset[['Gear box type', 'Price']].groupby('Gear box type', as_index = False).mean()\n",
    "mean_price_gear"
   ]
  },
  {
   "cell_type": "code",
   "execution_count": 27,
   "id": "2790b7bf",
   "metadata": {},
   "outputs": [
    {
     "data": {
      "image/png": "[encoded data removed]",
      "text/plain": [
       "<Figure size 432x288 with 1 Axes>"
      ]
     },
     "metadata": {
      "needs_background": "light"
     },
     "output_type": "display_data"
    }
   ],
   "source": [
    "### Mean Price for each Gear box type\n",
    "\n",
    "sns.barplot(mean_price_gear['Gear box type'], mean_price_gear['Price'], alpha = 0.8)\n",
    "plt.title('Mean Sales Price for each Gear box type')\n",
    "plt.ylabel('Mean Price', fontsize = 12)\n",
    "plt.xlabel('Gear box type', fontsize = 12)\n",
    "plt.show()"
   ]
  },
  {
   "cell_type": "markdown",
   "id": "76565d0c",
   "metadata": {},
   "source": [
    "From the above graph, we can see that automatic, variator have similar price. Similarly, the cars having manual, tiptronic have similar price."
   ]
  },
  {
   "cell_type": "markdown",
   "id": "8fe7414e",
   "metadata": {},
   "source": [
    "##### 3.2.5 Categorical variable - Drive wheels "
   ]
  },
  {
   "cell_type": "code",
   "execution_count": 28,
   "id": "03896597",
   "metadata": {},
   "outputs": [
    {
     "data": {
      "text/plain": [
       "Front    12874\n",
       "4x4       4058\n",
       "Rear      2305\n",
       "Name: Drive wheels, dtype: int64"
      ]
     },
     "execution_count": 28,
     "metadata": {},
     "output_type": "execute_result"
    }
   ],
   "source": [
    "### Value counts of the column - Drive wheels\n",
    "\n",
    "drive_count = dataset['Drive wheels'].value_counts(dropna = False)\n",
    "drive_count"
   ]
  },
  {
   "cell_type": "code",
   "execution_count": 29,
   "id": "362a104a",
   "metadata": {},
   "outputs": [
    {
     "data": {
      "image/png": "[encoded data removed]",
      "text/plain": [
       "<Figure size 432x288 with 1 Axes>"
      ]
     },
     "metadata": {
      "needs_background": "light"
     },
     "output_type": "display_data"
    }
   ],
   "source": [
    "### Bar graph showing the value counts of the column - Drive wheels\n",
    "\n",
    "sns.barplot(drive_count.index, drive_count.values, alpha = 0.8)\n",
    "plt.title('Bar graph showing the value counts of the column - Drive wheels')\n",
    "plt.ylabel('Number of Occurrences', fontsize = 12)\n",
    "plt.xlabel('Drive wheels', fontsize = 12)\n",
    "plt.show()"
   ]
  },
  {
   "cell_type": "markdown",
   "id": "023b2eed",
   "metadata": {},
   "source": [
    "From the above graph, we can see that most of the cars have Front drive wheels."
   ]
  },
  {
   "cell_type": "code",
   "execution_count": 30,
   "id": "12ae6907",
   "metadata": {},
   "outputs": [
    {
     "data": {
      "text/html": [
       "<div>\n",
       "<style scoped>\n",
       "    .dataframe tbody tr th:only-of-type {\n",
       "        vertical-align: middle;\n",
       "    }\n",
       "\n",
       "    .dataframe tbody tr th {\n",
       "        vertical-align: top;\n",
       "    }\n",
       "\n",
       "    .dataframe thead th {\n",
       "        text-align: right;\n",
       "    }\n",
       "</style>\n",
       "<table border=\"1\" class=\"dataframe\">\n",
       "  <thead>\n",
       "    <tr style=\"text-align: right;\">\n",
       "      <th></th>\n",
       "      <th>Drive wheels</th>\n",
       "      <th>Price</th>\n",
       "    </tr>\n",
       "  </thead>\n",
       "  <tbody>\n",
       "    <tr>\n",
       "      <th>0</th>\n",
       "      <td>4x4</td>\n",
       "      <td>19535.423854</td>\n",
       "    </tr>\n",
       "    <tr>\n",
       "      <th>1</th>\n",
       "      <td>Front</td>\n",
       "      <td>18491.339055</td>\n",
       "    </tr>\n",
       "    <tr>\n",
       "      <th>2</th>\n",
       "      <td>Rear</td>\n",
       "      <td>17192.244252</td>\n",
       "    </tr>\n",
       "  </tbody>\n",
       "</table>\n",
       "</div>"
      ],
      "text/plain": [
       "  Drive wheels         Price\n",
       "0          4x4  19535.423854\n",
       "1        Front  18491.339055\n",
       "2         Rear  17192.244252"
      ]
     },
     "execution_count": 30,
     "metadata": {},
     "output_type": "execute_result"
    }
   ],
   "source": [
    "### Mean price per each Drive wheels\n",
    "\n",
    "mean_price_drive = dataset[['Drive wheels', 'Price']].groupby('Drive wheels', as_index = False).mean()\n",
    "mean_price_drive"
   ]
  },
  {
   "cell_type": "code",
   "execution_count": 31,
   "id": "2ff56c5f",
   "metadata": {},
   "outputs": [
    {
     "data": {
      "image/png": "[encoded data removed]",
      "text/plain": [
       "<Figure size 432x288 with 1 Axes>"
      ]
     },
     "metadata": {
      "needs_background": "light"
     },
     "output_type": "display_data"
    }
   ],
   "source": [
    "### Mean Price for each Drive wheels\n",
    "\n",
    "sns.barplot(mean_price_drive['Drive wheels'], mean_price_drive['Price'], alpha = 0.8)\n",
    "plt.title('Mean Sales Price for each Drive wheels')\n",
    "plt.ylabel('Mean Price', fontsize = 12)\n",
    "plt.xlabel('Drive wheels', fontsize = 12)\n",
    "plt.show()"
   ]
  },
  {
   "cell_type": "markdown",
   "id": "b7b0335c",
   "metadata": {},
   "source": [
    "From the above graph, we can see that the mean sales price of all the drive wheels is similar."
   ]
  },
  {
   "cell_type": "markdown",
   "id": "9ae55a88",
   "metadata": {},
   "source": [
    "##### 3.2.6 Categorical variable - Doors"
   ]
  },
  {
   "cell_type": "code",
   "execution_count": 32,
   "id": "12ee8a43",
   "metadata": {},
   "outputs": [
    {
     "data": {
      "text/plain": [
       "04-May    18332\n",
       "02-Mar      777\n",
       ">5          128\n",
       "Name: Doors, dtype: int64"
      ]
     },
     "execution_count": 32,
     "metadata": {},
     "output_type": "execute_result"
    }
   ],
   "source": [
    "### Value counts of the column - Doors\n",
    "\n",
    "doors_count = dataset['Doors'].value_counts(dropna = False)\n",
    "doors_count"
   ]
  },
  {
   "cell_type": "code",
   "execution_count": 33,
   "id": "99ce2121",
   "metadata": {},
   "outputs": [
    {
     "data": {
      "image/png": "[encoded data removed]",
      "text/plain": [
       "<Figure size 432x288 with 1 Axes>"
      ]
     },
     "metadata": {
      "needs_background": "light"
     },
     "output_type": "display_data"
    }
   ],
   "source": [
    "### Bar graph showing the value counts of the column - Doors\n",
    "\n",
    "sns.barplot(doors_count.index, doors_count.values, alpha = 0.8)\n",
    "plt.title('Bar graph showing the value counts of the column - Doors')\n",
    "plt.ylabel('Number of Occurrences', fontsize = 12)\n",
    "plt.xlabel('Doors', fontsize = 12)\n",
    "plt.show()"
   ]
  },
  {
   "cell_type": "markdown",
   "id": "b45bbda3",
   "metadata": {},
   "source": [
    "Here in the above graph, the value 02-Mar means 2-3 doors, 04-Mar means 4-5 doors. Here, we will replace these values during Data preprocessing phase."
   ]
  },
  {
   "cell_type": "code",
   "execution_count": 34,
   "id": "823008c0",
   "metadata": {},
   "outputs": [
    {
     "data": {
      "text/html": [
       "<div>\n",
       "<style scoped>\n",
       "    .dataframe tbody tr th:only-of-type {\n",
       "        vertical-align: middle;\n",
       "    }\n",
       "\n",
       "    .dataframe tbody tr th {\n",
       "        vertical-align: top;\n",
       "    }\n",
       "\n",
       "    .dataframe thead th {\n",
       "        text-align: right;\n",
       "    }\n",
       "</style>\n",
       "<table border=\"1\" class=\"dataframe\">\n",
       "  <thead>\n",
       "    <tr style=\"text-align: right;\">\n",
       "      <th></th>\n",
       "      <th>Doors</th>\n",
       "      <th>Price</th>\n",
       "    </tr>\n",
       "  </thead>\n",
       "  <tbody>\n",
       "    <tr>\n",
       "      <th>0</th>\n",
       "      <td>02-Mar</td>\n",
       "      <td>50379.595882</td>\n",
       "    </tr>\n",
       "    <tr>\n",
       "      <th>1</th>\n",
       "      <td>04-May</td>\n",
       "      <td>17180.945778</td>\n",
       "    </tr>\n",
       "    <tr>\n",
       "      <th>2</th>\n",
       "      <td>&gt;5</td>\n",
       "      <td>22299.437500</td>\n",
       "    </tr>\n",
       "  </tbody>\n",
       "</table>\n",
       "</div>"
      ],
      "text/plain": [
       "    Doors         Price\n",
       "0  02-Mar  50379.595882\n",
       "1  04-May  17180.945778\n",
       "2      >5  22299.437500"
      ]
     },
     "execution_count": 34,
     "metadata": {},
     "output_type": "execute_result"
    }
   ],
   "source": [
    "### Mean price per each Doors\n",
    "\n",
    "mean_price_doors = dataset[['Doors', 'Price']].groupby('Doors', as_index = False).mean()\n",
    "mean_price_doors"
   ]
  },
  {
   "cell_type": "code",
   "execution_count": 35,
   "id": "3b437af5",
   "metadata": {},
   "outputs": [
    {
     "data": {
      "image/png": "[encoded data removed]",
      "text/plain": [
       "<Figure size 432x288 with 1 Axes>"
      ]
     },
     "metadata": {
      "needs_background": "light"
     },
     "output_type": "display_data"
    }
   ],
   "source": [
    "### Mean Price for each Doors\n",
    "\n",
    "sns.barplot(mean_price_doors['Doors'], mean_price_doors['Price'], alpha = 0.8)\n",
    "plt.title('Mean Sales Price for each Doors')\n",
    "plt.ylabel('Mean Price', fontsize = 12)\n",
    "plt.xlabel('Doors', fontsize = 12)\n",
    "plt.show()"
   ]
  },
  {
   "cell_type": "markdown",
   "id": "af445367",
   "metadata": {},
   "source": [
    "From the above graph, we can see that cars having 2-3 doors have a high price."
   ]
  },
  {
   "cell_type": "markdown",
   "id": "ccefb074",
   "metadata": {},
   "source": [
    "##### 3.2.7 Categorical variable - Wheel"
   ]
  },
  {
   "cell_type": "code",
   "execution_count": 36,
   "id": "6736469e",
   "metadata": {},
   "outputs": [
    {
     "data": {
      "text/plain": [
       "Left wheel          17753\n",
       "Right-hand drive     1484\n",
       "Name: Wheel, dtype: int64"
      ]
     },
     "execution_count": 36,
     "metadata": {},
     "output_type": "execute_result"
    }
   ],
   "source": [
    "### Value counts of the column - Wheel\n",
    "\n",
    "wheel_count = dataset['Wheel'].value_counts(dropna = False)\n",
    "wheel_count"
   ]
  },
  {
   "cell_type": "code",
   "execution_count": 37,
   "id": "a32b59a8",
   "metadata": {},
   "outputs": [
    {
     "data": {
      "image/png": "[encoded data removed]",
      "text/plain": [
       "<Figure size 432x288 with 1 Axes>"
      ]
     },
     "metadata": {
      "needs_background": "light"
     },
     "output_type": "display_data"
    }
   ],
   "source": [
    "### Bar graph showing the value counts of the column - Wheel\n",
    "\n",
    "sns.barplot(wheel_count.index, wheel_count.values, alpha = 0.8)\n",
    "plt.title('Bar graph showing the value counts of the column - Wheel')\n",
    "plt.ylabel('Number of Occurrences', fontsize = 12)\n",
    "plt.xlabel('Wheel', fontsize = 12)\n",
    "plt.show()"
   ]
  },
  {
   "cell_type": "markdown",
   "id": "190f3a1e",
   "metadata": {},
   "source": [
    "From the above graph, it is evident that most of the cars in the dataset have a left steering."
   ]
  },
  {
   "cell_type": "code",
   "execution_count": 38,
   "id": "98f129ab",
   "metadata": {},
   "outputs": [
    {
     "data": {
      "text/html": [
       "<div>\n",
       "<style scoped>\n",
       "    .dataframe tbody tr th:only-of-type {\n",
       "        vertical-align: middle;\n",
       "    }\n",
       "\n",
       "    .dataframe tbody tr th {\n",
       "        vertical-align: top;\n",
       "    }\n",
       "\n",
       "    .dataframe thead th {\n",
       "        text-align: right;\n",
       "    }\n",
       "</style>\n",
       "<table border=\"1\" class=\"dataframe\">\n",
       "  <thead>\n",
       "    <tr style=\"text-align: right;\">\n",
       "      <th></th>\n",
       "      <th>Wheel</th>\n",
       "      <th>Price</th>\n",
       "    </tr>\n",
       "  </thead>\n",
       "  <tbody>\n",
       "    <tr>\n",
       "      <th>0</th>\n",
       "      <td>Left wheel</td>\n",
       "      <td>19363.071425</td>\n",
       "    </tr>\n",
       "    <tr>\n",
       "      <th>1</th>\n",
       "      <td>Right-hand drive</td>\n",
       "      <td>8900.111186</td>\n",
       "    </tr>\n",
       "  </tbody>\n",
       "</table>\n",
       "</div>"
      ],
      "text/plain": [
       "              Wheel         Price\n",
       "0        Left wheel  19363.071425\n",
       "1  Right-hand drive   8900.111186"
      ]
     },
     "execution_count": 38,
     "metadata": {},
     "output_type": "execute_result"
    }
   ],
   "source": [
    "### Mean price per each Wheel\n",
    "\n",
    "mean_price_wheel = dataset[['Wheel', 'Price']].groupby('Wheel', as_index = False).mean()\n",
    "mean_price_wheel"
   ]
  },
  {
   "cell_type": "code",
   "execution_count": 39,
   "id": "de4404b1",
   "metadata": {},
   "outputs": [
    {
     "data": {
      "image/png": "[encoded data removed]",
      "text/plain": [
       "<Figure size 432x288 with 1 Axes>"
      ]
     },
     "metadata": {
      "needs_background": "light"
     },
     "output_type": "display_data"
    }
   ],
   "source": [
    "### Mean Price for each Wheel\n",
    "\n",
    "sns.barplot(mean_price_wheel['Wheel'], mean_price_wheel['Price'], alpha = 0.8)\n",
    "plt.title('Mean Sales Price for each Wheel')\n",
    "plt.ylabel('Mean Price', fontsize = 12)\n",
    "plt.xlabel('Wheel', fontsize = 12)\n",
    "plt.show()"
   ]
  },
  {
   "cell_type": "markdown",
   "id": "34dfdbbc",
   "metadata": {},
   "source": [
    "From the above graph, we can see that cars having a left steering have a high price than their right counterparts."
   ]
  },
  {
   "cell_type": "markdown",
   "id": "2399948b",
   "metadata": {},
   "source": [
    "##### 3.2.8 Categorical variable - Color"
   ]
  },
  {
   "cell_type": "code",
   "execution_count": 40,
   "id": "d1abcf53",
   "metadata": {},
   "outputs": [
    {
     "data": {
      "text/plain": [
       "Black            5033\n",
       "White            4489\n",
       "Silver           3792\n",
       "Grey             2375\n",
       "Blue             1396\n",
       "Red               639\n",
       "Green             322\n",
       "Orange            253\n",
       "Brown             187\n",
       "Carnelian red     179\n",
       "Golden            145\n",
       "Beige             134\n",
       "Sky blue          122\n",
       "Yellow            106\n",
       "Purple             39\n",
       "Pink               26\n",
       "Name: Color, dtype: int64"
      ]
     },
     "execution_count": 40,
     "metadata": {},
     "output_type": "execute_result"
    }
   ],
   "source": [
    "### Value counts of the column - Color\n",
    "\n",
    "color_count = dataset['Color'].value_counts(dropna = False)\n",
    "color_count"
   ]
  },
  {
   "cell_type": "code",
   "execution_count": 41,
   "id": "8ab54a6a",
   "metadata": {},
   "outputs": [
    {
     "data": {
      "image/png": "[encoded data removed]",
      "text/plain": [
       "<Figure size 1008x360 with 1 Axes>"
      ]
     },
     "metadata": {
      "needs_background": "light"
     },
     "output_type": "display_data"
    }
   ],
   "source": [
    "### Bar graph showing the value counts of the column - Color\n",
    "\n",
    "plt.figure(figsize = (14, 5))\n",
    "sns.barplot(color_count.index, color_count.values, alpha = 0.8)\n",
    "plt.title('Bar graph showing the value counts of the column - Color')\n",
    "plt.ylabel('Number of Occurrences', fontsize = 12)\n",
    "plt.xlabel('Color', fontsize = 12)\n",
    "plt.show()"
   ]
  },
  {
   "cell_type": "markdown",
   "id": "84eeaf7e",
   "metadata": {},
   "source": [
    "From the above graph, we can see that most of the colors of the cars have insufficient data."
   ]
  },
  {
   "cell_type": "code",
   "execution_count": 42,
   "id": "f2acc271",
   "metadata": {},
   "outputs": [
    {
     "data": {
      "text/html": [
       "<div>\n",
       "<style scoped>\n",
       "    .dataframe tbody tr th:only-of-type {\n",
       "        vertical-align: middle;\n",
       "    }\n",
       "\n",
       "    .dataframe tbody tr th {\n",
       "        vertical-align: top;\n",
       "    }\n",
       "\n",
       "    .dataframe thead th {\n",
       "        text-align: right;\n",
       "    }\n",
       "</style>\n",
       "<table border=\"1\" class=\"dataframe\">\n",
       "  <thead>\n",
       "    <tr style=\"text-align: right;\">\n",
       "      <th></th>\n",
       "      <th>Color</th>\n",
       "      <th>Price</th>\n",
       "    </tr>\n",
       "  </thead>\n",
       "  <tbody>\n",
       "    <tr>\n",
       "      <th>0</th>\n",
       "      <td>Beige</td>\n",
       "      <td>15627.559701</td>\n",
       "    </tr>\n",
       "    <tr>\n",
       "      <th>1</th>\n",
       "      <td>Black</td>\n",
       "      <td>18886.917346</td>\n",
       "    </tr>\n",
       "    <tr>\n",
       "      <th>2</th>\n",
       "      <td>Blue</td>\n",
       "      <td>33726.850287</td>\n",
       "    </tr>\n",
       "    <tr>\n",
       "      <th>3</th>\n",
       "      <td>Brown</td>\n",
       "      <td>19709.636364</td>\n",
       "    </tr>\n",
       "    <tr>\n",
       "      <th>4</th>\n",
       "      <td>Carnelian red</td>\n",
       "      <td>15820.927374</td>\n",
       "    </tr>\n",
       "    <tr>\n",
       "      <th>5</th>\n",
       "      <td>Golden</td>\n",
       "      <td>14678.551724</td>\n",
       "    </tr>\n",
       "    <tr>\n",
       "      <th>6</th>\n",
       "      <td>Green</td>\n",
       "      <td>9449.677019</td>\n",
       "    </tr>\n",
       "    <tr>\n",
       "      <th>7</th>\n",
       "      <td>Grey</td>\n",
       "      <td>19203.448000</td>\n",
       "    </tr>\n",
       "    <tr>\n",
       "      <th>8</th>\n",
       "      <td>Orange</td>\n",
       "      <td>13008.422925</td>\n",
       "    </tr>\n",
       "    <tr>\n",
       "      <th>9</th>\n",
       "      <td>Pink</td>\n",
       "      <td>10649.076923</td>\n",
       "    </tr>\n",
       "    <tr>\n",
       "      <th>10</th>\n",
       "      <td>Purple</td>\n",
       "      <td>8837.384615</td>\n",
       "    </tr>\n",
       "    <tr>\n",
       "      <th>11</th>\n",
       "      <td>Red</td>\n",
       "      <td>13553.275430</td>\n",
       "    </tr>\n",
       "    <tr>\n",
       "      <th>12</th>\n",
       "      <td>Silver</td>\n",
       "      <td>15091.806962</td>\n",
       "    </tr>\n",
       "    <tr>\n",
       "      <th>13</th>\n",
       "      <td>Sky blue</td>\n",
       "      <td>14079.000000</td>\n",
       "    </tr>\n",
       "    <tr>\n",
       "      <th>14</th>\n",
       "      <td>White</td>\n",
       "      <td>18204.295389</td>\n",
       "    </tr>\n",
       "    <tr>\n",
       "      <th>15</th>\n",
       "      <td>Yellow</td>\n",
       "      <td>20666.584906</td>\n",
       "    </tr>\n",
       "  </tbody>\n",
       "</table>\n",
       "</div>"
      ],
      "text/plain": [
       "            Color         Price\n",
       "0           Beige  15627.559701\n",
       "1           Black  18886.917346\n",
       "2            Blue  33726.850287\n",
       "3           Brown  19709.636364\n",
       "4   Carnelian red  15820.927374\n",
       "5          Golden  14678.551724\n",
       "6           Green   9449.677019\n",
       "7            Grey  19203.448000\n",
       "8          Orange  13008.422925\n",
       "9            Pink  10649.076923\n",
       "10         Purple   8837.384615\n",
       "11            Red  13553.275430\n",
       "12         Silver  15091.806962\n",
       "13       Sky blue  14079.000000\n",
       "14          White  18204.295389\n",
       "15         Yellow  20666.584906"
      ]
     },
     "execution_count": 42,
     "metadata": {},
     "output_type": "execute_result"
    }
   ],
   "source": [
    "### Mean price per each Color\n",
    "\n",
    "mean_price_color = dataset[['Color', 'Price']].groupby('Color', as_index = False).mean()\n",
    "mean_price_color"
   ]
  },
  {
   "cell_type": "code",
   "execution_count": 43,
   "id": "25153f4d",
   "metadata": {},
   "outputs": [
    {
     "data": {
      "image/png": "[encoded data removed]",
      "text/plain": [
       "<Figure size 1008x360 with 1 Axes>"
      ]
     },
     "metadata": {
      "needs_background": "light"
     },
     "output_type": "display_data"
    }
   ],
   "source": [
    "### Mean Price for each Color\n",
    "\n",
    "plt.figure(figsize = (14, 5))\n",
    "sns.barplot(mean_price_color['Color'], mean_price_color['Price'], alpha = 0.8)\n",
    "plt.title('Mean Sales Price for each Color')\n",
    "plt.ylabel('Mean Price', fontsize = 12)\n",
    "plt.xlabel('Color', fontsize = 12)\n",
    "plt.show()"
   ]
  },
  {
   "cell_type": "markdown",
   "id": "a23b9d93",
   "metadata": {},
   "source": [
    "From the above graph, we can see that most of the colors have a similar mean price."
   ]
  },
  {
   "cell_type": "markdown",
   "id": "cd8652e1",
   "metadata": {},
   "source": [
    "##### 3.2.9 Numerical variable - Price"
   ]
  },
  {
   "cell_type": "code",
   "execution_count": 44,
   "id": "209f8dd4",
   "metadata": {},
   "outputs": [
    {
     "data": {
      "text/plain": [
       "Text(0.5, 1.0, 'Price Distribution')"
      ]
     },
     "execution_count": 44,
     "metadata": {},
     "output_type": "execute_result"
    },
    {
     "data": {
      "image/png": "[encoded data removed]",
      "text/plain": [
       "<Figure size 432x288 with 1 Axes>"
      ]
     },
     "metadata": {
      "needs_background": "light"
     },
     "output_type": "display_data"
    }
   ],
   "source": [
    "### Understanding the distribution of the column - Price\n",
    "\n",
    "sns.distplot(dataset['Price'], label = 'Skewness: %.2f'%(dataset['Price'].skew()))\n",
    "plt.legend(loc = 'best')\n",
    "plt.title('Price Distribution')"
   ]
  },
  {
   "cell_type": "markdown",
   "id": "0dcf94ca",
   "metadata": {},
   "source": [
    "From the above graph, we can see that the data is highly skewed. We will focus on removing the skewness in the Data preprocessing phase."
   ]
  },
  {
   "cell_type": "code",
   "execution_count": 45,
   "id": "8172721a",
   "metadata": {},
   "outputs": [
    {
     "data": {
      "text/plain": [
       "<AxesSubplot:>"
      ]
     },
     "execution_count": 45,
     "metadata": {},
     "output_type": "execute_result"
    },
    {
     "data": {
      "image/png": "[encoded data removed]",
      "text/plain": [
       "<Figure size 432x288 with 1 Axes>"
      ]
     },
     "metadata": {
      "needs_background": "light"
     },
     "output_type": "display_data"
    }
   ],
   "source": [
    "### Plotting a boxplot to check if the column has any outliers \n",
    "\n",
    "dataset.boxplot(column = ['Price'])"
   ]
  },
  {
   "cell_type": "markdown",
   "id": "341e888b",
   "metadata": {},
   "source": [
    "From the above graph, we can see that there are outliers in the column - Price. We will focus on removing them in the Data preprocessing phase."
   ]
  },
  {
   "cell_type": "markdown",
   "id": "ca160998",
   "metadata": {},
   "source": [
    "##### 3.2.10 Numerical variable - Levy"
   ]
  },
  {
   "cell_type": "code",
   "execution_count": 46,
   "id": "97ec0a5a",
   "metadata": {},
   "outputs": [
    {
     "data": {
      "text/plain": [
       "Text(0.5, 1.0, 'Distribution of the column - Levy')"
      ]
     },
     "execution_count": 46,
     "metadata": {},
     "output_type": "execute_result"
    },
    {
     "data": {
      "image/png": "[encoded data removed]",
      "text/plain": [
       "<Figure size 432x288 with 1 Axes>"
      ]
     },
     "metadata": {
      "needs_background": "light"
     },
     "output_type": "display_data"
    }
   ],
   "source": [
    "### Understanding the distribution of the column - Levy\n",
    "\n",
    "sns.distplot(dataset['Levy'], label = 'Skewness: %.2f'%(dataset['Levy'].skew()))\n",
    "plt.legend(loc = 'best')\n",
    "plt.title('Distribution of the column - Levy')"
   ]
  },
  {
   "cell_type": "markdown",
   "id": "49fa36d9",
   "metadata": {},
   "source": [
    "From the above graph, we can see that the distribution is similar to normal distribution with a degree of right skewness."
   ]
  },
  {
   "cell_type": "code",
   "execution_count": 47,
   "id": "1ea12cfc",
   "metadata": {},
   "outputs": [
    {
     "data": {
      "text/plain": [
       "<AxesSubplot:>"
      ]
     },
     "execution_count": 47,
     "metadata": {},
     "output_type": "execute_result"
    },
    {
     "data": {
      "image/png": "[encoded data removed]",
      "text/plain": [
       "<Figure size 432x288 with 1 Axes>"
      ]
     },
     "metadata": {
      "needs_background": "light"
     },
     "output_type": "display_data"
    }
   ],
   "source": [
    "### Plotting a boxplot to check if the column has any outliers \n",
    "\n",
    "dataset.boxplot(column = ['Levy'])"
   ]
  },
  {
   "cell_type": "markdown",
   "id": "6178ae26",
   "metadata": {},
   "source": [
    "From the above graph, we can see that there are outliers in the column - Levy. We will focus on removing them in the Data preprocessing phase."
   ]
  },
  {
   "cell_type": "markdown",
   "id": "6a9ddec1",
   "metadata": {},
   "source": [
    "##### 3.2.11 Numerical variable - Prod. year"
   ]
  },
  {
   "cell_type": "code",
   "execution_count": 48,
   "id": "35c49f33",
   "metadata": {},
   "outputs": [
    {
     "data": {
      "text/plain": [
       "Text(0.5, 1.0, 'Distribution of the column - Prod. year')"
      ]
     },
     "execution_count": 48,
     "metadata": {},
     "output_type": "execute_result"
    },
    {
     "data": {
      "image/png": "[encoded data removed]",
      "text/plain": [
       "<Figure size 432x288 with 1 Axes>"
      ]
     },
     "metadata": {
      "needs_background": "light"
     },
     "output_type": "display_data"
    }
   ],
   "source": [
    "### Understanding the distribution of the column - Prod. year\n",
    "\n",
    "sns.distplot(dataset['Prod. year'], label = 'Skewness: %.2f'%(dataset['Prod. year'].skew()))\n",
    "plt.legend(loc = 'best')\n",
    "plt.title('Distribution of the column - Prod. year')"
   ]
  },
  {
   "cell_type": "markdown",
   "id": "bbeb22de",
   "metadata": {},
   "source": [
    "From the above graph, we can see that the graph is normally distributed with a left tail."
   ]
  },
  {
   "cell_type": "code",
   "execution_count": 49,
   "id": "47b184d5",
   "metadata": {},
   "outputs": [
    {
     "data": {
      "text/plain": [
       "<AxesSubplot:>"
      ]
     },
     "execution_count": 49,
     "metadata": {},
     "output_type": "execute_result"
    },
    {
     "data": {
      "image/png": "[encoded data removed]",
      "text/plain": [
       "<Figure size 432x288 with 1 Axes>"
      ]
     },
     "metadata": {
      "needs_background": "light"
     },
     "output_type": "display_data"
    }
   ],
   "source": [
    "### Plotting a boxplot to check if the column has any outliers \n",
    "\n",
    "dataset.boxplot(column = ['Prod. year'])"
   ]
  },
  {
   "cell_type": "markdown",
   "id": "0b5b7e74",
   "metadata": {},
   "source": [
    "From the above graph, we can see that there are outliers in the column - Prod. year. We will focus on removing them in the Data preprocessing phase."
   ]
  },
  {
   "cell_type": "markdown",
   "id": "c766f398",
   "metadata": {},
   "source": [
    "##### 3.2.12 Numerical variable - Mileage"
   ]
  },
  {
   "cell_type": "code",
   "execution_count": 50,
   "id": "2f62f56b",
   "metadata": {},
   "outputs": [],
   "source": [
    "### Modifying the column - Mileage\n",
    "\n",
    "modified_mileage = [float(value.split(' ')[0]) for value in dataset['Mileage']]\n",
    "dataset['Mileage'] = modified_mileage"
   ]
  },
  {
   "cell_type": "code",
   "execution_count": 51,
   "id": "db7236bf",
   "metadata": {},
   "outputs": [
    {
     "data": {
      "text/plain": [
       "Text(0.5, 1.0, 'Distribution of the column - Mileage')"
      ]
     },
     "execution_count": 51,
     "metadata": {},
     "output_type": "execute_result"
    },
    {
     "data": {
      "image/png": "[encoded data removed]",
      "text/plain": [
       "<Figure size 432x288 with 1 Axes>"
      ]
     },
     "metadata": {
      "needs_background": "light"
     },
     "output_type": "display_data"
    }
   ],
   "source": [
    "### Understanding the distribution of the column - Mileage\n",
    "\n",
    "sns.distplot(dataset['Mileage'], label = 'Skewness: %.2f'%(dataset['Mileage'].skew()))\n",
    "plt.legend(loc = 'best')\n",
    "plt.title('Distribution of the column - Mileage')"
   ]
  },
  {
   "cell_type": "markdown",
   "id": "c3654d39",
   "metadata": {},
   "source": [
    "From the above graph, we can see that the graph has a high degree of skewness."
   ]
  },
  {
   "cell_type": "code",
   "execution_count": 52,
   "id": "b5f9cefb",
   "metadata": {},
   "outputs": [
    {
     "data": {
      "text/plain": [
       "<AxesSubplot:>"
      ]
     },
     "execution_count": 52,
     "metadata": {},
     "output_type": "execute_result"
    },
    {
     "data": {
      "image/png": "[encoded data removed]",
      "text/plain": [
       "<Figure size 432x288 with 1 Axes>"
      ]
     },
     "metadata": {
      "needs_background": "light"
     },
     "output_type": "display_data"
    }
   ],
   "source": [
    "### Plotting a boxplot to check if the column has any outliers \n",
    "\n",
    "dataset.boxplot(column = ['Mileage'])"
   ]
  },
  {
   "cell_type": "markdown",
   "id": "d531445f",
   "metadata": {},
   "source": [
    "From the above graph, we can see that there are outliers in the column - Mileage. We will focus on removing them in the Data preprocessing phase."
   ]
  },
  {
   "cell_type": "markdown",
   "id": "a3c9915c",
   "metadata": {},
   "source": [
    "##### 3.2.13 Numerical variable - Cylinders"
   ]
  },
  {
   "cell_type": "code",
   "execution_count": 53,
   "id": "112758e6",
   "metadata": {},
   "outputs": [
    {
     "data": {
      "text/plain": [
       "Text(0.5, 1.0, 'Distribution of the column - Cylinders')"
      ]
     },
     "execution_count": 53,
     "metadata": {},
     "output_type": "execute_result"
    },
    {
     "data": {
      "image/png": "[encoded data removed]",
      "text/plain": [
       "<Figure size 432x288 with 1 Axes>"
      ]
     },
     "metadata": {
      "needs_background": "light"
     },
     "output_type": "display_data"
    }
   ],
   "source": [
    "### Understanding the distribution of the column - Cylinders\n",
    "\n",
    "sns.distplot(dataset['Cylinders'], label = 'Skewness: %.2f'%(dataset['Cylinders'].skew()))\n",
    "plt.legend(loc = 'best')\n",
    "plt.title('Distribution of the column - Cylinders')"
   ]
  },
  {
   "cell_type": "markdown",
   "id": "5089019c",
   "metadata": {},
   "source": [
    "From the above graph, we can see that there are 3 different cylinders - 4, 6, and 8. "
   ]
  },
  {
   "cell_type": "markdown",
   "id": "d186b047",
   "metadata": {},
   "source": [
    "##### 3.2.14 Numerical variables - Airbags"
   ]
  },
  {
   "cell_type": "code",
   "execution_count": 54,
   "id": "c26346f5",
   "metadata": {},
   "outputs": [
    {
     "data": {
      "text/plain": [
       "Text(0.5, 1.0, 'Distribution of the column - Airbags')"
      ]
     },
     "execution_count": 54,
     "metadata": {},
     "output_type": "execute_result"
    },
    {
     "data": {
      "image/png": "[encoded data removed]",
      "text/plain": [
       "<Figure size 432x288 with 1 Axes>"
      ]
     },
     "metadata": {
      "needs_background": "light"
     },
     "output_type": "display_data"
    }
   ],
   "source": [
    "### Understanding the distribution of the column - Airbags\n",
    "\n",
    "sns.distplot(dataset['Airbags'], label = 'Skewness: %.2f'%(dataset['Airbags'].skew()))\n",
    "plt.legend(loc = 'best')\n",
    "plt.title('Distribution of the column - Airbags')"
   ]
  },
  {
   "cell_type": "markdown",
   "id": "28cf32be",
   "metadata": {},
   "source": [
    "From the above graph, we can see that the data has less skewness."
   ]
  },
  {
   "cell_type": "markdown",
   "id": "a2b668b8",
   "metadata": {},
   "source": [
    "##### 3.2.15 Numerical variables - Engine volume"
   ]
  },
  {
   "cell_type": "code",
   "execution_count": 55,
   "id": "b6a40a58",
   "metadata": {},
   "outputs": [],
   "source": [
    "### Modifying the column - Engine volume\n",
    "\n",
    "modified_volume = [float(value.split(' ')[0]) for value in dataset['Engine volume']]\n",
    "dataset['Engine volume'] = modified_volume"
   ]
  },
  {
   "cell_type": "code",
   "execution_count": 56,
   "id": "ccc982d1",
   "metadata": {},
   "outputs": [
    {
     "data": {
      "text/plain": [
       "Text(0.5, 1.0, 'Distribution of the column - Engine volume')"
      ]
     },
     "execution_count": 56,
     "metadata": {},
     "output_type": "execute_result"
    },
    {
     "data": {
      "image/png": "[encoded data removed]",
      "text/plain": [
       "<Figure size 432x288 with 1 Axes>"
      ]
     },
     "metadata": {
      "needs_background": "light"
     },
     "output_type": "display_data"
    }
   ],
   "source": [
    "### Understanding the distribution of the column - Engine volume\n",
    "\n",
    "sns.distplot(dataset['Engine volume'], label = 'Skewness: %.2f'%(dataset['Engine volume'].skew()))\n",
    "plt.legend(loc = 'best')\n",
    "plt.title('Distribution of the column - Engine volume')"
   ]
  },
  {
   "cell_type": "markdown",
   "id": "26366d17",
   "metadata": {},
   "source": [
    "From the above graph, we can see that the graph is normally distributed with a slight degree of skewness on the right side."
   ]
  },
  {
   "cell_type": "code",
   "execution_count": 57,
   "id": "414a6db4",
   "metadata": {},
   "outputs": [
    {
     "data": {
      "text/plain": [
       "<AxesSubplot:>"
      ]
     },
     "execution_count": 57,
     "metadata": {},
     "output_type": "execute_result"
    },
    {
     "data": {
      "image/png": "[encoded data removed]",
      "text/plain": [
       "<Figure size 432x288 with 1 Axes>"
      ]
     },
     "metadata": {
      "needs_background": "light"
     },
     "output_type": "display_data"
    }
   ],
   "source": [
    "### Plotting a boxplot to check if the column has any outliers \n",
    "\n",
    "dataset.boxplot(column = ['Engine volume'])"
   ]
  },
  {
   "cell_type": "markdown",
   "id": "7da8ff34",
   "metadata": {},
   "source": [
    "From the above graph, we can see that there are outliers in the column - Engine volume. We will focus on removing them in the Data preprocessing phase."
   ]
  },
  {
   "cell_type": "markdown",
   "id": "439c8c3c",
   "metadata": {},
   "source": [
    "### 4. Data Preprocessing"
   ]
  },
  {
   "cell_type": "markdown",
   "id": "62bacc76",
   "metadata": {},
   "source": [
    "Data preprocessing is the process of getting our dataset ready for model training. In this section, we will perform the following preprocessing steps:\n",
    "\n",
    "1. Detect and remove outliers in numerical variables\n",
    "2. Drop and fill missing values\n",
    "3. Feature Engineering\n",
    "4. Data Trasformation\n",
    "5. Feature Encoding\n",
    "6. Feature Selection"
   ]
  },
  {
   "cell_type": "markdown",
   "id": "7aef20f5",
   "metadata": {},
   "source": [
    "#### 4.1 Detect and remove outliers in numerical variables"
   ]
  },
  {
   "cell_type": "markdown",
   "id": "c59c32bb",
   "metadata": {},
   "source": [
    "Outliers are data points that have extreme values and they do not conform with the majority of the data. It is important to address this because outliers tend to skew our data towards extremes and can cause inaccurate model predictions. I will use the Tukey method to remove these outliers.\n",
    "\n",
    "Here, we will write a function that will loop through a list of features and detect outliers in each one of those features. In each loop, a data point is deemed an outlier if it is less than the first quartile minus the outlier step or exceeds third quartile plus the outlier step. The outlier step is defined as 1.5 times the interquartile range. Once the outliers have been determined for one feature, their indices will be stored in a list before proceeding to the next feature and the process repeats until the very last feature is completed. Finally, using the list with outlier indices, we will count the frequencies of the index numbers and return them if their frequency exceeds n times."
   ]
  },
  {
   "cell_type": "code",
   "execution_count": 58,
   "id": "df062cf6",
   "metadata": {},
   "outputs": [
    {
     "name": "stdout",
     "output_type": "stream",
     "text": [
      "We will drop these 270 indices:  [90, 211, 420, 483, 573, 579, 723, 724, 747, 1019, 1083, 1128, 1225, 1364, 1459, 1490, 1509, 1510, 1562, 1662, 1704, 1823, 2010, 2054, 2283, 2366, 2726, 2768, 2799, 2859, 2912, 2922, 2941, 2942, 3101, 3365, 3487, 3684, 3686, 3705, 3707, 3765, 3905, 4068, 4183, 4237, 4294, 4351, 4465, 4629, 4649, 4661, 4662, 4705, 4709, 4722, 4919, 5008, 5259, 5412, 5485, 5541, 5718, 5731, 5940, 6405, 6468, 6768, 6826, 6873, 6887, 6950, 7010, 7031, 7094, 7147, 7247, 7254, 7283, 7318, 7353, 7565, 7621, 7667, 7675, 7747, 7749, 7760, 7970, 7997, 8036, 8147, 8246, 8541, 8644, 8755, 8880, 9101, 9172, 9212, 9233, 9247, 9259, 9327, 9367, 9405, 9441, 9452, 9688, 9739, 10082, 10085, 10220, 10468, 10520, 10690, 10710, 10714, 10759, 10948, 11035, 11038, 11041, 11131, 11138, 11210, 11529, 11827, 11906, 11941, 11973, 12081, 12152, 12224, 12848, 12905, 12981, 13088, 13320, 13325, 13351, 13467, 13534, 13631, 13653, 13687, 13745, 13847, 13884, 13889, 13941, 13973, 14193, 14356, 14435, 14523, 14752, 14763, 14871, 14876, 15267, 15405, 15623, 15659, 16279, 16418, 16432, 16525, 16534, 16548, 16614, 16718, 16926, 17005, 17085, 17153, 17167, 17287, 17471, 17506, 17508, 17527, 17728, 17760, 17868, 17870, 17930, 18144, 18559, 18620, 18640, 18720, 18885, 11, 169, 228, 400, 429, 508, 511, 1285, 1588, 1689, 1710, 1735, 1806, 1953, 2151, 2592, 2732, 2810, 2873, 2952, 2963, 3605, 3698, 3817, 4174, 4371, 4411, 4866, 4994, 5509, 5696, 6005, 6703, 7045, 7599, 7746, 8590, 9145, 9425, 9644, 9721, 9994, 10265, 10275, 10281, 10503, 10575, 10869, 10960, 11266, 11275, 11587, 11744, 11764, 12147, 12288, 12444, 13094, 15247, 15347, 15616, 15839, 16695, 17446, 17634, 19199, 428, 1086, 2418, 2512, 5860, 6513, 7272, 9114, 10973, 13850, 15665]\n"
     ]
    }
   ],
   "source": [
    "def detect_outliers(df, n, features_list):\n",
    "    outlier_indices = [] \n",
    "    for feature in features_list: \n",
    "        Q1 = np.percentile(df[feature], 25)\n",
    "        Q3 = np.percentile(df[feature], 75)\n",
    "        IQR = Q3 - Q1\n",
    "        outlier_step = 1.5 * IQR \n",
    "        outlier_list_col = df[(df[feature] < Q1 - outlier_step) | (df[feature] > Q3 + outlier_step)].index\n",
    "        outlier_indices.extend(outlier_list_col) \n",
    "    outlier_indices = Counter(outlier_indices)\n",
    "    multiple_outliers = list(key for key, value in outlier_indices.items() if value > n) \n",
    "    return multiple_outliers\n",
    "\n",
    "outliers_to_drop = detect_outliers(dataset, 2, ['Price', 'Levy', 'Prod. year', 'Mileage', 'Cylinders', 'Airbags',\n",
    "                                               'Engine volume'])\n",
    "print(\"We will drop these {} indices: \".format(len(outliers_to_drop)), outliers_to_drop)"
   ]
  },
  {
   "cell_type": "markdown",
   "id": "4e576418",
   "metadata": {},
   "source": [
    "Now let's look at the data present in the rows."
   ]
  },
  {
   "cell_type": "code",
   "execution_count": 59,
   "id": "8a01e5b8",
   "metadata": {},
   "outputs": [
    {
     "data": {
      "text/html": [
       "<div>\n",
       "<style scoped>\n",
       "    .dataframe tbody tr th:only-of-type {\n",
       "        vertical-align: middle;\n",
       "    }\n",
       "\n",
       "    .dataframe tbody tr th {\n",
       "        vertical-align: top;\n",
       "    }\n",
       "\n",
       "    .dataframe thead th {\n",
       "        text-align: right;\n",
       "    }\n",
       "</style>\n",
       "<table border=\"1\" class=\"dataframe\">\n",
       "  <thead>\n",
       "    <tr style=\"text-align: right;\">\n",
       "      <th></th>\n",
       "      <th>ID</th>\n",
       "      <th>Price</th>\n",
       "      <th>Levy</th>\n",
       "      <th>Manufacturer</th>\n",
       "      <th>Model</th>\n",
       "      <th>Prod. year</th>\n",
       "      <th>Category</th>\n",
       "      <th>Leather interior</th>\n",
       "      <th>Fuel type</th>\n",
       "      <th>Engine volume</th>\n",
       "      <th>Mileage</th>\n",
       "      <th>Cylinders</th>\n",
       "      <th>Gear box type</th>\n",
       "      <th>Drive wheels</th>\n",
       "      <th>Doors</th>\n",
       "      <th>Wheel</th>\n",
       "      <th>Color</th>\n",
       "      <th>Airbags</th>\n",
       "    </tr>\n",
       "  </thead>\n",
       "  <tbody>\n",
       "    <tr>\n",
       "      <th>90</th>\n",
       "      <td>45807330</td>\n",
       "      <td>77775</td>\n",
       "      <td>1604.0</td>\n",
       "      <td>MERCEDES-BENZ</td>\n",
       "      <td>GL 63 AMG</td>\n",
       "      <td>2014</td>\n",
       "      <td>Jeep</td>\n",
       "      <td>Yes</td>\n",
       "      <td>Petrol</td>\n",
       "      <td>5.5</td>\n",
       "      <td>433811.0</td>\n",
       "      <td>8.0</td>\n",
       "      <td>Automatic</td>\n",
       "      <td>4x4</td>\n",
       "      <td>04-May</td>\n",
       "      <td>Left wheel</td>\n",
       "      <td>Black</td>\n",
       "      <td>10</td>\n",
       "    </tr>\n",
       "    <tr>\n",
       "      <th>211</th>\n",
       "      <td>45156280</td>\n",
       "      <td>72130</td>\n",
       "      <td>1885.0</td>\n",
       "      <td>PORSCHE</td>\n",
       "      <td>Panamera</td>\n",
       "      <td>2010</td>\n",
       "      <td>Hatchback</td>\n",
       "      <td>Yes</td>\n",
       "      <td>Petrol</td>\n",
       "      <td>4.8</td>\n",
       "      <td>196800.0</td>\n",
       "      <td>8.0</td>\n",
       "      <td>Tiptronic</td>\n",
       "      <td>4x4</td>\n",
       "      <td>04-May</td>\n",
       "      <td>Left wheel</td>\n",
       "      <td>White</td>\n",
       "      <td>8</td>\n",
       "    </tr>\n",
       "    <tr>\n",
       "      <th>420</th>\n",
       "      <td>45763904</td>\n",
       "      <td>81539</td>\n",
       "      <td>1935.0</td>\n",
       "      <td>LEXUS</td>\n",
       "      <td>GX 460</td>\n",
       "      <td>2016</td>\n",
       "      <td>Jeep</td>\n",
       "      <td>Yes</td>\n",
       "      <td>Petrol</td>\n",
       "      <td>4.6</td>\n",
       "      <td>155976.0</td>\n",
       "      <td>8.0</td>\n",
       "      <td>Automatic</td>\n",
       "      <td>4x4</td>\n",
       "      <td>04-May</td>\n",
       "      <td>Left wheel</td>\n",
       "      <td>White</td>\n",
       "      <td>0</td>\n",
       "    </tr>\n",
       "    <tr>\n",
       "      <th>483</th>\n",
       "      <td>45761340</td>\n",
       "      <td>69935</td>\n",
       "      <td>1646.0</td>\n",
       "      <td>LEXUS</td>\n",
       "      <td>GX 470</td>\n",
       "      <td>2015</td>\n",
       "      <td>Jeep</td>\n",
       "      <td>Yes</td>\n",
       "      <td>Petrol</td>\n",
       "      <td>4.6</td>\n",
       "      <td>273493.0</td>\n",
       "      <td>8.0</td>\n",
       "      <td>Automatic</td>\n",
       "      <td>4x4</td>\n",
       "      <td>04-May</td>\n",
       "      <td>Left wheel</td>\n",
       "      <td>Silver</td>\n",
       "      <td>0</td>\n",
       "    </tr>\n",
       "    <tr>\n",
       "      <th>573</th>\n",
       "      <td>45731517</td>\n",
       "      <td>119172</td>\n",
       "      <td>1301.0</td>\n",
       "      <td>BMW</td>\n",
       "      <td>M6</td>\n",
       "      <td>2014</td>\n",
       "      <td>Coupe</td>\n",
       "      <td>Yes</td>\n",
       "      <td>Petrol</td>\n",
       "      <td>4.4</td>\n",
       "      <td>33500.0</td>\n",
       "      <td>8.0</td>\n",
       "      <td>Tiptronic</td>\n",
       "      <td>Rear</td>\n",
       "      <td>04-May</td>\n",
       "      <td>Left wheel</td>\n",
       "      <td>White</td>\n",
       "      <td>12</td>\n",
       "    </tr>\n",
       "    <tr>\n",
       "      <th>...</th>\n",
       "      <td>...</td>\n",
       "      <td>...</td>\n",
       "      <td>...</td>\n",
       "      <td>...</td>\n",
       "      <td>...</td>\n",
       "      <td>...</td>\n",
       "      <td>...</td>\n",
       "      <td>...</td>\n",
       "      <td>...</td>\n",
       "      <td>...</td>\n",
       "      <td>...</td>\n",
       "      <td>...</td>\n",
       "      <td>...</td>\n",
       "      <td>...</td>\n",
       "      <td>...</td>\n",
       "      <td>...</td>\n",
       "      <td>...</td>\n",
       "      <td>...</td>\n",
       "    </tr>\n",
       "    <tr>\n",
       "      <th>7272</th>\n",
       "      <td>45416515</td>\n",
       "      <td>35438</td>\n",
       "      <td>NaN</td>\n",
       "      <td>BMW</td>\n",
       "      <td>X6</td>\n",
       "      <td>2009</td>\n",
       "      <td>Jeep</td>\n",
       "      <td>Yes</td>\n",
       "      <td>Petrol</td>\n",
       "      <td>4.4</td>\n",
       "      <td>960000.0</td>\n",
       "      <td>8.0</td>\n",
       "      <td>Tiptronic</td>\n",
       "      <td>4x4</td>\n",
       "      <td>04-May</td>\n",
       "      <td>Left wheel</td>\n",
       "      <td>Silver</td>\n",
       "      <td>12</td>\n",
       "    </tr>\n",
       "    <tr>\n",
       "      <th>9114</th>\n",
       "      <td>45813297</td>\n",
       "      <td>31988</td>\n",
       "      <td>3015.0</td>\n",
       "      <td>FERRARI</td>\n",
       "      <td>F50</td>\n",
       "      <td>2017</td>\n",
       "      <td>Coupe</td>\n",
       "      <td>Yes</td>\n",
       "      <td>Petrol</td>\n",
       "      <td>6.3</td>\n",
       "      <td>419200.0</td>\n",
       "      <td>12.0</td>\n",
       "      <td>Automatic</td>\n",
       "      <td>Rear</td>\n",
       "      <td>02-Mar</td>\n",
       "      <td>Left wheel</td>\n",
       "      <td>Silver</td>\n",
       "      <td>12</td>\n",
       "    </tr>\n",
       "    <tr>\n",
       "      <th>10973</th>\n",
       "      <td>45416515</td>\n",
       "      <td>35438</td>\n",
       "      <td>NaN</td>\n",
       "      <td>BMW</td>\n",
       "      <td>X6</td>\n",
       "      <td>2009</td>\n",
       "      <td>Jeep</td>\n",
       "      <td>Yes</td>\n",
       "      <td>Petrol</td>\n",
       "      <td>4.4</td>\n",
       "      <td>960000.0</td>\n",
       "      <td>8.0</td>\n",
       "      <td>Tiptronic</td>\n",
       "      <td>4x4</td>\n",
       "      <td>04-May</td>\n",
       "      <td>Left wheel</td>\n",
       "      <td>Silver</td>\n",
       "      <td>12</td>\n",
       "    </tr>\n",
       "    <tr>\n",
       "      <th>13850</th>\n",
       "      <td>45796827</td>\n",
       "      <td>1000</td>\n",
       "      <td>NaN</td>\n",
       "      <td>MERCEDES-BENZ</td>\n",
       "      <td>GLS 63 AMG</td>\n",
       "      <td>2014</td>\n",
       "      <td>Sedan</td>\n",
       "      <td>Yes</td>\n",
       "      <td>Petrol</td>\n",
       "      <td>6.3</td>\n",
       "      <td>748742.0</td>\n",
       "      <td>1.0</td>\n",
       "      <td>Manual</td>\n",
       "      <td>Front</td>\n",
       "      <td>02-Mar</td>\n",
       "      <td>Left wheel</td>\n",
       "      <td>Black</td>\n",
       "      <td>12</td>\n",
       "    </tr>\n",
       "    <tr>\n",
       "      <th>15665</th>\n",
       "      <td>45806588</td>\n",
       "      <td>706</td>\n",
       "      <td>1086.0</td>\n",
       "      <td>DODGE</td>\n",
       "      <td>Avenger</td>\n",
       "      <td>2012</td>\n",
       "      <td>Sedan</td>\n",
       "      <td>Yes</td>\n",
       "      <td>Petrol</td>\n",
       "      <td>3.6</td>\n",
       "      <td>667058.0</td>\n",
       "      <td>6.0</td>\n",
       "      <td>Automatic</td>\n",
       "      <td>Front</td>\n",
       "      <td>04-May</td>\n",
       "      <td>Left wheel</td>\n",
       "      <td>Blue</td>\n",
       "      <td>12</td>\n",
       "    </tr>\n",
       "  </tbody>\n",
       "</table>\n",
       "<p>270 rows × 18 columns</p>\n",
       "</div>"
      ],
      "text/plain": [
       "             ID   Price    Levy   Manufacturer       Model  Prod. year  \\\n",
       "90     45807330   77775  1604.0  MERCEDES-BENZ   GL 63 AMG        2014   \n",
       "211    45156280   72130  1885.0        PORSCHE    Panamera        2010   \n",
       "420    45763904   81539  1935.0          LEXUS      GX 460        2016   \n",
       "483    45761340   69935  1646.0          LEXUS      GX 470        2015   \n",
       "573    45731517  119172  1301.0            BMW          M6        2014   \n",
       "...         ...     ...     ...            ...         ...         ...   \n",
       "7272   45416515   35438     NaN            BMW          X6        2009   \n",
       "9114   45813297   31988  3015.0        FERRARI         F50        2017   \n",
       "10973  45416515   35438     NaN            BMW          X6        2009   \n",
       "13850  45796827    1000     NaN  MERCEDES-BENZ  GLS 63 AMG        2014   \n",
       "15665  45806588     706  1086.0          DODGE     Avenger        2012   \n",
       "\n",
       "        Category Leather interior Fuel type  Engine volume   Mileage  \\\n",
       "90          Jeep              Yes    Petrol            5.5  433811.0   \n",
       "211    Hatchback              Yes    Petrol            4.8  196800.0   \n",
       "420         Jeep              Yes    Petrol            4.6  155976.0   \n",
       "483         Jeep              Yes    Petrol            4.6  273493.0   \n",
       "573        Coupe              Yes    Petrol            4.4   33500.0   \n",
       "...          ...              ...       ...            ...       ...   \n",
       "7272        Jeep              Yes    Petrol            4.4  960000.0   \n",
       "9114       Coupe              Yes    Petrol            6.3  419200.0   \n",
       "10973       Jeep              Yes    Petrol            4.4  960000.0   \n",
       "13850      Sedan              Yes    Petrol            6.3  748742.0   \n",
       "15665      Sedan              Yes    Petrol            3.6  667058.0   \n",
       "\n",
       "       Cylinders Gear box type Drive wheels   Doors       Wheel   Color  \\\n",
       "90           8.0     Automatic          4x4  04-May  Left wheel   Black   \n",
       "211          8.0     Tiptronic          4x4  04-May  Left wheel   White   \n",
       "420          8.0     Automatic          4x4  04-May  Left wheel   White   \n",
       "483          8.0     Automatic          4x4  04-May  Left wheel  Silver   \n",
       "573          8.0     Tiptronic         Rear  04-May  Left wheel   White   \n",
       "...          ...           ...          ...     ...         ...     ...   \n",
       "7272         8.0     Tiptronic          4x4  04-May  Left wheel  Silver   \n",
       "9114        12.0     Automatic         Rear  02-Mar  Left wheel  Silver   \n",
       "10973        8.0     Tiptronic          4x4  04-May  Left wheel  Silver   \n",
       "13850        1.0        Manual        Front  02-Mar  Left wheel   Black   \n",
       "15665        6.0     Automatic        Front  04-May  Left wheel    Blue   \n",
       "\n",
       "       Airbags  \n",
       "90          10  \n",
       "211          8  \n",
       "420          0  \n",
       "483          0  \n",
       "573         12  \n",
       "...        ...  \n",
       "7272        12  \n",
       "9114        12  \n",
       "10973       12  \n",
       "13850       12  \n",
       "15665       12  \n",
       "\n",
       "[270 rows x 18 columns]"
      ]
     },
     "execution_count": 59,
     "metadata": {},
     "output_type": "execute_result"
    }
   ],
   "source": [
    "dataset.iloc[outliers_to_drop, :]"
   ]
  },
  {
   "cell_type": "markdown",
   "id": "8be37bd6",
   "metadata": {},
   "source": [
    "We will drop these rows from the dataset."
   ]
  },
  {
   "cell_type": "code",
   "execution_count": 60,
   "id": "4e4bf276",
   "metadata": {},
   "outputs": [
    {
     "name": "stdout",
     "output_type": "stream",
     "text": [
      "Before: 19237 rows\n",
      "After: 18967 rows\n"
     ]
    }
   ],
   "source": [
    "### Drop outliers and reset index\n",
    "\n",
    "print(\"Before: {} rows\".format(len(dataset)))\n",
    "dataset = dataset.drop(outliers_to_drop, axis = 0).reset_index(drop = True)\n",
    "print(\"After: {} rows\".format(len(dataset)))"
   ]
  },
  {
   "cell_type": "code",
   "execution_count": 61,
   "id": "e371e229",
   "metadata": {},
   "outputs": [
    {
     "data": {
      "text/html": [
       "<div>\n",
       "<style scoped>\n",
       "    .dataframe tbody tr th:only-of-type {\n",
       "        vertical-align: middle;\n",
       "    }\n",
       "\n",
       "    .dataframe tbody tr th {\n",
       "        vertical-align: top;\n",
       "    }\n",
       "\n",
       "    .dataframe thead th {\n",
       "        text-align: right;\n",
       "    }\n",
       "</style>\n",
       "<table border=\"1\" class=\"dataframe\">\n",
       "  <thead>\n",
       "    <tr style=\"text-align: right;\">\n",
       "      <th></th>\n",
       "      <th>ID</th>\n",
       "      <th>Price</th>\n",
       "      <th>Levy</th>\n",
       "      <th>Manufacturer</th>\n",
       "      <th>Model</th>\n",
       "      <th>Prod. year</th>\n",
       "      <th>Category</th>\n",
       "      <th>Leather interior</th>\n",
       "      <th>Fuel type</th>\n",
       "      <th>Engine volume</th>\n",
       "      <th>Mileage</th>\n",
       "      <th>Cylinders</th>\n",
       "      <th>Gear box type</th>\n",
       "      <th>Drive wheels</th>\n",
       "      <th>Doors</th>\n",
       "      <th>Wheel</th>\n",
       "      <th>Color</th>\n",
       "      <th>Airbags</th>\n",
       "    </tr>\n",
       "  </thead>\n",
       "  <tbody>\n",
       "    <tr>\n",
       "      <th>0</th>\n",
       "      <td>45654403</td>\n",
       "      <td>13328</td>\n",
       "      <td>1399.0</td>\n",
       "      <td>LEXUS</td>\n",
       "      <td>RX 450</td>\n",
       "      <td>2010</td>\n",
       "      <td>Jeep</td>\n",
       "      <td>Yes</td>\n",
       "      <td>Hybrid</td>\n",
       "      <td>3.5</td>\n",
       "      <td>186005.0</td>\n",
       "      <td>6.0</td>\n",
       "      <td>Automatic</td>\n",
       "      <td>4x4</td>\n",
       "      <td>04-May</td>\n",
       "      <td>Left wheel</td>\n",
       "      <td>Silver</td>\n",
       "      <td>12</td>\n",
       "    </tr>\n",
       "    <tr>\n",
       "      <th>1</th>\n",
       "      <td>44731507</td>\n",
       "      <td>16621</td>\n",
       "      <td>1018.0</td>\n",
       "      <td>CHEVROLET</td>\n",
       "      <td>Equinox</td>\n",
       "      <td>2011</td>\n",
       "      <td>Jeep</td>\n",
       "      <td>No</td>\n",
       "      <td>Petrol</td>\n",
       "      <td>3.0</td>\n",
       "      <td>192000.0</td>\n",
       "      <td>6.0</td>\n",
       "      <td>Tiptronic</td>\n",
       "      <td>4x4</td>\n",
       "      <td>04-May</td>\n",
       "      <td>Left wheel</td>\n",
       "      <td>Black</td>\n",
       "      <td>8</td>\n",
       "    </tr>\n",
       "    <tr>\n",
       "      <th>2</th>\n",
       "      <td>45774419</td>\n",
       "      <td>8467</td>\n",
       "      <td>NaN</td>\n",
       "      <td>HONDA</td>\n",
       "      <td>FIT</td>\n",
       "      <td>2006</td>\n",
       "      <td>Hatchback</td>\n",
       "      <td>No</td>\n",
       "      <td>Petrol</td>\n",
       "      <td>1.3</td>\n",
       "      <td>200000.0</td>\n",
       "      <td>4.0</td>\n",
       "      <td>Variator</td>\n",
       "      <td>Front</td>\n",
       "      <td>04-May</td>\n",
       "      <td>Right-hand drive</td>\n",
       "      <td>Black</td>\n",
       "      <td>2</td>\n",
       "    </tr>\n",
       "    <tr>\n",
       "      <th>3</th>\n",
       "      <td>45769185</td>\n",
       "      <td>3607</td>\n",
       "      <td>862.0</td>\n",
       "      <td>FORD</td>\n",
       "      <td>Escape</td>\n",
       "      <td>2011</td>\n",
       "      <td>Jeep</td>\n",
       "      <td>Yes</td>\n",
       "      <td>Hybrid</td>\n",
       "      <td>2.5</td>\n",
       "      <td>168966.0</td>\n",
       "      <td>4.0</td>\n",
       "      <td>Automatic</td>\n",
       "      <td>4x4</td>\n",
       "      <td>04-May</td>\n",
       "      <td>Left wheel</td>\n",
       "      <td>White</td>\n",
       "      <td>0</td>\n",
       "    </tr>\n",
       "    <tr>\n",
       "      <th>4</th>\n",
       "      <td>45809263</td>\n",
       "      <td>11726</td>\n",
       "      <td>446.0</td>\n",
       "      <td>HONDA</td>\n",
       "      <td>FIT</td>\n",
       "      <td>2014</td>\n",
       "      <td>Hatchback</td>\n",
       "      <td>Yes</td>\n",
       "      <td>Petrol</td>\n",
       "      <td>1.3</td>\n",
       "      <td>91901.0</td>\n",
       "      <td>4.0</td>\n",
       "      <td>Automatic</td>\n",
       "      <td>Front</td>\n",
       "      <td>04-May</td>\n",
       "      <td>Left wheel</td>\n",
       "      <td>Silver</td>\n",
       "      <td>4</td>\n",
       "    </tr>\n",
       "    <tr>\n",
       "      <th>...</th>\n",
       "      <td>...</td>\n",
       "      <td>...</td>\n",
       "      <td>...</td>\n",
       "      <td>...</td>\n",
       "      <td>...</td>\n",
       "      <td>...</td>\n",
       "      <td>...</td>\n",
       "      <td>...</td>\n",
       "      <td>...</td>\n",
       "      <td>...</td>\n",
       "      <td>...</td>\n",
       "      <td>...</td>\n",
       "      <td>...</td>\n",
       "      <td>...</td>\n",
       "      <td>...</td>\n",
       "      <td>...</td>\n",
       "      <td>...</td>\n",
       "      <td>...</td>\n",
       "    </tr>\n",
       "    <tr>\n",
       "      <th>18962</th>\n",
       "      <td>45798355</td>\n",
       "      <td>8467</td>\n",
       "      <td>NaN</td>\n",
       "      <td>MERCEDES-BENZ</td>\n",
       "      <td>CLK 200</td>\n",
       "      <td>1999</td>\n",
       "      <td>Coupe</td>\n",
       "      <td>Yes</td>\n",
       "      <td>CNG</td>\n",
       "      <td>2.0</td>\n",
       "      <td>300000.0</td>\n",
       "      <td>4.0</td>\n",
       "      <td>Manual</td>\n",
       "      <td>Rear</td>\n",
       "      <td>02-Mar</td>\n",
       "      <td>Left wheel</td>\n",
       "      <td>Silver</td>\n",
       "      <td>5</td>\n",
       "    </tr>\n",
       "    <tr>\n",
       "      <th>18963</th>\n",
       "      <td>45778856</td>\n",
       "      <td>15681</td>\n",
       "      <td>831.0</td>\n",
       "      <td>HYUNDAI</td>\n",
       "      <td>Sonata</td>\n",
       "      <td>2011</td>\n",
       "      <td>Sedan</td>\n",
       "      <td>Yes</td>\n",
       "      <td>Petrol</td>\n",
       "      <td>2.4</td>\n",
       "      <td>161600.0</td>\n",
       "      <td>4.0</td>\n",
       "      <td>Tiptronic</td>\n",
       "      <td>Front</td>\n",
       "      <td>04-May</td>\n",
       "      <td>Left wheel</td>\n",
       "      <td>Red</td>\n",
       "      <td>8</td>\n",
       "    </tr>\n",
       "    <tr>\n",
       "      <th>18964</th>\n",
       "      <td>45804997</td>\n",
       "      <td>26108</td>\n",
       "      <td>836.0</td>\n",
       "      <td>HYUNDAI</td>\n",
       "      <td>Tucson</td>\n",
       "      <td>2010</td>\n",
       "      <td>Jeep</td>\n",
       "      <td>Yes</td>\n",
       "      <td>Diesel</td>\n",
       "      <td>2.0</td>\n",
       "      <td>116365.0</td>\n",
       "      <td>4.0</td>\n",
       "      <td>Automatic</td>\n",
       "      <td>Front</td>\n",
       "      <td>04-May</td>\n",
       "      <td>Left wheel</td>\n",
       "      <td>Grey</td>\n",
       "      <td>4</td>\n",
       "    </tr>\n",
       "    <tr>\n",
       "      <th>18965</th>\n",
       "      <td>45793526</td>\n",
       "      <td>5331</td>\n",
       "      <td>1288.0</td>\n",
       "      <td>CHEVROLET</td>\n",
       "      <td>Captiva</td>\n",
       "      <td>2007</td>\n",
       "      <td>Jeep</td>\n",
       "      <td>Yes</td>\n",
       "      <td>Diesel</td>\n",
       "      <td>2.0</td>\n",
       "      <td>51258.0</td>\n",
       "      <td>4.0</td>\n",
       "      <td>Automatic</td>\n",
       "      <td>Front</td>\n",
       "      <td>04-May</td>\n",
       "      <td>Left wheel</td>\n",
       "      <td>Black</td>\n",
       "      <td>4</td>\n",
       "    </tr>\n",
       "    <tr>\n",
       "      <th>18966</th>\n",
       "      <td>45813273</td>\n",
       "      <td>470</td>\n",
       "      <td>753.0</td>\n",
       "      <td>HYUNDAI</td>\n",
       "      <td>Sonata</td>\n",
       "      <td>2012</td>\n",
       "      <td>Sedan</td>\n",
       "      <td>Yes</td>\n",
       "      <td>Hybrid</td>\n",
       "      <td>2.4</td>\n",
       "      <td>186923.0</td>\n",
       "      <td>4.0</td>\n",
       "      <td>Automatic</td>\n",
       "      <td>Front</td>\n",
       "      <td>04-May</td>\n",
       "      <td>Left wheel</td>\n",
       "      <td>White</td>\n",
       "      <td>12</td>\n",
       "    </tr>\n",
       "  </tbody>\n",
       "</table>\n",
       "<p>18967 rows × 18 columns</p>\n",
       "</div>"
      ],
      "text/plain": [
       "             ID  Price    Levy   Manufacturer    Model  Prod. year   Category  \\\n",
       "0      45654403  13328  1399.0          LEXUS   RX 450        2010       Jeep   \n",
       "1      44731507  16621  1018.0      CHEVROLET  Equinox        2011       Jeep   \n",
       "2      45774419   8467     NaN          HONDA      FIT        2006  Hatchback   \n",
       "3      45769185   3607   862.0           FORD   Escape        2011       Jeep   \n",
       "4      45809263  11726   446.0          HONDA      FIT        2014  Hatchback   \n",
       "...         ...    ...     ...            ...      ...         ...        ...   \n",
       "18962  45798355   8467     NaN  MERCEDES-BENZ  CLK 200        1999      Coupe   \n",
       "18963  45778856  15681   831.0        HYUNDAI   Sonata        2011      Sedan   \n",
       "18964  45804997  26108   836.0        HYUNDAI   Tucson        2010       Jeep   \n",
       "18965  45793526   5331  1288.0      CHEVROLET  Captiva        2007       Jeep   \n",
       "18966  45813273    470   753.0        HYUNDAI   Sonata        2012      Sedan   \n",
       "\n",
       "      Leather interior Fuel type  Engine volume   Mileage  Cylinders  \\\n",
       "0                  Yes    Hybrid            3.5  186005.0        6.0   \n",
       "1                   No    Petrol            3.0  192000.0        6.0   \n",
       "2                   No    Petrol            1.3  200000.0        4.0   \n",
       "3                  Yes    Hybrid            2.5  168966.0        4.0   \n",
       "4                  Yes    Petrol            1.3   91901.0        4.0   \n",
       "...                ...       ...            ...       ...        ...   \n",
       "18962              Yes       CNG            2.0  300000.0        4.0   \n",
       "18963              Yes    Petrol            2.4  161600.0        4.0   \n",
       "18964              Yes    Diesel            2.0  116365.0        4.0   \n",
       "18965              Yes    Diesel            2.0   51258.0        4.0   \n",
       "18966              Yes    Hybrid            2.4  186923.0        4.0   \n",
       "\n",
       "      Gear box type Drive wheels   Doors             Wheel   Color  Airbags  \n",
       "0         Automatic          4x4  04-May        Left wheel  Silver       12  \n",
       "1         Tiptronic          4x4  04-May        Left wheel   Black        8  \n",
       "2          Variator        Front  04-May  Right-hand drive   Black        2  \n",
       "3         Automatic          4x4  04-May        Left wheel   White        0  \n",
       "4         Automatic        Front  04-May        Left wheel  Silver        4  \n",
       "...             ...          ...     ...               ...     ...      ...  \n",
       "18962        Manual         Rear  02-Mar        Left wheel  Silver        5  \n",
       "18963     Tiptronic        Front  04-May        Left wheel     Red        8  \n",
       "18964     Automatic        Front  04-May        Left wheel    Grey        4  \n",
       "18965     Automatic        Front  04-May        Left wheel   Black        4  \n",
       "18966     Automatic        Front  04-May        Left wheel   White       12  \n",
       "\n",
       "[18967 rows x 18 columns]"
      ]
     },
     "execution_count": 61,
     "metadata": {},
     "output_type": "execute_result"
    }
   ],
   "source": [
    "### Lets look at the new dataset\n",
    "\n",
    "dataset"
   ]
  },
  {
   "cell_type": "markdown",
   "id": "efe060df",
   "metadata": {},
   "source": [
    "#### 4.2 Drop and fill missing values"
   ]
  },
  {
   "cell_type": "markdown",
   "id": "46e62882",
   "metadata": {},
   "source": [
    "Here in the dataset, only the column - Levy has missing values. We will focus on replacing those missing values."
   ]
  },
  {
   "cell_type": "markdown",
   "id": "77ef5782",
   "metadata": {},
   "source": [
    "##### 4.2.1 Handling missing values - Levy"
   ]
  },
  {
   "cell_type": "code",
   "execution_count": 62,
   "id": "0bf01d19",
   "metadata": {},
   "outputs": [
    {
     "data": {
      "text/plain": [
       "781.0"
      ]
     },
     "execution_count": 62,
     "metadata": {},
     "output_type": "execute_result"
    }
   ],
   "source": [
    "### Replacing the missing values in the column - Levy using median\n",
    "\n",
    "levy_index = list(~dataset['Levy'].isnull())\n",
    "median_levy = np.median(dataset['Levy'].loc[levy_index])\n",
    "median_levy"
   ]
  },
  {
   "cell_type": "code",
   "execution_count": 63,
   "id": "4628a31f",
   "metadata": {},
   "outputs": [],
   "source": [
    "### Replacing the missing values of the column - Levy in the dataset\n",
    "\n",
    "dataset['Levy'].fillna(median_levy, inplace = True)"
   ]
  },
  {
   "cell_type": "code",
   "execution_count": 64,
   "id": "9b393e58",
   "metadata": {},
   "outputs": [
    {
     "data": {
      "text/plain": [
       "0"
      ]
     },
     "execution_count": 64,
     "metadata": {},
     "output_type": "execute_result"
    }
   ],
   "source": [
    "### Checking if there are any missing values of Levy in the dataset\n",
    "\n",
    "dataset['Levy'].isnull().sum()"
   ]
  },
  {
   "cell_type": "markdown",
   "id": "3c751128",
   "metadata": {},
   "source": [
    "##### 4.2.2 Dropping unnecessary columns"
   ]
  },
  {
   "cell_type": "markdown",
   "id": "1ac4da09",
   "metadata": {},
   "source": [
    "Here, we will drop the columns - ID, Model, Leather interior, Drive wheels, Color from the dataset."
   ]
  },
  {
   "cell_type": "code",
   "execution_count": 65,
   "id": "f32a0d27",
   "metadata": {},
   "outputs": [
    {
     "data": {
      "text/html": [
       "<div>\n",
       "<style scoped>\n",
       "    .dataframe tbody tr th:only-of-type {\n",
       "        vertical-align: middle;\n",
       "    }\n",
       "\n",
       "    .dataframe tbody tr th {\n",
       "        vertical-align: top;\n",
       "    }\n",
       "\n",
       "    .dataframe thead th {\n",
       "        text-align: right;\n",
       "    }\n",
       "</style>\n",
       "<table border=\"1\" class=\"dataframe\">\n",
       "  <thead>\n",
       "    <tr style=\"text-align: right;\">\n",
       "      <th></th>\n",
       "      <th>Price</th>\n",
       "      <th>Levy</th>\n",
       "      <th>Prod. year</th>\n",
       "      <th>Category</th>\n",
       "      <th>Fuel type</th>\n",
       "      <th>Engine volume</th>\n",
       "      <th>Mileage</th>\n",
       "      <th>Cylinders</th>\n",
       "      <th>Gear box type</th>\n",
       "      <th>Doors</th>\n",
       "      <th>Wheel</th>\n",
       "      <th>Airbags</th>\n",
       "    </tr>\n",
       "  </thead>\n",
       "  <tbody>\n",
       "    <tr>\n",
       "      <th>0</th>\n",
       "      <td>13328</td>\n",
       "      <td>1399.0</td>\n",
       "      <td>2010</td>\n",
       "      <td>Jeep</td>\n",
       "      <td>Hybrid</td>\n",
       "      <td>3.5</td>\n",
       "      <td>186005.0</td>\n",
       "      <td>6.0</td>\n",
       "      <td>Automatic</td>\n",
       "      <td>04-May</td>\n",
       "      <td>Left wheel</td>\n",
       "      <td>12</td>\n",
       "    </tr>\n",
       "    <tr>\n",
       "      <th>1</th>\n",
       "      <td>16621</td>\n",
       "      <td>1018.0</td>\n",
       "      <td>2011</td>\n",
       "      <td>Jeep</td>\n",
       "      <td>Petrol</td>\n",
       "      <td>3.0</td>\n",
       "      <td>192000.0</td>\n",
       "      <td>6.0</td>\n",
       "      <td>Tiptronic</td>\n",
       "      <td>04-May</td>\n",
       "      <td>Left wheel</td>\n",
       "      <td>8</td>\n",
       "    </tr>\n",
       "    <tr>\n",
       "      <th>2</th>\n",
       "      <td>8467</td>\n",
       "      <td>781.0</td>\n",
       "      <td>2006</td>\n",
       "      <td>Hatchback</td>\n",
       "      <td>Petrol</td>\n",
       "      <td>1.3</td>\n",
       "      <td>200000.0</td>\n",
       "      <td>4.0</td>\n",
       "      <td>Variator</td>\n",
       "      <td>04-May</td>\n",
       "      <td>Right-hand drive</td>\n",
       "      <td>2</td>\n",
       "    </tr>\n",
       "    <tr>\n",
       "      <th>3</th>\n",
       "      <td>3607</td>\n",
       "      <td>862.0</td>\n",
       "      <td>2011</td>\n",
       "      <td>Jeep</td>\n",
       "      <td>Hybrid</td>\n",
       "      <td>2.5</td>\n",
       "      <td>168966.0</td>\n",
       "      <td>4.0</td>\n",
       "      <td>Automatic</td>\n",
       "      <td>04-May</td>\n",
       "      <td>Left wheel</td>\n",
       "      <td>0</td>\n",
       "    </tr>\n",
       "    <tr>\n",
       "      <th>4</th>\n",
       "      <td>11726</td>\n",
       "      <td>446.0</td>\n",
       "      <td>2014</td>\n",
       "      <td>Hatchback</td>\n",
       "      <td>Petrol</td>\n",
       "      <td>1.3</td>\n",
       "      <td>91901.0</td>\n",
       "      <td>4.0</td>\n",
       "      <td>Automatic</td>\n",
       "      <td>04-May</td>\n",
       "      <td>Left wheel</td>\n",
       "      <td>4</td>\n",
       "    </tr>\n",
       "    <tr>\n",
       "      <th>...</th>\n",
       "      <td>...</td>\n",
       "      <td>...</td>\n",
       "      <td>...</td>\n",
       "      <td>...</td>\n",
       "      <td>...</td>\n",
       "      <td>...</td>\n",
       "      <td>...</td>\n",
       "      <td>...</td>\n",
       "      <td>...</td>\n",
       "      <td>...</td>\n",
       "      <td>...</td>\n",
       "      <td>...</td>\n",
       "    </tr>\n",
       "    <tr>\n",
       "      <th>18962</th>\n",
       "      <td>8467</td>\n",
       "      <td>781.0</td>\n",
       "      <td>1999</td>\n",
       "      <td>Coupe</td>\n",
       "      <td>CNG</td>\n",
       "      <td>2.0</td>\n",
       "      <td>300000.0</td>\n",
       "      <td>4.0</td>\n",
       "      <td>Manual</td>\n",
       "      <td>02-Mar</td>\n",
       "      <td>Left wheel</td>\n",
       "      <td>5</td>\n",
       "    </tr>\n",
       "    <tr>\n",
       "      <th>18963</th>\n",
       "      <td>15681</td>\n",
       "      <td>831.0</td>\n",
       "      <td>2011</td>\n",
       "      <td>Sedan</td>\n",
       "      <td>Petrol</td>\n",
       "      <td>2.4</td>\n",
       "      <td>161600.0</td>\n",
       "      <td>4.0</td>\n",
       "      <td>Tiptronic</td>\n",
       "      <td>04-May</td>\n",
       "      <td>Left wheel</td>\n",
       "      <td>8</td>\n",
       "    </tr>\n",
       "    <tr>\n",
       "      <th>18964</th>\n",
       "      <td>26108</td>\n",
       "      <td>836.0</td>\n",
       "      <td>2010</td>\n",
       "      <td>Jeep</td>\n",
       "      <td>Diesel</td>\n",
       "      <td>2.0</td>\n",
       "      <td>116365.0</td>\n",
       "      <td>4.0</td>\n",
       "      <td>Automatic</td>\n",
       "      <td>04-May</td>\n",
       "      <td>Left wheel</td>\n",
       "      <td>4</td>\n",
       "    </tr>\n",
       "    <tr>\n",
       "      <th>18965</th>\n",
       "      <td>5331</td>\n",
       "      <td>1288.0</td>\n",
       "      <td>2007</td>\n",
       "      <td>Jeep</td>\n",
       "      <td>Diesel</td>\n",
       "      <td>2.0</td>\n",
       "      <td>51258.0</td>\n",
       "      <td>4.0</td>\n",
       "      <td>Automatic</td>\n",
       "      <td>04-May</td>\n",
       "      <td>Left wheel</td>\n",
       "      <td>4</td>\n",
       "    </tr>\n",
       "    <tr>\n",
       "      <th>18966</th>\n",
       "      <td>470</td>\n",
       "      <td>753.0</td>\n",
       "      <td>2012</td>\n",
       "      <td>Sedan</td>\n",
       "      <td>Hybrid</td>\n",
       "      <td>2.4</td>\n",
       "      <td>186923.0</td>\n",
       "      <td>4.0</td>\n",
       "      <td>Automatic</td>\n",
       "      <td>04-May</td>\n",
       "      <td>Left wheel</td>\n",
       "      <td>12</td>\n",
       "    </tr>\n",
       "  </tbody>\n",
       "</table>\n",
       "<p>18967 rows × 12 columns</p>\n",
       "</div>"
      ],
      "text/plain": [
       "       Price    Levy  Prod. year   Category Fuel type  Engine volume  \\\n",
       "0      13328  1399.0        2010       Jeep    Hybrid            3.5   \n",
       "1      16621  1018.0        2011       Jeep    Petrol            3.0   \n",
       "2       8467   781.0        2006  Hatchback    Petrol            1.3   \n",
       "3       3607   862.0        2011       Jeep    Hybrid            2.5   \n",
       "4      11726   446.0        2014  Hatchback    Petrol            1.3   \n",
       "...      ...     ...         ...        ...       ...            ...   \n",
       "18962   8467   781.0        1999      Coupe       CNG            2.0   \n",
       "18963  15681   831.0        2011      Sedan    Petrol            2.4   \n",
       "18964  26108   836.0        2010       Jeep    Diesel            2.0   \n",
       "18965   5331  1288.0        2007       Jeep    Diesel            2.0   \n",
       "18966    470   753.0        2012      Sedan    Hybrid            2.4   \n",
       "\n",
       "        Mileage  Cylinders Gear box type   Doors             Wheel  Airbags  \n",
       "0      186005.0        6.0     Automatic  04-May        Left wheel       12  \n",
       "1      192000.0        6.0     Tiptronic  04-May        Left wheel        8  \n",
       "2      200000.0        4.0      Variator  04-May  Right-hand drive        2  \n",
       "3      168966.0        4.0     Automatic  04-May        Left wheel        0  \n",
       "4       91901.0        4.0     Automatic  04-May        Left wheel        4  \n",
       "...         ...        ...           ...     ...               ...      ...  \n",
       "18962  300000.0        4.0        Manual  02-Mar        Left wheel        5  \n",
       "18963  161600.0        4.0     Tiptronic  04-May        Left wheel        8  \n",
       "18964  116365.0        4.0     Automatic  04-May        Left wheel        4  \n",
       "18965   51258.0        4.0     Automatic  04-May        Left wheel        4  \n",
       "18966  186923.0        4.0     Automatic  04-May        Left wheel       12  \n",
       "\n",
       "[18967 rows x 12 columns]"
      ]
     },
     "execution_count": 65,
     "metadata": {},
     "output_type": "execute_result"
    }
   ],
   "source": [
    "### Dropping the columns - ID, Manufacturer, Model, Leather interior, Drive wheels, Color\n",
    "\n",
    "dataset.drop(['ID', 'Manufacturer', 'Model', 'Leather interior', 'Drive wheels', 'Color'], axis = 1, inplace = True)\n",
    "dataset"
   ]
  },
  {
   "cell_type": "markdown",
   "id": "046b29ec",
   "metadata": {},
   "source": [
    "#### 4.3 Feature Engineering"
   ]
  },
  {
   "cell_type": "markdown",
   "id": "db1c37ef",
   "metadata": {},
   "source": [
    "Feature engineering is arguably the most important art in machine learning. It is the process of creating new features from existing features to better represent the underlying problem to the predictive models resulting in improved model accuracy on unseen data.\n",
    "\n",
    "Here, we focus on creating new columns for:\n",
    "\n",
    "1. NewCategory - using the column Category\n",
    "2. NewFuelType - using the column Fuel type\n",
    "3. NewGearbox - using the column Gear box\n",
    "4. NewDoors - using the column Doors\n",
    "5. Age - using the column Prod. year"
   ]
  },
  {
   "cell_type": "markdown",
   "id": "0a0f6fda",
   "metadata": {},
   "source": [
    "##### 4.3.1 NewCategory - using the column Category"
   ]
  },
  {
   "cell_type": "markdown",
   "id": "c67767d8",
   "metadata": {},
   "source": [
    "Here, we will create the NewCategory column such that if the mean price of a category is less than 20000 then it belongs to class 1, else class 2."
   ]
  },
  {
   "cell_type": "code",
   "execution_count": 66,
   "id": "f1e9a275",
   "metadata": {},
   "outputs": [
    {
     "name": "stdout",
     "output_type": "stream",
     "text": [
      "Categories with less than 20000 mean price:  ['Hatchback', 'Limousine', 'Microbus', 'Sedan']\n",
      "Categories with more than 20000 mean price:  ['Cabriolet', 'Coupe', 'Goods wagon', 'Jeep', 'Minivan', 'Pickup', 'Universal']\n"
     ]
    }
   ],
   "source": [
    "### Seperating the categories into class 1 and 2\n",
    "\n",
    "class_1 = []\n",
    "class_2 = []\n",
    "\n",
    "for index in range(len(mean_price_category)):\n",
    "    if mean_price_category.iloc[index, 1] <= 20000:\n",
    "        class_1.append(mean_price_category.iloc[index, 0])\n",
    "    else:\n",
    "        class_2.append(mean_price_category.iloc[index, 0])\n",
    "        \n",
    "print('Categories with less than 20000 mean price: ', class_1)\n",
    "print('Categories with more than 20000 mean price: ', class_2)"
   ]
  },
  {
   "cell_type": "code",
   "execution_count": 67,
   "id": "c01f616e",
   "metadata": {},
   "outputs": [],
   "source": [
    "### Modifying the Category column in the dataset\n",
    "\n",
    "category_data = dataset['Category']\n",
    "new_category_data = []\n",
    "\n",
    "for value in category_data:\n",
    "    if value in class_1:\n",
    "        new_category_data.append(1)\n",
    "    else:\n",
    "        new_category_data.append(2)\n",
    "        \n",
    "dataset['Category'] = new_category_data"
   ]
  },
  {
   "cell_type": "code",
   "execution_count": 68,
   "id": "56b443fc",
   "metadata": {},
   "outputs": [
    {
     "data": {
      "text/html": [
       "<div>\n",
       "<style scoped>\n",
       "    .dataframe tbody tr th:only-of-type {\n",
       "        vertical-align: middle;\n",
       "    }\n",
       "\n",
       "    .dataframe tbody tr th {\n",
       "        vertical-align: top;\n",
       "    }\n",
       "\n",
       "    .dataframe thead th {\n",
       "        text-align: right;\n",
       "    }\n",
       "</style>\n",
       "<table border=\"1\" class=\"dataframe\">\n",
       "  <thead>\n",
       "    <tr style=\"text-align: right;\">\n",
       "      <th></th>\n",
       "      <th>Price</th>\n",
       "      <th>Levy</th>\n",
       "      <th>Prod. year</th>\n",
       "      <th>Category</th>\n",
       "      <th>Fuel type</th>\n",
       "      <th>Engine volume</th>\n",
       "      <th>Mileage</th>\n",
       "      <th>Cylinders</th>\n",
       "      <th>Gear box type</th>\n",
       "      <th>Doors</th>\n",
       "      <th>Wheel</th>\n",
       "      <th>Airbags</th>\n",
       "    </tr>\n",
       "  </thead>\n",
       "  <tbody>\n",
       "    <tr>\n",
       "      <th>0</th>\n",
       "      <td>13328</td>\n",
       "      <td>1399.0</td>\n",
       "      <td>2010</td>\n",
       "      <td>2</td>\n",
       "      <td>Hybrid</td>\n",
       "      <td>3.5</td>\n",
       "      <td>186005.0</td>\n",
       "      <td>6.0</td>\n",
       "      <td>Automatic</td>\n",
       "      <td>04-May</td>\n",
       "      <td>Left wheel</td>\n",
       "      <td>12</td>\n",
       "    </tr>\n",
       "    <tr>\n",
       "      <th>1</th>\n",
       "      <td>16621</td>\n",
       "      <td>1018.0</td>\n",
       "      <td>2011</td>\n",
       "      <td>2</td>\n",
       "      <td>Petrol</td>\n",
       "      <td>3.0</td>\n",
       "      <td>192000.0</td>\n",
       "      <td>6.0</td>\n",
       "      <td>Tiptronic</td>\n",
       "      <td>04-May</td>\n",
       "      <td>Left wheel</td>\n",
       "      <td>8</td>\n",
       "    </tr>\n",
       "    <tr>\n",
       "      <th>2</th>\n",
       "      <td>8467</td>\n",
       "      <td>781.0</td>\n",
       "      <td>2006</td>\n",
       "      <td>1</td>\n",
       "      <td>Petrol</td>\n",
       "      <td>1.3</td>\n",
       "      <td>200000.0</td>\n",
       "      <td>4.0</td>\n",
       "      <td>Variator</td>\n",
       "      <td>04-May</td>\n",
       "      <td>Right-hand drive</td>\n",
       "      <td>2</td>\n",
       "    </tr>\n",
       "    <tr>\n",
       "      <th>3</th>\n",
       "      <td>3607</td>\n",
       "      <td>862.0</td>\n",
       "      <td>2011</td>\n",
       "      <td>2</td>\n",
       "      <td>Hybrid</td>\n",
       "      <td>2.5</td>\n",
       "      <td>168966.0</td>\n",
       "      <td>4.0</td>\n",
       "      <td>Automatic</td>\n",
       "      <td>04-May</td>\n",
       "      <td>Left wheel</td>\n",
       "      <td>0</td>\n",
       "    </tr>\n",
       "    <tr>\n",
       "      <th>4</th>\n",
       "      <td>11726</td>\n",
       "      <td>446.0</td>\n",
       "      <td>2014</td>\n",
       "      <td>1</td>\n",
       "      <td>Petrol</td>\n",
       "      <td>1.3</td>\n",
       "      <td>91901.0</td>\n",
       "      <td>4.0</td>\n",
       "      <td>Automatic</td>\n",
       "      <td>04-May</td>\n",
       "      <td>Left wheel</td>\n",
       "      <td>4</td>\n",
       "    </tr>\n",
       "    <tr>\n",
       "      <th>...</th>\n",
       "      <td>...</td>\n",
       "      <td>...</td>\n",
       "      <td>...</td>\n",
       "      <td>...</td>\n",
       "      <td>...</td>\n",
       "      <td>...</td>\n",
       "      <td>...</td>\n",
       "      <td>...</td>\n",
       "      <td>...</td>\n",
       "      <td>...</td>\n",
       "      <td>...</td>\n",
       "      <td>...</td>\n",
       "    </tr>\n",
       "    <tr>\n",
       "      <th>18962</th>\n",
       "      <td>8467</td>\n",
       "      <td>781.0</td>\n",
       "      <td>1999</td>\n",
       "      <td>2</td>\n",
       "      <td>CNG</td>\n",
       "      <td>2.0</td>\n",
       "      <td>300000.0</td>\n",
       "      <td>4.0</td>\n",
       "      <td>Manual</td>\n",
       "      <td>02-Mar</td>\n",
       "      <td>Left wheel</td>\n",
       "      <td>5</td>\n",
       "    </tr>\n",
       "    <tr>\n",
       "      <th>18963</th>\n",
       "      <td>15681</td>\n",
       "      <td>831.0</td>\n",
       "      <td>2011</td>\n",
       "      <td>1</td>\n",
       "      <td>Petrol</td>\n",
       "      <td>2.4</td>\n",
       "      <td>161600.0</td>\n",
       "      <td>4.0</td>\n",
       "      <td>Tiptronic</td>\n",
       "      <td>04-May</td>\n",
       "      <td>Left wheel</td>\n",
       "      <td>8</td>\n",
       "    </tr>\n",
       "    <tr>\n",
       "      <th>18964</th>\n",
       "      <td>26108</td>\n",
       "      <td>836.0</td>\n",
       "      <td>2010</td>\n",
       "      <td>2</td>\n",
       "      <td>Diesel</td>\n",
       "      <td>2.0</td>\n",
       "      <td>116365.0</td>\n",
       "      <td>4.0</td>\n",
       "      <td>Automatic</td>\n",
       "      <td>04-May</td>\n",
       "      <td>Left wheel</td>\n",
       "      <td>4</td>\n",
       "    </tr>\n",
       "    <tr>\n",
       "      <th>18965</th>\n",
       "      <td>5331</td>\n",
       "      <td>1288.0</td>\n",
       "      <td>2007</td>\n",
       "      <td>2</td>\n",
       "      <td>Diesel</td>\n",
       "      <td>2.0</td>\n",
       "      <td>51258.0</td>\n",
       "      <td>4.0</td>\n",
       "      <td>Automatic</td>\n",
       "      <td>04-May</td>\n",
       "      <td>Left wheel</td>\n",
       "      <td>4</td>\n",
       "    </tr>\n",
       "    <tr>\n",
       "      <th>18966</th>\n",
       "      <td>470</td>\n",
       "      <td>753.0</td>\n",
       "      <td>2012</td>\n",
       "      <td>1</td>\n",
       "      <td>Hybrid</td>\n",
       "      <td>2.4</td>\n",
       "      <td>186923.0</td>\n",
       "      <td>4.0</td>\n",
       "      <td>Automatic</td>\n",
       "      <td>04-May</td>\n",
       "      <td>Left wheel</td>\n",
       "      <td>12</td>\n",
       "    </tr>\n",
       "  </tbody>\n",
       "</table>\n",
       "<p>18967 rows × 12 columns</p>\n",
       "</div>"
      ],
      "text/plain": [
       "       Price    Levy  Prod. year  Category Fuel type  Engine volume   Mileage  \\\n",
       "0      13328  1399.0        2010         2    Hybrid            3.5  186005.0   \n",
       "1      16621  1018.0        2011         2    Petrol            3.0  192000.0   \n",
       "2       8467   781.0        2006         1    Petrol            1.3  200000.0   \n",
       "3       3607   862.0        2011         2    Hybrid            2.5  168966.0   \n",
       "4      11726   446.0        2014         1    Petrol            1.3   91901.0   \n",
       "...      ...     ...         ...       ...       ...            ...       ...   \n",
       "18962   8467   781.0        1999         2       CNG            2.0  300000.0   \n",
       "18963  15681   831.0        2011         1    Petrol            2.4  161600.0   \n",
       "18964  26108   836.0        2010         2    Diesel            2.0  116365.0   \n",
       "18965   5331  1288.0        2007         2    Diesel            2.0   51258.0   \n",
       "18966    470   753.0        2012         1    Hybrid            2.4  186923.0   \n",
       "\n",
       "       Cylinders Gear box type   Doors             Wheel  Airbags  \n",
       "0            6.0     Automatic  04-May        Left wheel       12  \n",
       "1            6.0     Tiptronic  04-May        Left wheel        8  \n",
       "2            4.0      Variator  04-May  Right-hand drive        2  \n",
       "3            4.0     Automatic  04-May        Left wheel        0  \n",
       "4            4.0     Automatic  04-May        Left wheel        4  \n",
       "...          ...           ...     ...               ...      ...  \n",
       "18962        4.0        Manual  02-Mar        Left wheel        5  \n",
       "18963        4.0     Tiptronic  04-May        Left wheel        8  \n",
       "18964        4.0     Automatic  04-May        Left wheel        4  \n",
       "18965        4.0     Automatic  04-May        Left wheel        4  \n",
       "18966        4.0     Automatic  04-May        Left wheel       12  \n",
       "\n",
       "[18967 rows x 12 columns]"
      ]
     },
     "execution_count": 68,
     "metadata": {},
     "output_type": "execute_result"
    }
   ],
   "source": [
    "### Looking at the modified dataset\n",
    "\n",
    "dataset"
   ]
  },
  {
   "cell_type": "markdown",
   "id": "20a80671",
   "metadata": {},
   "source": [
    "##### 4.3.2 NewFuelType - using the column Fuel type"
   ]
  },
  {
   "cell_type": "markdown",
   "id": "742d9fb5",
   "metadata": {},
   "source": [
    "Here, if the fuel type is Hybrid, Hydrogen, Plug-in Hybrid then we rename it to other."
   ]
  },
  {
   "cell_type": "code",
   "execution_count": 69,
   "id": "9c564f07",
   "metadata": {},
   "outputs": [
    {
     "data": {
      "text/plain": [
       "{'CNG', 'Diesel', 'LPG', 'Other', 'Petrol'}"
      ]
     },
     "execution_count": 69,
     "metadata": {},
     "output_type": "execute_result"
    }
   ],
   "source": [
    "### Creating the new fuel type data\n",
    "\n",
    "fuel_type_data = dataset['Fuel type']\n",
    "new_fuel_type_data = []\n",
    "\n",
    "for value in fuel_type_data:\n",
    "    if value in {'Hybrid', 'Hydrogen', 'Plug-in Hybrid'}:\n",
    "        new_fuel_type_data.append('Other')\n",
    "    else:\n",
    "        new_fuel_type_data.append(value)\n",
    "\n",
    "set(new_fuel_type_data)"
   ]
  },
  {
   "cell_type": "code",
   "execution_count": 70,
   "id": "b9c66d1f",
   "metadata": {},
   "outputs": [],
   "source": [
    "### Modifying the Fuel Type column\n",
    "\n",
    "dataset['Fuel type'] = new_fuel_type_data"
   ]
  },
  {
   "cell_type": "code",
   "execution_count": 71,
   "id": "0ea636d6",
   "metadata": {},
   "outputs": [
    {
     "data": {
      "text/html": [
       "<div>\n",
       "<style scoped>\n",
       "    .dataframe tbody tr th:only-of-type {\n",
       "        vertical-align: middle;\n",
       "    }\n",
       "\n",
       "    .dataframe tbody tr th {\n",
       "        vertical-align: top;\n",
       "    }\n",
       "\n",
       "    .dataframe thead th {\n",
       "        text-align: right;\n",
       "    }\n",
       "</style>\n",
       "<table border=\"1\" class=\"dataframe\">\n",
       "  <thead>\n",
       "    <tr style=\"text-align: right;\">\n",
       "      <th></th>\n",
       "      <th>Price</th>\n",
       "      <th>Levy</th>\n",
       "      <th>Prod. year</th>\n",
       "      <th>Category</th>\n",
       "      <th>Fuel type</th>\n",
       "      <th>Engine volume</th>\n",
       "      <th>Mileage</th>\n",
       "      <th>Cylinders</th>\n",
       "      <th>Gear box type</th>\n",
       "      <th>Doors</th>\n",
       "      <th>Wheel</th>\n",
       "      <th>Airbags</th>\n",
       "    </tr>\n",
       "  </thead>\n",
       "  <tbody>\n",
       "    <tr>\n",
       "      <th>0</th>\n",
       "      <td>13328</td>\n",
       "      <td>1399.0</td>\n",
       "      <td>2010</td>\n",
       "      <td>2</td>\n",
       "      <td>Other</td>\n",
       "      <td>3.5</td>\n",
       "      <td>186005.0</td>\n",
       "      <td>6.0</td>\n",
       "      <td>Automatic</td>\n",
       "      <td>04-May</td>\n",
       "      <td>Left wheel</td>\n",
       "      <td>12</td>\n",
       "    </tr>\n",
       "    <tr>\n",
       "      <th>1</th>\n",
       "      <td>16621</td>\n",
       "      <td>1018.0</td>\n",
       "      <td>2011</td>\n",
       "      <td>2</td>\n",
       "      <td>Petrol</td>\n",
       "      <td>3.0</td>\n",
       "      <td>192000.0</td>\n",
       "      <td>6.0</td>\n",
       "      <td>Tiptronic</td>\n",
       "      <td>04-May</td>\n",
       "      <td>Left wheel</td>\n",
       "      <td>8</td>\n",
       "    </tr>\n",
       "    <tr>\n",
       "      <th>2</th>\n",
       "      <td>8467</td>\n",
       "      <td>781.0</td>\n",
       "      <td>2006</td>\n",
       "      <td>1</td>\n",
       "      <td>Petrol</td>\n",
       "      <td>1.3</td>\n",
       "      <td>200000.0</td>\n",
       "      <td>4.0</td>\n",
       "      <td>Variator</td>\n",
       "      <td>04-May</td>\n",
       "      <td>Right-hand drive</td>\n",
       "      <td>2</td>\n",
       "    </tr>\n",
       "    <tr>\n",
       "      <th>3</th>\n",
       "      <td>3607</td>\n",
       "      <td>862.0</td>\n",
       "      <td>2011</td>\n",
       "      <td>2</td>\n",
       "      <td>Other</td>\n",
       "      <td>2.5</td>\n",
       "      <td>168966.0</td>\n",
       "      <td>4.0</td>\n",
       "      <td>Automatic</td>\n",
       "      <td>04-May</td>\n",
       "      <td>Left wheel</td>\n",
       "      <td>0</td>\n",
       "    </tr>\n",
       "    <tr>\n",
       "      <th>4</th>\n",
       "      <td>11726</td>\n",
       "      <td>446.0</td>\n",
       "      <td>2014</td>\n",
       "      <td>1</td>\n",
       "      <td>Petrol</td>\n",
       "      <td>1.3</td>\n",
       "      <td>91901.0</td>\n",
       "      <td>4.0</td>\n",
       "      <td>Automatic</td>\n",
       "      <td>04-May</td>\n",
       "      <td>Left wheel</td>\n",
       "      <td>4</td>\n",
       "    </tr>\n",
       "    <tr>\n",
       "      <th>...</th>\n",
       "      <td>...</td>\n",
       "      <td>...</td>\n",
       "      <td>...</td>\n",
       "      <td>...</td>\n",
       "      <td>...</td>\n",
       "      <td>...</td>\n",
       "      <td>...</td>\n",
       "      <td>...</td>\n",
       "      <td>...</td>\n",
       "      <td>...</td>\n",
       "      <td>...</td>\n",
       "      <td>...</td>\n",
       "    </tr>\n",
       "    <tr>\n",
       "      <th>18962</th>\n",
       "      <td>8467</td>\n",
       "      <td>781.0</td>\n",
       "      <td>1999</td>\n",
       "      <td>2</td>\n",
       "      <td>CNG</td>\n",
       "      <td>2.0</td>\n",
       "      <td>300000.0</td>\n",
       "      <td>4.0</td>\n",
       "      <td>Manual</td>\n",
       "      <td>02-Mar</td>\n",
       "      <td>Left wheel</td>\n",
       "      <td>5</td>\n",
       "    </tr>\n",
       "    <tr>\n",
       "      <th>18963</th>\n",
       "      <td>15681</td>\n",
       "      <td>831.0</td>\n",
       "      <td>2011</td>\n",
       "      <td>1</td>\n",
       "      <td>Petrol</td>\n",
       "      <td>2.4</td>\n",
       "      <td>161600.0</td>\n",
       "      <td>4.0</td>\n",
       "      <td>Tiptronic</td>\n",
       "      <td>04-May</td>\n",
       "      <td>Left wheel</td>\n",
       "      <td>8</td>\n",
       "    </tr>\n",
       "    <tr>\n",
       "      <th>18964</th>\n",
       "      <td>26108</td>\n",
       "      <td>836.0</td>\n",
       "      <td>2010</td>\n",
       "      <td>2</td>\n",
       "      <td>Diesel</td>\n",
       "      <td>2.0</td>\n",
       "      <td>116365.0</td>\n",
       "      <td>4.0</td>\n",
       "      <td>Automatic</td>\n",
       "      <td>04-May</td>\n",
       "      <td>Left wheel</td>\n",
       "      <td>4</td>\n",
       "    </tr>\n",
       "    <tr>\n",
       "      <th>18965</th>\n",
       "      <td>5331</td>\n",
       "      <td>1288.0</td>\n",
       "      <td>2007</td>\n",
       "      <td>2</td>\n",
       "      <td>Diesel</td>\n",
       "      <td>2.0</td>\n",
       "      <td>51258.0</td>\n",
       "      <td>4.0</td>\n",
       "      <td>Automatic</td>\n",
       "      <td>04-May</td>\n",
       "      <td>Left wheel</td>\n",
       "      <td>4</td>\n",
       "    </tr>\n",
       "    <tr>\n",
       "      <th>18966</th>\n",
       "      <td>470</td>\n",
       "      <td>753.0</td>\n",
       "      <td>2012</td>\n",
       "      <td>1</td>\n",
       "      <td>Other</td>\n",
       "      <td>2.4</td>\n",
       "      <td>186923.0</td>\n",
       "      <td>4.0</td>\n",
       "      <td>Automatic</td>\n",
       "      <td>04-May</td>\n",
       "      <td>Left wheel</td>\n",
       "      <td>12</td>\n",
       "    </tr>\n",
       "  </tbody>\n",
       "</table>\n",
       "<p>18967 rows × 12 columns</p>\n",
       "</div>"
      ],
      "text/plain": [
       "       Price    Levy  Prod. year  Category Fuel type  Engine volume   Mileage  \\\n",
       "0      13328  1399.0        2010         2     Other            3.5  186005.0   \n",
       "1      16621  1018.0        2011         2    Petrol            3.0  192000.0   \n",
       "2       8467   781.0        2006         1    Petrol            1.3  200000.0   \n",
       "3       3607   862.0        2011         2     Other            2.5  168966.0   \n",
       "4      11726   446.0        2014         1    Petrol            1.3   91901.0   \n",
       "...      ...     ...         ...       ...       ...            ...       ...   \n",
       "18962   8467   781.0        1999         2       CNG            2.0  300000.0   \n",
       "18963  15681   831.0        2011         1    Petrol            2.4  161600.0   \n",
       "18964  26108   836.0        2010         2    Diesel            2.0  116365.0   \n",
       "18965   5331  1288.0        2007         2    Diesel            2.0   51258.0   \n",
       "18966    470   753.0        2012         1     Other            2.4  186923.0   \n",
       "\n",
       "       Cylinders Gear box type   Doors             Wheel  Airbags  \n",
       "0            6.0     Automatic  04-May        Left wheel       12  \n",
       "1            6.0     Tiptronic  04-May        Left wheel        8  \n",
       "2            4.0      Variator  04-May  Right-hand drive        2  \n",
       "3            4.0     Automatic  04-May        Left wheel        0  \n",
       "4            4.0     Automatic  04-May        Left wheel        4  \n",
       "...          ...           ...     ...               ...      ...  \n",
       "18962        4.0        Manual  02-Mar        Left wheel        5  \n",
       "18963        4.0     Tiptronic  04-May        Left wheel        8  \n",
       "18964        4.0     Automatic  04-May        Left wheel        4  \n",
       "18965        4.0     Automatic  04-May        Left wheel        4  \n",
       "18966        4.0     Automatic  04-May        Left wheel       12  \n",
       "\n",
       "[18967 rows x 12 columns]"
      ]
     },
     "execution_count": 71,
     "metadata": {},
     "output_type": "execute_result"
    }
   ],
   "source": [
    "### Looking at the modified dataset\n",
    "\n",
    "dataset"
   ]
  },
  {
   "cell_type": "markdown",
   "id": "1b90cadd",
   "metadata": {},
   "source": [
    "#### 4.3.3 NewGearbox - using the column Gear box"
   ]
  },
  {
   "cell_type": "markdown",
   "id": "62c971e4",
   "metadata": {},
   "source": [
    "Here, we will divide the column Gear box into 2 classes such that if the Gear box is either Automatic or Variator it belongs to class 1, else it belongs to class 2."
   ]
  },
  {
   "cell_type": "code",
   "execution_count": 72,
   "id": "c8900b4c",
   "metadata": {},
   "outputs": [
    {
     "data": {
      "text/plain": [
       "{1, 2}"
      ]
     },
     "execution_count": 72,
     "metadata": {},
     "output_type": "execute_result"
    }
   ],
   "source": [
    "### Seperating the categories into class 1 and 2\n",
    "\n",
    "gear_box_data = dataset['Gear box type']\n",
    "new_gear_box_data = []\n",
    "\n",
    "for value in gear_box_data:\n",
    "    if value in {'Automatic', 'Variator'}:\n",
    "        new_gear_box_data.append(1)\n",
    "    else:\n",
    "        new_gear_box_data.append(2)\n",
    "\n",
    "set(new_gear_box_data)"
   ]
  },
  {
   "cell_type": "code",
   "execution_count": 73,
   "id": "69adc449",
   "metadata": {},
   "outputs": [],
   "source": [
    "### Modifying the Gear box type column\n",
    "\n",
    "dataset['Gear box type'] = new_gear_box_data"
   ]
  },
  {
   "cell_type": "code",
   "execution_count": 74,
   "id": "75525750",
   "metadata": {},
   "outputs": [
    {
     "data": {
      "text/html": [
       "<div>\n",
       "<style scoped>\n",
       "    .dataframe tbody tr th:only-of-type {\n",
       "        vertical-align: middle;\n",
       "    }\n",
       "\n",
       "    .dataframe tbody tr th {\n",
       "        vertical-align: top;\n",
       "    }\n",
       "\n",
       "    .dataframe thead th {\n",
       "        text-align: right;\n",
       "    }\n",
       "</style>\n",
       "<table border=\"1\" class=\"dataframe\">\n",
       "  <thead>\n",
       "    <tr style=\"text-align: right;\">\n",
       "      <th></th>\n",
       "      <th>Price</th>\n",
       "      <th>Levy</th>\n",
       "      <th>Prod. year</th>\n",
       "      <th>Category</th>\n",
       "      <th>Fuel type</th>\n",
       "      <th>Engine volume</th>\n",
       "      <th>Mileage</th>\n",
       "      <th>Cylinders</th>\n",
       "      <th>Gear box type</th>\n",
       "      <th>Doors</th>\n",
       "      <th>Wheel</th>\n",
       "      <th>Airbags</th>\n",
       "    </tr>\n",
       "  </thead>\n",
       "  <tbody>\n",
       "    <tr>\n",
       "      <th>0</th>\n",
       "      <td>13328</td>\n",
       "      <td>1399.0</td>\n",
       "      <td>2010</td>\n",
       "      <td>2</td>\n",
       "      <td>Other</td>\n",
       "      <td>3.5</td>\n",
       "      <td>186005.0</td>\n",
       "      <td>6.0</td>\n",
       "      <td>1</td>\n",
       "      <td>04-May</td>\n",
       "      <td>Left wheel</td>\n",
       "      <td>12</td>\n",
       "    </tr>\n",
       "    <tr>\n",
       "      <th>1</th>\n",
       "      <td>16621</td>\n",
       "      <td>1018.0</td>\n",
       "      <td>2011</td>\n",
       "      <td>2</td>\n",
       "      <td>Petrol</td>\n",
       "      <td>3.0</td>\n",
       "      <td>192000.0</td>\n",
       "      <td>6.0</td>\n",
       "      <td>2</td>\n",
       "      <td>04-May</td>\n",
       "      <td>Left wheel</td>\n",
       "      <td>8</td>\n",
       "    </tr>\n",
       "    <tr>\n",
       "      <th>2</th>\n",
       "      <td>8467</td>\n",
       "      <td>781.0</td>\n",
       "      <td>2006</td>\n",
       "      <td>1</td>\n",
       "      <td>Petrol</td>\n",
       "      <td>1.3</td>\n",
       "      <td>200000.0</td>\n",
       "      <td>4.0</td>\n",
       "      <td>1</td>\n",
       "      <td>04-May</td>\n",
       "      <td>Right-hand drive</td>\n",
       "      <td>2</td>\n",
       "    </tr>\n",
       "    <tr>\n",
       "      <th>3</th>\n",
       "      <td>3607</td>\n",
       "      <td>862.0</td>\n",
       "      <td>2011</td>\n",
       "      <td>2</td>\n",
       "      <td>Other</td>\n",
       "      <td>2.5</td>\n",
       "      <td>168966.0</td>\n",
       "      <td>4.0</td>\n",
       "      <td>1</td>\n",
       "      <td>04-May</td>\n",
       "      <td>Left wheel</td>\n",
       "      <td>0</td>\n",
       "    </tr>\n",
       "    <tr>\n",
       "      <th>4</th>\n",
       "      <td>11726</td>\n",
       "      <td>446.0</td>\n",
       "      <td>2014</td>\n",
       "      <td>1</td>\n",
       "      <td>Petrol</td>\n",
       "      <td>1.3</td>\n",
       "      <td>91901.0</td>\n",
       "      <td>4.0</td>\n",
       "      <td>1</td>\n",
       "      <td>04-May</td>\n",
       "      <td>Left wheel</td>\n",
       "      <td>4</td>\n",
       "    </tr>\n",
       "    <tr>\n",
       "      <th>...</th>\n",
       "      <td>...</td>\n",
       "      <td>...</td>\n",
       "      <td>...</td>\n",
       "      <td>...</td>\n",
       "      <td>...</td>\n",
       "      <td>...</td>\n",
       "      <td>...</td>\n",
       "      <td>...</td>\n",
       "      <td>...</td>\n",
       "      <td>...</td>\n",
       "      <td>...</td>\n",
       "      <td>...</td>\n",
       "    </tr>\n",
       "    <tr>\n",
       "      <th>18962</th>\n",
       "      <td>8467</td>\n",
       "      <td>781.0</td>\n",
       "      <td>1999</td>\n",
       "      <td>2</td>\n",
       "      <td>CNG</td>\n",
       "      <td>2.0</td>\n",
       "      <td>300000.0</td>\n",
       "      <td>4.0</td>\n",
       "      <td>2</td>\n",
       "      <td>02-Mar</td>\n",
       "      <td>Left wheel</td>\n",
       "      <td>5</td>\n",
       "    </tr>\n",
       "    <tr>\n",
       "      <th>18963</th>\n",
       "      <td>15681</td>\n",
       "      <td>831.0</td>\n",
       "      <td>2011</td>\n",
       "      <td>1</td>\n",
       "      <td>Petrol</td>\n",
       "      <td>2.4</td>\n",
       "      <td>161600.0</td>\n",
       "      <td>4.0</td>\n",
       "      <td>2</td>\n",
       "      <td>04-May</td>\n",
       "      <td>Left wheel</td>\n",
       "      <td>8</td>\n",
       "    </tr>\n",
       "    <tr>\n",
       "      <th>18964</th>\n",
       "      <td>26108</td>\n",
       "      <td>836.0</td>\n",
       "      <td>2010</td>\n",
       "      <td>2</td>\n",
       "      <td>Diesel</td>\n",
       "      <td>2.0</td>\n",
       "      <td>116365.0</td>\n",
       "      <td>4.0</td>\n",
       "      <td>1</td>\n",
       "      <td>04-May</td>\n",
       "      <td>Left wheel</td>\n",
       "      <td>4</td>\n",
       "    </tr>\n",
       "    <tr>\n",
       "      <th>18965</th>\n",
       "      <td>5331</td>\n",
       "      <td>1288.0</td>\n",
       "      <td>2007</td>\n",
       "      <td>2</td>\n",
       "      <td>Diesel</td>\n",
       "      <td>2.0</td>\n",
       "      <td>51258.0</td>\n",
       "      <td>4.0</td>\n",
       "      <td>1</td>\n",
       "      <td>04-May</td>\n",
       "      <td>Left wheel</td>\n",
       "      <td>4</td>\n",
       "    </tr>\n",
       "    <tr>\n",
       "      <th>18966</th>\n",
       "      <td>470</td>\n",
       "      <td>753.0</td>\n",
       "      <td>2012</td>\n",
       "      <td>1</td>\n",
       "      <td>Other</td>\n",
       "      <td>2.4</td>\n",
       "      <td>186923.0</td>\n",
       "      <td>4.0</td>\n",
       "      <td>1</td>\n",
       "      <td>04-May</td>\n",
       "      <td>Left wheel</td>\n",
       "      <td>12</td>\n",
       "    </tr>\n",
       "  </tbody>\n",
       "</table>\n",
       "<p>18967 rows × 12 columns</p>\n",
       "</div>"
      ],
      "text/plain": [
       "       Price    Levy  Prod. year  Category Fuel type  Engine volume   Mileage  \\\n",
       "0      13328  1399.0        2010         2     Other            3.5  186005.0   \n",
       "1      16621  1018.0        2011         2    Petrol            3.0  192000.0   \n",
       "2       8467   781.0        2006         1    Petrol            1.3  200000.0   \n",
       "3       3607   862.0        2011         2     Other            2.5  168966.0   \n",
       "4      11726   446.0        2014         1    Petrol            1.3   91901.0   \n",
       "...      ...     ...         ...       ...       ...            ...       ...   \n",
       "18962   8467   781.0        1999         2       CNG            2.0  300000.0   \n",
       "18963  15681   831.0        2011         1    Petrol            2.4  161600.0   \n",
       "18964  26108   836.0        2010         2    Diesel            2.0  116365.0   \n",
       "18965   5331  1288.0        2007         2    Diesel            2.0   51258.0   \n",
       "18966    470   753.0        2012         1     Other            2.4  186923.0   \n",
       "\n",
       "       Cylinders  Gear box type   Doors             Wheel  Airbags  \n",
       "0            6.0              1  04-May        Left wheel       12  \n",
       "1            6.0              2  04-May        Left wheel        8  \n",
       "2            4.0              1  04-May  Right-hand drive        2  \n",
       "3            4.0              1  04-May        Left wheel        0  \n",
       "4            4.0              1  04-May        Left wheel        4  \n",
       "...          ...            ...     ...               ...      ...  \n",
       "18962        4.0              2  02-Mar        Left wheel        5  \n",
       "18963        4.0              2  04-May        Left wheel        8  \n",
       "18964        4.0              1  04-May        Left wheel        4  \n",
       "18965        4.0              1  04-May        Left wheel        4  \n",
       "18966        4.0              1  04-May        Left wheel       12  \n",
       "\n",
       "[18967 rows x 12 columns]"
      ]
     },
     "execution_count": 74,
     "metadata": {},
     "output_type": "execute_result"
    }
   ],
   "source": [
    "### Looking at the modified dataset\n",
    "\n",
    "dataset"
   ]
  },
  {
   "cell_type": "markdown",
   "id": "0050408c",
   "metadata": {},
   "source": [
    "##### 4.3.4 NewDoors - using the column Doors"
   ]
  },
  {
   "cell_type": "markdown",
   "id": "0a4f42e9",
   "metadata": {},
   "source": [
    "Here, we will modify the column Doors such that if the value is 04-May it is changed to 4-5, 02-Mar then it is changed to 2-3 or else keep it as it is."
   ]
  },
  {
   "cell_type": "code",
   "execution_count": 75,
   "id": "2a3fdf88",
   "metadata": {},
   "outputs": [
    {
     "data": {
      "text/plain": [
       "{'2-3', '4-5', '>5'}"
      ]
     },
     "execution_count": 75,
     "metadata": {},
     "output_type": "execute_result"
    }
   ],
   "source": [
    "### Creating the new Doors data\n",
    "\n",
    "doors_data = dataset['Doors']\n",
    "new_doors_data = []\n",
    "\n",
    "for value in doors_data:\n",
    "    if value == '04-May':\n",
    "        new_doors_data.append('4-5')\n",
    "    elif value == '02-Mar':\n",
    "        new_doors_data.append('2-3')\n",
    "    else:\n",
    "        new_doors_data.append(value)\n",
    "\n",
    "set(new_doors_data)"
   ]
  },
  {
   "cell_type": "code",
   "execution_count": 76,
   "id": "fb5c1b87",
   "metadata": {},
   "outputs": [],
   "source": [
    "### Modifying the Doors column\n",
    "\n",
    "dataset['Doors'] = new_doors_data"
   ]
  },
  {
   "cell_type": "code",
   "execution_count": 77,
   "id": "35b8f114",
   "metadata": {},
   "outputs": [
    {
     "data": {
      "text/html": [
       "<div>\n",
       "<style scoped>\n",
       "    .dataframe tbody tr th:only-of-type {\n",
       "        vertical-align: middle;\n",
       "    }\n",
       "\n",
       "    .dataframe tbody tr th {\n",
       "        vertical-align: top;\n",
       "    }\n",
       "\n",
       "    .dataframe thead th {\n",
       "        text-align: right;\n",
       "    }\n",
       "</style>\n",
       "<table border=\"1\" class=\"dataframe\">\n",
       "  <thead>\n",
       "    <tr style=\"text-align: right;\">\n",
       "      <th></th>\n",
       "      <th>Price</th>\n",
       "      <th>Levy</th>\n",
       "      <th>Prod. year</th>\n",
       "      <th>Category</th>\n",
       "      <th>Fuel type</th>\n",
       "      <th>Engine volume</th>\n",
       "      <th>Mileage</th>\n",
       "      <th>Cylinders</th>\n",
       "      <th>Gear box type</th>\n",
       "      <th>Doors</th>\n",
       "      <th>Wheel</th>\n",
       "      <th>Airbags</th>\n",
       "    </tr>\n",
       "  </thead>\n",
       "  <tbody>\n",
       "    <tr>\n",
       "      <th>0</th>\n",
       "      <td>13328</td>\n",
       "      <td>1399.0</td>\n",
       "      <td>2010</td>\n",
       "      <td>2</td>\n",
       "      <td>Other</td>\n",
       "      <td>3.5</td>\n",
       "      <td>186005.0</td>\n",
       "      <td>6.0</td>\n",
       "      <td>1</td>\n",
       "      <td>4-5</td>\n",
       "      <td>Left wheel</td>\n",
       "      <td>12</td>\n",
       "    </tr>\n",
       "    <tr>\n",
       "      <th>1</th>\n",
       "      <td>16621</td>\n",
       "      <td>1018.0</td>\n",
       "      <td>2011</td>\n",
       "      <td>2</td>\n",
       "      <td>Petrol</td>\n",
       "      <td>3.0</td>\n",
       "      <td>192000.0</td>\n",
       "      <td>6.0</td>\n",
       "      <td>2</td>\n",
       "      <td>4-5</td>\n",
       "      <td>Left wheel</td>\n",
       "      <td>8</td>\n",
       "    </tr>\n",
       "    <tr>\n",
       "      <th>2</th>\n",
       "      <td>8467</td>\n",
       "      <td>781.0</td>\n",
       "      <td>2006</td>\n",
       "      <td>1</td>\n",
       "      <td>Petrol</td>\n",
       "      <td>1.3</td>\n",
       "      <td>200000.0</td>\n",
       "      <td>4.0</td>\n",
       "      <td>1</td>\n",
       "      <td>4-5</td>\n",
       "      <td>Right-hand drive</td>\n",
       "      <td>2</td>\n",
       "    </tr>\n",
       "    <tr>\n",
       "      <th>3</th>\n",
       "      <td>3607</td>\n",
       "      <td>862.0</td>\n",
       "      <td>2011</td>\n",
       "      <td>2</td>\n",
       "      <td>Other</td>\n",
       "      <td>2.5</td>\n",
       "      <td>168966.0</td>\n",
       "      <td>4.0</td>\n",
       "      <td>1</td>\n",
       "      <td>4-5</td>\n",
       "      <td>Left wheel</td>\n",
       "      <td>0</td>\n",
       "    </tr>\n",
       "    <tr>\n",
       "      <th>4</th>\n",
       "      <td>11726</td>\n",
       "      <td>446.0</td>\n",
       "      <td>2014</td>\n",
       "      <td>1</td>\n",
       "      <td>Petrol</td>\n",
       "      <td>1.3</td>\n",
       "      <td>91901.0</td>\n",
       "      <td>4.0</td>\n",
       "      <td>1</td>\n",
       "      <td>4-5</td>\n",
       "      <td>Left wheel</td>\n",
       "      <td>4</td>\n",
       "    </tr>\n",
       "    <tr>\n",
       "      <th>...</th>\n",
       "      <td>...</td>\n",
       "      <td>...</td>\n",
       "      <td>...</td>\n",
       "      <td>...</td>\n",
       "      <td>...</td>\n",
       "      <td>...</td>\n",
       "      <td>...</td>\n",
       "      <td>...</td>\n",
       "      <td>...</td>\n",
       "      <td>...</td>\n",
       "      <td>...</td>\n",
       "      <td>...</td>\n",
       "    </tr>\n",
       "    <tr>\n",
       "      <th>18962</th>\n",
       "      <td>8467</td>\n",
       "      <td>781.0</td>\n",
       "      <td>1999</td>\n",
       "      <td>2</td>\n",
       "      <td>CNG</td>\n",
       "      <td>2.0</td>\n",
       "      <td>300000.0</td>\n",
       "      <td>4.0</td>\n",
       "      <td>2</td>\n",
       "      <td>2-3</td>\n",
       "      <td>Left wheel</td>\n",
       "      <td>5</td>\n",
       "    </tr>\n",
       "    <tr>\n",
       "      <th>18963</th>\n",
       "      <td>15681</td>\n",
       "      <td>831.0</td>\n",
       "      <td>2011</td>\n",
       "      <td>1</td>\n",
       "      <td>Petrol</td>\n",
       "      <td>2.4</td>\n",
       "      <td>161600.0</td>\n",
       "      <td>4.0</td>\n",
       "      <td>2</td>\n",
       "      <td>4-5</td>\n",
       "      <td>Left wheel</td>\n",
       "      <td>8</td>\n",
       "    </tr>\n",
       "    <tr>\n",
       "      <th>18964</th>\n",
       "      <td>26108</td>\n",
       "      <td>836.0</td>\n",
       "      <td>2010</td>\n",
       "      <td>2</td>\n",
       "      <td>Diesel</td>\n",
       "      <td>2.0</td>\n",
       "      <td>116365.0</td>\n",
       "      <td>4.0</td>\n",
       "      <td>1</td>\n",
       "      <td>4-5</td>\n",
       "      <td>Left wheel</td>\n",
       "      <td>4</td>\n",
       "    </tr>\n",
       "    <tr>\n",
       "      <th>18965</th>\n",
       "      <td>5331</td>\n",
       "      <td>1288.0</td>\n",
       "      <td>2007</td>\n",
       "      <td>2</td>\n",
       "      <td>Diesel</td>\n",
       "      <td>2.0</td>\n",
       "      <td>51258.0</td>\n",
       "      <td>4.0</td>\n",
       "      <td>1</td>\n",
       "      <td>4-5</td>\n",
       "      <td>Left wheel</td>\n",
       "      <td>4</td>\n",
       "    </tr>\n",
       "    <tr>\n",
       "      <th>18966</th>\n",
       "      <td>470</td>\n",
       "      <td>753.0</td>\n",
       "      <td>2012</td>\n",
       "      <td>1</td>\n",
       "      <td>Other</td>\n",
       "      <td>2.4</td>\n",
       "      <td>186923.0</td>\n",
       "      <td>4.0</td>\n",
       "      <td>1</td>\n",
       "      <td>4-5</td>\n",
       "      <td>Left wheel</td>\n",
       "      <td>12</td>\n",
       "    </tr>\n",
       "  </tbody>\n",
       "</table>\n",
       "<p>18967 rows × 12 columns</p>\n",
       "</div>"
      ],
      "text/plain": [
       "       Price    Levy  Prod. year  Category Fuel type  Engine volume   Mileage  \\\n",
       "0      13328  1399.0        2010         2     Other            3.5  186005.0   \n",
       "1      16621  1018.0        2011         2    Petrol            3.0  192000.0   \n",
       "2       8467   781.0        2006         1    Petrol            1.3  200000.0   \n",
       "3       3607   862.0        2011         2     Other            2.5  168966.0   \n",
       "4      11726   446.0        2014         1    Petrol            1.3   91901.0   \n",
       "...      ...     ...         ...       ...       ...            ...       ...   \n",
       "18962   8467   781.0        1999         2       CNG            2.0  300000.0   \n",
       "18963  15681   831.0        2011         1    Petrol            2.4  161600.0   \n",
       "18964  26108   836.0        2010         2    Diesel            2.0  116365.0   \n",
       "18965   5331  1288.0        2007         2    Diesel            2.0   51258.0   \n",
       "18966    470   753.0        2012         1     Other            2.4  186923.0   \n",
       "\n",
       "       Cylinders  Gear box type Doors             Wheel  Airbags  \n",
       "0            6.0              1   4-5        Left wheel       12  \n",
       "1            6.0              2   4-5        Left wheel        8  \n",
       "2            4.0              1   4-5  Right-hand drive        2  \n",
       "3            4.0              1   4-5        Left wheel        0  \n",
       "4            4.0              1   4-5        Left wheel        4  \n",
       "...          ...            ...   ...               ...      ...  \n",
       "18962        4.0              2   2-3        Left wheel        5  \n",
       "18963        4.0              2   4-5        Left wheel        8  \n",
       "18964        4.0              1   4-5        Left wheel        4  \n",
       "18965        4.0              1   4-5        Left wheel        4  \n",
       "18966        4.0              1   4-5        Left wheel       12  \n",
       "\n",
       "[18967 rows x 12 columns]"
      ]
     },
     "execution_count": 77,
     "metadata": {},
     "output_type": "execute_result"
    }
   ],
   "source": [
    "### Looking at the modified dataset\n",
    "\n",
    "dataset"
   ]
  },
  {
   "cell_type": "markdown",
   "id": "667a83dd",
   "metadata": {},
   "source": [
    "##### 4.3.5 Age - using the column Prod. year"
   ]
  },
  {
   "cell_type": "markdown",
   "id": "77b665ca",
   "metadata": {},
   "source": [
    "Here, we will use the column Prod. year to create Age using the formula 2022 - value."
   ]
  },
  {
   "cell_type": "code",
   "execution_count": 78,
   "id": "5e0a246f",
   "metadata": {},
   "outputs": [
    {
     "data": {
      "text/plain": [
       "51"
      ]
     },
     "execution_count": 78,
     "metadata": {},
     "output_type": "execute_result"
    }
   ],
   "source": [
    "### Creating the Age data\n",
    "\n",
    "year_data = dataset['Prod. year']\n",
    "age_data = []\n",
    "\n",
    "for value in year_data:\n",
    "    age_data.append(2022 - value)\n",
    "    \n",
    "len(set(age_data))"
   ]
  },
  {
   "cell_type": "code",
   "execution_count": 79,
   "id": "51937eb6",
   "metadata": {},
   "outputs": [],
   "source": [
    "### Creating the Age column\n",
    "\n",
    "dataset['Age'] = age_data"
   ]
  },
  {
   "cell_type": "code",
   "execution_count": 80,
   "id": "a6da502b",
   "metadata": {},
   "outputs": [],
   "source": [
    "### Removing the Prod. year column\n",
    "\n",
    "dataset.drop(['Prod. year'], axis = 1, inplace = True)"
   ]
  },
  {
   "cell_type": "code",
   "execution_count": 81,
   "id": "9c506f9f",
   "metadata": {},
   "outputs": [
    {
     "data": {
      "text/html": [
       "<div>\n",
       "<style scoped>\n",
       "    .dataframe tbody tr th:only-of-type {\n",
       "        vertical-align: middle;\n",
       "    }\n",
       "\n",
       "    .dataframe tbody tr th {\n",
       "        vertical-align: top;\n",
       "    }\n",
       "\n",
       "    .dataframe thead th {\n",
       "        text-align: right;\n",
       "    }\n",
       "</style>\n",
       "<table border=\"1\" class=\"dataframe\">\n",
       "  <thead>\n",
       "    <tr style=\"text-align: right;\">\n",
       "      <th></th>\n",
       "      <th>Price</th>\n",
       "      <th>Levy</th>\n",
       "      <th>Category</th>\n",
       "      <th>Fuel type</th>\n",
       "      <th>Engine volume</th>\n",
       "      <th>Mileage</th>\n",
       "      <th>Cylinders</th>\n",
       "      <th>Gear box type</th>\n",
       "      <th>Doors</th>\n",
       "      <th>Wheel</th>\n",
       "      <th>Airbags</th>\n",
       "      <th>Age</th>\n",
       "    </tr>\n",
       "  </thead>\n",
       "  <tbody>\n",
       "    <tr>\n",
       "      <th>0</th>\n",
       "      <td>13328</td>\n",
       "      <td>1399.0</td>\n",
       "      <td>2</td>\n",
       "      <td>Other</td>\n",
       "      <td>3.5</td>\n",
       "      <td>186005.0</td>\n",
       "      <td>6.0</td>\n",
       "      <td>1</td>\n",
       "      <td>4-5</td>\n",
       "      <td>Left wheel</td>\n",
       "      <td>12</td>\n",
       "      <td>12</td>\n",
       "    </tr>\n",
       "    <tr>\n",
       "      <th>1</th>\n",
       "      <td>16621</td>\n",
       "      <td>1018.0</td>\n",
       "      <td>2</td>\n",
       "      <td>Petrol</td>\n",
       "      <td>3.0</td>\n",
       "      <td>192000.0</td>\n",
       "      <td>6.0</td>\n",
       "      <td>2</td>\n",
       "      <td>4-5</td>\n",
       "      <td>Left wheel</td>\n",
       "      <td>8</td>\n",
       "      <td>11</td>\n",
       "    </tr>\n",
       "    <tr>\n",
       "      <th>2</th>\n",
       "      <td>8467</td>\n",
       "      <td>781.0</td>\n",
       "      <td>1</td>\n",
       "      <td>Petrol</td>\n",
       "      <td>1.3</td>\n",
       "      <td>200000.0</td>\n",
       "      <td>4.0</td>\n",
       "      <td>1</td>\n",
       "      <td>4-5</td>\n",
       "      <td>Right-hand drive</td>\n",
       "      <td>2</td>\n",
       "      <td>16</td>\n",
       "    </tr>\n",
       "    <tr>\n",
       "      <th>3</th>\n",
       "      <td>3607</td>\n",
       "      <td>862.0</td>\n",
       "      <td>2</td>\n",
       "      <td>Other</td>\n",
       "      <td>2.5</td>\n",
       "      <td>168966.0</td>\n",
       "      <td>4.0</td>\n",
       "      <td>1</td>\n",
       "      <td>4-5</td>\n",
       "      <td>Left wheel</td>\n",
       "      <td>0</td>\n",
       "      <td>11</td>\n",
       "    </tr>\n",
       "    <tr>\n",
       "      <th>4</th>\n",
       "      <td>11726</td>\n",
       "      <td>446.0</td>\n",
       "      <td>1</td>\n",
       "      <td>Petrol</td>\n",
       "      <td>1.3</td>\n",
       "      <td>91901.0</td>\n",
       "      <td>4.0</td>\n",
       "      <td>1</td>\n",
       "      <td>4-5</td>\n",
       "      <td>Left wheel</td>\n",
       "      <td>4</td>\n",
       "      <td>8</td>\n",
       "    </tr>\n",
       "    <tr>\n",
       "      <th>...</th>\n",
       "      <td>...</td>\n",
       "      <td>...</td>\n",
       "      <td>...</td>\n",
       "      <td>...</td>\n",
       "      <td>...</td>\n",
       "      <td>...</td>\n",
       "      <td>...</td>\n",
       "      <td>...</td>\n",
       "      <td>...</td>\n",
       "      <td>...</td>\n",
       "      <td>...</td>\n",
       "      <td>...</td>\n",
       "    </tr>\n",
       "    <tr>\n",
       "      <th>18962</th>\n",
       "      <td>8467</td>\n",
       "      <td>781.0</td>\n",
       "      <td>2</td>\n",
       "      <td>CNG</td>\n",
       "      <td>2.0</td>\n",
       "      <td>300000.0</td>\n",
       "      <td>4.0</td>\n",
       "      <td>2</td>\n",
       "      <td>2-3</td>\n",
       "      <td>Left wheel</td>\n",
       "      <td>5</td>\n",
       "      <td>23</td>\n",
       "    </tr>\n",
       "    <tr>\n",
       "      <th>18963</th>\n",
       "      <td>15681</td>\n",
       "      <td>831.0</td>\n",
       "      <td>1</td>\n",
       "      <td>Petrol</td>\n",
       "      <td>2.4</td>\n",
       "      <td>161600.0</td>\n",
       "      <td>4.0</td>\n",
       "      <td>2</td>\n",
       "      <td>4-5</td>\n",
       "      <td>Left wheel</td>\n",
       "      <td>8</td>\n",
       "      <td>11</td>\n",
       "    </tr>\n",
       "    <tr>\n",
       "      <th>18964</th>\n",
       "      <td>26108</td>\n",
       "      <td>836.0</td>\n",
       "      <td>2</td>\n",
       "      <td>Diesel</td>\n",
       "      <td>2.0</td>\n",
       "      <td>116365.0</td>\n",
       "      <td>4.0</td>\n",
       "      <td>1</td>\n",
       "      <td>4-5</td>\n",
       "      <td>Left wheel</td>\n",
       "      <td>4</td>\n",
       "      <td>12</td>\n",
       "    </tr>\n",
       "    <tr>\n",
       "      <th>18965</th>\n",
       "      <td>5331</td>\n",
       "      <td>1288.0</td>\n",
       "      <td>2</td>\n",
       "      <td>Diesel</td>\n",
       "      <td>2.0</td>\n",
       "      <td>51258.0</td>\n",
       "      <td>4.0</td>\n",
       "      <td>1</td>\n",
       "      <td>4-5</td>\n",
       "      <td>Left wheel</td>\n",
       "      <td>4</td>\n",
       "      <td>15</td>\n",
       "    </tr>\n",
       "    <tr>\n",
       "      <th>18966</th>\n",
       "      <td>470</td>\n",
       "      <td>753.0</td>\n",
       "      <td>1</td>\n",
       "      <td>Other</td>\n",
       "      <td>2.4</td>\n",
       "      <td>186923.0</td>\n",
       "      <td>4.0</td>\n",
       "      <td>1</td>\n",
       "      <td>4-5</td>\n",
       "      <td>Left wheel</td>\n",
       "      <td>12</td>\n",
       "      <td>10</td>\n",
       "    </tr>\n",
       "  </tbody>\n",
       "</table>\n",
       "<p>18967 rows × 12 columns</p>\n",
       "</div>"
      ],
      "text/plain": [
       "       Price    Levy  Category Fuel type  Engine volume   Mileage  Cylinders  \\\n",
       "0      13328  1399.0         2     Other            3.5  186005.0        6.0   \n",
       "1      16621  1018.0         2    Petrol            3.0  192000.0        6.0   \n",
       "2       8467   781.0         1    Petrol            1.3  200000.0        4.0   \n",
       "3       3607   862.0         2     Other            2.5  168966.0        4.0   \n",
       "4      11726   446.0         1    Petrol            1.3   91901.0        4.0   \n",
       "...      ...     ...       ...       ...            ...       ...        ...   \n",
       "18962   8467   781.0         2       CNG            2.0  300000.0        4.0   \n",
       "18963  15681   831.0         1    Petrol            2.4  161600.0        4.0   \n",
       "18964  26108   836.0         2    Diesel            2.0  116365.0        4.0   \n",
       "18965   5331  1288.0         2    Diesel            2.0   51258.0        4.0   \n",
       "18966    470   753.0         1     Other            2.4  186923.0        4.0   \n",
       "\n",
       "       Gear box type Doors             Wheel  Airbags  Age  \n",
       "0                  1   4-5        Left wheel       12   12  \n",
       "1                  2   4-5        Left wheel        8   11  \n",
       "2                  1   4-5  Right-hand drive        2   16  \n",
       "3                  1   4-5        Left wheel        0   11  \n",
       "4                  1   4-5        Left wheel        4    8  \n",
       "...              ...   ...               ...      ...  ...  \n",
       "18962              2   2-3        Left wheel        5   23  \n",
       "18963              2   4-5        Left wheel        8   11  \n",
       "18964              1   4-5        Left wheel        4   12  \n",
       "18965              1   4-5        Left wheel        4   15  \n",
       "18966              1   4-5        Left wheel       12   10  \n",
       "\n",
       "[18967 rows x 12 columns]"
      ]
     },
     "execution_count": 81,
     "metadata": {},
     "output_type": "execute_result"
    }
   ],
   "source": [
    "### Looking at the modified dataset\n",
    "\n",
    "dataset"
   ]
  },
  {
   "cell_type": "markdown",
   "id": "8c70121a",
   "metadata": {},
   "source": [
    "#### 4.4 Data Transformation"
   ]
  },
  {
   "cell_type": "markdown",
   "id": "d8edbf39",
   "metadata": {},
   "source": [
    "In this section, we will remove the skewness present in the columns - Price, Levy, Age, Mileage, Engine volume by using a Box-Cox transformation on the data. Then, we will normalize all the numerical columns apart from the Target using MinMax Normalization."
   ]
  },
  {
   "cell_type": "markdown",
   "id": "9d07b7a6",
   "metadata": {},
   "source": [
    "##### 4.4.1 Box Cox transforming the column - Price"
   ]
  },
  {
   "cell_type": "code",
   "execution_count": 82,
   "id": "193d9800",
   "metadata": {},
   "outputs": [
    {
     "data": {
      "text/plain": [
       "Text(0.5, 1.0, 'Distribution of the column - Price')"
      ]
     },
     "execution_count": 82,
     "metadata": {},
     "output_type": "execute_result"
    },
    {
     "data": {
      "image/png": "[encoded data removed]",
      "text/plain": [
       "<Figure size 432x288 with 1 Axes>"
      ]
     },
     "metadata": {
      "needs_background": "light"
     },
     "output_type": "display_data"
    }
   ],
   "source": [
    "### Understanding the distribution of the column - Price\n",
    "\n",
    "sns.distplot(dataset['Price'], label = 'Skewness: %.2f'%(dataset['Price'].skew()))\n",
    "plt.legend(loc = 'best')\n",
    "plt.title('Distribution of the column - Price')"
   ]
  },
  {
   "cell_type": "code",
   "execution_count": 83,
   "id": "9e4507cb",
   "metadata": {},
   "outputs": [
    {
     "data": {
      "text/plain": [
       "Text(0.5, 1.0, 'Distribution of the column - Price')"
      ]
     },
     "execution_count": 83,
     "metadata": {},
     "output_type": "execute_result"
    },
    {
     "data": {
      "image/png": "[encoded data removed]",
      "text/plain": [
       "<Figure size 432x288 with 1 Axes>"
      ]
     },
     "metadata": {
      "needs_background": "light"
     },
     "output_type": "display_data"
    }
   ],
   "source": [
    "### Understanding the distribution of the data Box_Cox(Price)\n",
    "\n",
    "price_data = [1 if value == 0 else value for value in dataset['Price']]\n",
    "\n",
    "modified_price, _ = stats.boxcox(price_data)\n",
    "dataset['Price'] = modified_price\n",
    "\n",
    "sns.distplot(dataset['Price'], label = 'Skewness: %.2f'%(dataset['Price'].skew()))\n",
    "plt.legend(loc = 'best')\n",
    "plt.title('Distribution of the column - Price')"
   ]
  },
  {
   "cell_type": "markdown",
   "id": "40e05bb8",
   "metadata": {},
   "source": [
    "##### 4.4.2 Box Cox transforming the column - Levy"
   ]
  },
  {
   "cell_type": "code",
   "execution_count": 84,
   "id": "f1dd5797",
   "metadata": {},
   "outputs": [
    {
     "data": {
      "text/plain": [
       "Text(0.5, 1.0, 'Distribution of the column - Levy')"
      ]
     },
     "execution_count": 84,
     "metadata": {},
     "output_type": "execute_result"
    },
    {
     "data": {
      "image/png": "[encoded data removed]",
      "text/plain": [
       "<Figure size 432x288 with 1 Axes>"
      ]
     },
     "metadata": {
      "needs_background": "light"
     },
     "output_type": "display_data"
    }
   ],
   "source": [
    "### Understanding the distribution of the column - Levy\n",
    "\n",
    "sns.distplot(dataset['Levy'], label = 'Skewness: %.2f'%(dataset['Levy'].skew()))\n",
    "plt.legend(loc = 'best')\n",
    "plt.title('Distribution of the column - Levy')"
   ]
  },
  {
   "cell_type": "code",
   "execution_count": 85,
   "id": "cbbde7e7",
   "metadata": {},
   "outputs": [
    {
     "data": {
      "text/plain": [
       "Text(0.5, 1.0, 'Distribution of the column - Levy')"
      ]
     },
     "execution_count": 85,
     "metadata": {},
     "output_type": "execute_result"
    },
    {
     "data": {
      "image/png": "[encoded data removed]",
      "text/plain": [
       "<Figure size 432x288 with 1 Axes>"
      ]
     },
     "metadata": {
      "needs_background": "light"
     },
     "output_type": "display_data"
    }
   ],
   "source": [
    "### Understanding the distribution of the data Box_Cox(Levy)\n",
    "\n",
    "levy_data = [1 if value == 0 else value for value in dataset['Levy']]\n",
    "\n",
    "modified_levy, _ = stats.boxcox(levy_data)\n",
    "dataset['Levy'] = modified_levy\n",
    "\n",
    "sns.distplot(dataset['Levy'], label = 'Skewness: %.2f'%(dataset['Levy'].skew()))\n",
    "plt.legend(loc = 'best')\n",
    "plt.title('Distribution of the column - Levy')"
   ]
  },
  {
   "cell_type": "markdown",
   "id": "7a21e580",
   "metadata": {},
   "source": [
    "##### 4.4.3 Box Cox transforming the column - Age"
   ]
  },
  {
   "cell_type": "code",
   "execution_count": 86,
   "id": "9a549f20",
   "metadata": {},
   "outputs": [
    {
     "data": {
      "text/plain": [
       "Text(0.5, 1.0, 'Distribution of the column - Age')"
      ]
     },
     "execution_count": 86,
     "metadata": {},
     "output_type": "execute_result"
    },
    {
     "data": {
      "image/png": "[encoded data removed]",
      "text/plain": [
       "<Figure size 432x288 with 1 Axes>"
      ]
     },
     "metadata": {
      "needs_background": "light"
     },
     "output_type": "display_data"
    }
   ],
   "source": [
    "### Understanding the distribution of the column - Age\n",
    "\n",
    "sns.distplot(dataset['Age'], label = 'Skewness: %.2f'%(dataset['Age'].skew()))\n",
    "plt.legend(loc = 'best')\n",
    "plt.title('Distribution of the column - Age')"
   ]
  },
  {
   "cell_type": "code",
   "execution_count": 87,
   "id": "26320f71",
   "metadata": {},
   "outputs": [
    {
     "data": {
      "text/plain": [
       "Text(0.5, 1.0, 'Distribution of the column - Age')"
      ]
     },
     "execution_count": 87,
     "metadata": {},
     "output_type": "execute_result"
    },
    {
     "data": {
      "image/png": "[encoded data removed]",
      "text/plain": [
       "<Figure size 432x288 with 1 Axes>"
      ]
     },
     "metadata": {
      "needs_background": "light"
     },
     "output_type": "display_data"
    }
   ],
   "source": [
    "### Understanding the distribution of the data Box_Cox(Age)\n",
    "\n",
    "age_data = [1 if value == 0 else value for value in dataset['Age']]\n",
    "\n",
    "modified_age, _ = stats.boxcox(age_data)\n",
    "dataset['Age'] = modified_age\n",
    "\n",
    "sns.distplot(dataset['Age'], label = 'Skewness: %.2f'%(dataset['Age'].skew()))\n",
    "plt.legend(loc = 'best')\n",
    "plt.title('Distribution of the column - Age')"
   ]
  },
  {
   "cell_type": "markdown",
   "id": "81aa41f2",
   "metadata": {},
   "source": [
    "##### 4.4.4 Box Cox transforming the column - Mileage"
   ]
  },
  {
   "cell_type": "code",
   "execution_count": 88,
   "id": "c3e962ea",
   "metadata": {},
   "outputs": [
    {
     "data": {
      "text/plain": [
       "Text(0.5, 1.0, 'Distribution of the column - Mileage')"
      ]
     },
     "execution_count": 88,
     "metadata": {},
     "output_type": "execute_result"
    },
    {
     "data": {
      "image/png": "[encoded data removed]",
      "text/plain": [
       "<Figure size 432x288 with 1 Axes>"
      ]
     },
     "metadata": {
      "needs_background": "light"
     },
     "output_type": "display_data"
    }
   ],
   "source": [
    "### Understanding the distribution of the column - Mileage\n",
    "\n",
    "sns.distplot(dataset['Mileage'], label = 'Skewness: %.2f'%(dataset['Mileage'].skew()))\n",
    "plt.legend(loc = 'best')\n",
    "plt.title('Distribution of the column - Mileage')"
   ]
  },
  {
   "cell_type": "code",
   "execution_count": 89,
   "id": "ac6d667f",
   "metadata": {},
   "outputs": [
    {
     "data": {
      "text/plain": [
       "Text(0.5, 1.0, 'Distribution of the column - Mileage')"
      ]
     },
     "execution_count": 89,
     "metadata": {},
     "output_type": "execute_result"
    },
    {
     "data": {
      "image/png": "[encoded data removed]",
      "text/plain": [
       "<Figure size 432x288 with 1 Axes>"
      ]
     },
     "metadata": {
      "needs_background": "light"
     },
     "output_type": "display_data"
    }
   ],
   "source": [
    "### Understanding the distribution of the data Box_Cox(Mileage)\n",
    "\n",
    "mileage_data = [1 if value == 0 else value for value in dataset['Mileage']]\n",
    "\n",
    "modified_mileage, _ = stats.boxcox(mileage_data)\n",
    "dataset['Mileage'] = modified_mileage\n",
    "\n",
    "sns.distplot(dataset['Mileage'], label = 'Skewness: %.2f'%(dataset['Mileage'].skew()))\n",
    "plt.legend(loc = 'best')\n",
    "plt.title('Distribution of the column - Mileage')"
   ]
  },
  {
   "cell_type": "markdown",
   "id": "027e479c",
   "metadata": {},
   "source": [
    "##### 4.4.5 Box Cox transforming the column - Engine volume"
   ]
  },
  {
   "cell_type": "code",
   "execution_count": 90,
   "id": "c8edc36f",
   "metadata": {},
   "outputs": [
    {
     "data": {
      "text/plain": [
       "Text(0.5, 1.0, 'Distribution of the column - Engine volume')"
      ]
     },
     "execution_count": 90,
     "metadata": {},
     "output_type": "execute_result"
    },
    {
     "data": {
      "image/png": "[encoded data removed]",
      "text/plain": [
       "<Figure size 432x288 with 1 Axes>"
      ]
     },
     "metadata": {
      "needs_background": "light"
     },
     "output_type": "display_data"
    }
   ],
   "source": [
    "### Understanding the distribution of the column - Engine volume\n",
    "\n",
    "sns.distplot(dataset['Engine volume'], label = 'Skewness: %.2f'%(dataset['Engine volume'].skew()))\n",
    "plt.legend(loc = 'best')\n",
    "plt.title('Distribution of the column - Engine volume')"
   ]
  },
  {
   "cell_type": "code",
   "execution_count": 91,
   "id": "0666a855",
   "metadata": {},
   "outputs": [
    {
     "data": {
      "text/plain": [
       "Text(0.5, 1.0, 'Distribution of the column - Engine volume')"
      ]
     },
     "execution_count": 91,
     "metadata": {},
     "output_type": "execute_result"
    },
    {
     "data": {
      "image/png": "[encoded data removed]",
      "text/plain": [
       "<Figure size 432x288 with 1 Axes>"
      ]
     },
     "metadata": {
      "needs_background": "light"
     },
     "output_type": "display_data"
    }
   ],
   "source": [
    "### Understanding the distribution of the data Box_Cox(Engine volume)\n",
    "\n",
    "engine_data = [1 if value == 0 else value for value in dataset['Engine volume']]\n",
    "\n",
    "modified_engine, _ = stats.boxcox(engine_data)\n",
    "dataset['Engine volume'] = modified_engine\n",
    "\n",
    "sns.distplot(dataset['Engine volume'], label = 'Skewness: %.2f'%(dataset['Engine volume'].skew()))\n",
    "plt.legend(loc = 'best')\n",
    "plt.title('Distribution of the column - Engine volume')"
   ]
  },
  {
   "cell_type": "markdown",
   "id": "fe8e2d30",
   "metadata": {},
   "source": [
    "##### 4.4.6 Normalizing the numerical columns"
   ]
  },
  {
   "cell_type": "code",
   "execution_count": 92,
   "id": "21a54e03",
   "metadata": {},
   "outputs": [],
   "source": [
    "### A function to normalize numerical columns\n",
    "\n",
    "def normalize_columns(dataframe, column):\n",
    "    data = dataframe[column]\n",
    "    mini = min(data)\n",
    "    maxi = max(data)\n",
    "    \n",
    "    new_data = []\n",
    "    for value in data:\n",
    "        new_data.append((value - mini)/(maxi - mini))\n",
    "    \n",
    "    dataframe[column] = new_data\n",
    "\n",
    "numerical_columns = ['Levy', 'Engine volume', 'Mileage', 'Cylinders', 'Airbags', 'Age']\n",
    "for each_column in numerical_columns:\n",
    "    normalize_columns(dataset, each_column)"
   ]
  },
  {
   "cell_type": "code",
   "execution_count": 93,
   "id": "9c16c9f1",
   "metadata": {},
   "outputs": [
    {
     "data": {
      "text/html": [
       "<div>\n",
       "<style scoped>\n",
       "    .dataframe tbody tr th:only-of-type {\n",
       "        vertical-align: middle;\n",
       "    }\n",
       "\n",
       "    .dataframe tbody tr th {\n",
       "        vertical-align: top;\n",
       "    }\n",
       "\n",
       "    .dataframe thead th {\n",
       "        text-align: right;\n",
       "    }\n",
       "</style>\n",
       "<table border=\"1\" class=\"dataframe\">\n",
       "  <thead>\n",
       "    <tr style=\"text-align: right;\">\n",
       "      <th></th>\n",
       "      <th>Price</th>\n",
       "      <th>Levy</th>\n",
       "      <th>Category</th>\n",
       "      <th>Fuel type</th>\n",
       "      <th>Engine volume</th>\n",
       "      <th>Mileage</th>\n",
       "      <th>Cylinders</th>\n",
       "      <th>Gear box type</th>\n",
       "      <th>Doors</th>\n",
       "      <th>Wheel</th>\n",
       "      <th>Airbags</th>\n",
       "      <th>Age</th>\n",
       "    </tr>\n",
       "  </thead>\n",
       "  <tbody>\n",
       "    <tr>\n",
       "      <th>0</th>\n",
       "      <td>49.474439</td>\n",
       "      <td>0.629677</td>\n",
       "      <td>2</td>\n",
       "      <td>Other</td>\n",
       "      <td>0.658421</td>\n",
       "      <td>0.179513</td>\n",
       "      <td>0.333333</td>\n",
       "      <td>1</td>\n",
       "      <td>4-5</td>\n",
       "      <td>Left wheel</td>\n",
       "      <td>0.7500</td>\n",
       "      <td>0.479728</td>\n",
       "    </tr>\n",
       "    <tr>\n",
       "      <th>1</th>\n",
       "      <td>52.930471</td>\n",
       "      <td>0.566695</td>\n",
       "      <td>2</td>\n",
       "      <td>Petrol</td>\n",
       "      <td>0.628821</td>\n",
       "      <td>0.180635</td>\n",
       "      <td>0.333333</td>\n",
       "      <td>2</td>\n",
       "      <td>4-5</td>\n",
       "      <td>Left wheel</td>\n",
       "      <td>0.5000</td>\n",
       "      <td>0.456381</td>\n",
       "    </tr>\n",
       "    <tr>\n",
       "      <th>2</th>\n",
       "      <td>43.023184</td>\n",
       "      <td>0.512535</td>\n",
       "      <td>1</td>\n",
       "      <td>Petrol</td>\n",
       "      <td>0.469937</td>\n",
       "      <td>0.182087</td>\n",
       "      <td>0.200000</td>\n",
       "      <td>1</td>\n",
       "      <td>4-5</td>\n",
       "      <td>Right-hand drive</td>\n",
       "      <td>0.1250</td>\n",
       "      <td>0.556958</td>\n",
       "    </tr>\n",
       "    <tr>\n",
       "      <th>3</th>\n",
       "      <td>32.941926</td>\n",
       "      <td>0.532881</td>\n",
       "      <td>2</td>\n",
       "      <td>Other</td>\n",
       "      <td>0.593937</td>\n",
       "      <td>0.176152</td>\n",
       "      <td>0.200000</td>\n",
       "      <td>1</td>\n",
       "      <td>4-5</td>\n",
       "      <td>Left wheel</td>\n",
       "      <td>0.0000</td>\n",
       "      <td>0.456381</td>\n",
       "    </tr>\n",
       "    <tr>\n",
       "      <th>4</th>\n",
       "      <td>47.567865</td>\n",
       "      <td>0.392874</td>\n",
       "      <td>1</td>\n",
       "      <td>Petrol</td>\n",
       "      <td>0.469937</td>\n",
       "      <td>0.156094</td>\n",
       "      <td>0.200000</td>\n",
       "      <td>1</td>\n",
       "      <td>4-5</td>\n",
       "      <td>Left wheel</td>\n",
       "      <td>0.2500</td>\n",
       "      <td>0.370976</td>\n",
       "    </tr>\n",
       "    <tr>\n",
       "      <th>...</th>\n",
       "      <td>...</td>\n",
       "      <td>...</td>\n",
       "      <td>...</td>\n",
       "      <td>...</td>\n",
       "      <td>...</td>\n",
       "      <td>...</td>\n",
       "      <td>...</td>\n",
       "      <td>...</td>\n",
       "      <td>...</td>\n",
       "      <td>...</td>\n",
       "      <td>...</td>\n",
       "      <td>...</td>\n",
       "    </tr>\n",
       "    <tr>\n",
       "      <th>18962</th>\n",
       "      <td>43.023184</td>\n",
       "      <td>0.512535</td>\n",
       "      <td>2</td>\n",
       "      <td>CNG</td>\n",
       "      <td>0.551429</td>\n",
       "      <td>0.197086</td>\n",
       "      <td>0.200000</td>\n",
       "      <td>2</td>\n",
       "      <td>2-3</td>\n",
       "      <td>Left wheel</td>\n",
       "      <td>0.3125</td>\n",
       "      <td>0.654463</td>\n",
       "    </tr>\n",
       "    <tr>\n",
       "      <th>18963</th>\n",
       "      <td>51.997927</td>\n",
       "      <td>0.525355</td>\n",
       "      <td>1</td>\n",
       "      <td>Petrol</td>\n",
       "      <td>0.586145</td>\n",
       "      <td>0.174611</td>\n",
       "      <td>0.200000</td>\n",
       "      <td>2</td>\n",
       "      <td>4-5</td>\n",
       "      <td>Left wheel</td>\n",
       "      <td>0.5000</td>\n",
       "      <td>0.456381</td>\n",
       "    </tr>\n",
       "    <tr>\n",
       "      <th>18964</th>\n",
       "      <td>60.716837</td>\n",
       "      <td>0.526589</td>\n",
       "      <td>2</td>\n",
       "      <td>Diesel</td>\n",
       "      <td>0.551429</td>\n",
       "      <td>0.163619</td>\n",
       "      <td>0.200000</td>\n",
       "      <td>1</td>\n",
       "      <td>4-5</td>\n",
       "      <td>Left wheel</td>\n",
       "      <td>0.2500</td>\n",
       "      <td>0.479728</td>\n",
       "    </tr>\n",
       "    <tr>\n",
       "      <th>18965</th>\n",
       "      <td>37.253177</td>\n",
       "      <td>0.613505</td>\n",
       "      <td>2</td>\n",
       "      <td>Diesel</td>\n",
       "      <td>0.551429</td>\n",
       "      <td>0.138741</td>\n",
       "      <td>0.200000</td>\n",
       "      <td>1</td>\n",
       "      <td>4-5</td>\n",
       "      <td>Left wheel</td>\n",
       "      <td>0.2500</td>\n",
       "      <td>0.539627</td>\n",
       "    </tr>\n",
       "    <tr>\n",
       "      <th>18966</th>\n",
       "      <td>16.837872</td>\n",
       "      <td>0.504954</td>\n",
       "      <td>1</td>\n",
       "      <td>Other</td>\n",
       "      <td>0.586145</td>\n",
       "      <td>0.179686</td>\n",
       "      <td>0.200000</td>\n",
       "      <td>1</td>\n",
       "      <td>4-5</td>\n",
       "      <td>Left wheel</td>\n",
       "      <td>0.7500</td>\n",
       "      <td>0.430813</td>\n",
       "    </tr>\n",
       "  </tbody>\n",
       "</table>\n",
       "<p>18967 rows × 12 columns</p>\n",
       "</div>"
      ],
      "text/plain": [
       "           Price      Levy  Category Fuel type  Engine volume   Mileage  \\\n",
       "0      49.474439  0.629677         2     Other       0.658421  0.179513   \n",
       "1      52.930471  0.566695         2    Petrol       0.628821  0.180635   \n",
       "2      43.023184  0.512535         1    Petrol       0.469937  0.182087   \n",
       "3      32.941926  0.532881         2     Other       0.593937  0.176152   \n",
       "4      47.567865  0.392874         1    Petrol       0.469937  0.156094   \n",
       "...          ...       ...       ...       ...            ...       ...   \n",
       "18962  43.023184  0.512535         2       CNG       0.551429  0.197086   \n",
       "18963  51.997927  0.525355         1    Petrol       0.586145  0.174611   \n",
       "18964  60.716837  0.526589         2    Diesel       0.551429  0.163619   \n",
       "18965  37.253177  0.613505         2    Diesel       0.551429  0.138741   \n",
       "18966  16.837872  0.504954         1     Other       0.586145  0.179686   \n",
       "\n",
       "       Cylinders  Gear box type Doors             Wheel  Airbags       Age  \n",
       "0       0.333333              1   4-5        Left wheel   0.7500  0.479728  \n",
       "1       0.333333              2   4-5        Left wheel   0.5000  0.456381  \n",
       "2       0.200000              1   4-5  Right-hand drive   0.1250  0.556958  \n",
       "3       0.200000              1   4-5        Left wheel   0.0000  0.456381  \n",
       "4       0.200000              1   4-5        Left wheel   0.2500  0.370976  \n",
       "...          ...            ...   ...               ...      ...       ...  \n",
       "18962   0.200000              2   2-3        Left wheel   0.3125  0.654463  \n",
       "18963   0.200000              2   4-5        Left wheel   0.5000  0.456381  \n",
       "18964   0.200000              1   4-5        Left wheel   0.2500  0.479728  \n",
       "18965   0.200000              1   4-5        Left wheel   0.2500  0.539627  \n",
       "18966   0.200000              1   4-5        Left wheel   0.7500  0.430813  \n",
       "\n",
       "[18967 rows x 12 columns]"
      ]
     },
     "execution_count": 93,
     "metadata": {},
     "output_type": "execute_result"
    }
   ],
   "source": [
    "### Looking at the sample records of the dataset\n",
    "\n",
    "dataset"
   ]
  },
  {
   "cell_type": "markdown",
   "id": "e48505a7",
   "metadata": {},
   "source": [
    "#### 4.5 Feature Encoding"
   ]
  },
  {
   "cell_type": "markdown",
   "id": "4a267798",
   "metadata": {},
   "source": [
    "Feature encoding is the process of turning categorical data in a dataset into numerical data. It is essential that we perform feature encoding because most machine learning models can only interpret numerical data and not data in text form.\n",
    "\n",
    "Here, we will use One Hot Encoding for the columns - Category, Fuel type, Gear box type, Doors, Wheel"
   ]
  },
  {
   "cell_type": "code",
   "execution_count": 94,
   "id": "fe3ecdd6",
   "metadata": {},
   "outputs": [
    {
     "data": {
      "text/html": [
       "<div>\n",
       "<style scoped>\n",
       "    .dataframe tbody tr th:only-of-type {\n",
       "        vertical-align: middle;\n",
       "    }\n",
       "\n",
       "    .dataframe tbody tr th {\n",
       "        vertical-align: top;\n",
       "    }\n",
       "\n",
       "    .dataframe thead th {\n",
       "        text-align: right;\n",
       "    }\n",
       "</style>\n",
       "<table border=\"1\" class=\"dataframe\">\n",
       "  <thead>\n",
       "    <tr style=\"text-align: right;\">\n",
       "      <th></th>\n",
       "      <th>Price</th>\n",
       "      <th>Levy</th>\n",
       "      <th>Engine volume</th>\n",
       "      <th>Mileage</th>\n",
       "      <th>Cylinders</th>\n",
       "      <th>Airbags</th>\n",
       "      <th>Age</th>\n",
       "      <th>Category_1</th>\n",
       "      <th>Category_2</th>\n",
       "      <th>Fuel type_CNG</th>\n",
       "      <th>...</th>\n",
       "      <th>Fuel type_LPG</th>\n",
       "      <th>Fuel type_Other</th>\n",
       "      <th>Fuel type_Petrol</th>\n",
       "      <th>Gear box type_1</th>\n",
       "      <th>Gear box type_2</th>\n",
       "      <th>Doors_2-3</th>\n",
       "      <th>Doors_4-5</th>\n",
       "      <th>Doors_&gt;5</th>\n",
       "      <th>Wheel_Left wheel</th>\n",
       "      <th>Wheel_Right-hand drive</th>\n",
       "    </tr>\n",
       "  </thead>\n",
       "  <tbody>\n",
       "    <tr>\n",
       "      <th>0</th>\n",
       "      <td>49.474439</td>\n",
       "      <td>0.629677</td>\n",
       "      <td>0.658421</td>\n",
       "      <td>0.179513</td>\n",
       "      <td>0.333333</td>\n",
       "      <td>0.7500</td>\n",
       "      <td>0.479728</td>\n",
       "      <td>0</td>\n",
       "      <td>1</td>\n",
       "      <td>0</td>\n",
       "      <td>...</td>\n",
       "      <td>0</td>\n",
       "      <td>1</td>\n",
       "      <td>0</td>\n",
       "      <td>1</td>\n",
       "      <td>0</td>\n",
       "      <td>0</td>\n",
       "      <td>1</td>\n",
       "      <td>0</td>\n",
       "      <td>1</td>\n",
       "      <td>0</td>\n",
       "    </tr>\n",
       "    <tr>\n",
       "      <th>1</th>\n",
       "      <td>52.930471</td>\n",
       "      <td>0.566695</td>\n",
       "      <td>0.628821</td>\n",
       "      <td>0.180635</td>\n",
       "      <td>0.333333</td>\n",
       "      <td>0.5000</td>\n",
       "      <td>0.456381</td>\n",
       "      <td>0</td>\n",
       "      <td>1</td>\n",
       "      <td>0</td>\n",
       "      <td>...</td>\n",
       "      <td>0</td>\n",
       "      <td>0</td>\n",
       "      <td>1</td>\n",
       "      <td>0</td>\n",
       "      <td>1</td>\n",
       "      <td>0</td>\n",
       "      <td>1</td>\n",
       "      <td>0</td>\n",
       "      <td>1</td>\n",
       "      <td>0</td>\n",
       "    </tr>\n",
       "    <tr>\n",
       "      <th>2</th>\n",
       "      <td>43.023184</td>\n",
       "      <td>0.512535</td>\n",
       "      <td>0.469937</td>\n",
       "      <td>0.182087</td>\n",
       "      <td>0.200000</td>\n",
       "      <td>0.1250</td>\n",
       "      <td>0.556958</td>\n",
       "      <td>1</td>\n",
       "      <td>0</td>\n",
       "      <td>0</td>\n",
       "      <td>...</td>\n",
       "      <td>0</td>\n",
       "      <td>0</td>\n",
       "      <td>1</td>\n",
       "      <td>1</td>\n",
       "      <td>0</td>\n",
       "      <td>0</td>\n",
       "      <td>1</td>\n",
       "      <td>0</td>\n",
       "      <td>0</td>\n",
       "      <td>1</td>\n",
       "    </tr>\n",
       "    <tr>\n",
       "      <th>3</th>\n",
       "      <td>32.941926</td>\n",
       "      <td>0.532881</td>\n",
       "      <td>0.593937</td>\n",
       "      <td>0.176152</td>\n",
       "      <td>0.200000</td>\n",
       "      <td>0.0000</td>\n",
       "      <td>0.456381</td>\n",
       "      <td>0</td>\n",
       "      <td>1</td>\n",
       "      <td>0</td>\n",
       "      <td>...</td>\n",
       "      <td>0</td>\n",
       "      <td>1</td>\n",
       "      <td>0</td>\n",
       "      <td>1</td>\n",
       "      <td>0</td>\n",
       "      <td>0</td>\n",
       "      <td>1</td>\n",
       "      <td>0</td>\n",
       "      <td>1</td>\n",
       "      <td>0</td>\n",
       "    </tr>\n",
       "    <tr>\n",
       "      <th>4</th>\n",
       "      <td>47.567865</td>\n",
       "      <td>0.392874</td>\n",
       "      <td>0.469937</td>\n",
       "      <td>0.156094</td>\n",
       "      <td>0.200000</td>\n",
       "      <td>0.2500</td>\n",
       "      <td>0.370976</td>\n",
       "      <td>1</td>\n",
       "      <td>0</td>\n",
       "      <td>0</td>\n",
       "      <td>...</td>\n",
       "      <td>0</td>\n",
       "      <td>0</td>\n",
       "      <td>1</td>\n",
       "      <td>1</td>\n",
       "      <td>0</td>\n",
       "      <td>0</td>\n",
       "      <td>1</td>\n",
       "      <td>0</td>\n",
       "      <td>1</td>\n",
       "      <td>0</td>\n",
       "    </tr>\n",
       "    <tr>\n",
       "      <th>...</th>\n",
       "      <td>...</td>\n",
       "      <td>...</td>\n",
       "      <td>...</td>\n",
       "      <td>...</td>\n",
       "      <td>...</td>\n",
       "      <td>...</td>\n",
       "      <td>...</td>\n",
       "      <td>...</td>\n",
       "      <td>...</td>\n",
       "      <td>...</td>\n",
       "      <td>...</td>\n",
       "      <td>...</td>\n",
       "      <td>...</td>\n",
       "      <td>...</td>\n",
       "      <td>...</td>\n",
       "      <td>...</td>\n",
       "      <td>...</td>\n",
       "      <td>...</td>\n",
       "      <td>...</td>\n",
       "      <td>...</td>\n",
       "      <td>...</td>\n",
       "    </tr>\n",
       "    <tr>\n",
       "      <th>18962</th>\n",
       "      <td>43.023184</td>\n",
       "      <td>0.512535</td>\n",
       "      <td>0.551429</td>\n",
       "      <td>0.197086</td>\n",
       "      <td>0.200000</td>\n",
       "      <td>0.3125</td>\n",
       "      <td>0.654463</td>\n",
       "      <td>0</td>\n",
       "      <td>1</td>\n",
       "      <td>1</td>\n",
       "      <td>...</td>\n",
       "      <td>0</td>\n",
       "      <td>0</td>\n",
       "      <td>0</td>\n",
       "      <td>0</td>\n",
       "      <td>1</td>\n",
       "      <td>1</td>\n",
       "      <td>0</td>\n",
       "      <td>0</td>\n",
       "      <td>1</td>\n",
       "      <td>0</td>\n",
       "    </tr>\n",
       "    <tr>\n",
       "      <th>18963</th>\n",
       "      <td>51.997927</td>\n",
       "      <td>0.525355</td>\n",
       "      <td>0.586145</td>\n",
       "      <td>0.174611</td>\n",
       "      <td>0.200000</td>\n",
       "      <td>0.5000</td>\n",
       "      <td>0.456381</td>\n",
       "      <td>1</td>\n",
       "      <td>0</td>\n",
       "      <td>0</td>\n",
       "      <td>...</td>\n",
       "      <td>0</td>\n",
       "      <td>0</td>\n",
       "      <td>1</td>\n",
       "      <td>0</td>\n",
       "      <td>1</td>\n",
       "      <td>0</td>\n",
       "      <td>1</td>\n",
       "      <td>0</td>\n",
       "      <td>1</td>\n",
       "      <td>0</td>\n",
       "    </tr>\n",
       "    <tr>\n",
       "      <th>18964</th>\n",
       "      <td>60.716837</td>\n",
       "      <td>0.526589</td>\n",
       "      <td>0.551429</td>\n",
       "      <td>0.163619</td>\n",
       "      <td>0.200000</td>\n",
       "      <td>0.2500</td>\n",
       "      <td>0.479728</td>\n",
       "      <td>0</td>\n",
       "      <td>1</td>\n",
       "      <td>0</td>\n",
       "      <td>...</td>\n",
       "      <td>0</td>\n",
       "      <td>0</td>\n",
       "      <td>0</td>\n",
       "      <td>1</td>\n",
       "      <td>0</td>\n",
       "      <td>0</td>\n",
       "      <td>1</td>\n",
       "      <td>0</td>\n",
       "      <td>1</td>\n",
       "      <td>0</td>\n",
       "    </tr>\n",
       "    <tr>\n",
       "      <th>18965</th>\n",
       "      <td>37.253177</td>\n",
       "      <td>0.613505</td>\n",
       "      <td>0.551429</td>\n",
       "      <td>0.138741</td>\n",
       "      <td>0.200000</td>\n",
       "      <td>0.2500</td>\n",
       "      <td>0.539627</td>\n",
       "      <td>0</td>\n",
       "      <td>1</td>\n",
       "      <td>0</td>\n",
       "      <td>...</td>\n",
       "      <td>0</td>\n",
       "      <td>0</td>\n",
       "      <td>0</td>\n",
       "      <td>1</td>\n",
       "      <td>0</td>\n",
       "      <td>0</td>\n",
       "      <td>1</td>\n",
       "      <td>0</td>\n",
       "      <td>1</td>\n",
       "      <td>0</td>\n",
       "    </tr>\n",
       "    <tr>\n",
       "      <th>18966</th>\n",
       "      <td>16.837872</td>\n",
       "      <td>0.504954</td>\n",
       "      <td>0.586145</td>\n",
       "      <td>0.179686</td>\n",
       "      <td>0.200000</td>\n",
       "      <td>0.7500</td>\n",
       "      <td>0.430813</td>\n",
       "      <td>1</td>\n",
       "      <td>0</td>\n",
       "      <td>0</td>\n",
       "      <td>...</td>\n",
       "      <td>0</td>\n",
       "      <td>1</td>\n",
       "      <td>0</td>\n",
       "      <td>1</td>\n",
       "      <td>0</td>\n",
       "      <td>0</td>\n",
       "      <td>1</td>\n",
       "      <td>0</td>\n",
       "      <td>1</td>\n",
       "      <td>0</td>\n",
       "    </tr>\n",
       "  </tbody>\n",
       "</table>\n",
       "<p>18967 rows × 21 columns</p>\n",
       "</div>"
      ],
      "text/plain": [
       "           Price      Levy  Engine volume   Mileage  Cylinders  Airbags  \\\n",
       "0      49.474439  0.629677       0.658421  0.179513   0.333333   0.7500   \n",
       "1      52.930471  0.566695       0.628821  0.180635   0.333333   0.5000   \n",
       "2      43.023184  0.512535       0.469937  0.182087   0.200000   0.1250   \n",
       "3      32.941926  0.532881       0.593937  0.176152   0.200000   0.0000   \n",
       "4      47.567865  0.392874       0.469937  0.156094   0.200000   0.2500   \n",
       "...          ...       ...            ...       ...        ...      ...   \n",
       "18962  43.023184  0.512535       0.551429  0.197086   0.200000   0.3125   \n",
       "18963  51.997927  0.525355       0.586145  0.174611   0.200000   0.5000   \n",
       "18964  60.716837  0.526589       0.551429  0.163619   0.200000   0.2500   \n",
       "18965  37.253177  0.613505       0.551429  0.138741   0.200000   0.2500   \n",
       "18966  16.837872  0.504954       0.586145  0.179686   0.200000   0.7500   \n",
       "\n",
       "            Age  Category_1  Category_2  Fuel type_CNG  ...  Fuel type_LPG  \\\n",
       "0      0.479728           0           1              0  ...              0   \n",
       "1      0.456381           0           1              0  ...              0   \n",
       "2      0.556958           1           0              0  ...              0   \n",
       "3      0.456381           0           1              0  ...              0   \n",
       "4      0.370976           1           0              0  ...              0   \n",
       "...         ...         ...         ...            ...  ...            ...   \n",
       "18962  0.654463           0           1              1  ...              0   \n",
       "18963  0.456381           1           0              0  ...              0   \n",
       "18964  0.479728           0           1              0  ...              0   \n",
       "18965  0.539627           0           1              0  ...              0   \n",
       "18966  0.430813           1           0              0  ...              0   \n",
       "\n",
       "       Fuel type_Other  Fuel type_Petrol  Gear box type_1  Gear box type_2  \\\n",
       "0                    1                 0                1                0   \n",
       "1                    0                 1                0                1   \n",
       "2                    0                 1                1                0   \n",
       "3                    1                 0                1                0   \n",
       "4                    0                 1                1                0   \n",
       "...                ...               ...              ...              ...   \n",
       "18962                0                 0                0                1   \n",
       "18963                0                 1                0                1   \n",
       "18964                0                 0                1                0   \n",
       "18965                0                 0                1                0   \n",
       "18966                1                 0                1                0   \n",
       "\n",
       "       Doors_2-3  Doors_4-5  Doors_>5  Wheel_Left wheel  \\\n",
       "0              0          1         0                 1   \n",
       "1              0          1         0                 1   \n",
       "2              0          1         0                 0   \n",
       "3              0          1         0                 1   \n",
       "4              0          1         0                 1   \n",
       "...          ...        ...       ...               ...   \n",
       "18962          1          0         0                 1   \n",
       "18963          0          1         0                 1   \n",
       "18964          0          1         0                 1   \n",
       "18965          0          1         0                 1   \n",
       "18966          0          1         0                 1   \n",
       "\n",
       "       Wheel_Right-hand drive  \n",
       "0                           0  \n",
       "1                           0  \n",
       "2                           1  \n",
       "3                           0  \n",
       "4                           0  \n",
       "...                       ...  \n",
       "18962                       0  \n",
       "18963                       0  \n",
       "18964                       0  \n",
       "18965                       0  \n",
       "18966                       0  \n",
       "\n",
       "[18967 rows x 21 columns]"
      ]
     },
     "execution_count": 94,
     "metadata": {},
     "output_type": "execute_result"
    }
   ],
   "source": [
    "### One Hot Encoding the columns - Category, Fuel type, Gear box type, Doors, Wheel of the dataset\n",
    "\n",
    "encoded_dataset = pd.get_dummies(data = dataset, columns = ['Category', 'Fuel type', 'Gear box type', 'Doors', 'Wheel'])\n",
    "encoded_dataset"
   ]
  },
  {
   "cell_type": "code",
   "execution_count": 95,
   "id": "02dd0e03",
   "metadata": {},
   "outputs": [
    {
     "data": {
      "text/html": [
       "<div>\n",
       "<style scoped>\n",
       "    .dataframe tbody tr th:only-of-type {\n",
       "        vertical-align: middle;\n",
       "    }\n",
       "\n",
       "    .dataframe tbody tr th {\n",
       "        vertical-align: top;\n",
       "    }\n",
       "\n",
       "    .dataframe thead th {\n",
       "        text-align: right;\n",
       "    }\n",
       "</style>\n",
       "<table border=\"1\" class=\"dataframe\">\n",
       "  <thead>\n",
       "    <tr style=\"text-align: right;\">\n",
       "      <th></th>\n",
       "      <th>Levy</th>\n",
       "      <th>Engine volume</th>\n",
       "      <th>Mileage</th>\n",
       "      <th>Cylinders</th>\n",
       "      <th>Airbags</th>\n",
       "      <th>Age</th>\n",
       "      <th>Category_1</th>\n",
       "      <th>Category_2</th>\n",
       "      <th>Fuel type_CNG</th>\n",
       "      <th>Fuel type_Diesel</th>\n",
       "      <th>...</th>\n",
       "      <th>Fuel type_Other</th>\n",
       "      <th>Fuel type_Petrol</th>\n",
       "      <th>Gear box type_1</th>\n",
       "      <th>Gear box type_2</th>\n",
       "      <th>Doors_2-3</th>\n",
       "      <th>Doors_4-5</th>\n",
       "      <th>Doors_&gt;5</th>\n",
       "      <th>Wheel_Left wheel</th>\n",
       "      <th>Wheel_Right-hand drive</th>\n",
       "      <th>Target</th>\n",
       "    </tr>\n",
       "  </thead>\n",
       "  <tbody>\n",
       "    <tr>\n",
       "      <th>0</th>\n",
       "      <td>0.629677</td>\n",
       "      <td>0.658421</td>\n",
       "      <td>0.179513</td>\n",
       "      <td>0.333333</td>\n",
       "      <td>0.7500</td>\n",
       "      <td>0.479728</td>\n",
       "      <td>0</td>\n",
       "      <td>1</td>\n",
       "      <td>0</td>\n",
       "      <td>0</td>\n",
       "      <td>...</td>\n",
       "      <td>1</td>\n",
       "      <td>0</td>\n",
       "      <td>1</td>\n",
       "      <td>0</td>\n",
       "      <td>0</td>\n",
       "      <td>1</td>\n",
       "      <td>0</td>\n",
       "      <td>1</td>\n",
       "      <td>0</td>\n",
       "      <td>49.474439</td>\n",
       "    </tr>\n",
       "    <tr>\n",
       "      <th>1</th>\n",
       "      <td>0.566695</td>\n",
       "      <td>0.628821</td>\n",
       "      <td>0.180635</td>\n",
       "      <td>0.333333</td>\n",
       "      <td>0.5000</td>\n",
       "      <td>0.456381</td>\n",
       "      <td>0</td>\n",
       "      <td>1</td>\n",
       "      <td>0</td>\n",
       "      <td>0</td>\n",
       "      <td>...</td>\n",
       "      <td>0</td>\n",
       "      <td>1</td>\n",
       "      <td>0</td>\n",
       "      <td>1</td>\n",
       "      <td>0</td>\n",
       "      <td>1</td>\n",
       "      <td>0</td>\n",
       "      <td>1</td>\n",
       "      <td>0</td>\n",
       "      <td>52.930471</td>\n",
       "    </tr>\n",
       "    <tr>\n",
       "      <th>2</th>\n",
       "      <td>0.512535</td>\n",
       "      <td>0.469937</td>\n",
       "      <td>0.182087</td>\n",
       "      <td>0.200000</td>\n",
       "      <td>0.1250</td>\n",
       "      <td>0.556958</td>\n",
       "      <td>1</td>\n",
       "      <td>0</td>\n",
       "      <td>0</td>\n",
       "      <td>0</td>\n",
       "      <td>...</td>\n",
       "      <td>0</td>\n",
       "      <td>1</td>\n",
       "      <td>1</td>\n",
       "      <td>0</td>\n",
       "      <td>0</td>\n",
       "      <td>1</td>\n",
       "      <td>0</td>\n",
       "      <td>0</td>\n",
       "      <td>1</td>\n",
       "      <td>43.023184</td>\n",
       "    </tr>\n",
       "    <tr>\n",
       "      <th>3</th>\n",
       "      <td>0.532881</td>\n",
       "      <td>0.593937</td>\n",
       "      <td>0.176152</td>\n",
       "      <td>0.200000</td>\n",
       "      <td>0.0000</td>\n",
       "      <td>0.456381</td>\n",
       "      <td>0</td>\n",
       "      <td>1</td>\n",
       "      <td>0</td>\n",
       "      <td>0</td>\n",
       "      <td>...</td>\n",
       "      <td>1</td>\n",
       "      <td>0</td>\n",
       "      <td>1</td>\n",
       "      <td>0</td>\n",
       "      <td>0</td>\n",
       "      <td>1</td>\n",
       "      <td>0</td>\n",
       "      <td>1</td>\n",
       "      <td>0</td>\n",
       "      <td>32.941926</td>\n",
       "    </tr>\n",
       "    <tr>\n",
       "      <th>4</th>\n",
       "      <td>0.392874</td>\n",
       "      <td>0.469937</td>\n",
       "      <td>0.156094</td>\n",
       "      <td>0.200000</td>\n",
       "      <td>0.2500</td>\n",
       "      <td>0.370976</td>\n",
       "      <td>1</td>\n",
       "      <td>0</td>\n",
       "      <td>0</td>\n",
       "      <td>0</td>\n",
       "      <td>...</td>\n",
       "      <td>0</td>\n",
       "      <td>1</td>\n",
       "      <td>1</td>\n",
       "      <td>0</td>\n",
       "      <td>0</td>\n",
       "      <td>1</td>\n",
       "      <td>0</td>\n",
       "      <td>1</td>\n",
       "      <td>0</td>\n",
       "      <td>47.567865</td>\n",
       "    </tr>\n",
       "    <tr>\n",
       "      <th>...</th>\n",
       "      <td>...</td>\n",
       "      <td>...</td>\n",
       "      <td>...</td>\n",
       "      <td>...</td>\n",
       "      <td>...</td>\n",
       "      <td>...</td>\n",
       "      <td>...</td>\n",
       "      <td>...</td>\n",
       "      <td>...</td>\n",
       "      <td>...</td>\n",
       "      <td>...</td>\n",
       "      <td>...</td>\n",
       "      <td>...</td>\n",
       "      <td>...</td>\n",
       "      <td>...</td>\n",
       "      <td>...</td>\n",
       "      <td>...</td>\n",
       "      <td>...</td>\n",
       "      <td>...</td>\n",
       "      <td>...</td>\n",
       "      <td>...</td>\n",
       "    </tr>\n",
       "    <tr>\n",
       "      <th>18962</th>\n",
       "      <td>0.512535</td>\n",
       "      <td>0.551429</td>\n",
       "      <td>0.197086</td>\n",
       "      <td>0.200000</td>\n",
       "      <td>0.3125</td>\n",
       "      <td>0.654463</td>\n",
       "      <td>0</td>\n",
       "      <td>1</td>\n",
       "      <td>1</td>\n",
       "      <td>0</td>\n",
       "      <td>...</td>\n",
       "      <td>0</td>\n",
       "      <td>0</td>\n",
       "      <td>0</td>\n",
       "      <td>1</td>\n",
       "      <td>1</td>\n",
       "      <td>0</td>\n",
       "      <td>0</td>\n",
       "      <td>1</td>\n",
       "      <td>0</td>\n",
       "      <td>43.023184</td>\n",
       "    </tr>\n",
       "    <tr>\n",
       "      <th>18963</th>\n",
       "      <td>0.525355</td>\n",
       "      <td>0.586145</td>\n",
       "      <td>0.174611</td>\n",
       "      <td>0.200000</td>\n",
       "      <td>0.5000</td>\n",
       "      <td>0.456381</td>\n",
       "      <td>1</td>\n",
       "      <td>0</td>\n",
       "      <td>0</td>\n",
       "      <td>0</td>\n",
       "      <td>...</td>\n",
       "      <td>0</td>\n",
       "      <td>1</td>\n",
       "      <td>0</td>\n",
       "      <td>1</td>\n",
       "      <td>0</td>\n",
       "      <td>1</td>\n",
       "      <td>0</td>\n",
       "      <td>1</td>\n",
       "      <td>0</td>\n",
       "      <td>51.997927</td>\n",
       "    </tr>\n",
       "    <tr>\n",
       "      <th>18964</th>\n",
       "      <td>0.526589</td>\n",
       "      <td>0.551429</td>\n",
       "      <td>0.163619</td>\n",
       "      <td>0.200000</td>\n",
       "      <td>0.2500</td>\n",
       "      <td>0.479728</td>\n",
       "      <td>0</td>\n",
       "      <td>1</td>\n",
       "      <td>0</td>\n",
       "      <td>1</td>\n",
       "      <td>...</td>\n",
       "      <td>0</td>\n",
       "      <td>0</td>\n",
       "      <td>1</td>\n",
       "      <td>0</td>\n",
       "      <td>0</td>\n",
       "      <td>1</td>\n",
       "      <td>0</td>\n",
       "      <td>1</td>\n",
       "      <td>0</td>\n",
       "      <td>60.716837</td>\n",
       "    </tr>\n",
       "    <tr>\n",
       "      <th>18965</th>\n",
       "      <td>0.613505</td>\n",
       "      <td>0.551429</td>\n",
       "      <td>0.138741</td>\n",
       "      <td>0.200000</td>\n",
       "      <td>0.2500</td>\n",
       "      <td>0.539627</td>\n",
       "      <td>0</td>\n",
       "      <td>1</td>\n",
       "      <td>0</td>\n",
       "      <td>1</td>\n",
       "      <td>...</td>\n",
       "      <td>0</td>\n",
       "      <td>0</td>\n",
       "      <td>1</td>\n",
       "      <td>0</td>\n",
       "      <td>0</td>\n",
       "      <td>1</td>\n",
       "      <td>0</td>\n",
       "      <td>1</td>\n",
       "      <td>0</td>\n",
       "      <td>37.253177</td>\n",
       "    </tr>\n",
       "    <tr>\n",
       "      <th>18966</th>\n",
       "      <td>0.504954</td>\n",
       "      <td>0.586145</td>\n",
       "      <td>0.179686</td>\n",
       "      <td>0.200000</td>\n",
       "      <td>0.7500</td>\n",
       "      <td>0.430813</td>\n",
       "      <td>1</td>\n",
       "      <td>0</td>\n",
       "      <td>0</td>\n",
       "      <td>0</td>\n",
       "      <td>...</td>\n",
       "      <td>1</td>\n",
       "      <td>0</td>\n",
       "      <td>1</td>\n",
       "      <td>0</td>\n",
       "      <td>0</td>\n",
       "      <td>1</td>\n",
       "      <td>0</td>\n",
       "      <td>1</td>\n",
       "      <td>0</td>\n",
       "      <td>16.837872</td>\n",
       "    </tr>\n",
       "  </tbody>\n",
       "</table>\n",
       "<p>18967 rows × 21 columns</p>\n",
       "</div>"
      ],
      "text/plain": [
       "           Levy  Engine volume   Mileage  Cylinders  Airbags       Age  \\\n",
       "0      0.629677       0.658421  0.179513   0.333333   0.7500  0.479728   \n",
       "1      0.566695       0.628821  0.180635   0.333333   0.5000  0.456381   \n",
       "2      0.512535       0.469937  0.182087   0.200000   0.1250  0.556958   \n",
       "3      0.532881       0.593937  0.176152   0.200000   0.0000  0.456381   \n",
       "4      0.392874       0.469937  0.156094   0.200000   0.2500  0.370976   \n",
       "...         ...            ...       ...        ...      ...       ...   \n",
       "18962  0.512535       0.551429  0.197086   0.200000   0.3125  0.654463   \n",
       "18963  0.525355       0.586145  0.174611   0.200000   0.5000  0.456381   \n",
       "18964  0.526589       0.551429  0.163619   0.200000   0.2500  0.479728   \n",
       "18965  0.613505       0.551429  0.138741   0.200000   0.2500  0.539627   \n",
       "18966  0.504954       0.586145  0.179686   0.200000   0.7500  0.430813   \n",
       "\n",
       "       Category_1  Category_2  Fuel type_CNG  Fuel type_Diesel  ...  \\\n",
       "0               0           1              0                 0  ...   \n",
       "1               0           1              0                 0  ...   \n",
       "2               1           0              0                 0  ...   \n",
       "3               0           1              0                 0  ...   \n",
       "4               1           0              0                 0  ...   \n",
       "...           ...         ...            ...               ...  ...   \n",
       "18962           0           1              1                 0  ...   \n",
       "18963           1           0              0                 0  ...   \n",
       "18964           0           1              0                 1  ...   \n",
       "18965           0           1              0                 1  ...   \n",
       "18966           1           0              0                 0  ...   \n",
       "\n",
       "       Fuel type_Other  Fuel type_Petrol  Gear box type_1  Gear box type_2  \\\n",
       "0                    1                 0                1                0   \n",
       "1                    0                 1                0                1   \n",
       "2                    0                 1                1                0   \n",
       "3                    1                 0                1                0   \n",
       "4                    0                 1                1                0   \n",
       "...                ...               ...              ...              ...   \n",
       "18962                0                 0                0                1   \n",
       "18963                0                 1                0                1   \n",
       "18964                0                 0                1                0   \n",
       "18965                0                 0                1                0   \n",
       "18966                1                 0                1                0   \n",
       "\n",
       "       Doors_2-3  Doors_4-5  Doors_>5  Wheel_Left wheel  \\\n",
       "0              0          1         0                 1   \n",
       "1              0          1         0                 1   \n",
       "2              0          1         0                 0   \n",
       "3              0          1         0                 1   \n",
       "4              0          1         0                 1   \n",
       "...          ...        ...       ...               ...   \n",
       "18962          1          0         0                 1   \n",
       "18963          0          1         0                 1   \n",
       "18964          0          1         0                 1   \n",
       "18965          0          1         0                 1   \n",
       "18966          0          1         0                 1   \n",
       "\n",
       "       Wheel_Right-hand drive     Target  \n",
       "0                           0  49.474439  \n",
       "1                           0  52.930471  \n",
       "2                           1  43.023184  \n",
       "3                           0  32.941926  \n",
       "4                           0  47.567865  \n",
       "...                       ...        ...  \n",
       "18962                       0  43.023184  \n",
       "18963                       0  51.997927  \n",
       "18964                       0  60.716837  \n",
       "18965                       0  37.253177  \n",
       "18966                       0  16.837872  \n",
       "\n",
       "[18967 rows x 21 columns]"
      ]
     },
     "execution_count": 95,
     "metadata": {},
     "output_type": "execute_result"
    }
   ],
   "source": [
    "### Create the column - Target using Price\n",
    "\n",
    "target_data = encoded_dataset['Price']\n",
    "encoded_dataset['Target'] = target_data\n",
    "\n",
    "### Dropping the column - Price\n",
    "\n",
    "encoded_dataset.drop(['Price'], axis = 1, inplace = True)\n",
    "encoded_dataset"
   ]
  },
  {
   "cell_type": "markdown",
   "id": "f1ced2fc",
   "metadata": {},
   "source": [
    "#### 4.6 Feature Selection"
   ]
  },
  {
   "cell_type": "markdown",
   "id": "91deb359",
   "metadata": {},
   "source": [
    "Feature selection is the process of reducing the number of input variables when developing a predictive model. It is desirable to reduce the number of input variables to both reduce the computational cost of modeling and, in some cases, to improve the performance of the model."
   ]
  },
  {
   "cell_type": "markdown",
   "id": "ab749e5b",
   "metadata": {},
   "source": [
    "##### 4.6.1 Plotting the correlation matrix for the numerical columns"
   ]
  },
  {
   "cell_type": "code",
   "execution_count": 96,
   "id": "39287021",
   "metadata": {},
   "outputs": [
    {
     "data": {
      "text/html": [
       "<div>\n",
       "<style scoped>\n",
       "    .dataframe tbody tr th:only-of-type {\n",
       "        vertical-align: middle;\n",
       "    }\n",
       "\n",
       "    .dataframe tbody tr th {\n",
       "        vertical-align: top;\n",
       "    }\n",
       "\n",
       "    .dataframe thead th {\n",
       "        text-align: right;\n",
       "    }\n",
       "</style>\n",
       "<table border=\"1\" class=\"dataframe\">\n",
       "  <thead>\n",
       "    <tr style=\"text-align: right;\">\n",
       "      <th></th>\n",
       "      <th>Levy</th>\n",
       "      <th>Engine volume</th>\n",
       "      <th>Mileage</th>\n",
       "      <th>Cylinders</th>\n",
       "      <th>Airbags</th>\n",
       "      <th>Age</th>\n",
       "    </tr>\n",
       "  </thead>\n",
       "  <tbody>\n",
       "    <tr>\n",
       "      <th>0</th>\n",
       "      <td>0.629677</td>\n",
       "      <td>0.658421</td>\n",
       "      <td>0.179513</td>\n",
       "      <td>0.333333</td>\n",
       "      <td>0.7500</td>\n",
       "      <td>0.479728</td>\n",
       "    </tr>\n",
       "    <tr>\n",
       "      <th>1</th>\n",
       "      <td>0.566695</td>\n",
       "      <td>0.628821</td>\n",
       "      <td>0.180635</td>\n",
       "      <td>0.333333</td>\n",
       "      <td>0.5000</td>\n",
       "      <td>0.456381</td>\n",
       "    </tr>\n",
       "    <tr>\n",
       "      <th>2</th>\n",
       "      <td>0.512535</td>\n",
       "      <td>0.469937</td>\n",
       "      <td>0.182087</td>\n",
       "      <td>0.200000</td>\n",
       "      <td>0.1250</td>\n",
       "      <td>0.556958</td>\n",
       "    </tr>\n",
       "    <tr>\n",
       "      <th>3</th>\n",
       "      <td>0.532881</td>\n",
       "      <td>0.593937</td>\n",
       "      <td>0.176152</td>\n",
       "      <td>0.200000</td>\n",
       "      <td>0.0000</td>\n",
       "      <td>0.456381</td>\n",
       "    </tr>\n",
       "    <tr>\n",
       "      <th>4</th>\n",
       "      <td>0.392874</td>\n",
       "      <td>0.469937</td>\n",
       "      <td>0.156094</td>\n",
       "      <td>0.200000</td>\n",
       "      <td>0.2500</td>\n",
       "      <td>0.370976</td>\n",
       "    </tr>\n",
       "    <tr>\n",
       "      <th>...</th>\n",
       "      <td>...</td>\n",
       "      <td>...</td>\n",
       "      <td>...</td>\n",
       "      <td>...</td>\n",
       "      <td>...</td>\n",
       "      <td>...</td>\n",
       "    </tr>\n",
       "    <tr>\n",
       "      <th>18962</th>\n",
       "      <td>0.512535</td>\n",
       "      <td>0.551429</td>\n",
       "      <td>0.197086</td>\n",
       "      <td>0.200000</td>\n",
       "      <td>0.3125</td>\n",
       "      <td>0.654463</td>\n",
       "    </tr>\n",
       "    <tr>\n",
       "      <th>18963</th>\n",
       "      <td>0.525355</td>\n",
       "      <td>0.586145</td>\n",
       "      <td>0.174611</td>\n",
       "      <td>0.200000</td>\n",
       "      <td>0.5000</td>\n",
       "      <td>0.456381</td>\n",
       "    </tr>\n",
       "    <tr>\n",
       "      <th>18964</th>\n",
       "      <td>0.526589</td>\n",
       "      <td>0.551429</td>\n",
       "      <td>0.163619</td>\n",
       "      <td>0.200000</td>\n",
       "      <td>0.2500</td>\n",
       "      <td>0.479728</td>\n",
       "    </tr>\n",
       "    <tr>\n",
       "      <th>18965</th>\n",
       "      <td>0.613505</td>\n",
       "      <td>0.551429</td>\n",
       "      <td>0.138741</td>\n",
       "      <td>0.200000</td>\n",
       "      <td>0.2500</td>\n",
       "      <td>0.539627</td>\n",
       "    </tr>\n",
       "    <tr>\n",
       "      <th>18966</th>\n",
       "      <td>0.504954</td>\n",
       "      <td>0.586145</td>\n",
       "      <td>0.179686</td>\n",
       "      <td>0.200000</td>\n",
       "      <td>0.7500</td>\n",
       "      <td>0.430813</td>\n",
       "    </tr>\n",
       "  </tbody>\n",
       "</table>\n",
       "<p>18967 rows × 6 columns</p>\n",
       "</div>"
      ],
      "text/plain": [
       "           Levy  Engine volume   Mileage  Cylinders  Airbags       Age\n",
       "0      0.629677       0.658421  0.179513   0.333333   0.7500  0.479728\n",
       "1      0.566695       0.628821  0.180635   0.333333   0.5000  0.456381\n",
       "2      0.512535       0.469937  0.182087   0.200000   0.1250  0.556958\n",
       "3      0.532881       0.593937  0.176152   0.200000   0.0000  0.456381\n",
       "4      0.392874       0.469937  0.156094   0.200000   0.2500  0.370976\n",
       "...         ...            ...       ...        ...      ...       ...\n",
       "18962  0.512535       0.551429  0.197086   0.200000   0.3125  0.654463\n",
       "18963  0.525355       0.586145  0.174611   0.200000   0.5000  0.456381\n",
       "18964  0.526589       0.551429  0.163619   0.200000   0.2500  0.479728\n",
       "18965  0.613505       0.551429  0.138741   0.200000   0.2500  0.539627\n",
       "18966  0.504954       0.586145  0.179686   0.200000   0.7500  0.430813\n",
       "\n",
       "[18967 rows x 6 columns]"
      ]
     },
     "execution_count": 96,
     "metadata": {},
     "output_type": "execute_result"
    }
   ],
   "source": [
    "### Creating a filter_dataset\n",
    "\n",
    "filter_dataset = encoded_dataset[['Levy', 'Engine volume', 'Mileage', 'Cylinders', 'Airbags', 'Age']]\n",
    "filter_dataset"
   ]
  },
  {
   "cell_type": "code",
   "execution_count": 97,
   "id": "9faf4dfa",
   "metadata": {},
   "outputs": [
    {
     "data": {
      "text/plain": [
       "Text(0.5, 1.0, 'Correlation Heatmap')"
      ]
     },
     "execution_count": 97,
     "metadata": {},
     "output_type": "execute_result"
    },
    {
     "data": {
      "image/png": "[encoded data removed]",
      "text/plain": [
       "<Figure size 432x432 with 2 Axes>"
      ]
     },
     "metadata": {
      "needs_background": "light"
     },
     "output_type": "display_data"
    }
   ],
   "source": [
    "### Plotting the correlation between various columns of the filter_dataset\n",
    "\n",
    "plt.figure(figsize = (6, 6))\n",
    "heatmap = sns.heatmap(filter_dataset.corr(), vmin = -1, vmax = 1, annot = True)\n",
    "heatmap.set_title('Correlation Heatmap', fontdict = {'fontsize' : 12}, pad = 12)"
   ]
  },
  {
   "cell_type": "markdown",
   "id": "857bf76a",
   "metadata": {},
   "source": [
    "##### 4.6.2 Removing the columns that cause multicollinearity using VIF"
   ]
  },
  {
   "cell_type": "code",
   "execution_count": 98,
   "id": "33e924b5",
   "metadata": {},
   "outputs": [
    {
     "name": "stdout",
     "output_type": "stream",
     "text": [
      "R Square value of Levy column is 0.3 keeping all other columns as features\n",
      "Variance Inflation Factor of Levy column is 1.43 \n",
      "\n",
      "R Square value of Engine volume column is 0.59 keeping all other columns as features\n",
      "Variance Inflation Factor of Engine volume column is 2.41 \n",
      "\n",
      "R Square value of Mileage column is 0.03 keeping all other columns as features\n",
      "Variance Inflation Factor of Mileage column is 1.03 \n",
      "\n",
      "R Square value of Cylinders column is 0.51 keeping all other columns as features\n",
      "Variance Inflation Factor of Cylinders column is 2.04 \n",
      "\n",
      "R Square value of Airbags column is 0.12 keeping all other columns as features\n",
      "Variance Inflation Factor of Airbags column is 1.14 \n",
      "\n",
      "R Square value of Age column is 0.1 keeping all other columns as features\n",
      "Variance Inflation Factor of Age column is 1.11 \n",
      "\n"
     ]
    }
   ],
   "source": [
    "### Detecting the columns that cause multicollinearity using VIF\n",
    "\n",
    "names = ['Levy', 'Engine volume', 'Mileage', 'Cylinders', 'Airbags', 'Age']\n",
    "\n",
    "for i in range(len(names)):\n",
    "    y = filter_dataset.iloc[:, filter_dataset.columns == names[i]].values\n",
    "    x = filter_dataset.iloc[:, filter_dataset.columns != names[i]].values\n",
    "    x = sm.add_constant(x)\n",
    "    model = sm.OLS(y, x)\n",
    "    results = model.fit()\n",
    "    \n",
    "    rsq = results.rsquared\n",
    "    vif = round(1 / (1 - rsq), 2)\n",
    "    print(\n",
    "        \"R Square value of {} column is {} keeping all other columns as features\".format(\n",
    "            names[i], (round(rsq, 2))\n",
    "        )\n",
    "    )\n",
    "    print(\n",
    "        \"Variance Inflation Factor of {} column is {} \\n\".format(\n",
    "            names[i], vif)\n",
    "        )"
   ]
  },
  {
   "cell_type": "markdown",
   "id": "021f339b",
   "metadata": {},
   "source": [
    "Since there is no column with a VIF of greater than 10, we will keep all the columns. Now our datasets are ready to modelling."
   ]
  },
  {
   "cell_type": "markdown",
   "id": "ce98a79d",
   "metadata": {},
   "source": [
    "### 5. Modelling"
   ]
  },
  {
   "cell_type": "markdown",
   "id": "0be955bd",
   "metadata": {},
   "source": [
    "Scikit-learn is one of the most popular libraries for machine learning in Python and that is what we will use in the modelling part of this project.\n",
    "\n",
    "Since Car Price Prediction is a regression problem, we will need to use regression models, also known as regressors, to train on our model to make predictions. I highly recommend checking out the scikit-learn documentation for more information on the different machine learning models available in their library. I have chosen the following regression models for the job:\n",
    "\n",
    "1. Multi Linear Regression\n",
    "2. Lasso Regression\n",
    "3. Ridge Regression\n",
    "4. Support Vector Regression\n",
    "5. Decision Tree regression\n",
    "6. Random Forest Regression\n",
    "7. Stacking Regression\n",
    "8. XGBoost Regression \n",
    "\n",
    "In this section of the notebook, I will fit the models to the training set as outlined above and evaluate their Root Mean Squared Error (RMSE), R-squared at making predictions. Then, we will select the best model based on those values."
   ]
  },
  {
   "cell_type": "markdown",
   "id": "e0283765",
   "metadata": {},
   "source": [
    "#### 5.1 Splitting the data to Training and Test sets"
   ]
  },
  {
   "cell_type": "markdown",
   "id": "6dc2b7d6",
   "metadata": {},
   "source": [
    "Here, we will split the training data into X_train, X_test, Y_train, and Y_test so that they can be fed to the machine learning models that are used in the next section. Then the model with the best performance will be used to predict the result on the given test dataset."
   ]
  },
  {
   "cell_type": "code",
   "execution_count": 99,
   "id": "563700e2",
   "metadata": {},
   "outputs": [],
   "source": [
    "### Splitting the dataset to the matrices X and Y\n",
    "\n",
    "X = encoded_dataset.iloc[:, : -1].values\n",
    "Y = encoded_dataset.iloc[:, -1].values"
   ]
  },
  {
   "cell_type": "code",
   "execution_count": 100,
   "id": "44f05fc8",
   "metadata": {},
   "outputs": [
    {
     "data": {
      "text/plain": [
       "array([[0.62967695, 0.65842071, 0.17951255, ..., 0.        , 1.        ,\n",
       "        0.        ],\n",
       "       [0.56669518, 0.62882066, 0.18063451, ..., 0.        , 1.        ,\n",
       "        0.        ],\n",
       "       [0.51253544, 0.46993749, 0.18208737, ..., 0.        , 0.        ,\n",
       "        1.        ],\n",
       "       ...,\n",
       "       [0.52658936, 0.55142852, 0.16361879, ..., 0.        , 1.        ,\n",
       "        0.        ],\n",
       "       [0.61350496, 0.55142852, 0.1387409 , ..., 0.        , 1.        ,\n",
       "        0.        ],\n",
       "       [0.50495351, 0.58614549, 0.17968628, ..., 0.        , 1.        ,\n",
       "        0.        ]])"
      ]
     },
     "execution_count": 100,
     "metadata": {},
     "output_type": "execute_result"
    }
   ],
   "source": [
    "### Looking at the new training data - X\n",
    "\n",
    "X"
   ]
  },
  {
   "cell_type": "code",
   "execution_count": 101,
   "id": "cc7f16b4",
   "metadata": {},
   "outputs": [
    {
     "data": {
      "text/plain": [
       "array([49.47443883, 52.93047067, 43.0231844 , ..., 60.71683673,\n",
       "       37.25317749, 16.83787204])"
      ]
     },
     "execution_count": 101,
     "metadata": {},
     "output_type": "execute_result"
    }
   ],
   "source": [
    "### Looking at the new test data - Y\n",
    "\n",
    "Y"
   ]
  },
  {
   "cell_type": "code",
   "execution_count": 102,
   "id": "e43e8ff7",
   "metadata": {},
   "outputs": [],
   "source": [
    "### Dividing the dataset into train and test in the ratio of 80 : 20\n",
    "\n",
    "X_train, X_test, Y_train, Y_test = train_test_split(X, Y, test_size = 0.2, random_state = 27, shuffle = True)"
   ]
  },
  {
   "cell_type": "code",
   "execution_count": 103,
   "id": "75fc4687",
   "metadata": {},
   "outputs": [
    {
     "data": {
      "text/plain": [
       "array([[0.51253544, 0.66911524, 0.16090855, ..., 0.        , 1.        ,\n",
       "        0.        ],\n",
       "       [0.51253544, 0.55142852, 0.16212153, ..., 0.        , 0.        ,\n",
       "        1.        ],\n",
       "       [0.67276052, 0.6471106 , 0.17875086, ..., 0.        , 1.        ,\n",
       "        0.        ],\n",
       "       ...,\n",
       "       [0.54507973, 0.62882066, 0.18728915, ..., 0.        , 1.        ,\n",
       "        0.        ],\n",
       "       [0.57838427, 0.55142852, 0.10923963, ..., 0.        , 1.        ,\n",
       "        0.        ],\n",
       "       [0.51253544, 0.53142795, 0.15057149, ..., 0.        , 1.        ,\n",
       "        0.        ]])"
      ]
     },
     "execution_count": 103,
     "metadata": {},
     "output_type": "execute_result"
    }
   ],
   "source": [
    "X_train"
   ]
  },
  {
   "cell_type": "code",
   "execution_count": 104,
   "id": "9505463c",
   "metadata": {},
   "outputs": [
    {
     "data": {
      "text/plain": [
       "array([[0.54170822, 0.58614549, 0.15335443, ..., 0.        , 1.        ,\n",
       "        0.        ],\n",
       "       [0.59987646, 0.58614549, 0.        , ..., 0.        , 1.        ,\n",
       "        0.        ],\n",
       "       [0.44311923, 0.48390293, 0.15367126, ..., 0.        , 1.        ,\n",
       "        0.        ],\n",
       "       ...,\n",
       "       [0.50824049, 0.55142852, 0.16160244, ..., 0.        , 1.        ,\n",
       "        0.        ],\n",
       "       [0.51253544, 0.64120146, 0.18124524, ..., 0.        , 1.        ,\n",
       "        0.        ],\n",
       "       [0.61212663, 0.4969244 , 0.05441558, ..., 0.        , 1.        ,\n",
       "        0.        ]])"
      ]
     },
     "execution_count": 104,
     "metadata": {},
     "output_type": "execute_result"
    }
   ],
   "source": [
    "X_test"
   ]
  },
  {
   "cell_type": "code",
   "execution_count": 105,
   "id": "7b879c53",
   "metadata": {},
   "outputs": [
    {
     "data": {
      "text/plain": [
       "array([55.24763947, 36.04751909, 16.83787204, ..., 50.00365691,\n",
       "       29.6349931 , 55.79245286])"
      ]
     },
     "execution_count": 105,
     "metadata": {},
     "output_type": "execute_result"
    }
   ],
   "source": [
    "Y_train"
   ]
  },
  {
   "cell_type": "code",
   "execution_count": 106,
   "id": "7aa33cee",
   "metadata": {},
   "outputs": [
    {
     "data": {
      "text/plain": [
       "array([57.8565661 , 53.97325547, 62.08268892, ..., 20.04504146,\n",
       "       45.774181  , 11.16801217])"
      ]
     },
     "execution_count": 106,
     "metadata": {},
     "output_type": "execute_result"
    }
   ],
   "source": [
    "Y_test"
   ]
  },
  {
   "cell_type": "markdown",
   "id": "fa9fb686",
   "metadata": {},
   "source": [
    "Now, we apply regressors using the above data."
   ]
  },
  {
   "cell_type": "markdown",
   "id": "cec874e7",
   "metadata": {},
   "source": [
    "#### 5.2 Fit the model"
   ]
  },
  {
   "cell_type": "markdown",
   "id": "35e3a613",
   "metadata": {},
   "source": [
    "In this section, we use various machine learning models to predict the results for our test data (X_test). We will store the model and its corresponding Root Mean Squared Error and Adjusted R-squared so that we can tabulate them later for choosing the best model."
   ]
  },
  {
   "cell_type": "code",
   "execution_count": 107,
   "id": "db83b5b8",
   "metadata": {},
   "outputs": [],
   "source": [
    "### Dictionary to store model and its rmse\n",
    "\n",
    "model_rmse = OrderedDict()"
   ]
  },
  {
   "cell_type": "code",
   "execution_count": 108,
   "id": "2a2844ce",
   "metadata": {},
   "outputs": [],
   "source": [
    "### Dictionary to store model and its r-squared\n",
    "\n",
    "model_r2 = OrderedDict()"
   ]
  },
  {
   "cell_type": "markdown",
   "id": "42ddb9e0",
   "metadata": {},
   "source": [
    "##### 5.2.1 Applying Multi Linear Regression"
   ]
  },
  {
   "cell_type": "code",
   "execution_count": 109,
   "id": "f740ee1c",
   "metadata": {},
   "outputs": [
    {
     "data": {
      "text/plain": [
       "LinearRegression()"
      ]
     },
     "execution_count": 109,
     "metadata": {},
     "output_type": "execute_result"
    }
   ],
   "source": [
    "### Training the Multi Linear Regression model on the Training set\n",
    "\n",
    "linear_regressor = LinearRegression()\n",
    "linear_regressor.fit(X_train, Y_train)"
   ]
  },
  {
   "cell_type": "code",
   "execution_count": 110,
   "id": "b5c6a6b4",
   "metadata": {},
   "outputs": [],
   "source": [
    "### Predicting the Test set results\n",
    "\n",
    "Y_pred = linear_regressor.predict(X_test)"
   ]
  },
  {
   "cell_type": "code",
   "execution_count": 111,
   "id": "9bef9493",
   "metadata": {},
   "outputs": [
    {
     "name": "stdout",
     "output_type": "stream",
     "text": [
      "Root Mean Squared Error of the model is : 15.269\n",
      "R-squared value of the model is : 0.216\n"
     ]
    }
   ],
   "source": [
    "### Calculating RMSE and Adjusted R-squared for the model\n",
    "\n",
    "mse = round(mean_squared_error(Y_test, Y_pred), 3)\n",
    "rmse = round(sqrt(mse), 3)\n",
    "\n",
    "r2_value = round(r2_score(Y_test, Y_pred), 3)\n",
    "\n",
    "model_rmse['Multi Linear Regression'] = rmse\n",
    "model_r2['Multi Linear Regression'] = r2_value\n",
    "\n",
    "print('Root Mean Squared Error of the model is : {}'.format(rmse))\n",
    "print('R-squared value of the model is : {}'.format(r2_value))"
   ]
  },
  {
   "cell_type": "markdown",
   "id": "3378a2b3",
   "metadata": {},
   "source": [
    "##### 5.2.2 Applying Lasso Regression"
   ]
  },
  {
   "cell_type": "code",
   "execution_count": 112,
   "id": "381a294b",
   "metadata": {},
   "outputs": [
    {
     "data": {
      "text/plain": [
       "GridSearchCV(cv=5, estimator=Lasso(),\n",
       "             param_grid={'alpha': [1e-15, 1e-10, 1e-08, 0.001, 0.01, 1, 5, 10,\n",
       "                                   20, 30, 35, 40, 45, 50, 55, 100]},\n",
       "             scoring='neg_mean_squared_error')"
      ]
     },
     "execution_count": 112,
     "metadata": {},
     "output_type": "execute_result"
    }
   ],
   "source": [
    "### Training the Lasso Regression model on the Training set\n",
    "\n",
    "lasso = Lasso()\n",
    "parameters = {'alpha': [1e-15, 1e-10, 1e-8, 1e-3, 1e-2, 1, 5, 10, 20, 30, 35, 40, 45, 50, 55, 100]}\n",
    "lasso_regressor = GridSearchCV(lasso, parameters, scoring = 'neg_mean_squared_error', cv = 5)\n",
    "lasso_regressor.fit(X_train, Y_train)"
   ]
  },
  {
   "cell_type": "code",
   "execution_count": 113,
   "id": "e07ebd84",
   "metadata": {},
   "outputs": [
    {
     "name": "stdout",
     "output_type": "stream",
     "text": [
      "{'alpha': 0.001}\n",
      "-250.45196089941987\n"
     ]
    }
   ],
   "source": [
    "# Finding out negative mean squared error in Lasso Regression\n",
    "\n",
    "print(lasso_regressor.best_params_)\n",
    "print(lasso_regressor.best_score_)"
   ]
  },
  {
   "cell_type": "code",
   "execution_count": 114,
   "id": "fce0e069",
   "metadata": {},
   "outputs": [],
   "source": [
    "### Predicting the Test set results\n",
    "\n",
    "Y_pred = lasso_regressor.predict(X_test)"
   ]
  },
  {
   "cell_type": "code",
   "execution_count": 115,
   "id": "824ce3ab",
   "metadata": {},
   "outputs": [
    {
     "name": "stdout",
     "output_type": "stream",
     "text": [
      "Root Mean Squared Error of the model is : 15.269\n",
      "R-squared value of the model is : 0.216\n"
     ]
    }
   ],
   "source": [
    "### Calculating RMSE and Adjusted R-squared for the model\n",
    "\n",
    "mse = round(mean_squared_error(Y_test, Y_pred), 3)\n",
    "rmse = round(sqrt(mse), 3)\n",
    "\n",
    "r2_value = round(r2_score(Y_test, Y_pred), 3)\n",
    "\n",
    "model_rmse['Lasso Regression'] = rmse\n",
    "model_r2['Lasso Regression'] = r2_value\n",
    "\n",
    "print('Root Mean Squared Error of the model is : {}'.format(rmse))\n",
    "print('R-squared value of the model is : {}'.format(r2_value))"
   ]
  },
  {
   "cell_type": "markdown",
   "id": "78253edb",
   "metadata": {},
   "source": [
    "##### 5.2.3 Applying Ridge Regression"
   ]
  },
  {
   "cell_type": "code",
   "execution_count": 116,
   "id": "dcbee588",
   "metadata": {},
   "outputs": [
    {
     "data": {
      "text/plain": [
       "GridSearchCV(cv=5, estimator=Ridge(),\n",
       "             param_grid={'alpha': [1e-15, 1e-10, 1e-08, 0.001, 0.01, 1, 5, 10,\n",
       "                                   20, 30, 35, 40, 45, 50, 55, 100]},\n",
       "             scoring='neg_mean_squared_error')"
      ]
     },
     "execution_count": 116,
     "metadata": {},
     "output_type": "execute_result"
    }
   ],
   "source": [
    "### Training the Ridge Regression model on the Training set\n",
    "\n",
    "ridge = Ridge()\n",
    "parameters = {'alpha': [1e-15, 1e-10, 1e-8, 1e-3, 1e-2, 1, 5, 10, 20, 30, 35, 40, 45, 50, 55, 100]}\n",
    "ridge_regressor = GridSearchCV(ridge, parameters, scoring = 'neg_mean_squared_error', cv = 5)\n",
    "ridge_regressor.fit(X_train, Y_train)"
   ]
  },
  {
   "cell_type": "code",
   "execution_count": 117,
   "id": "dc72917f",
   "metadata": {},
   "outputs": [
    {
     "name": "stdout",
     "output_type": "stream",
     "text": [
      "{'alpha': 1}\n",
      "-250.45792306372672\n"
     ]
    }
   ],
   "source": [
    "# Finding out negative mean squared error in Lasso Regression\n",
    "\n",
    "print(ridge_regressor.best_params_)\n",
    "print(ridge_regressor.best_score_)"
   ]
  },
  {
   "cell_type": "code",
   "execution_count": 118,
   "id": "dbb74df1",
   "metadata": {},
   "outputs": [],
   "source": [
    "### Predicting the Test set results\n",
    "\n",
    "Y_pred = ridge_regressor.predict(X_test)"
   ]
  },
  {
   "cell_type": "code",
   "execution_count": 119,
   "id": "0eecc124",
   "metadata": {},
   "outputs": [
    {
     "name": "stdout",
     "output_type": "stream",
     "text": [
      "Root Mean Squared Error of the model is : 15.268\n",
      "R-squared value of the model is : 0.216\n"
     ]
    }
   ],
   "source": [
    "### Calculating RMSE and Adjusted R-squared for the model\n",
    "\n",
    "mse = round(mean_squared_error(Y_test, Y_pred), 3)\n",
    "rmse = round(sqrt(mse), 3)\n",
    "\n",
    "r2_value = round(r2_score(Y_test, Y_pred), 3)\n",
    "\n",
    "model_rmse['Ridge Regression'] = rmse\n",
    "model_r2['Ridge Regression'] = r2_value\n",
    "\n",
    "print('Root Mean Squared Error of the model is : {}'.format(rmse))\n",
    "print('R-squared value of the model is : {}'.format(r2_value))"
   ]
  },
  {
   "cell_type": "markdown",
   "id": "2f68dcd7",
   "metadata": {},
   "source": [
    "##### 5.2.4 Applying Support Vector Regression"
   ]
  },
  {
   "cell_type": "code",
   "execution_count": 120,
   "id": "1f9e53a4",
   "metadata": {},
   "outputs": [
    {
     "data": {
      "text/plain": [
       "SVR()"
      ]
     },
     "execution_count": 120,
     "metadata": {},
     "output_type": "execute_result"
    }
   ],
   "source": [
    "### Training the Support Vector Regression model on the Training set\n",
    "\n",
    "support_vector_regressor = SVR(kernel = 'rbf')\n",
    "support_vector_regressor.fit(X_train, Y_train)"
   ]
  },
  {
   "cell_type": "code",
   "execution_count": 121,
   "id": "cd16fde0",
   "metadata": {},
   "outputs": [],
   "source": [
    "### Predicting the Test set results\n",
    "\n",
    "Y_pred = support_vector_regressor.predict(X_test)"
   ]
  },
  {
   "cell_type": "code",
   "execution_count": 122,
   "id": "9d636b6a",
   "metadata": {},
   "outputs": [
    {
     "name": "stdout",
     "output_type": "stream",
     "text": [
      "Root Mean Squared Error of the model is : 14.105\n",
      "R-squared value of the model is : 0.331\n"
     ]
    }
   ],
   "source": [
    "### Calculating RMSE and Adjusted R-squared for the model\n",
    "\n",
    "mse = round(mean_squared_error(Y_test, Y_pred), 3)\n",
    "rmse = round(sqrt(mse), 3)\n",
    "\n",
    "r2_value = round(r2_score(Y_test, Y_pred), 3)\n",
    "\n",
    "model_rmse['Support Vector Regression'] = rmse\n",
    "model_r2['Support Vector Regression'] = r2_value\n",
    "\n",
    "print('Root Mean Squared Error of the model is : {}'.format(rmse))\n",
    "print('R-squared value of the model is : {}'.format(r2_value))"
   ]
  },
  {
   "cell_type": "markdown",
   "id": "2bd54b67",
   "metadata": {},
   "source": [
    "##### 5.2.5 Applying Decision Tree Regression"
   ]
  },
  {
   "cell_type": "code",
   "execution_count": 123,
   "id": "87139661",
   "metadata": {},
   "outputs": [
    {
     "data": {
      "text/plain": [
       "DecisionTreeRegressor()"
      ]
     },
     "execution_count": 123,
     "metadata": {},
     "output_type": "execute_result"
    }
   ],
   "source": [
    "### Training the Decision Tree Regression model on the Training set\n",
    "\n",
    "decision_tree_regressor = DecisionTreeRegressor()\n",
    "decision_tree_regressor.fit(X_train, Y_train)"
   ]
  },
  {
   "cell_type": "code",
   "execution_count": 124,
   "id": "8641805f",
   "metadata": {},
   "outputs": [],
   "source": [
    "### Predicting the Test set results\n",
    "\n",
    "Y_pred = decision_tree_regressor.predict(X_test)"
   ]
  },
  {
   "cell_type": "code",
   "execution_count": 125,
   "id": "2d8acd70",
   "metadata": {},
   "outputs": [
    {
     "name": "stdout",
     "output_type": "stream",
     "text": [
      "Root Mean Squared Error of the model is : 12.722\n",
      "R-squared value of the model is : 0.456\n"
     ]
    }
   ],
   "source": [
    "### Calculating RMSE and Adjusted R-squared for the model\n",
    "\n",
    "mse = round(mean_squared_error(Y_test, Y_pred), 3)\n",
    "rmse = round(sqrt(mse), 3)\n",
    "\n",
    "r2_value = round(r2_score(Y_test, Y_pred), 3)\n",
    "\n",
    "model_rmse['Decision Tree Regression'] = rmse\n",
    "model_r2['Decision Tree Regression'] = r2_value\n",
    "\n",
    "print('Root Mean Squared Error of the model is : {}'.format(rmse))\n",
    "print('R-squared value of the model is : {}'.format(r2_value))"
   ]
  },
  {
   "cell_type": "markdown",
   "id": "bf7cb02d",
   "metadata": {},
   "source": [
    "##### 5.2.6 Applying Random Forest Regression (10 trees)"
   ]
  },
  {
   "cell_type": "code",
   "execution_count": 126,
   "id": "e8de80a7",
   "metadata": {},
   "outputs": [
    {
     "data": {
      "text/plain": [
       "RandomForestRegressor(n_estimators=10, random_state=27)"
      ]
     },
     "execution_count": 126,
     "metadata": {},
     "output_type": "execute_result"
    }
   ],
   "source": [
    "### Training the Random Forest Regression model on the Training set\n",
    "\n",
    "random_forest_regressor = RandomForestRegressor(n_estimators = 10, random_state = 27)\n",
    "random_forest_regressor.fit(X_train, Y_train)"
   ]
  },
  {
   "cell_type": "code",
   "execution_count": 127,
   "id": "517fec44",
   "metadata": {},
   "outputs": [],
   "source": [
    "### Predicting the Test set results\n",
    "\n",
    "Y_pred = random_forest_regressor.predict(X_test)"
   ]
  },
  {
   "cell_type": "code",
   "execution_count": 128,
   "id": "32bdc1b6",
   "metadata": {},
   "outputs": [
    {
     "name": "stdout",
     "output_type": "stream",
     "text": [
      "Root Mean Squared Error of the model is : 10.638\n",
      "R-squared value of the model is : 0.619\n"
     ]
    }
   ],
   "source": [
    "### Calculating RMSE and Adjusted R-squared for the model\n",
    "\n",
    "mse = round(mean_squared_error(Y_test, Y_pred), 3)\n",
    "rmse = round(sqrt(mse), 3)\n",
    "\n",
    "r2_value = round(r2_score(Y_test, Y_pred), 3)\n",
    "\n",
    "model_rmse['Random Forest Regression (10 trees)'] = rmse\n",
    "model_r2['Random Forest Regression (10 trees)'] = r2_value\n",
    "\n",
    "print('Root Mean Squared Error of the model is : {}'.format(rmse))\n",
    "print('R-squared value of the model is : {}'.format(r2_value))"
   ]
  },
  {
   "cell_type": "markdown",
   "id": "89b863fd",
   "metadata": {},
   "source": [
    "##### 5.2.7 Applying Random Forest Regression (25 trees)"
   ]
  },
  {
   "cell_type": "code",
   "execution_count": 129,
   "id": "89179784",
   "metadata": {},
   "outputs": [
    {
     "data": {
      "text/plain": [
       "RandomForestRegressor(n_estimators=25, random_state=27)"
      ]
     },
     "execution_count": 129,
     "metadata": {},
     "output_type": "execute_result"
    }
   ],
   "source": [
    "### Training the Random Forest Regression model on the Training set\n",
    "\n",
    "random_forest_regressor = RandomForestRegressor(n_estimators = 25, random_state = 27)\n",
    "random_forest_regressor.fit(X_train, Y_train)"
   ]
  },
  {
   "cell_type": "code",
   "execution_count": 130,
   "id": "4418b242",
   "metadata": {},
   "outputs": [],
   "source": [
    "### Predicting the Test set results\n",
    "\n",
    "Y_pred = random_forest_regressor.predict(X_test)"
   ]
  },
  {
   "cell_type": "code",
   "execution_count": 131,
   "id": "b2aea569",
   "metadata": {},
   "outputs": [
    {
     "name": "stdout",
     "output_type": "stream",
     "text": [
      "Root Mean Squared Error of the model is : 10.322\n",
      "R-squared value of the model is : 0.642\n"
     ]
    }
   ],
   "source": [
    "### Calculating RMSE and Adjusted R-squared for the model\n",
    "\n",
    "mse = round(mean_squared_error(Y_test, Y_pred), 3)\n",
    "rmse = round(sqrt(mse), 3)\n",
    "\n",
    "r2_value = round(r2_score(Y_test, Y_pred), 3)\n",
    "\n",
    "model_rmse['Random Forest Regression (25 trees)'] = rmse\n",
    "model_r2['Random Forest Regression (25 trees)'] = r2_value\n",
    "\n",
    "print('Root Mean Squared Error of the model is : {}'.format(rmse))\n",
    "print('R-squared value of the model is : {}'.format(r2_value))"
   ]
  },
  {
   "cell_type": "markdown",
   "id": "d841887c",
   "metadata": {},
   "source": [
    "##### 5.2.8 Applying Random Forest Regression (50 trees)"
   ]
  },
  {
   "cell_type": "code",
   "execution_count": 132,
   "id": "f7d27a9e",
   "metadata": {},
   "outputs": [
    {
     "data": {
      "text/plain": [
       "RandomForestRegressor(n_estimators=50, random_state=27)"
      ]
     },
     "execution_count": 132,
     "metadata": {},
     "output_type": "execute_result"
    }
   ],
   "source": [
    "### Training the Random Forest Regression model on the Training set\n",
    "\n",
    "random_forest_regressor = RandomForestRegressor(n_estimators = 50, random_state = 27)\n",
    "random_forest_regressor.fit(X_train, Y_train)"
   ]
  },
  {
   "cell_type": "code",
   "execution_count": 133,
   "id": "a6a7f7e6",
   "metadata": {},
   "outputs": [],
   "source": [
    "### Predicting the Test set results\n",
    "\n",
    "Y_pred = random_forest_regressor.predict(X_test)"
   ]
  },
  {
   "cell_type": "code",
   "execution_count": 134,
   "id": "b2395f12",
   "metadata": {},
   "outputs": [
    {
     "name": "stdout",
     "output_type": "stream",
     "text": [
      "Root Mean Squared Error of the model is : 10.16\n",
      "R-squared value of the model is : 0.653\n"
     ]
    }
   ],
   "source": [
    "### Calculating RMSE and Adjusted R-squared for the model\n",
    "\n",
    "mse = round(mean_squared_error(Y_test, Y_pred), 3)\n",
    "rmse = round(sqrt(mse), 3)\n",
    "\n",
    "r2_value = round(r2_score(Y_test, Y_pred), 3)\n",
    "\n",
    "model_rmse['Random Forest Regression (50 trees)'] = rmse\n",
    "model_r2['Random Forest Regression (50 trees)'] = r2_value\n",
    "\n",
    "print('Root Mean Squared Error of the model is : {}'.format(rmse))\n",
    "print('R-squared value of the model is : {}'.format(r2_value))"
   ]
  },
  {
   "cell_type": "markdown",
   "id": "5a4592f2",
   "metadata": {},
   "source": [
    "##### 5.2.9 Applying Random Forest Regression (100 trees)"
   ]
  },
  {
   "cell_type": "code",
   "execution_count": 135,
   "id": "948aa2e4",
   "metadata": {},
   "outputs": [
    {
     "data": {
      "text/plain": [
       "RandomForestRegressor(random_state=27)"
      ]
     },
     "execution_count": 135,
     "metadata": {},
     "output_type": "execute_result"
    }
   ],
   "source": [
    "### Training the Random Forest Regression model on the Training set\n",
    "\n",
    "random_forest_regressor = RandomForestRegressor(n_estimators = 100, random_state = 27)\n",
    "random_forest_regressor.fit(X_train, Y_train)"
   ]
  },
  {
   "cell_type": "code",
   "execution_count": 136,
   "id": "ff474ca8",
   "metadata": {},
   "outputs": [],
   "source": [
    "### Predicting the Test set results\n",
    "\n",
    "Y_pred = random_forest_regressor.predict(X_test)"
   ]
  },
  {
   "cell_type": "code",
   "execution_count": 137,
   "id": "d3ab6f5b",
   "metadata": {},
   "outputs": [
    {
     "name": "stdout",
     "output_type": "stream",
     "text": [
      "Root Mean Squared Error of the model is : 10.104\n",
      "R-squared value of the model is : 0.657\n"
     ]
    }
   ],
   "source": [
    "### Calculating RMSE and Adjusted R-squared for the model\n",
    "\n",
    "mse = round(mean_squared_error(Y_test, Y_pred), 3)\n",
    "rmse = round(sqrt(mse), 3)\n",
    "\n",
    "r2_value = round(r2_score(Y_test, Y_pred), 3)\n",
    "\n",
    "model_rmse['Random Forest Regression (100 trees)'] = rmse\n",
    "model_r2['Random Forest Regression (100 trees)'] = r2_value\n",
    "\n",
    "print('Root Mean Squared Error of the model is : {}'.format(rmse))\n",
    "print('R-squared value of the model is : {}'.format(r2_value))"
   ]
  },
  {
   "cell_type": "markdown",
   "id": "162c4f7d",
   "metadata": {},
   "source": [
    "##### 5.2.10 Applying Random Forest Regression (1000 trees)"
   ]
  },
  {
   "cell_type": "code",
   "execution_count": 138,
   "id": "0cc9a183",
   "metadata": {},
   "outputs": [
    {
     "data": {
      "text/plain": [
       "RandomForestRegressor(n_estimators=1000, random_state=27)"
      ]
     },
     "execution_count": 138,
     "metadata": {},
     "output_type": "execute_result"
    }
   ],
   "source": [
    "### Training the Random Forest Regression model on the Training set\n",
    "\n",
    "random_forest_regressor = RandomForestRegressor(n_estimators = 1000, random_state = 27)\n",
    "random_forest_regressor.fit(X_train, Y_train)"
   ]
  },
  {
   "cell_type": "code",
   "execution_count": 139,
   "id": "7ef2fe68",
   "metadata": {},
   "outputs": [],
   "source": [
    "### Predicting the Test set results\n",
    "\n",
    "Y_pred = random_forest_regressor.predict(X_test)"
   ]
  },
  {
   "cell_type": "code",
   "execution_count": 140,
   "id": "f335cfec",
   "metadata": {},
   "outputs": [
    {
     "name": "stdout",
     "output_type": "stream",
     "text": [
      "Root Mean Squared Error of the model is : 10.043\n",
      "R-squared value of the model is : 0.661\n"
     ]
    }
   ],
   "source": [
    "### Calculating RMSE and Adjusted R-squared for the model\n",
    "\n",
    "mse = round(mean_squared_error(Y_test, Y_pred), 3)\n",
    "rmse = round(sqrt(mse), 3)\n",
    "\n",
    "r2_value = round(r2_score(Y_test, Y_pred), 3)\n",
    "\n",
    "model_rmse['Random Forest Regression (1000 trees)'] = rmse\n",
    "model_r2['Random Forest Regression (1000 trees)'] = r2_value\n",
    "\n",
    "print('Root Mean Squared Error of the model is : {}'.format(rmse))\n",
    "print('R-squared value of the model is : {}'.format(r2_value))"
   ]
  },
  {
   "cell_type": "markdown",
   "id": "db794a19",
   "metadata": {},
   "source": [
    "##### 5.2.11 Applying Stacking Regression"
   ]
  },
  {
   "cell_type": "code",
   "execution_count": 141,
   "id": "2c4b14ac",
   "metadata": {},
   "outputs": [],
   "source": [
    "### Preparing the Stacking Regressor\n",
    "\n",
    "### Define the base models\n",
    "\n",
    "base_models = list()\n",
    "\n",
    "base_models.append(('decision_tree', decision_tree_regressor))\n",
    "base_models.append(('support_vector', support_vector_regressor))\n",
    "\n",
    "### Define the meta models\n",
    "\n",
    "meta_model = random_forest_regressor"
   ]
  },
  {
   "cell_type": "code",
   "execution_count": 142,
   "id": "dd072e9f",
   "metadata": {},
   "outputs": [
    {
     "data": {
      "text/plain": [
       "StackingRegressor(estimators=[('decision_tree', DecisionTreeRegressor()),\n",
       "                              ('support_vector', SVR())],\n",
       "                  final_estimator=RandomForestRegressor(n_estimators=1000,\n",
       "                                                        random_state=27))"
      ]
     },
     "execution_count": 142,
     "metadata": {},
     "output_type": "execute_result"
    }
   ],
   "source": [
    "### Training the Stacking Regression model on the Training set\n",
    "\n",
    "stacking_regressor = StackingRegressor(estimators = base_models, final_estimator = meta_model)\n",
    "stacking_regressor.fit(X_train, Y_train)"
   ]
  },
  {
   "cell_type": "code",
   "execution_count": 143,
   "id": "ccf34854",
   "metadata": {},
   "outputs": [],
   "source": [
    "### Predicting the Test set results\n",
    "\n",
    "Y_pred = stacking_regressor.predict(X_test)"
   ]
  },
  {
   "cell_type": "code",
   "execution_count": 144,
   "id": "21827300",
   "metadata": {},
   "outputs": [
    {
     "name": "stdout",
     "output_type": "stream",
     "text": [
      "Root Mean Squared Error of the model is : 11.956\n",
      "R-squared value of the model is : 0.519\n"
     ]
    }
   ],
   "source": [
    "### Calculating RMSE and Adjusted R-squared for the model\n",
    "\n",
    "mse = round(mean_squared_error(Y_test, Y_pred), 3)\n",
    "rmse = round(sqrt(mse), 3)\n",
    "\n",
    "r2_value = round(r2_score(Y_test, Y_pred), 3)\n",
    "\n",
    "model_rmse['Stacking Regression'] = rmse\n",
    "model_r2['Stacking Regression'] = r2_value\n",
    "\n",
    "print('Root Mean Squared Error of the model is : {}'.format(rmse))\n",
    "print('R-squared value of the model is : {}'.format(r2_value))"
   ]
  },
  {
   "cell_type": "markdown",
   "id": "f016720e",
   "metadata": {},
   "source": [
    "##### 5.2.12 Applying XGBoost Regression"
   ]
  },
  {
   "cell_type": "code",
   "execution_count": 145,
   "id": "1b1fe160",
   "metadata": {},
   "outputs": [
    {
     "name": "stdout",
     "output_type": "stream",
     "text": [
      "[23:30:34] WARNING: C:/Users/Administrator/workspace/xgboost-win64_release_1.5.1/src/objective/regression_obj.cu:188: reg:linear is now deprecated in favor of reg:squarederror.\n"
     ]
    },
    {
     "data": {
      "text/plain": [
       "XGBRegressor(base_score=0.5, booster='gbtree', colsample_bylevel=1,\n",
       "             colsample_bynode=1, colsample_bytree=1, enable_categorical=False,\n",
       "             gamma=0, gpu_id=-1, importance_type=None,\n",
       "             interaction_constraints='', learning_rate=0.300000012,\n",
       "             max_delta_step=0, max_depth=6, min_child_weight=1, missing=nan,\n",
       "             monotone_constraints='()', n_estimators=100, n_jobs=8,\n",
       "             num_parallel_tree=1, objective='reg:linear', predictor='auto',\n",
       "             random_state=27, reg_alpha=0, reg_lambda=1, scale_pos_weight=1,\n",
       "             seed=27, subsample=1, tree_method='exact', validate_parameters=1,\n",
       "             verbosity=None)"
      ]
     },
     "execution_count": 145,
     "metadata": {},
     "output_type": "execute_result"
    }
   ],
   "source": [
    "### Training the XGBoost Regression model on the Training set\n",
    "\n",
    "xgboost_regressor = xg.XGBRegressor(objective ='reg:linear', n_estimators = 100, seed = 27)\n",
    "xgboost_regressor.fit(X_train, Y_train)"
   ]
  },
  {
   "cell_type": "code",
   "execution_count": 146,
   "id": "77397dc9",
   "metadata": {},
   "outputs": [],
   "source": [
    "### Predicting the Test set results\n",
    "\n",
    "Y_pred = xgboost_regressor.predict(X_test)"
   ]
  },
  {
   "cell_type": "code",
   "execution_count": 147,
   "id": "807d615c",
   "metadata": {},
   "outputs": [
    {
     "name": "stdout",
     "output_type": "stream",
     "text": [
      "Root Mean Squared Error of the model is : 10.391\n",
      "R-squared value of the model is : 0.637\n"
     ]
    }
   ],
   "source": [
    "### Calculating RMSE and Adjusted R-squared for the model\n",
    "\n",
    "mse = round(mean_squared_error(Y_test, Y_pred), 3)\n",
    "rmse = round(sqrt(mse), 3)\n",
    "\n",
    "r2_value = round(r2_score(Y_test, Y_pred), 3)\n",
    "\n",
    "model_rmse['XGBoost Regression'] = rmse\n",
    "model_r2['XGBoost Regression'] = r2_value\n",
    "\n",
    "print('Root Mean Squared Error of the model is : {}'.format(rmse))\n",
    "print('R-squared value of the model is : {}'.format(r2_value))"
   ]
  },
  {
   "cell_type": "markdown",
   "id": "056842ad",
   "metadata": {},
   "source": [
    "#### 5.3 Model evaluation"
   ]
  },
  {
   "cell_type": "markdown",
   "id": "2623e20d",
   "metadata": {},
   "source": [
    "Model evaluation is the process of using different evaluation metrics to understand a machine learning model's performance, as well as its strengths and weaknesses."
   ]
  },
  {
   "cell_type": "markdown",
   "id": "2b19884a",
   "metadata": {},
   "source": [
    "##### 5.3.1 RMSE, R-squared of the models"
   ]
  },
  {
   "cell_type": "markdown",
   "id": "d88ffb6f",
   "metadata": {},
   "source": [
    "Now we will tabulate all the models along with their rmse, r-squared. This data is stored in the model_performance dictionary. We will use the tabulate package for tabulating the results."
   ]
  },
  {
   "cell_type": "code",
   "execution_count": 148,
   "id": "a3a97a90",
   "metadata": {},
   "outputs": [
    {
     "data": {
      "text/plain": [
       "OrderedDict([('Multi Linear Regression', 15.269),\n",
       "             ('Lasso Regression', 15.269),\n",
       "             ('Ridge Regression', 15.268),\n",
       "             ('Support Vector Regression', 14.105),\n",
       "             ('Decision Tree Regression', 12.722),\n",
       "             ('Random Forest Regression (10 trees)', 10.638),\n",
       "             ('Random Forest Regression (25 trees)', 10.322),\n",
       "             ('Random Forest Regression (50 trees)', 10.16),\n",
       "             ('Random Forest Regression (100 trees)', 10.104),\n",
       "             ('Random Forest Regression (1000 trees)', 10.043),\n",
       "             ('Stacking Regression', 11.956),\n",
       "             ('XGBoost Regression', 10.391)])"
      ]
     },
     "execution_count": 148,
     "metadata": {},
     "output_type": "execute_result"
    }
   ],
   "source": [
    "### Looking at the model rmse dictionary\n",
    "\n",
    "model_rmse"
   ]
  },
  {
   "cell_type": "code",
   "execution_count": 149,
   "id": "259e2807",
   "metadata": {},
   "outputs": [
    {
     "data": {
      "text/plain": [
       "OrderedDict([('Multi Linear Regression', 0.216),\n",
       "             ('Lasso Regression', 0.216),\n",
       "             ('Ridge Regression', 0.216),\n",
       "             ('Support Vector Regression', 0.331),\n",
       "             ('Decision Tree Regression', 0.456),\n",
       "             ('Random Forest Regression (10 trees)', 0.619),\n",
       "             ('Random Forest Regression (25 trees)', 0.642),\n",
       "             ('Random Forest Regression (50 trees)', 0.653),\n",
       "             ('Random Forest Regression (100 trees)', 0.657),\n",
       "             ('Random Forest Regression (1000 trees)', 0.661),\n",
       "             ('Stacking Regression', 0.519),\n",
       "             ('XGBoost Regression', 0.637)])"
      ]
     },
     "execution_count": 149,
     "metadata": {},
     "output_type": "execute_result"
    }
   ],
   "source": [
    "### Looking at the model r-squared dictionary\n",
    "\n",
    "model_r2"
   ]
  },
  {
   "cell_type": "code",
   "execution_count": 150,
   "id": "230ab876",
   "metadata": {},
   "outputs": [
    {
     "name": "stdout",
     "output_type": "stream",
     "text": [
      "╒═════════╤═══════════════════════════════════════╤═══════════════════════════╤═════════════╕\n",
      "│   S.No. │ Classification Model                  │   Root Mean Squared Error │   R-squared │\n",
      "╞═════════╪═══════════════════════════════════════╪═══════════════════════════╪═════════════╡\n",
      "│       1 │ Multi Linear Regression               │                    15.269 │       0.216 │\n",
      "├─────────┼───────────────────────────────────────┼───────────────────────────┼─────────────┤\n",
      "│       2 │ Lasso Regression                      │                    15.269 │       0.216 │\n",
      "├─────────┼───────────────────────────────────────┼───────────────────────────┼─────────────┤\n",
      "│       3 │ Ridge Regression                      │                    15.268 │       0.216 │\n",
      "├─────────┼───────────────────────────────────────┼───────────────────────────┼─────────────┤\n",
      "│       4 │ Support Vector Regression             │                    14.105 │       0.331 │\n",
      "├─────────┼───────────────────────────────────────┼───────────────────────────┼─────────────┤\n",
      "│       5 │ Decision Tree Regression              │                    12.722 │       0.456 │\n",
      "├─────────┼───────────────────────────────────────┼───────────────────────────┼─────────────┤\n",
      "│       6 │ Random Forest Regression (10 trees)   │                    10.638 │       0.619 │\n",
      "├─────────┼───────────────────────────────────────┼───────────────────────────┼─────────────┤\n",
      "│       7 │ Random Forest Regression (25 trees)   │                    10.322 │       0.642 │\n",
      "├─────────┼───────────────────────────────────────┼───────────────────────────┼─────────────┤\n",
      "│       8 │ Random Forest Regression (50 trees)   │                    10.16  │       0.653 │\n",
      "├─────────┼───────────────────────────────────────┼───────────────────────────┼─────────────┤\n",
      "│       9 │ Random Forest Regression (100 trees)  │                    10.104 │       0.657 │\n",
      "├─────────┼───────────────────────────────────────┼───────────────────────────┼─────────────┤\n",
      "│      10 │ Random Forest Regression (1000 trees) │                    10.043 │       0.661 │\n",
      "├─────────┼───────────────────────────────────────┼───────────────────────────┼─────────────┤\n",
      "│      11 │ Stacking Regression                   │                    11.956 │       0.519 │\n",
      "├─────────┼───────────────────────────────────────┼───────────────────────────┼─────────────┤\n",
      "│      12 │ XGBoost Regression                    │                    10.391 │       0.637 │\n",
      "╘═════════╧═══════════════════════════════════════╧═══════════════════════════╧═════════════╛\n"
     ]
    }
   ],
   "source": [
    "### Tabulating the results\n",
    "\n",
    "table = []\n",
    "table.append(['S.No.', 'Classification Model', 'Root Mean Squared Error', 'R-squared'])\n",
    "count = 1\n",
    "\n",
    "for model in model_rmse:\n",
    "    row = [count, model, model_rmse[model], model_r2[model]]\n",
    "    table.append(row)\n",
    "    count += 1\n",
    "    \n",
    "print(tabulate(table, headers = 'firstrow', tablefmt = 'fancy_grid'))"
   ]
  },
  {
   "cell_type": "markdown",
   "id": "53eb258a",
   "metadata": {},
   "source": [
    "From the above table, we can see that the model Random Forest Regression (1000 trees) has the least Root Mean Squared Error of 10.043 and the highest R-squared value of 0.661."
   ]
  },
  {
   "cell_type": "markdown",
   "id": "5b0a8029",
   "metadata": {},
   "source": [
    "### 6. Conclusion"
   ]
  },
  {
   "cell_type": "markdown",
   "id": "306d6d50",
   "metadata": {},
   "source": [
    "Hence, for this problem, we will use Random Forest regressor to predict the Sales Price."
   ]
  }
 ],
 "metadata": {
  "kernelspec": {
   "display_name": "Python 3",
   "language": "python",
   "name": "python3"
  },
  "language_info": {
   "codemirror_mode": {
    "name": "ipython",
    "version": 3
   },
   "file_extension": ".py",
   "mimetype": "text/x-python",
   "name": "python",
   "nbconvert_exporter": "python",
   "pygments_lexer": "ipython3",
   "version": "3.8.8"
  }
 },
 "nbformat": 4,
 "nbformat_minor": 5
}
