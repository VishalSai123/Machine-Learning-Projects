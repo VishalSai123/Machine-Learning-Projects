{
 "cells": [
  {
   "cell_type": "markdown",
   "id": "e9d5d5e5",
   "metadata": {},
   "source": [
    "# Health Insurance Cost Prediction"
   ]
  },
  {
   "cell_type": "markdown",
   "id": "b6a97155",
   "metadata": {},
   "source": [
    "### 1. Importing the libraries"
   ]
  },
  {
   "cell_type": "markdown",
   "id": "174ca7ca",
   "metadata": {},
   "source": [
    "A Python library is a collection of related modules. It contains bundles of code that can be used repeatedly in different programs. It makes Python Programming simpler and convenient for the programmer. As we don't need to write the same code again and again for different programs.\n",
    "\n",
    "In this notebook, we will be using the following libraries."
   ]
  },
  {
   "cell_type": "code",
   "execution_count": 1,
   "id": "7f7091bc",
   "metadata": {},
   "outputs": [],
   "source": [
    "### Data Wrangling \n",
    "\n",
    "import numpy as np\n",
    "import pandas as pd\n",
    "import missingno\n",
    "from collections import Counter\n",
    "from collections import OrderedDict\n",
    "\n",
    "### Data Visualization\n",
    "\n",
    "import matplotlib.pyplot as plt\n",
    "import seaborn as sns\n",
    "\n",
    "### Data Preprocessing\n",
    "\n",
    "import statsmodels.api as sm\n",
    "from scipy import stats\n",
    "\n",
    "### Modelling \n",
    "\n",
    "from sklearn.model_selection import train_test_split\n",
    "from math import sqrt\n",
    "from sklearn.metrics import mean_squared_error, r2_score\n",
    "from sklearn.model_selection import GridSearchCV\n",
    "from sklearn.linear_model import LinearRegression\n",
    "from sklearn.linear_model import Lasso\n",
    "from sklearn.linear_model import Ridge\n",
    "from sklearn.svm import SVR\n",
    "from sklearn.tree import DecisionTreeRegressor\n",
    "from sklearn.ensemble import RandomForestRegressor\n",
    "from sklearn.ensemble import StackingRegressor\n",
    "import xgboost as xg\n",
    "\n",
    "### Tabulating the results\n",
    "\n",
    "from tabulate import tabulate\n",
    "\n",
    "### Remove unnecessary warnings\n",
    "\n",
    "import warnings\n",
    "warnings.filterwarnings('ignore')"
   ]
  },
  {
   "cell_type": "markdown",
   "id": "244ddb90",
   "metadata": {},
   "source": [
    "### 2. Importing the data"
   ]
  },
  {
   "cell_type": "markdown",
   "id": "ffe18e9b",
   "metadata": {},
   "source": [
    "In this section, I will fetch the dataset that is available in the Kaggle's project description in the Data section.\n",
    "\n",
    "The training set should be used to build your machine learning models. For the training set, we provide the outcome (also known as the “ground truth”) for each customer. Your model will be based on “features” like Age, Sex, BMI, Children, etc. You can also use feature engineering to create new features.\n",
    "\n",
    "The test set should be used to see how well your model performs on unseen data. For the test set, we do not provide the ground truth. It is your job to predict these outcomes. For each customer, our task is to predict the Health Insurance Cost Price for that customer."
   ]
  },
  {
   "cell_type": "code",
   "execution_count": 2,
   "id": "cb4082c6",
   "metadata": {},
   "outputs": [],
   "source": [
    "### Fetching the dataset\n",
    "\n",
    "dataset = pd.read_csv('../Datasets/insurance.csv')"
   ]
  },
  {
   "cell_type": "code",
   "execution_count": 3,
   "id": "5fef4181",
   "metadata": {},
   "outputs": [
    {
     "data": {
      "text/html": [
       "<div>\n",
       "<style scoped>\n",
       "    .dataframe tbody tr th:only-of-type {\n",
       "        vertical-align: middle;\n",
       "    }\n",
       "\n",
       "    .dataframe tbody tr th {\n",
       "        vertical-align: top;\n",
       "    }\n",
       "\n",
       "    .dataframe thead th {\n",
       "        text-align: right;\n",
       "    }\n",
       "</style>\n",
       "<table border=\"1\" class=\"dataframe\">\n",
       "  <thead>\n",
       "    <tr style=\"text-align: right;\">\n",
       "      <th></th>\n",
       "      <th>age</th>\n",
       "      <th>sex</th>\n",
       "      <th>bmi</th>\n",
       "      <th>children</th>\n",
       "      <th>smoker</th>\n",
       "      <th>region</th>\n",
       "      <th>charges</th>\n",
       "    </tr>\n",
       "  </thead>\n",
       "  <tbody>\n",
       "    <tr>\n",
       "      <th>0</th>\n",
       "      <td>19</td>\n",
       "      <td>female</td>\n",
       "      <td>27.900</td>\n",
       "      <td>0</td>\n",
       "      <td>yes</td>\n",
       "      <td>southwest</td>\n",
       "      <td>16884.92400</td>\n",
       "    </tr>\n",
       "    <tr>\n",
       "      <th>1</th>\n",
       "      <td>18</td>\n",
       "      <td>male</td>\n",
       "      <td>33.770</td>\n",
       "      <td>1</td>\n",
       "      <td>no</td>\n",
       "      <td>southeast</td>\n",
       "      <td>1725.55230</td>\n",
       "    </tr>\n",
       "    <tr>\n",
       "      <th>2</th>\n",
       "      <td>28</td>\n",
       "      <td>male</td>\n",
       "      <td>33.000</td>\n",
       "      <td>3</td>\n",
       "      <td>no</td>\n",
       "      <td>southeast</td>\n",
       "      <td>4449.46200</td>\n",
       "    </tr>\n",
       "    <tr>\n",
       "      <th>3</th>\n",
       "      <td>33</td>\n",
       "      <td>male</td>\n",
       "      <td>22.705</td>\n",
       "      <td>0</td>\n",
       "      <td>no</td>\n",
       "      <td>northwest</td>\n",
       "      <td>21984.47061</td>\n",
       "    </tr>\n",
       "    <tr>\n",
       "      <th>4</th>\n",
       "      <td>32</td>\n",
       "      <td>male</td>\n",
       "      <td>28.880</td>\n",
       "      <td>0</td>\n",
       "      <td>no</td>\n",
       "      <td>northwest</td>\n",
       "      <td>3866.85520</td>\n",
       "    </tr>\n",
       "    <tr>\n",
       "      <th>5</th>\n",
       "      <td>31</td>\n",
       "      <td>female</td>\n",
       "      <td>25.740</td>\n",
       "      <td>0</td>\n",
       "      <td>no</td>\n",
       "      <td>southeast</td>\n",
       "      <td>3756.62160</td>\n",
       "    </tr>\n",
       "    <tr>\n",
       "      <th>6</th>\n",
       "      <td>46</td>\n",
       "      <td>female</td>\n",
       "      <td>33.440</td>\n",
       "      <td>1</td>\n",
       "      <td>no</td>\n",
       "      <td>southeast</td>\n",
       "      <td>8240.58960</td>\n",
       "    </tr>\n",
       "    <tr>\n",
       "      <th>7</th>\n",
       "      <td>37</td>\n",
       "      <td>female</td>\n",
       "      <td>27.740</td>\n",
       "      <td>3</td>\n",
       "      <td>no</td>\n",
       "      <td>northwest</td>\n",
       "      <td>7281.50560</td>\n",
       "    </tr>\n",
       "    <tr>\n",
       "      <th>8</th>\n",
       "      <td>37</td>\n",
       "      <td>male</td>\n",
       "      <td>29.830</td>\n",
       "      <td>2</td>\n",
       "      <td>no</td>\n",
       "      <td>northeast</td>\n",
       "      <td>6406.41070</td>\n",
       "    </tr>\n",
       "    <tr>\n",
       "      <th>9</th>\n",
       "      <td>60</td>\n",
       "      <td>female</td>\n",
       "      <td>25.840</td>\n",
       "      <td>0</td>\n",
       "      <td>no</td>\n",
       "      <td>northwest</td>\n",
       "      <td>28923.13692</td>\n",
       "    </tr>\n",
       "  </tbody>\n",
       "</table>\n",
       "</div>"
      ],
      "text/plain": [
       "   age     sex     bmi  children smoker     region      charges\n",
       "0   19  female  27.900         0    yes  southwest  16884.92400\n",
       "1   18    male  33.770         1     no  southeast   1725.55230\n",
       "2   28    male  33.000         3     no  southeast   4449.46200\n",
       "3   33    male  22.705         0     no  northwest  21984.47061\n",
       "4   32    male  28.880         0     no  northwest   3866.85520\n",
       "5   31  female  25.740         0     no  southeast   3756.62160\n",
       "6   46  female  33.440         1     no  southeast   8240.58960\n",
       "7   37  female  27.740         3     no  northwest   7281.50560\n",
       "8   37    male  29.830         2     no  northeast   6406.41070\n",
       "9   60  female  25.840         0     no  northwest  28923.13692"
      ]
     },
     "execution_count": 3,
     "metadata": {},
     "output_type": "execute_result"
    }
   ],
   "source": [
    "### Looking at the sample data in the dataset\n",
    "\n",
    "dataset.head(10)"
   ]
  },
  {
   "cell_type": "code",
   "execution_count": 4,
   "id": "071f328b",
   "metadata": {},
   "outputs": [
    {
     "data": {
      "text/plain": [
       "(1338, 7)"
      ]
     },
     "execution_count": 4,
     "metadata": {},
     "output_type": "execute_result"
    }
   ],
   "source": [
    "### Shape of the dataset\n",
    "\n",
    "dataset.shape"
   ]
  },
  {
   "cell_type": "markdown",
   "id": "4b23985d",
   "metadata": {},
   "source": [
    "The dataset consists of 7 columns and 1338 rows."
   ]
  },
  {
   "cell_type": "markdown",
   "id": "59e528f1",
   "metadata": {},
   "source": [
    "### 3. Exploratory Data Analysis"
   ]
  },
  {
   "cell_type": "markdown",
   "id": "a6c5d5dd",
   "metadata": {},
   "source": [
    "Exploratory Data Analysis refers to the critical process of performing initial investigations on data so as to discover patterns,to spot anomalies,to test hypothesis and to check assumptions with the help of summary statistics and graphical representations.\n",
    "\n",
    "Here, we will perform EDA on the categorical columns of the dataset - Sex, Smoker, Region and the numerical columns of the dataset - Age, BMI, Children, Charges."
   ]
  },
  {
   "cell_type": "markdown",
   "id": "75cc13a4",
   "metadata": {},
   "source": [
    "#### 3.1 Datatypes, Missing Data, and Summary Statistics"
   ]
  },
  {
   "cell_type": "code",
   "execution_count": 5,
   "id": "598fbe84",
   "metadata": {},
   "outputs": [
    {
     "name": "stdout",
     "output_type": "stream",
     "text": [
      "<class 'pandas.core.frame.DataFrame'>\n",
      "RangeIndex: 1338 entries, 0 to 1337\n",
      "Data columns (total 7 columns):\n",
      " #   Column    Non-Null Count  Dtype  \n",
      "---  ------    --------------  -----  \n",
      " 0   age       1338 non-null   int64  \n",
      " 1   sex       1338 non-null   object \n",
      " 2   bmi       1338 non-null   float64\n",
      " 3   children  1338 non-null   int64  \n",
      " 4   smoker    1338 non-null   object \n",
      " 5   region    1338 non-null   object \n",
      " 6   charges   1338 non-null   float64\n",
      "dtypes: float64(2), int64(2), object(3)\n",
      "memory usage: 73.3+ KB\n"
     ]
    }
   ],
   "source": [
    "### Looking at the datatypes of the dataset\n",
    "\n",
    "dataset.info()"
   ]
  },
  {
   "cell_type": "markdown",
   "id": "1972f0bb",
   "metadata": {},
   "source": [
    "Here, the columns - Sex, Smoker, and Region are categorical. Hence, we modify the datatypes of these column to category."
   ]
  },
  {
   "cell_type": "code",
   "execution_count": 6,
   "id": "47c4aed7",
   "metadata": {},
   "outputs": [],
   "source": [
    "### Modifying the datatypes of the columns to category\n",
    "\n",
    "dataset.sex = dataset.sex.astype('category')\n",
    "dataset.smoker = dataset.smoker.astype('category')\n",
    "dataset.region = dataset.region.astype('category')"
   ]
  },
  {
   "cell_type": "markdown",
   "id": "e40eb1fb",
   "metadata": {},
   "source": [
    "Looking at the modified datatypes of the columns in the dataset."
   ]
  },
  {
   "cell_type": "code",
   "execution_count": 7,
   "id": "bcca9c6a",
   "metadata": {},
   "outputs": [
    {
     "name": "stdout",
     "output_type": "stream",
     "text": [
      "<class 'pandas.core.frame.DataFrame'>\n",
      "RangeIndex: 1338 entries, 0 to 1337\n",
      "Data columns (total 7 columns):\n",
      " #   Column    Non-Null Count  Dtype   \n",
      "---  ------    --------------  -----   \n",
      " 0   age       1338 non-null   int64   \n",
      " 1   sex       1338 non-null   category\n",
      " 2   bmi       1338 non-null   float64 \n",
      " 3   children  1338 non-null   int64   \n",
      " 4   smoker    1338 non-null   category\n",
      " 5   region    1338 non-null   category\n",
      " 6   charges   1338 non-null   float64 \n",
      "dtypes: category(3), float64(2), int64(2)\n",
      "memory usage: 46.3 KB\n"
     ]
    }
   ],
   "source": [
    "### Looking at the modified datatypes of the dataset\n",
    "\n",
    "dataset.info()"
   ]
  },
  {
   "cell_type": "markdown",
   "id": "1397cde3",
   "metadata": {},
   "source": [
    "From the above data, we can see that the datatypes of these columns are modified to category. Now, lets check if the dataset has any missing values or not."
   ]
  },
  {
   "cell_type": "code",
   "execution_count": 8,
   "id": "a392f0ee",
   "metadata": {},
   "outputs": [
    {
     "data": {
      "text/plain": [
       "<AxesSubplot:>"
      ]
     },
     "execution_count": 8,
     "metadata": {},
     "output_type": "execute_result"
    },
    {
     "data": {
      "image/png": "[encoded data removed]",
      "text/plain": [
       "<Figure size 1800x720 with 2 Axes>"
      ]
     },
     "metadata": {
      "needs_background": "light"
     },
     "output_type": "display_data"
    }
   ],
   "source": [
    "### Visual representation of the missing data in the dataset\n",
    "\n",
    "missingno.matrix(dataset)"
   ]
  },
  {
   "cell_type": "markdown",
   "id": "e2eb1e97",
   "metadata": {},
   "source": [
    "From the above figure, we can see that there are no missing values in the dataset."
   ]
  },
  {
   "cell_type": "code",
   "execution_count": 9,
   "id": "9e71b39f",
   "metadata": {},
   "outputs": [
    {
     "data": {
      "text/html": [
       "<div>\n",
       "<style scoped>\n",
       "    .dataframe tbody tr th:only-of-type {\n",
       "        vertical-align: middle;\n",
       "    }\n",
       "\n",
       "    .dataframe tbody tr th {\n",
       "        vertical-align: top;\n",
       "    }\n",
       "\n",
       "    .dataframe thead th {\n",
       "        text-align: right;\n",
       "    }\n",
       "</style>\n",
       "<table border=\"1\" class=\"dataframe\">\n",
       "  <thead>\n",
       "    <tr style=\"text-align: right;\">\n",
       "      <th></th>\n",
       "      <th>age</th>\n",
       "      <th>bmi</th>\n",
       "      <th>children</th>\n",
       "      <th>charges</th>\n",
       "    </tr>\n",
       "  </thead>\n",
       "  <tbody>\n",
       "    <tr>\n",
       "      <th>count</th>\n",
       "      <td>1338.000000</td>\n",
       "      <td>1338.000000</td>\n",
       "      <td>1338.000000</td>\n",
       "      <td>1338.000000</td>\n",
       "    </tr>\n",
       "    <tr>\n",
       "      <th>mean</th>\n",
       "      <td>39.207025</td>\n",
       "      <td>30.663397</td>\n",
       "      <td>1.094918</td>\n",
       "      <td>13270.422265</td>\n",
       "    </tr>\n",
       "    <tr>\n",
       "      <th>std</th>\n",
       "      <td>14.049960</td>\n",
       "      <td>6.098187</td>\n",
       "      <td>1.205493</td>\n",
       "      <td>12110.011237</td>\n",
       "    </tr>\n",
       "    <tr>\n",
       "      <th>min</th>\n",
       "      <td>18.000000</td>\n",
       "      <td>15.960000</td>\n",
       "      <td>0.000000</td>\n",
       "      <td>1121.873900</td>\n",
       "    </tr>\n",
       "    <tr>\n",
       "      <th>25%</th>\n",
       "      <td>27.000000</td>\n",
       "      <td>26.296250</td>\n",
       "      <td>0.000000</td>\n",
       "      <td>4740.287150</td>\n",
       "    </tr>\n",
       "    <tr>\n",
       "      <th>50%</th>\n",
       "      <td>39.000000</td>\n",
       "      <td>30.400000</td>\n",
       "      <td>1.000000</td>\n",
       "      <td>9382.033000</td>\n",
       "    </tr>\n",
       "    <tr>\n",
       "      <th>75%</th>\n",
       "      <td>51.000000</td>\n",
       "      <td>34.693750</td>\n",
       "      <td>2.000000</td>\n",
       "      <td>16639.912515</td>\n",
       "    </tr>\n",
       "    <tr>\n",
       "      <th>max</th>\n",
       "      <td>64.000000</td>\n",
       "      <td>53.130000</td>\n",
       "      <td>5.000000</td>\n",
       "      <td>63770.428010</td>\n",
       "    </tr>\n",
       "  </tbody>\n",
       "</table>\n",
       "</div>"
      ],
      "text/plain": [
       "               age          bmi     children       charges\n",
       "count  1338.000000  1338.000000  1338.000000   1338.000000\n",
       "mean     39.207025    30.663397     1.094918  13270.422265\n",
       "std      14.049960     6.098187     1.205493  12110.011237\n",
       "min      18.000000    15.960000     0.000000   1121.873900\n",
       "25%      27.000000    26.296250     0.000000   4740.287150\n",
       "50%      39.000000    30.400000     1.000000   9382.033000\n",
       "75%      51.000000    34.693750     2.000000  16639.912515\n",
       "max      64.000000    53.130000     5.000000  63770.428010"
      ]
     },
     "execution_count": 9,
     "metadata": {},
     "output_type": "execute_result"
    }
   ],
   "source": [
    "### Summary statistics of the numerical columns in the dataset\n",
    "\n",
    "dataset.describe()"
   ]
  },
  {
   "cell_type": "markdown",
   "id": "bc132ced",
   "metadata": {},
   "source": [
    "#### 3.2 Feature Analysis"
   ]
  },
  {
   "cell_type": "markdown",
   "id": "53268dc9",
   "metadata": {},
   "source": [
    "##### 3.2.1 Categorical variable - sex"
   ]
  },
  {
   "cell_type": "code",
   "execution_count": 10,
   "id": "a99d9083",
   "metadata": {},
   "outputs": [
    {
     "data": {
      "text/plain": [
       "male      676\n",
       "female    662\n",
       "Name: sex, dtype: int64"
      ]
     },
     "execution_count": 10,
     "metadata": {},
     "output_type": "execute_result"
    }
   ],
   "source": [
    "### Value counts of the column - sex\n",
    "\n",
    "sex_count = dataset['sex'].value_counts(dropna = False)\n",
    "sex_count"
   ]
  },
  {
   "cell_type": "code",
   "execution_count": 11,
   "id": "46e0aba5",
   "metadata": {},
   "outputs": [
    {
     "data": {
      "image/png": "[encoded data removed]",
      "text/plain": [
       "<Figure size 432x288 with 1 Axes>"
      ]
     },
     "metadata": {
      "needs_background": "light"
     },
     "output_type": "display_data"
    }
   ],
   "source": [
    "### Bar graph showing the value counts of the column - sex\n",
    "\n",
    "sns.barplot(sex_count.index, sex_count.values, alpha = 0.8)\n",
    "plt.title('Bar graph showing the value counts of the column - sex')\n",
    "plt.ylabel('Number of Occurrences', fontsize = 12)\n",
    "plt.xlabel('Sex', fontsize = 12)\n",
    "plt.show()"
   ]
  },
  {
   "cell_type": "markdown",
   "id": "1069dcf4",
   "metadata": {},
   "source": [
    "From the above graph, we can see that there are almost equal records of both men and women."
   ]
  },
  {
   "cell_type": "code",
   "execution_count": 12,
   "id": "506be031",
   "metadata": {},
   "outputs": [
    {
     "data": {
      "text/html": [
       "<div>\n",
       "<style scoped>\n",
       "    .dataframe tbody tr th:only-of-type {\n",
       "        vertical-align: middle;\n",
       "    }\n",
       "\n",
       "    .dataframe tbody tr th {\n",
       "        vertical-align: top;\n",
       "    }\n",
       "\n",
       "    .dataframe thead th {\n",
       "        text-align: right;\n",
       "    }\n",
       "</style>\n",
       "<table border=\"1\" class=\"dataframe\">\n",
       "  <thead>\n",
       "    <tr style=\"text-align: right;\">\n",
       "      <th></th>\n",
       "      <th>sex</th>\n",
       "      <th>charges</th>\n",
       "    </tr>\n",
       "  </thead>\n",
       "  <tbody>\n",
       "    <tr>\n",
       "      <th>0</th>\n",
       "      <td>female</td>\n",
       "      <td>12569.578844</td>\n",
       "    </tr>\n",
       "    <tr>\n",
       "      <th>1</th>\n",
       "      <td>male</td>\n",
       "      <td>13956.751178</td>\n",
       "    </tr>\n",
       "  </tbody>\n",
       "</table>\n",
       "</div>"
      ],
      "text/plain": [
       "      sex       charges\n",
       "0  female  12569.578844\n",
       "1    male  13956.751178"
      ]
     },
     "execution_count": 12,
     "metadata": {},
     "output_type": "execute_result"
    }
   ],
   "source": [
    "### Mean price for each sex \n",
    "\n",
    "mean_price_sex = dataset[['sex', 'charges']].groupby('sex', as_index = False).mean()\n",
    "mean_price_sex"
   ]
  },
  {
   "cell_type": "code",
   "execution_count": 13,
   "id": "c2b212ae",
   "metadata": {},
   "outputs": [
    {
     "data": {
      "image/png": "[encoded data removed]",
      "text/plain": [
       "<Figure size 432x288 with 1 Axes>"
      ]
     },
     "metadata": {
      "needs_background": "light"
     },
     "output_type": "display_data"
    }
   ],
   "source": [
    "### Mean charges for each sex\n",
    "\n",
    "sns.barplot(mean_price_sex['sex'], mean_price_sex['charges'], alpha = 0.8)\n",
    "plt.title('Mean Charges for each Sex')\n",
    "plt.ylabel('Charges', fontsize = 12)\n",
    "plt.xlabel('Sex', fontsize = 12)\n",
    "plt.show()"
   ]
  },
  {
   "cell_type": "markdown",
   "id": "2186ebd9",
   "metadata": {},
   "source": [
    "On observing the above graph, we can see that the mean charges is higher in males than compared to females."
   ]
  },
  {
   "cell_type": "markdown",
   "id": "e9517a4d",
   "metadata": {},
   "source": [
    "##### 3.2.2 Categorical variable - smoker"
   ]
  },
  {
   "cell_type": "code",
   "execution_count": 14,
   "id": "fd2db792",
   "metadata": {},
   "outputs": [
    {
     "data": {
      "text/plain": [
       "no     1064\n",
       "yes     274\n",
       "Name: smoker, dtype: int64"
      ]
     },
     "execution_count": 14,
     "metadata": {},
     "output_type": "execute_result"
    }
   ],
   "source": [
    "### Value counts of the column - smoker\n",
    "\n",
    "smoker_count = dataset['smoker'].value_counts(dropna = False)\n",
    "smoker_count"
   ]
  },
  {
   "cell_type": "code",
   "execution_count": 15,
   "id": "03812d8c",
   "metadata": {},
   "outputs": [
    {
     "data": {
      "image/png": "[encoded data removed]",
      "text/plain": [
       "<Figure size 432x288 with 1 Axes>"
      ]
     },
     "metadata": {
      "needs_background": "light"
     },
     "output_type": "display_data"
    }
   ],
   "source": [
    "### Bar graph showing the value counts of the column - smoker\n",
    "\n",
    "sns.barplot(smoker_count.index, smoker_count.values, alpha = 0.8)\n",
    "plt.title('Bar graph showing the value counts of the column - smoker')\n",
    "plt.ylabel('Number of Occurrences', fontsize = 12)\n",
    "plt.xlabel('Smoker', fontsize = 12)\n",
    "plt.show()"
   ]
  },
  {
   "cell_type": "markdown",
   "id": "84a02ae4",
   "metadata": {},
   "source": [
    "From the above graph, we can see that most of the records in the dataset belong to non-smokers."
   ]
  },
  {
   "cell_type": "code",
   "execution_count": 16,
   "id": "da9a4f45",
   "metadata": {},
   "outputs": [
    {
     "data": {
      "text/html": [
       "<div>\n",
       "<style scoped>\n",
       "    .dataframe tbody tr th:only-of-type {\n",
       "        vertical-align: middle;\n",
       "    }\n",
       "\n",
       "    .dataframe tbody tr th {\n",
       "        vertical-align: top;\n",
       "    }\n",
       "\n",
       "    .dataframe thead th {\n",
       "        text-align: right;\n",
       "    }\n",
       "</style>\n",
       "<table border=\"1\" class=\"dataframe\">\n",
       "  <thead>\n",
       "    <tr style=\"text-align: right;\">\n",
       "      <th></th>\n",
       "      <th>smoker</th>\n",
       "      <th>charges</th>\n",
       "    </tr>\n",
       "  </thead>\n",
       "  <tbody>\n",
       "    <tr>\n",
       "      <th>0</th>\n",
       "      <td>no</td>\n",
       "      <td>8434.268298</td>\n",
       "    </tr>\n",
       "    <tr>\n",
       "      <th>1</th>\n",
       "      <td>yes</td>\n",
       "      <td>32050.231832</td>\n",
       "    </tr>\n",
       "  </tbody>\n",
       "</table>\n",
       "</div>"
      ],
      "text/plain": [
       "  smoker       charges\n",
       "0     no   8434.268298\n",
       "1    yes  32050.231832"
      ]
     },
     "execution_count": 16,
     "metadata": {},
     "output_type": "execute_result"
    }
   ],
   "source": [
    "### Mean price for smoker \n",
    "\n",
    "mean_price_smoker = dataset[['smoker', 'charges']].groupby('smoker', as_index = False).mean()\n",
    "mean_price_smoker"
   ]
  },
  {
   "cell_type": "code",
   "execution_count": 17,
   "id": "68bcd93f",
   "metadata": {},
   "outputs": [
    {
     "data": {
      "image/png": "[encoded data removed]",
      "text/plain": [
       "<Figure size 432x288 with 1 Axes>"
      ]
     },
     "metadata": {
      "needs_background": "light"
     },
     "output_type": "display_data"
    }
   ],
   "source": [
    "### Mean charges for each sex\n",
    "\n",
    "sns.barplot(mean_price_smoker['smoker'], mean_price_smoker['charges'], alpha = 0.8)\n",
    "plt.title('Mean Charges for each Smoker')\n",
    "plt.ylabel('Charges', fontsize = 12)\n",
    "plt.xlabel('Smoker', fontsize = 12)\n",
    "plt.show()"
   ]
  },
  {
   "cell_type": "markdown",
   "id": "77ca4ac3",
   "metadata": {},
   "source": [
    "From the above graph, we can see that the mean charges are higher for an individual who smokes than their non-smoking counterparts.\n",
    "\n",
    "This could also be the reason why men pay higher charges than female. This statement can only become true if most of the smokers are male."
   ]
  },
  {
   "cell_type": "code",
   "execution_count": 18,
   "id": "56121e78",
   "metadata": {},
   "outputs": [
    {
     "data": {
      "text/plain": [
       "Text(0.5, 1.0, 'Mean Charges by Sex and Smoker')"
      ]
     },
     "execution_count": 18,
     "metadata": {},
     "output_type": "execute_result"
    },
    {
     "data": {
      "image/png": "[encoded data removed]",
      "text/plain": [
       "<Figure size 430.5x360 with 1 Axes>"
      ]
     },
     "metadata": {
      "needs_background": "light"
     },
     "output_type": "display_data"
    }
   ],
   "source": [
    "### Mean Charges by Sex and Smoker\n",
    "\n",
    "sns.factorplot(x = 'smoker', y = 'charges', hue = 'sex', data = dataset, kind = 'bar')\n",
    "plt.ylabel('Mean Charges')\n",
    "plt.title('Mean Charges by Sex and Smoker')"
   ]
  },
  {
   "cell_type": "markdown",
   "id": "480aa4fe",
   "metadata": {},
   "source": [
    "From the above graph, we can see that most of the people who smoke are male, hence they have high charges. Therefore, our statement is true."
   ]
  },
  {
   "cell_type": "markdown",
   "id": "31fda0fa",
   "metadata": {},
   "source": [
    "##### 3.2.3 Categorical variable - region"
   ]
  },
  {
   "cell_type": "code",
   "execution_count": 19,
   "id": "0ba843fd",
   "metadata": {},
   "outputs": [
    {
     "data": {
      "text/plain": [
       "southeast    364\n",
       "northwest    325\n",
       "southwest    325\n",
       "northeast    324\n",
       "Name: region, dtype: int64"
      ]
     },
     "execution_count": 19,
     "metadata": {},
     "output_type": "execute_result"
    }
   ],
   "source": [
    "### Value counts of the column - region\n",
    "\n",
    "region_count = dataset['region'].value_counts(dropna = False)\n",
    "region_count"
   ]
  },
  {
   "cell_type": "code",
   "execution_count": 20,
   "id": "d22b886e",
   "metadata": {},
   "outputs": [
    {
     "data": {
      "image/png": "[encoded data removed]",
      "text/plain": [
       "<Figure size 432x288 with 1 Axes>"
      ]
     },
     "metadata": {
      "needs_background": "light"
     },
     "output_type": "display_data"
    }
   ],
   "source": [
    "### Bar graph showing the value counts of the column - region\n",
    "\n",
    "sns.barplot(region_count.index, region_count.values, alpha = 0.8)\n",
    "plt.title('Bar graph showing the value counts of the column - region')\n",
    "plt.ylabel('Number of Occurrences', fontsize = 12)\n",
    "plt.xlabel('Region', fontsize = 12)\n",
    "plt.show()"
   ]
  },
  {
   "cell_type": "markdown",
   "id": "5f96ebd5",
   "metadata": {},
   "source": [
    "From the above graph, we can see that most of the records in the dataset belong to the South East region."
   ]
  },
  {
   "cell_type": "code",
   "execution_count": 21,
   "id": "b26c523f",
   "metadata": {},
   "outputs": [
    {
     "data": {
      "text/html": [
       "<div>\n",
       "<style scoped>\n",
       "    .dataframe tbody tr th:only-of-type {\n",
       "        vertical-align: middle;\n",
       "    }\n",
       "\n",
       "    .dataframe tbody tr th {\n",
       "        vertical-align: top;\n",
       "    }\n",
       "\n",
       "    .dataframe thead th {\n",
       "        text-align: right;\n",
       "    }\n",
       "</style>\n",
       "<table border=\"1\" class=\"dataframe\">\n",
       "  <thead>\n",
       "    <tr style=\"text-align: right;\">\n",
       "      <th></th>\n",
       "      <th>region</th>\n",
       "      <th>charges</th>\n",
       "    </tr>\n",
       "  </thead>\n",
       "  <tbody>\n",
       "    <tr>\n",
       "      <th>0</th>\n",
       "      <td>northeast</td>\n",
       "      <td>13406.384516</td>\n",
       "    </tr>\n",
       "    <tr>\n",
       "      <th>1</th>\n",
       "      <td>northwest</td>\n",
       "      <td>12417.575374</td>\n",
       "    </tr>\n",
       "    <tr>\n",
       "      <th>2</th>\n",
       "      <td>southeast</td>\n",
       "      <td>14735.411438</td>\n",
       "    </tr>\n",
       "    <tr>\n",
       "      <th>3</th>\n",
       "      <td>southwest</td>\n",
       "      <td>12346.937377</td>\n",
       "    </tr>\n",
       "  </tbody>\n",
       "</table>\n",
       "</div>"
      ],
      "text/plain": [
       "      region       charges\n",
       "0  northeast  13406.384516\n",
       "1  northwest  12417.575374\n",
       "2  southeast  14735.411438\n",
       "3  southwest  12346.937377"
      ]
     },
     "execution_count": 21,
     "metadata": {},
     "output_type": "execute_result"
    }
   ],
   "source": [
    "### Mean price for region \n",
    "\n",
    "mean_price_region = dataset[['region', 'charges']].groupby('region', as_index = False).mean()\n",
    "mean_price_region"
   ]
  },
  {
   "cell_type": "code",
   "execution_count": 22,
   "id": "add7b519",
   "metadata": {},
   "outputs": [
    {
     "data": {
      "image/png": "[encoded data removed]",
      "text/plain": [
       "<Figure size 432x288 with 1 Axes>"
      ]
     },
     "metadata": {
      "needs_background": "light"
     },
     "output_type": "display_data"
    }
   ],
   "source": [
    "### Mean charges for each region\n",
    "\n",
    "sns.barplot(mean_price_region['region'], mean_price_region['charges'], alpha = 0.8)\n",
    "plt.title('Mean Charges for each Region')\n",
    "plt.ylabel('Charges', fontsize = 12)\n",
    "plt.xlabel('Region', fontsize = 12)\n",
    "plt.show()"
   ]
  },
  {
   "cell_type": "markdown",
   "id": "e3a349fa",
   "metadata": {},
   "source": [
    "Now, let's look at the distribution of sex for each region and the mean charges for each region."
   ]
  },
  {
   "cell_type": "code",
   "execution_count": 23,
   "id": "51599f1d",
   "metadata": {},
   "outputs": [
    {
     "data": {
      "text/plain": [
       "<seaborn.axisgrid.FacetGrid at 0x21c3672ffa0>"
      ]
     },
     "execution_count": 23,
     "metadata": {},
     "output_type": "execute_result"
    },
    {
     "data": {
      "image/png": "[encoded data removed]",
      "text/plain": [
       "<Figure size 1080x720 with 4 Axes>"
      ]
     },
     "metadata": {
      "needs_background": "light"
     },
     "output_type": "display_data"
    }
   ],
   "source": [
    "### Distribution of sex for each region\n",
    "\n",
    "sns.factorplot('sex', col = 'region', data = dataset, kind = 'count', col_wrap = 3)"
   ]
  },
  {
   "cell_type": "markdown",
   "id": "6c868f7f",
   "metadata": {},
   "source": [
    "From the above graph, we can see that for every region the ratio between male and female is same except for Southeast region. Hence, the mean charge is high in the South east region than compared to other regions. We will also plot the above graph using Smoker instead of Sex."
   ]
  },
  {
   "cell_type": "code",
   "execution_count": 24,
   "id": "0160e1c6",
   "metadata": {},
   "outputs": [
    {
     "data": {
      "text/plain": [
       "<seaborn.axisgrid.FacetGrid at 0x21c367a6310>"
      ]
     },
     "execution_count": 24,
     "metadata": {},
     "output_type": "execute_result"
    },
    {
     "data": {
      "image/png": "[encoded data removed]",
      "text/plain": [
       "<Figure size 1080x720 with 4 Axes>"
      ]
     },
     "metadata": {
      "needs_background": "light"
     },
     "output_type": "display_data"
    }
   ],
   "source": [
    "### Distribution of smoker for each region\n",
    "\n",
    "sns.factorplot('smoker', col = 'region', data = dataset, kind = 'count', col_wrap = 3)"
   ]
  },
  {
   "cell_type": "markdown",
   "id": "74616870",
   "metadata": {},
   "source": [
    "From the above graph, we can see that there are more people who smoke in Southeast region than compared to other regions. Hence, the higher mean charge in the Southeast region."
   ]
  },
  {
   "cell_type": "markdown",
   "id": "6f55c189",
   "metadata": {},
   "source": [
    "##### 3.2.4 Numerical variable - age"
   ]
  },
  {
   "cell_type": "code",
   "execution_count": 25,
   "id": "fa867c72",
   "metadata": {},
   "outputs": [
    {
     "data": {
      "text/plain": [
       "Text(0.5, 1.0, 'Distribution of the column - age')"
      ]
     },
     "execution_count": 25,
     "metadata": {},
     "output_type": "execute_result"
    },
    {
     "data": {
      "image/png": "[encoded data removed]",
      "text/plain": [
       "<Figure size 432x288 with 1 Axes>"
      ]
     },
     "metadata": {
      "needs_background": "light"
     },
     "output_type": "display_data"
    }
   ],
   "source": [
    "### Understanding the distribution of the column - age\n",
    "\n",
    "sns.distplot(dataset['age'], label = 'Skewness: %.2f'%(dataset['age'].skew()))\n",
    "plt.legend(loc = 'best')\n",
    "plt.title('Distribution of the column - age')"
   ]
  },
  {
   "cell_type": "markdown",
   "id": "a0fea4f1",
   "metadata": {},
   "source": [
    "From the above graph, we can see that the distribution has very less skewness."
   ]
  },
  {
   "cell_type": "code",
   "execution_count": 26,
   "id": "84796d56",
   "metadata": {},
   "outputs": [
    {
     "data": {
      "text/plain": [
       "<seaborn.axisgrid.FacetGrid at 0x21c365ab2e0>"
      ]
     },
     "execution_count": 26,
     "metadata": {},
     "output_type": "execute_result"
    },
    {
     "data": {
      "image/png": "[encoded data removed]",
      "text/plain": [
       "<Figure size 432x216 with 2 Axes>"
      ]
     },
     "metadata": {
      "needs_background": "light"
     },
     "output_type": "display_data"
    }
   ],
   "source": [
    "### Age distribution by sex\n",
    "\n",
    "grid = sns.FacetGrid(dataset, col = 'sex')\n",
    "grid.map(sns.distplot, 'age')"
   ]
  },
  {
   "cell_type": "markdown",
   "id": "40d56502",
   "metadata": {},
   "source": [
    "From the above graphs, we can see that the age distribution is similar in both the sex."
   ]
  },
  {
   "cell_type": "code",
   "execution_count": 27,
   "id": "1fdb13e6",
   "metadata": {},
   "outputs": [
    {
     "data": {
      "text/plain": [
       "Text(0.5, 1.0, 'Age Distribution by Sex')"
      ]
     },
     "execution_count": 27,
     "metadata": {},
     "output_type": "execute_result"
    },
    {
     "data": {
      "image/png": "[encoded data removed]",
      "text/plain": [
       "<Figure size 432x288 with 1 Axes>"
      ]
     },
     "metadata": {
      "needs_background": "light"
     },
     "output_type": "display_data"
    }
   ],
   "source": [
    "### Merging both the above graphs into one\n",
    "\n",
    "sns.kdeplot(dataset['age'][dataset['sex'] == 'male'], label = 'Male')\n",
    "sns.kdeplot(dataset['age'][dataset['sex'] == 'female'], label = 'Female')\n",
    "plt.xlabel('Age')\n",
    "plt.legend()\n",
    "plt.title('Age Distribution by Sex')"
   ]
  },
  {
   "cell_type": "markdown",
   "id": "109df9a3",
   "metadata": {},
   "source": [
    "From the above graph, we can see that for age close to 20 there are more male records in the dataset, whereas in case of age > 40 there are more female records."
   ]
  },
  {
   "cell_type": "code",
   "execution_count": 28,
   "id": "72dde383",
   "metadata": {},
   "outputs": [
    {
     "data": {
      "text/plain": [
       "<AxesSubplot:>"
      ]
     },
     "execution_count": 28,
     "metadata": {},
     "output_type": "execute_result"
    },
    {
     "data": {
      "image/png": "[encoded data removed]",
      "text/plain": [
       "<Figure size 432x288 with 1 Axes>"
      ]
     },
     "metadata": {
      "needs_background": "light"
     },
     "output_type": "display_data"
    }
   ],
   "source": [
    "### Plotting a boxplot to check if the column has any outliers \n",
    "\n",
    "dataset.boxplot(column = ['age'])"
   ]
  },
  {
   "cell_type": "markdown",
   "id": "1f879c41",
   "metadata": {},
   "source": [
    "From the above boxplot, we can see that there are no outliers in the column."
   ]
  },
  {
   "cell_type": "markdown",
   "id": "05a2d6a1",
   "metadata": {},
   "source": [
    "##### 3.2.5 Numerical variable - bmi"
   ]
  },
  {
   "cell_type": "code",
   "execution_count": 29,
   "id": "de1aea89",
   "metadata": {},
   "outputs": [
    {
     "data": {
      "text/plain": [
       "Text(0.5, 1.0, 'Distribution of the column - bmi')"
      ]
     },
     "execution_count": 29,
     "metadata": {},
     "output_type": "execute_result"
    },
    {
     "data": {
      "image/png": "[encoded data removed]",
      "text/plain": [
       "<Figure size 432x288 with 1 Axes>"
      ]
     },
     "metadata": {
      "needs_background": "light"
     },
     "output_type": "display_data"
    }
   ],
   "source": [
    "### Understanding the distribution of the column - bmi\n",
    "\n",
    "sns.distplot(dataset['bmi'], label = 'Skewness: %.2f'%(dataset['bmi'].skew()))\n",
    "plt.legend(loc = 'best')\n",
    "plt.title('Distribution of the column - bmi')"
   ]
  },
  {
   "cell_type": "markdown",
   "id": "2d31106d",
   "metadata": {},
   "source": [
    "From the above graph, we can see that the bmi column is normally distributed with a slight tail at the right."
   ]
  },
  {
   "cell_type": "code",
   "execution_count": 30,
   "id": "c4428f1a",
   "metadata": {},
   "outputs": [
    {
     "data": {
      "text/plain": [
       "<seaborn.axisgrid.FacetGrid at 0x21c31987b20>"
      ]
     },
     "execution_count": 30,
     "metadata": {},
     "output_type": "execute_result"
    },
    {
     "data": {
      "image/png": "[encoded data removed]",
      "text/plain": [
       "<Figure size 432x216 with 2 Axes>"
      ]
     },
     "metadata": {
      "needs_background": "light"
     },
     "output_type": "display_data"
    }
   ],
   "source": [
    "### BMI distribution by sex\n",
    "\n",
    "grid = sns.FacetGrid(dataset, col = 'sex')\n",
    "grid.map(sns.distplot, 'bmi')"
   ]
  },
  {
   "cell_type": "markdown",
   "id": "9fa41aa7",
   "metadata": {},
   "source": [
    "From the above graph, we can see that both the graphs look similar, except in the case of male where the graph has a slight tail to the right."
   ]
  },
  {
   "cell_type": "code",
   "execution_count": 31,
   "id": "9287485f",
   "metadata": {},
   "outputs": [
    {
     "data": {
      "text/plain": [
       "Text(0.5, 1.0, 'BMI Distribution by Sex')"
      ]
     },
     "execution_count": 31,
     "metadata": {},
     "output_type": "execute_result"
    },
    {
     "data": {
      "image/png": "[encoded data removed]",
      "text/plain": [
       "<Figure size 432x288 with 1 Axes>"
      ]
     },
     "metadata": {
      "needs_background": "light"
     },
     "output_type": "display_data"
    }
   ],
   "source": [
    "### Merging both the above graphs into one\n",
    "\n",
    "sns.kdeplot(dataset['bmi'][dataset['sex'] == 'male'], label = 'Male')\n",
    "sns.kdeplot(dataset['bmi'][dataset['sex'] == 'female'], label = 'Female')\n",
    "plt.xlabel('BMI')\n",
    "plt.legend()\n",
    "plt.title('BMI Distribution by Sex')"
   ]
  },
  {
   "cell_type": "code",
   "execution_count": 32,
   "id": "b10b7ef7",
   "metadata": {},
   "outputs": [
    {
     "data": {
      "text/plain": [
       "<AxesSubplot:>"
      ]
     },
     "execution_count": 32,
     "metadata": {},
     "output_type": "execute_result"
    },
    {
     "data": {
      "image/png": "[encoded data removed]",
      "text/plain": [
       "<Figure size 432x288 with 1 Axes>"
      ]
     },
     "metadata": {
      "needs_background": "light"
     },
     "output_type": "display_data"
    }
   ],
   "source": [
    "### Plotting a boxplot to check if the column has any outliers \n",
    "\n",
    "dataset.boxplot(column = ['bmi'])"
   ]
  },
  {
   "cell_type": "markdown",
   "id": "f4817c2f",
   "metadata": {},
   "source": [
    "From the above graph, we can see that there are a few outliers in the column - bmi. We will focus on removing these outliers during the Data Preprocessing phase."
   ]
  },
  {
   "cell_type": "markdown",
   "id": "785f4649",
   "metadata": {},
   "source": [
    "##### 3.2.6 Numerical column - children"
   ]
  },
  {
   "cell_type": "code",
   "execution_count": 33,
   "id": "5002cd6c",
   "metadata": {},
   "outputs": [
    {
     "data": {
      "text/plain": [
       "Text(0.5, 1.0, 'Distribution of the column - children')"
      ]
     },
     "execution_count": 33,
     "metadata": {},
     "output_type": "execute_result"
    },
    {
     "data": {
      "image/png": "[encoded data removed]",
      "text/plain": [
       "<Figure size 432x288 with 1 Axes>"
      ]
     },
     "metadata": {
      "needs_background": "light"
     },
     "output_type": "display_data"
    }
   ],
   "source": [
    "### Understanding the distribution of the column - children\n",
    "\n",
    "sns.distplot(dataset['children'], label = 'Skewness: %.2f'%(dataset['children'].skew()))\n",
    "plt.legend(loc = 'best')\n",
    "plt.title('Distribution of the column - children')"
   ]
  },
  {
   "cell_type": "markdown",
   "id": "17c1fdaa",
   "metadata": {},
   "source": [
    "From the above graph, we can see that the graph is slightly skewed. Hence, we will remove this skewness during the Data Preprocessing phase."
   ]
  },
  {
   "cell_type": "code",
   "execution_count": 34,
   "id": "dd8412f4",
   "metadata": {},
   "outputs": [
    {
     "data": {
      "text/plain": [
       "<AxesSubplot:>"
      ]
     },
     "execution_count": 34,
     "metadata": {},
     "output_type": "execute_result"
    },
    {
     "data": {
      "image/png": "[encoded data removed]",
      "text/plain": [
       "<Figure size 432x288 with 1 Axes>"
      ]
     },
     "metadata": {
      "needs_background": "light"
     },
     "output_type": "display_data"
    }
   ],
   "source": [
    "### Plotting a boxplot to check if the column has any outliers \n",
    "\n",
    "dataset.boxplot(column = ['children'])"
   ]
  },
  {
   "cell_type": "markdown",
   "id": "1f272c30",
   "metadata": {},
   "source": [
    "From the above boxplot, we can see that there are no outliers in the column."
   ]
  },
  {
   "cell_type": "markdown",
   "id": "3507fa0c",
   "metadata": {},
   "source": [
    "##### 3.2.7 Numerical variable - charges"
   ]
  },
  {
   "cell_type": "code",
   "execution_count": 35,
   "id": "2ccd8c12",
   "metadata": {},
   "outputs": [
    {
     "data": {
      "text/plain": [
       "Text(0.5, 1.0, 'Distribution of the column - charges')"
      ]
     },
     "execution_count": 35,
     "metadata": {},
     "output_type": "execute_result"
    },
    {
     "data": {
      "image/png": "[encoded data removed]",
      "text/plain": [
       "<Figure size 432x288 with 1 Axes>"
      ]
     },
     "metadata": {
      "needs_background": "light"
     },
     "output_type": "display_data"
    }
   ],
   "source": [
    "### Understanding the distribution of the column - charges\n",
    "\n",
    "sns.distplot(dataset['charges'], label = 'Skewness: %.2f'%(dataset['charges'].skew()))\n",
    "plt.legend(loc = 'best')\n",
    "plt.title('Distribution of the column - charges')"
   ]
  },
  {
   "cell_type": "code",
   "execution_count": 36,
   "id": "c2985942",
   "metadata": {},
   "outputs": [
    {
     "data": {
      "text/plain": [
       "<AxesSubplot:>"
      ]
     },
     "execution_count": 36,
     "metadata": {},
     "output_type": "execute_result"
    },
    {
     "data": {
      "image/png": "[encoded data removed]",
      "text/plain": [
       "<Figure size 432x288 with 1 Axes>"
      ]
     },
     "metadata": {
      "needs_background": "light"
     },
     "output_type": "display_data"
    }
   ],
   "source": [
    "### Plotting a boxplot to check if the column has any outliers \n",
    "\n",
    "dataset.boxplot(column = ['charges'])"
   ]
  },
  {
   "cell_type": "markdown",
   "id": "27dc4a87",
   "metadata": {},
   "source": [
    "From the above graph, we can see that there are a few outliers in the column - charges. We will focus on removing these outliers during the Data Preprocessing phase."
   ]
  },
  {
   "cell_type": "markdown",
   "id": "cdb9e47a",
   "metadata": {},
   "source": [
    "### 4. Data Preprocessing"
   ]
  },
  {
   "cell_type": "markdown",
   "id": "bbffe0dd",
   "metadata": {},
   "source": [
    "Data preprocessing is the process of getting our dataset ready for model training. In this section, we will perform the following preprocessing steps:\n",
    "\n",
    "1. Detect and remove outliers in numerical variables\n",
    "2. Drop unnecessary columns\n",
    "3. Data Trasformation\n",
    "4. Feature Encoding\n",
    "5. Feature Selection"
   ]
  },
  {
   "cell_type": "markdown",
   "id": "aef22eaf",
   "metadata": {},
   "source": [
    "#### 4.1 Detect and remove outliers in numerical variables"
   ]
  },
  {
   "cell_type": "markdown",
   "id": "efa4e5d5",
   "metadata": {},
   "source": [
    "Outliers are data points that have extreme values and they do not conform with the majority of the data. It is important to address this because outliers tend to skew our data towards extremes and can cause inaccurate model predictions. I will use the Tukey method to remove these outliers.\n",
    "\n",
    "Here, we will write a function that will loop through a list of features and detect outliers in each one of those features. In each loop, a data point is deemed an outlier if it is less than the first quartile minus the outlier step or exceeds third quartile plus the outlier step. The outlier step is defined as 1.5 times the interquartile range. Once the outliers have been determined for one feature, their indices will be stored in a list before proceeding to the next feature and the process repeats until the very last feature is completed. Finally, using the list with outlier indices, we will count the frequencies of the index numbers and return them if their frequency exceeds n times."
   ]
  },
  {
   "cell_type": "code",
   "execution_count": 37,
   "id": "d455bf32",
   "metadata": {},
   "outputs": [],
   "source": [
    "### Now we will try to remove the rows based on the outliers in the column - charges\n",
    "\n",
    "modified_dataset = dataset[(np.abs(stats.zscore(dataset[['charges']])) < 3)]"
   ]
  },
  {
   "cell_type": "code",
   "execution_count": 38,
   "id": "88e5de1d",
   "metadata": {},
   "outputs": [
    {
     "name": "stdout",
     "output_type": "stream",
     "text": [
      "Before:  1338\n",
      "After:  1331\n"
     ]
    }
   ],
   "source": [
    "### Size of the dataset\n",
    "\n",
    "print('Before: ', len(dataset))\n",
    "print('After: ', len(modified_dataset))"
   ]
  },
  {
   "cell_type": "markdown",
   "id": "53d5e93e",
   "metadata": {},
   "source": [
    "#### 4.2 Drop unnecessary columns"
   ]
  },
  {
   "cell_type": "markdown",
   "id": "6ca40a6c",
   "metadata": {},
   "source": [
    "From the dataset, we can see that the column region is redundant, as we can see that it is completely dependent on the columns sex and smoker."
   ]
  },
  {
   "cell_type": "code",
   "execution_count": 39,
   "id": "4dc1a18c",
   "metadata": {},
   "outputs": [],
   "source": [
    "### Dropping the column - region\n",
    "\n",
    "modified_dataset.drop(['region'], axis = 1, inplace = True)"
   ]
  },
  {
   "cell_type": "code",
   "execution_count": 40,
   "id": "bce149d2",
   "metadata": {},
   "outputs": [
    {
     "data": {
      "text/html": [
       "<div>\n",
       "<style scoped>\n",
       "    .dataframe tbody tr th:only-of-type {\n",
       "        vertical-align: middle;\n",
       "    }\n",
       "\n",
       "    .dataframe tbody tr th {\n",
       "        vertical-align: top;\n",
       "    }\n",
       "\n",
       "    .dataframe thead th {\n",
       "        text-align: right;\n",
       "    }\n",
       "</style>\n",
       "<table border=\"1\" class=\"dataframe\">\n",
       "  <thead>\n",
       "    <tr style=\"text-align: right;\">\n",
       "      <th></th>\n",
       "      <th>age</th>\n",
       "      <th>sex</th>\n",
       "      <th>bmi</th>\n",
       "      <th>children</th>\n",
       "      <th>smoker</th>\n",
       "      <th>charges</th>\n",
       "    </tr>\n",
       "  </thead>\n",
       "  <tbody>\n",
       "    <tr>\n",
       "      <th>0</th>\n",
       "      <td>19</td>\n",
       "      <td>female</td>\n",
       "      <td>27.900</td>\n",
       "      <td>0</td>\n",
       "      <td>yes</td>\n",
       "      <td>16884.92400</td>\n",
       "    </tr>\n",
       "    <tr>\n",
       "      <th>1</th>\n",
       "      <td>18</td>\n",
       "      <td>male</td>\n",
       "      <td>33.770</td>\n",
       "      <td>1</td>\n",
       "      <td>no</td>\n",
       "      <td>1725.55230</td>\n",
       "    </tr>\n",
       "    <tr>\n",
       "      <th>2</th>\n",
       "      <td>28</td>\n",
       "      <td>male</td>\n",
       "      <td>33.000</td>\n",
       "      <td>3</td>\n",
       "      <td>no</td>\n",
       "      <td>4449.46200</td>\n",
       "    </tr>\n",
       "    <tr>\n",
       "      <th>3</th>\n",
       "      <td>33</td>\n",
       "      <td>male</td>\n",
       "      <td>22.705</td>\n",
       "      <td>0</td>\n",
       "      <td>no</td>\n",
       "      <td>21984.47061</td>\n",
       "    </tr>\n",
       "    <tr>\n",
       "      <th>4</th>\n",
       "      <td>32</td>\n",
       "      <td>male</td>\n",
       "      <td>28.880</td>\n",
       "      <td>0</td>\n",
       "      <td>no</td>\n",
       "      <td>3866.85520</td>\n",
       "    </tr>\n",
       "    <tr>\n",
       "      <th>...</th>\n",
       "      <td>...</td>\n",
       "      <td>...</td>\n",
       "      <td>...</td>\n",
       "      <td>...</td>\n",
       "      <td>...</td>\n",
       "      <td>...</td>\n",
       "    </tr>\n",
       "    <tr>\n",
       "      <th>1333</th>\n",
       "      <td>50</td>\n",
       "      <td>male</td>\n",
       "      <td>30.970</td>\n",
       "      <td>3</td>\n",
       "      <td>no</td>\n",
       "      <td>10600.54830</td>\n",
       "    </tr>\n",
       "    <tr>\n",
       "      <th>1334</th>\n",
       "      <td>18</td>\n",
       "      <td>female</td>\n",
       "      <td>31.920</td>\n",
       "      <td>0</td>\n",
       "      <td>no</td>\n",
       "      <td>2205.98080</td>\n",
       "    </tr>\n",
       "    <tr>\n",
       "      <th>1335</th>\n",
       "      <td>18</td>\n",
       "      <td>female</td>\n",
       "      <td>36.850</td>\n",
       "      <td>0</td>\n",
       "      <td>no</td>\n",
       "      <td>1629.83350</td>\n",
       "    </tr>\n",
       "    <tr>\n",
       "      <th>1336</th>\n",
       "      <td>21</td>\n",
       "      <td>female</td>\n",
       "      <td>25.800</td>\n",
       "      <td>0</td>\n",
       "      <td>no</td>\n",
       "      <td>2007.94500</td>\n",
       "    </tr>\n",
       "    <tr>\n",
       "      <th>1337</th>\n",
       "      <td>61</td>\n",
       "      <td>female</td>\n",
       "      <td>29.070</td>\n",
       "      <td>0</td>\n",
       "      <td>yes</td>\n",
       "      <td>29141.36030</td>\n",
       "    </tr>\n",
       "  </tbody>\n",
       "</table>\n",
       "<p>1331 rows × 6 columns</p>\n",
       "</div>"
      ],
      "text/plain": [
       "      age     sex     bmi  children smoker      charges\n",
       "0      19  female  27.900         0    yes  16884.92400\n",
       "1      18    male  33.770         1     no   1725.55230\n",
       "2      28    male  33.000         3     no   4449.46200\n",
       "3      33    male  22.705         0     no  21984.47061\n",
       "4      32    male  28.880         0     no   3866.85520\n",
       "...   ...     ...     ...       ...    ...          ...\n",
       "1333   50    male  30.970         3     no  10600.54830\n",
       "1334   18  female  31.920         0     no   2205.98080\n",
       "1335   18  female  36.850         0     no   1629.83350\n",
       "1336   21  female  25.800         0     no   2007.94500\n",
       "1337   61  female  29.070         0    yes  29141.36030\n",
       "\n",
       "[1331 rows x 6 columns]"
      ]
     },
     "execution_count": 40,
     "metadata": {},
     "output_type": "execute_result"
    }
   ],
   "source": [
    "### Looking at the modified dataset\n",
    "\n",
    "modified_dataset"
   ]
  },
  {
   "cell_type": "markdown",
   "id": "1b2a4db9",
   "metadata": {},
   "source": [
    "#### 4.3 Data Transformation"
   ]
  },
  {
   "cell_type": "markdown",
   "id": "b6b6508e",
   "metadata": {},
   "source": [
    "Here, we will focus on transforming the column - children using Box Cox transformation. After that we will scale all the columns using Min Max normalization."
   ]
  },
  {
   "cell_type": "markdown",
   "id": "1102ac94",
   "metadata": {},
   "source": [
    "##### 4.3.1 Box Cox transforming the column - children"
   ]
  },
  {
   "cell_type": "code",
   "execution_count": 41,
   "id": "c27f7589",
   "metadata": {},
   "outputs": [
    {
     "data": {
      "text/plain": [
       "Text(0.5, 1.0, 'Distribution of the column - children')"
      ]
     },
     "execution_count": 41,
     "metadata": {},
     "output_type": "execute_result"
    },
    {
     "data": {
      "image/png": "[encoded data removed]",
      "text/plain": [
       "<Figure size 432x288 with 1 Axes>"
      ]
     },
     "metadata": {
      "needs_background": "light"
     },
     "output_type": "display_data"
    }
   ],
   "source": [
    "### Understanding the distribution of the column - children\n",
    "\n",
    "sns.distplot(modified_dataset['children'], label = 'Skewness: %.2f'%(modified_dataset['children'].skew()))\n",
    "plt.legend(loc = 'best')\n",
    "plt.title('Distribution of the column - children')"
   ]
  },
  {
   "cell_type": "code",
   "execution_count": 42,
   "id": "f8ec3915",
   "metadata": {},
   "outputs": [
    {
     "data": {
      "text/plain": [
       "Text(0.5, 1.0, 'Distribution of the column - children')"
      ]
     },
     "execution_count": 42,
     "metadata": {},
     "output_type": "execute_result"
    },
    {
     "data": {
      "image/png": "[encoded data removed]",
      "text/plain": [
       "<Figure size 432x288 with 1 Axes>"
      ]
     },
     "metadata": {
      "needs_background": "light"
     },
     "output_type": "display_data"
    }
   ],
   "source": [
    "### Understanding the distribution of the data Box_Cox(children)\n",
    "\n",
    "children_data = [0.1 if value == 0 else value for value in modified_dataset['children']]\n",
    "\n",
    "modified_children, _ = stats.boxcox(children_data)\n",
    "modified_dataset['children'] = modified_children\n",
    "\n",
    "sns.distplot(modified_dataset['children'], label = 'Skewness: %.2f'%(modified_dataset['children'].skew()))\n",
    "plt.legend(loc = 'best')\n",
    "plt.title('Distribution of the column - children')"
   ]
  },
  {
   "cell_type": "markdown",
   "id": "fc529df2",
   "metadata": {},
   "source": [
    "From the above graph, we can see that most of the skewness is removed in the column."
   ]
  },
  {
   "cell_type": "markdown",
   "id": "c0632583",
   "metadata": {},
   "source": [
    "##### 4.3.2 Normalizing the numerical columns"
   ]
  },
  {
   "cell_type": "code",
   "execution_count": 43,
   "id": "b23cc2ae",
   "metadata": {},
   "outputs": [],
   "source": [
    "### A function to normalize numerical columns\n",
    "\n",
    "def normalize_columns(dataframe, column):\n",
    "    data = dataframe[column]\n",
    "    mini = min(data)\n",
    "    maxi = max(data)\n",
    "    \n",
    "    new_data = []\n",
    "    for value in data:\n",
    "        new_data.append((value - mini)/(maxi - mini))\n",
    "    \n",
    "    dataframe[column] = new_data\n",
    "\n",
    "numerical_columns = ['age', 'bmi', 'children']\n",
    "\n",
    "for each_column in numerical_columns:\n",
    "    normalize_columns(modified_dataset, each_column)"
   ]
  },
  {
   "cell_type": "code",
   "execution_count": 44,
   "id": "16d6307e",
   "metadata": {},
   "outputs": [
    {
     "data": {
      "text/html": [
       "<div>\n",
       "<style scoped>\n",
       "    .dataframe tbody tr th:only-of-type {\n",
       "        vertical-align: middle;\n",
       "    }\n",
       "\n",
       "    .dataframe tbody tr th {\n",
       "        vertical-align: top;\n",
       "    }\n",
       "\n",
       "    .dataframe thead th {\n",
       "        text-align: right;\n",
       "    }\n",
       "</style>\n",
       "<table border=\"1\" class=\"dataframe\">\n",
       "  <thead>\n",
       "    <tr style=\"text-align: right;\">\n",
       "      <th></th>\n",
       "      <th>age</th>\n",
       "      <th>sex</th>\n",
       "      <th>bmi</th>\n",
       "      <th>children</th>\n",
       "      <th>smoker</th>\n",
       "      <th>charges</th>\n",
       "    </tr>\n",
       "  </thead>\n",
       "  <tbody>\n",
       "    <tr>\n",
       "      <th>0</th>\n",
       "      <td>0.021739</td>\n",
       "      <td>female</td>\n",
       "      <td>0.321227</td>\n",
       "      <td>0.000000</td>\n",
       "      <td>yes</td>\n",
       "      <td>16884.92400</td>\n",
       "    </tr>\n",
       "    <tr>\n",
       "      <th>1</th>\n",
       "      <td>0.000000</td>\n",
       "      <td>male</td>\n",
       "      <td>0.479150</td>\n",
       "      <td>0.558513</td>\n",
       "      <td>no</td>\n",
       "      <td>1725.55230</td>\n",
       "    </tr>\n",
       "    <tr>\n",
       "      <th>2</th>\n",
       "      <td>0.217391</td>\n",
       "      <td>male</td>\n",
       "      <td>0.458434</td>\n",
       "      <td>0.854987</td>\n",
       "      <td>no</td>\n",
       "      <td>4449.46200</td>\n",
       "    </tr>\n",
       "    <tr>\n",
       "      <th>3</th>\n",
       "      <td>0.326087</td>\n",
       "      <td>male</td>\n",
       "      <td>0.181464</td>\n",
       "      <td>0.000000</td>\n",
       "      <td>no</td>\n",
       "      <td>21984.47061</td>\n",
       "    </tr>\n",
       "    <tr>\n",
       "      <th>4</th>\n",
       "      <td>0.304348</td>\n",
       "      <td>male</td>\n",
       "      <td>0.347592</td>\n",
       "      <td>0.000000</td>\n",
       "      <td>no</td>\n",
       "      <td>3866.85520</td>\n",
       "    </tr>\n",
       "    <tr>\n",
       "      <th>...</th>\n",
       "      <td>...</td>\n",
       "      <td>...</td>\n",
       "      <td>...</td>\n",
       "      <td>...</td>\n",
       "      <td>...</td>\n",
       "      <td>...</td>\n",
       "    </tr>\n",
       "    <tr>\n",
       "      <th>1333</th>\n",
       "      <td>0.695652</td>\n",
       "      <td>male</td>\n",
       "      <td>0.403820</td>\n",
       "      <td>0.854987</td>\n",
       "      <td>no</td>\n",
       "      <td>10600.54830</td>\n",
       "    </tr>\n",
       "    <tr>\n",
       "      <th>1334</th>\n",
       "      <td>0.000000</td>\n",
       "      <td>female</td>\n",
       "      <td>0.429379</td>\n",
       "      <td>0.000000</td>\n",
       "      <td>no</td>\n",
       "      <td>2205.98080</td>\n",
       "    </tr>\n",
       "    <tr>\n",
       "      <th>1335</th>\n",
       "      <td>0.000000</td>\n",
       "      <td>female</td>\n",
       "      <td>0.562012</td>\n",
       "      <td>0.000000</td>\n",
       "      <td>no</td>\n",
       "      <td>1629.83350</td>\n",
       "    </tr>\n",
       "    <tr>\n",
       "      <th>1336</th>\n",
       "      <td>0.065217</td>\n",
       "      <td>female</td>\n",
       "      <td>0.264730</td>\n",
       "      <td>0.000000</td>\n",
       "      <td>no</td>\n",
       "      <td>2007.94500</td>\n",
       "    </tr>\n",
       "    <tr>\n",
       "      <th>1337</th>\n",
       "      <td>0.934783</td>\n",
       "      <td>female</td>\n",
       "      <td>0.352704</td>\n",
       "      <td>0.000000</td>\n",
       "      <td>yes</td>\n",
       "      <td>29141.36030</td>\n",
       "    </tr>\n",
       "  </tbody>\n",
       "</table>\n",
       "<p>1331 rows × 6 columns</p>\n",
       "</div>"
      ],
      "text/plain": [
       "           age     sex       bmi  children smoker      charges\n",
       "0     0.021739  female  0.321227  0.000000    yes  16884.92400\n",
       "1     0.000000    male  0.479150  0.558513     no   1725.55230\n",
       "2     0.217391    male  0.458434  0.854987     no   4449.46200\n",
       "3     0.326087    male  0.181464  0.000000     no  21984.47061\n",
       "4     0.304348    male  0.347592  0.000000     no   3866.85520\n",
       "...        ...     ...       ...       ...    ...          ...\n",
       "1333  0.695652    male  0.403820  0.854987     no  10600.54830\n",
       "1334  0.000000  female  0.429379  0.000000     no   2205.98080\n",
       "1335  0.000000  female  0.562012  0.000000     no   1629.83350\n",
       "1336  0.065217  female  0.264730  0.000000     no   2007.94500\n",
       "1337  0.934783  female  0.352704  0.000000    yes  29141.36030\n",
       "\n",
       "[1331 rows x 6 columns]"
      ]
     },
     "execution_count": 44,
     "metadata": {},
     "output_type": "execute_result"
    }
   ],
   "source": [
    "### Looking at the sample records of the dataset\n",
    "\n",
    "modified_dataset"
   ]
  },
  {
   "cell_type": "markdown",
   "id": "ce29adb3",
   "metadata": {},
   "source": [
    "#### 4.4 Feature Encoding"
   ]
  },
  {
   "cell_type": "markdown",
   "id": "ae0a7b50",
   "metadata": {},
   "source": [
    "Feature encoding is the process of turning categorical data in a dataset into numerical data. It is essential that we perform feature encoding because most machine learning models can only interpret numerical data and not data in text form.\n",
    "\n",
    "Here, we will use One Hot Encoding for the columns - sex, smoker"
   ]
  },
  {
   "cell_type": "code",
   "execution_count": 45,
   "id": "1232bd5a",
   "metadata": {},
   "outputs": [
    {
     "data": {
      "text/html": [
       "<div>\n",
       "<style scoped>\n",
       "    .dataframe tbody tr th:only-of-type {\n",
       "        vertical-align: middle;\n",
       "    }\n",
       "\n",
       "    .dataframe tbody tr th {\n",
       "        vertical-align: top;\n",
       "    }\n",
       "\n",
       "    .dataframe thead th {\n",
       "        text-align: right;\n",
       "    }\n",
       "</style>\n",
       "<table border=\"1\" class=\"dataframe\">\n",
       "  <thead>\n",
       "    <tr style=\"text-align: right;\">\n",
       "      <th></th>\n",
       "      <th>age</th>\n",
       "      <th>bmi</th>\n",
       "      <th>children</th>\n",
       "      <th>charges</th>\n",
       "      <th>sex_female</th>\n",
       "      <th>sex_male</th>\n",
       "      <th>smoker_no</th>\n",
       "      <th>smoker_yes</th>\n",
       "    </tr>\n",
       "  </thead>\n",
       "  <tbody>\n",
       "    <tr>\n",
       "      <th>0</th>\n",
       "      <td>0.021739</td>\n",
       "      <td>0.321227</td>\n",
       "      <td>0.000000</td>\n",
       "      <td>16884.92400</td>\n",
       "      <td>1</td>\n",
       "      <td>0</td>\n",
       "      <td>0</td>\n",
       "      <td>1</td>\n",
       "    </tr>\n",
       "    <tr>\n",
       "      <th>1</th>\n",
       "      <td>0.000000</td>\n",
       "      <td>0.479150</td>\n",
       "      <td>0.558513</td>\n",
       "      <td>1725.55230</td>\n",
       "      <td>0</td>\n",
       "      <td>1</td>\n",
       "      <td>1</td>\n",
       "      <td>0</td>\n",
       "    </tr>\n",
       "    <tr>\n",
       "      <th>2</th>\n",
       "      <td>0.217391</td>\n",
       "      <td>0.458434</td>\n",
       "      <td>0.854987</td>\n",
       "      <td>4449.46200</td>\n",
       "      <td>0</td>\n",
       "      <td>1</td>\n",
       "      <td>1</td>\n",
       "      <td>0</td>\n",
       "    </tr>\n",
       "    <tr>\n",
       "      <th>3</th>\n",
       "      <td>0.326087</td>\n",
       "      <td>0.181464</td>\n",
       "      <td>0.000000</td>\n",
       "      <td>21984.47061</td>\n",
       "      <td>0</td>\n",
       "      <td>1</td>\n",
       "      <td>1</td>\n",
       "      <td>0</td>\n",
       "    </tr>\n",
       "    <tr>\n",
       "      <th>4</th>\n",
       "      <td>0.304348</td>\n",
       "      <td>0.347592</td>\n",
       "      <td>0.000000</td>\n",
       "      <td>3866.85520</td>\n",
       "      <td>0</td>\n",
       "      <td>1</td>\n",
       "      <td>1</td>\n",
       "      <td>0</td>\n",
       "    </tr>\n",
       "    <tr>\n",
       "      <th>...</th>\n",
       "      <td>...</td>\n",
       "      <td>...</td>\n",
       "      <td>...</td>\n",
       "      <td>...</td>\n",
       "      <td>...</td>\n",
       "      <td>...</td>\n",
       "      <td>...</td>\n",
       "      <td>...</td>\n",
       "    </tr>\n",
       "    <tr>\n",
       "      <th>1333</th>\n",
       "      <td>0.695652</td>\n",
       "      <td>0.403820</td>\n",
       "      <td>0.854987</td>\n",
       "      <td>10600.54830</td>\n",
       "      <td>0</td>\n",
       "      <td>1</td>\n",
       "      <td>1</td>\n",
       "      <td>0</td>\n",
       "    </tr>\n",
       "    <tr>\n",
       "      <th>1334</th>\n",
       "      <td>0.000000</td>\n",
       "      <td>0.429379</td>\n",
       "      <td>0.000000</td>\n",
       "      <td>2205.98080</td>\n",
       "      <td>1</td>\n",
       "      <td>0</td>\n",
       "      <td>1</td>\n",
       "      <td>0</td>\n",
       "    </tr>\n",
       "    <tr>\n",
       "      <th>1335</th>\n",
       "      <td>0.000000</td>\n",
       "      <td>0.562012</td>\n",
       "      <td>0.000000</td>\n",
       "      <td>1629.83350</td>\n",
       "      <td>1</td>\n",
       "      <td>0</td>\n",
       "      <td>1</td>\n",
       "      <td>0</td>\n",
       "    </tr>\n",
       "    <tr>\n",
       "      <th>1336</th>\n",
       "      <td>0.065217</td>\n",
       "      <td>0.264730</td>\n",
       "      <td>0.000000</td>\n",
       "      <td>2007.94500</td>\n",
       "      <td>1</td>\n",
       "      <td>0</td>\n",
       "      <td>1</td>\n",
       "      <td>0</td>\n",
       "    </tr>\n",
       "    <tr>\n",
       "      <th>1337</th>\n",
       "      <td>0.934783</td>\n",
       "      <td>0.352704</td>\n",
       "      <td>0.000000</td>\n",
       "      <td>29141.36030</td>\n",
       "      <td>1</td>\n",
       "      <td>0</td>\n",
       "      <td>0</td>\n",
       "      <td>1</td>\n",
       "    </tr>\n",
       "  </tbody>\n",
       "</table>\n",
       "<p>1331 rows × 8 columns</p>\n",
       "</div>"
      ],
      "text/plain": [
       "           age       bmi  children      charges  sex_female  sex_male  \\\n",
       "0     0.021739  0.321227  0.000000  16884.92400           1         0   \n",
       "1     0.000000  0.479150  0.558513   1725.55230           0         1   \n",
       "2     0.217391  0.458434  0.854987   4449.46200           0         1   \n",
       "3     0.326087  0.181464  0.000000  21984.47061           0         1   \n",
       "4     0.304348  0.347592  0.000000   3866.85520           0         1   \n",
       "...        ...       ...       ...          ...         ...       ...   \n",
       "1333  0.695652  0.403820  0.854987  10600.54830           0         1   \n",
       "1334  0.000000  0.429379  0.000000   2205.98080           1         0   \n",
       "1335  0.000000  0.562012  0.000000   1629.83350           1         0   \n",
       "1336  0.065217  0.264730  0.000000   2007.94500           1         0   \n",
       "1337  0.934783  0.352704  0.000000  29141.36030           1         0   \n",
       "\n",
       "      smoker_no  smoker_yes  \n",
       "0             0           1  \n",
       "1             1           0  \n",
       "2             1           0  \n",
       "3             1           0  \n",
       "4             1           0  \n",
       "...         ...         ...  \n",
       "1333          1           0  \n",
       "1334          1           0  \n",
       "1335          1           0  \n",
       "1336          1           0  \n",
       "1337          0           1  \n",
       "\n",
       "[1331 rows x 8 columns]"
      ]
     },
     "execution_count": 45,
     "metadata": {},
     "output_type": "execute_result"
    }
   ],
   "source": [
    "### One Hot Encoding the columns - sex, smoker of the dataset\n",
    "\n",
    "encoded_dataset = pd.get_dummies(data = modified_dataset, columns = ['sex', 'smoker'])\n",
    "encoded_dataset"
   ]
  },
  {
   "cell_type": "code",
   "execution_count": 46,
   "id": "25914d11",
   "metadata": {},
   "outputs": [
    {
     "data": {
      "text/html": [
       "<div>\n",
       "<style scoped>\n",
       "    .dataframe tbody tr th:only-of-type {\n",
       "        vertical-align: middle;\n",
       "    }\n",
       "\n",
       "    .dataframe tbody tr th {\n",
       "        vertical-align: top;\n",
       "    }\n",
       "\n",
       "    .dataframe thead th {\n",
       "        text-align: right;\n",
       "    }\n",
       "</style>\n",
       "<table border=\"1\" class=\"dataframe\">\n",
       "  <thead>\n",
       "    <tr style=\"text-align: right;\">\n",
       "      <th></th>\n",
       "      <th>age</th>\n",
       "      <th>bmi</th>\n",
       "      <th>children</th>\n",
       "      <th>sex_female</th>\n",
       "      <th>sex_male</th>\n",
       "      <th>smoker_no</th>\n",
       "      <th>smoker_yes</th>\n",
       "      <th>Target</th>\n",
       "    </tr>\n",
       "  </thead>\n",
       "  <tbody>\n",
       "    <tr>\n",
       "      <th>0</th>\n",
       "      <td>0.021739</td>\n",
       "      <td>0.321227</td>\n",
       "      <td>0.000000</td>\n",
       "      <td>1</td>\n",
       "      <td>0</td>\n",
       "      <td>0</td>\n",
       "      <td>1</td>\n",
       "      <td>16884.92400</td>\n",
       "    </tr>\n",
       "    <tr>\n",
       "      <th>1</th>\n",
       "      <td>0.000000</td>\n",
       "      <td>0.479150</td>\n",
       "      <td>0.558513</td>\n",
       "      <td>0</td>\n",
       "      <td>1</td>\n",
       "      <td>1</td>\n",
       "      <td>0</td>\n",
       "      <td>1725.55230</td>\n",
       "    </tr>\n",
       "    <tr>\n",
       "      <th>2</th>\n",
       "      <td>0.217391</td>\n",
       "      <td>0.458434</td>\n",
       "      <td>0.854987</td>\n",
       "      <td>0</td>\n",
       "      <td>1</td>\n",
       "      <td>1</td>\n",
       "      <td>0</td>\n",
       "      <td>4449.46200</td>\n",
       "    </tr>\n",
       "    <tr>\n",
       "      <th>3</th>\n",
       "      <td>0.326087</td>\n",
       "      <td>0.181464</td>\n",
       "      <td>0.000000</td>\n",
       "      <td>0</td>\n",
       "      <td>1</td>\n",
       "      <td>1</td>\n",
       "      <td>0</td>\n",
       "      <td>21984.47061</td>\n",
       "    </tr>\n",
       "    <tr>\n",
       "      <th>4</th>\n",
       "      <td>0.304348</td>\n",
       "      <td>0.347592</td>\n",
       "      <td>0.000000</td>\n",
       "      <td>0</td>\n",
       "      <td>1</td>\n",
       "      <td>1</td>\n",
       "      <td>0</td>\n",
       "      <td>3866.85520</td>\n",
       "    </tr>\n",
       "    <tr>\n",
       "      <th>...</th>\n",
       "      <td>...</td>\n",
       "      <td>...</td>\n",
       "      <td>...</td>\n",
       "      <td>...</td>\n",
       "      <td>...</td>\n",
       "      <td>...</td>\n",
       "      <td>...</td>\n",
       "      <td>...</td>\n",
       "    </tr>\n",
       "    <tr>\n",
       "      <th>1333</th>\n",
       "      <td>0.695652</td>\n",
       "      <td>0.403820</td>\n",
       "      <td>0.854987</td>\n",
       "      <td>0</td>\n",
       "      <td>1</td>\n",
       "      <td>1</td>\n",
       "      <td>0</td>\n",
       "      <td>10600.54830</td>\n",
       "    </tr>\n",
       "    <tr>\n",
       "      <th>1334</th>\n",
       "      <td>0.000000</td>\n",
       "      <td>0.429379</td>\n",
       "      <td>0.000000</td>\n",
       "      <td>1</td>\n",
       "      <td>0</td>\n",
       "      <td>1</td>\n",
       "      <td>0</td>\n",
       "      <td>2205.98080</td>\n",
       "    </tr>\n",
       "    <tr>\n",
       "      <th>1335</th>\n",
       "      <td>0.000000</td>\n",
       "      <td>0.562012</td>\n",
       "      <td>0.000000</td>\n",
       "      <td>1</td>\n",
       "      <td>0</td>\n",
       "      <td>1</td>\n",
       "      <td>0</td>\n",
       "      <td>1629.83350</td>\n",
       "    </tr>\n",
       "    <tr>\n",
       "      <th>1336</th>\n",
       "      <td>0.065217</td>\n",
       "      <td>0.264730</td>\n",
       "      <td>0.000000</td>\n",
       "      <td>1</td>\n",
       "      <td>0</td>\n",
       "      <td>1</td>\n",
       "      <td>0</td>\n",
       "      <td>2007.94500</td>\n",
       "    </tr>\n",
       "    <tr>\n",
       "      <th>1337</th>\n",
       "      <td>0.934783</td>\n",
       "      <td>0.352704</td>\n",
       "      <td>0.000000</td>\n",
       "      <td>1</td>\n",
       "      <td>0</td>\n",
       "      <td>0</td>\n",
       "      <td>1</td>\n",
       "      <td>29141.36030</td>\n",
       "    </tr>\n",
       "  </tbody>\n",
       "</table>\n",
       "<p>1331 rows × 8 columns</p>\n",
       "</div>"
      ],
      "text/plain": [
       "           age       bmi  children  sex_female  sex_male  smoker_no  \\\n",
       "0     0.021739  0.321227  0.000000           1         0          0   \n",
       "1     0.000000  0.479150  0.558513           0         1          1   \n",
       "2     0.217391  0.458434  0.854987           0         1          1   \n",
       "3     0.326087  0.181464  0.000000           0         1          1   \n",
       "4     0.304348  0.347592  0.000000           0         1          1   \n",
       "...        ...       ...       ...         ...       ...        ...   \n",
       "1333  0.695652  0.403820  0.854987           0         1          1   \n",
       "1334  0.000000  0.429379  0.000000           1         0          1   \n",
       "1335  0.000000  0.562012  0.000000           1         0          1   \n",
       "1336  0.065217  0.264730  0.000000           1         0          1   \n",
       "1337  0.934783  0.352704  0.000000           1         0          0   \n",
       "\n",
       "      smoker_yes       Target  \n",
       "0              1  16884.92400  \n",
       "1              0   1725.55230  \n",
       "2              0   4449.46200  \n",
       "3              0  21984.47061  \n",
       "4              0   3866.85520  \n",
       "...          ...          ...  \n",
       "1333           0  10600.54830  \n",
       "1334           0   2205.98080  \n",
       "1335           0   1629.83350  \n",
       "1336           0   2007.94500  \n",
       "1337           1  29141.36030  \n",
       "\n",
       "[1331 rows x 8 columns]"
      ]
     },
     "execution_count": 46,
     "metadata": {},
     "output_type": "execute_result"
    }
   ],
   "source": [
    "### Create the column - Target using charges\n",
    "\n",
    "target_data = encoded_dataset['charges']\n",
    "encoded_dataset['Target'] = target_data\n",
    "\n",
    "### Dropping the column - charges\n",
    "\n",
    "encoded_dataset.drop(['charges'], axis = 1, inplace = True)\n",
    "encoded_dataset"
   ]
  },
  {
   "cell_type": "markdown",
   "id": "6b94aa4e",
   "metadata": {},
   "source": [
    "##### 4.5 Feature Selection"
   ]
  },
  {
   "cell_type": "markdown",
   "id": "d18d22a3",
   "metadata": {},
   "source": [
    "Feature selection is the process of reducing the number of input variables when developing a predictive model. It is desirable to reduce the number of input variables to both reduce the computational cost of modeling and, in some cases, to improve the performance of the model."
   ]
  },
  {
   "cell_type": "markdown",
   "id": "80956e37",
   "metadata": {},
   "source": [
    "##### 4.5.1 Plotting the correlation matrix for the numerical columns"
   ]
  },
  {
   "cell_type": "code",
   "execution_count": 47,
   "id": "616b7375",
   "metadata": {},
   "outputs": [
    {
     "data": {
      "text/html": [
       "<div>\n",
       "<style scoped>\n",
       "    .dataframe tbody tr th:only-of-type {\n",
       "        vertical-align: middle;\n",
       "    }\n",
       "\n",
       "    .dataframe tbody tr th {\n",
       "        vertical-align: top;\n",
       "    }\n",
       "\n",
       "    .dataframe thead th {\n",
       "        text-align: right;\n",
       "    }\n",
       "</style>\n",
       "<table border=\"1\" class=\"dataframe\">\n",
       "  <thead>\n",
       "    <tr style=\"text-align: right;\">\n",
       "      <th></th>\n",
       "      <th>age</th>\n",
       "      <th>bmi</th>\n",
       "      <th>children</th>\n",
       "    </tr>\n",
       "  </thead>\n",
       "  <tbody>\n",
       "    <tr>\n",
       "      <th>0</th>\n",
       "      <td>0.021739</td>\n",
       "      <td>0.321227</td>\n",
       "      <td>0.000000</td>\n",
       "    </tr>\n",
       "    <tr>\n",
       "      <th>1</th>\n",
       "      <td>0.000000</td>\n",
       "      <td>0.479150</td>\n",
       "      <td>0.558513</td>\n",
       "    </tr>\n",
       "    <tr>\n",
       "      <th>2</th>\n",
       "      <td>0.217391</td>\n",
       "      <td>0.458434</td>\n",
       "      <td>0.854987</td>\n",
       "    </tr>\n",
       "    <tr>\n",
       "      <th>3</th>\n",
       "      <td>0.326087</td>\n",
       "      <td>0.181464</td>\n",
       "      <td>0.000000</td>\n",
       "    </tr>\n",
       "    <tr>\n",
       "      <th>4</th>\n",
       "      <td>0.304348</td>\n",
       "      <td>0.347592</td>\n",
       "      <td>0.000000</td>\n",
       "    </tr>\n",
       "    <tr>\n",
       "      <th>...</th>\n",
       "      <td>...</td>\n",
       "      <td>...</td>\n",
       "      <td>...</td>\n",
       "    </tr>\n",
       "    <tr>\n",
       "      <th>1333</th>\n",
       "      <td>0.695652</td>\n",
       "      <td>0.403820</td>\n",
       "      <td>0.854987</td>\n",
       "    </tr>\n",
       "    <tr>\n",
       "      <th>1334</th>\n",
       "      <td>0.000000</td>\n",
       "      <td>0.429379</td>\n",
       "      <td>0.000000</td>\n",
       "    </tr>\n",
       "    <tr>\n",
       "      <th>1335</th>\n",
       "      <td>0.000000</td>\n",
       "      <td>0.562012</td>\n",
       "      <td>0.000000</td>\n",
       "    </tr>\n",
       "    <tr>\n",
       "      <th>1336</th>\n",
       "      <td>0.065217</td>\n",
       "      <td>0.264730</td>\n",
       "      <td>0.000000</td>\n",
       "    </tr>\n",
       "    <tr>\n",
       "      <th>1337</th>\n",
       "      <td>0.934783</td>\n",
       "      <td>0.352704</td>\n",
       "      <td>0.000000</td>\n",
       "    </tr>\n",
       "  </tbody>\n",
       "</table>\n",
       "<p>1331 rows × 3 columns</p>\n",
       "</div>"
      ],
      "text/plain": [
       "           age       bmi  children\n",
       "0     0.021739  0.321227  0.000000\n",
       "1     0.000000  0.479150  0.558513\n",
       "2     0.217391  0.458434  0.854987\n",
       "3     0.326087  0.181464  0.000000\n",
       "4     0.304348  0.347592  0.000000\n",
       "...        ...       ...       ...\n",
       "1333  0.695652  0.403820  0.854987\n",
       "1334  0.000000  0.429379  0.000000\n",
       "1335  0.000000  0.562012  0.000000\n",
       "1336  0.065217  0.264730  0.000000\n",
       "1337  0.934783  0.352704  0.000000\n",
       "\n",
       "[1331 rows x 3 columns]"
      ]
     },
     "execution_count": 47,
     "metadata": {},
     "output_type": "execute_result"
    }
   ],
   "source": [
    "### Creating a filter_dataset\n",
    "\n",
    "filter_dataset = encoded_dataset[['age', 'bmi', 'children']]\n",
    "filter_dataset"
   ]
  },
  {
   "cell_type": "code",
   "execution_count": 48,
   "id": "32a8c280",
   "metadata": {},
   "outputs": [
    {
     "data": {
      "text/plain": [
       "Text(0.5, 1.0, 'Correlation Heatmap')"
      ]
     },
     "execution_count": 48,
     "metadata": {},
     "output_type": "execute_result"
    },
    {
     "data": {
      "image/png": "[encoded data removed]",
      "text/plain": [
       "<Figure size 216x216 with 2 Axes>"
      ]
     },
     "metadata": {
      "needs_background": "light"
     },
     "output_type": "display_data"
    }
   ],
   "source": [
    "### Plotting the correlation between various columns of the filter_dataset\n",
    "\n",
    "plt.figure(figsize = (3, 3))\n",
    "heatmap = sns.heatmap(filter_dataset.corr(), vmin = -1, vmax = 1, annot = True)\n",
    "heatmap.set_title('Correlation Heatmap', fontdict = {'fontsize' : 12}, pad = 12)"
   ]
  },
  {
   "cell_type": "markdown",
   "id": "4aff94c9",
   "metadata": {},
   "source": [
    "From the above correlation matrix, we can see that there are a no strong correlations between the data. We will use VIF to check for multi collinearity."
   ]
  },
  {
   "cell_type": "markdown",
   "id": "e2145e04",
   "metadata": {},
   "source": [
    "##### 4.5.2 Removing the columns that cause multicollinearity using VIF"
   ]
  },
  {
   "cell_type": "code",
   "execution_count": 49,
   "id": "5226d14e",
   "metadata": {},
   "outputs": [
    {
     "name": "stdout",
     "output_type": "stream",
     "text": [
      "Column: age and VIF: 1.01\n",
      "Column: bmi and VIF: 1.01\n",
      "Column: children and VIF: 1.0\n"
     ]
    }
   ],
   "source": [
    "### Detecting the columns that cause multicollinearity using VIF\n",
    "\n",
    "column_names = list(filter_dataset.columns)\n",
    "\n",
    "for name in column_names:\n",
    "    if len(column_names) >= 2:\n",
    "        Y = filter_dataset.loc[:, filter_dataset.columns == name]\n",
    "        X = filter_dataset.loc[:, filter_dataset.columns != name]\n",
    "        X = sm.add_constant(X)\n",
    "        linear_model = sm.OLS(Y, X)\n",
    "        results = linear_model.fit()\n",
    "        r_squared = results.rsquared\n",
    "        vif_value = round(1/(1 - r_squared), 2)\n",
    "        print(\"Column: {} and VIF: {}\".format(name, vif_value))\n",
    "        \n",
    "        if vif_value > 10:\n",
    "            filter_dataset = filter_dataset.drop([name], axis = 1)\n",
    "            column_names.remove(name)"
   ]
  },
  {
   "cell_type": "markdown",
   "id": "16dfeacf",
   "metadata": {},
   "source": [
    "From the above data, we can see that there are no columns that cause multicollinearity."
   ]
  },
  {
   "cell_type": "markdown",
   "id": "35f53d0e",
   "metadata": {},
   "source": [
    "### 5. Modelling"
   ]
  },
  {
   "cell_type": "markdown",
   "id": "efd34870",
   "metadata": {},
   "source": [
    "Scikit-learn is one of the most popular libraries for machine learning in Python and that is what we will use in the modelling part of this project.\n",
    "\n",
    "Since Health Insurance Price Prediction is a regression problem, we will need to use regression models, also known as regressors, to train on our model to make predictions. I highly recommend checking out the scikit-learn documentation for more information on the different machine learning models available in their library. I have chosen the following regression models for the job:\n",
    "\n",
    "1. Multi Linear Regression\n",
    "2. Lasso Regression\n",
    "3. Ridge Regression\n",
    "4. Support Vector Regression\n",
    "5. Decision Tree regression\n",
    "6. Random Forest Regression\n",
    "7. Stacking Regression\n",
    "8. XGBoost Regression\n",
    "\n",
    "In this section of the notebook, I will fit the models to the training set as outlined above and evaluate their Root Mean Squared Error (RMSE), R-squared at making predictions. Then, we will select the best model based on those values."
   ]
  },
  {
   "cell_type": "markdown",
   "id": "698b3b34",
   "metadata": {},
   "source": [
    "#### 5.1 Splitting the dataset into Training and Test sets"
   ]
  },
  {
   "cell_type": "markdown",
   "id": "e0ef3643",
   "metadata": {},
   "source": [
    "Here, we will split the training data into X_train, X_test, Y_train, and Y_test so that they can be fed to the machine learning models that are used in the next section. Then the model with the best performance will be used to predict the result on the given test dataset."
   ]
  },
  {
   "cell_type": "code",
   "execution_count": 50,
   "id": "22edc88a",
   "metadata": {},
   "outputs": [],
   "source": [
    "### Splitting the dataset to the matrices X and Y\n",
    "\n",
    "X = encoded_dataset.iloc[:, : -1].values\n",
    "Y = encoded_dataset.iloc[:, -1].values"
   ]
  },
  {
   "cell_type": "code",
   "execution_count": 51,
   "id": "bce57ea1",
   "metadata": {},
   "outputs": [
    {
     "data": {
      "text/plain": [
       "array([[0.02173913, 0.3212268 , 0.        , ..., 0.        , 0.        ,\n",
       "        1.        ],\n",
       "       [0.        , 0.47914985, 0.55851288, ..., 1.        , 1.        ,\n",
       "        0.        ],\n",
       "       [0.2173913 , 0.45843422, 0.85498693, ..., 1.        , 1.        ,\n",
       "        0.        ],\n",
       "       ...,\n",
       "       [0.        , 0.56201238, 0.        , ..., 0.        , 1.        ,\n",
       "        0.        ],\n",
       "       [0.06521739, 0.26472962, 0.        , ..., 0.        , 1.        ,\n",
       "        0.        ],\n",
       "       [0.93478261, 0.35270379, 0.        , ..., 0.        , 0.        ,\n",
       "        1.        ]])"
      ]
     },
     "execution_count": 51,
     "metadata": {},
     "output_type": "execute_result"
    }
   ],
   "source": [
    "### Looking at the new training data - X\n",
    "\n",
    "X"
   ]
  },
  {
   "cell_type": "code",
   "execution_count": 52,
   "id": "5a253bed",
   "metadata": {},
   "outputs": [
    {
     "data": {
      "text/plain": [
       "array([16884.924 ,  1725.5523,  4449.462 , ...,  1629.8335,  2007.945 ,\n",
       "       29141.3603])"
      ]
     },
     "execution_count": 52,
     "metadata": {},
     "output_type": "execute_result"
    }
   ],
   "source": [
    "### Looking at the new test data - Y\n",
    "\n",
    "Y"
   ]
  },
  {
   "cell_type": "code",
   "execution_count": 53,
   "id": "d7d8471b",
   "metadata": {},
   "outputs": [],
   "source": [
    "### Dividing the dataset into train and test in the ratio of 80 : 20\n",
    "\n",
    "X_train, X_test, Y_train, Y_test = train_test_split(X, Y, test_size = 0.2, random_state = 27, shuffle = True)"
   ]
  },
  {
   "cell_type": "markdown",
   "id": "b6093a8b",
   "metadata": {},
   "source": [
    "Now, we apply regressors using the above data."
   ]
  },
  {
   "cell_type": "markdown",
   "id": "928a17d8",
   "metadata": {},
   "source": [
    "#### 5.2 Fit the model"
   ]
  },
  {
   "cell_type": "markdown",
   "id": "51de6ebb",
   "metadata": {},
   "source": [
    "In this section, we use various machine learning models to predict the results for our test data (X_test). We will store the model and its corresponding Root Mean Squared Error and R-squared so that we can tabulate them later for choosing the best model."
   ]
  },
  {
   "cell_type": "code",
   "execution_count": 54,
   "id": "4e185989",
   "metadata": {},
   "outputs": [],
   "source": [
    "### Dictionary to store model and its rmse\n",
    "\n",
    "model_rmse = OrderedDict()"
   ]
  },
  {
   "cell_type": "code",
   "execution_count": 55,
   "id": "6b1a93fa",
   "metadata": {},
   "outputs": [],
   "source": [
    "### Dictionary to store model and its r-squared\n",
    "\n",
    "model_r2 = OrderedDict()"
   ]
  },
  {
   "cell_type": "markdown",
   "id": "881720fc",
   "metadata": {},
   "source": [
    "##### 5.2.1 Applying Multi Linear Regression"
   ]
  },
  {
   "cell_type": "code",
   "execution_count": 56,
   "id": "dd0f9467",
   "metadata": {},
   "outputs": [
    {
     "data": {
      "text/plain": [
       "LinearRegression()"
      ]
     },
     "execution_count": 56,
     "metadata": {},
     "output_type": "execute_result"
    }
   ],
   "source": [
    "### Training the Multi Linear Regression model on the Training set\n",
    "\n",
    "linear_regressor = LinearRegression()\n",
    "linear_regressor.fit(X_train, Y_train)"
   ]
  },
  {
   "cell_type": "code",
   "execution_count": 57,
   "id": "d844ff6d",
   "metadata": {},
   "outputs": [],
   "source": [
    "### Predicting the Test set results\n",
    "\n",
    "Y_pred = linear_regressor.predict(X_test)"
   ]
  },
  {
   "cell_type": "code",
   "execution_count": 58,
   "id": "152fd8ef",
   "metadata": {},
   "outputs": [
    {
     "name": "stdout",
     "output_type": "stream",
     "text": [
      "Root Mean Squared Error of the model is : 6416.105\n",
      "R-squared value of the model is : 0.715\n"
     ]
    }
   ],
   "source": [
    "### Calculating RMSE and R-squared for the model\n",
    "\n",
    "mse = round(mean_squared_error(Y_test, Y_pred), 3)\n",
    "rmse = round(sqrt(mse), 3)\n",
    "\n",
    "r2_value = round(r2_score(Y_test, Y_pred), 3)\n",
    "\n",
    "model_rmse['Multi Linear Regression'] = rmse\n",
    "model_r2['Multi Linear Regression'] = r2_value\n",
    "\n",
    "print('Root Mean Squared Error of the model is : {}'.format(rmse))\n",
    "print('R-squared value of the model is : {}'.format(r2_value))"
   ]
  },
  {
   "cell_type": "markdown",
   "id": "81c889da",
   "metadata": {},
   "source": [
    "##### 5.2.2 Applying Lasso Regression"
   ]
  },
  {
   "cell_type": "code",
   "execution_count": 59,
   "id": "8cbce63f",
   "metadata": {},
   "outputs": [
    {
     "data": {
      "text/plain": [
       "GridSearchCV(cv=5, estimator=Lasso(),\n",
       "             param_grid={'alpha': [1e-15, 1e-10, 1e-08, 0.001, 0.01, 1, 5, 10,\n",
       "                                   20, 30, 35, 40, 45, 50, 55, 100]},\n",
       "             scoring='neg_mean_squared_error')"
      ]
     },
     "execution_count": 59,
     "metadata": {},
     "output_type": "execute_result"
    }
   ],
   "source": [
    "### Training the Lasso Regression model on the Training set\n",
    "\n",
    "lasso = Lasso()\n",
    "parameters = {'alpha': [1e-15, 1e-10, 1e-8, 1e-3, 1e-2, 1, 5, 10, 20, 30, 35, 40, 45, 50, 55, 100]}\n",
    "lasso_regressor = GridSearchCV(lasso, parameters, scoring = 'neg_mean_squared_error', cv = 5)\n",
    "lasso_regressor.fit(X_train, Y_train)"
   ]
  },
  {
   "cell_type": "code",
   "execution_count": 60,
   "id": "f4cab2d6",
   "metadata": {},
   "outputs": [
    {
     "name": "stdout",
     "output_type": "stream",
     "text": [
      "{'alpha': 10}\n",
      "-32918131.624768756\n"
     ]
    }
   ],
   "source": [
    "### Finding out negative mean squared error in Lasso Regression\n",
    "\n",
    "print(lasso_regressor.best_params_)\n",
    "print(lasso_regressor.best_score_)"
   ]
  },
  {
   "cell_type": "code",
   "execution_count": 61,
   "id": "24f6cdfb",
   "metadata": {},
   "outputs": [],
   "source": [
    "### Predicting the Test set results\n",
    "\n",
    "Y_pred = lasso_regressor.predict(X_test)"
   ]
  },
  {
   "cell_type": "code",
   "execution_count": 62,
   "id": "d4ffa55b",
   "metadata": {},
   "outputs": [
    {
     "name": "stdout",
     "output_type": "stream",
     "text": [
      "Root Mean Squared Error of the model is : 6402.604\n",
      "R-squared value of the model is : 0.716\n"
     ]
    }
   ],
   "source": [
    "### Calculating RMSE and R-squared for the model\n",
    "\n",
    "mse = round(mean_squared_error(Y_test, Y_pred), 3)\n",
    "rmse = round(sqrt(mse), 3)\n",
    "\n",
    "r2_value = round(r2_score(Y_test, Y_pred), 3)\n",
    "\n",
    "model_rmse['Lasso Regression'] = rmse\n",
    "model_r2['Lasso Regression'] = r2_value\n",
    "\n",
    "print('Root Mean Squared Error of the model is : {}'.format(rmse))\n",
    "print('R-squared value of the model is : {}'.format(r2_value))"
   ]
  },
  {
   "cell_type": "markdown",
   "id": "38cc9b7a",
   "metadata": {},
   "source": [
    "##### 5.2.3 Applying Ridge Regression"
   ]
  },
  {
   "cell_type": "code",
   "execution_count": 63,
   "id": "9c53f799",
   "metadata": {},
   "outputs": [
    {
     "data": {
      "text/plain": [
       "GridSearchCV(cv=5, estimator=Ridge(),\n",
       "             param_grid={'alpha': [1e-15, 1e-10, 1e-08, 0.001, 0.01, 1, 5, 10,\n",
       "                                   20, 30, 35, 40, 45, 50, 55, 100]},\n",
       "             scoring='neg_mean_squared_error')"
      ]
     },
     "execution_count": 63,
     "metadata": {},
     "output_type": "execute_result"
    }
   ],
   "source": [
    "### Training the Ridge Regression model on the Training set\n",
    "\n",
    "ridge = Ridge()\n",
    "parameters = {'alpha': [1e-15, 1e-10, 1e-8, 1e-3, 1e-2, 1, 5, 10, 20, 30, 35, 40, 45, 50, 55, 100]}\n",
    "ridge_regressor = GridSearchCV(ridge, parameters, scoring = 'neg_mean_squared_error', cv = 5)\n",
    "ridge_regressor.fit(X_train, Y_train)"
   ]
  },
  {
   "cell_type": "code",
   "execution_count": 64,
   "id": "b441175d",
   "metadata": {},
   "outputs": [
    {
     "name": "stdout",
     "output_type": "stream",
     "text": [
      "{'alpha': 0.01}\n",
      "-32927376.20961363\n"
     ]
    }
   ],
   "source": [
    "### Finding out negative mean squared error in Lasso Regression\n",
    "\n",
    "print(ridge_regressor.best_params_)\n",
    "print(ridge_regressor.best_score_)"
   ]
  },
  {
   "cell_type": "code",
   "execution_count": 65,
   "id": "cb069b10",
   "metadata": {},
   "outputs": [],
   "source": [
    "### Predicting the Test set results\n",
    "\n",
    "Y_pred = ridge_regressor.predict(X_test)"
   ]
  },
  {
   "cell_type": "code",
   "execution_count": 66,
   "id": "83e62753",
   "metadata": {},
   "outputs": [
    {
     "name": "stdout",
     "output_type": "stream",
     "text": [
      "Root Mean Squared Error of the model is : 6403.902\n",
      "R-squared value of the model is : 0.716\n"
     ]
    }
   ],
   "source": [
    "### Calculating RMSE and R-squared for the model\n",
    "\n",
    "mse = round(mean_squared_error(Y_test, Y_pred), 3)\n",
    "rmse = round(sqrt(mse), 3)\n",
    "\n",
    "r2_value = round(r2_score(Y_test, Y_pred), 3)\n",
    "\n",
    "model_rmse['Ridge Regression'] = rmse\n",
    "model_r2['Ridge Regression'] = r2_value\n",
    "\n",
    "print('Root Mean Squared Error of the model is : {}'.format(rmse))\n",
    "print('R-squared value of the model is : {}'.format(r2_value))"
   ]
  },
  {
   "cell_type": "markdown",
   "id": "711ba896",
   "metadata": {},
   "source": [
    "##### 5.2.4 Applying Support Vector Regression"
   ]
  },
  {
   "cell_type": "code",
   "execution_count": 67,
   "id": "018bdb1a",
   "metadata": {},
   "outputs": [
    {
     "data": {
      "text/plain": [
       "SVR()"
      ]
     },
     "execution_count": 67,
     "metadata": {},
     "output_type": "execute_result"
    }
   ],
   "source": [
    "### Training the Support Vector Regression model on the Training set\n",
    "\n",
    "support_vector_regressor = SVR(kernel = 'rbf')\n",
    "support_vector_regressor.fit(X_train, Y_train)"
   ]
  },
  {
   "cell_type": "code",
   "execution_count": 68,
   "id": "875770cb",
   "metadata": {},
   "outputs": [],
   "source": [
    "### Predicting the Test set results\n",
    "\n",
    "Y_pred = support_vector_regressor.predict(X_test)"
   ]
  },
  {
   "cell_type": "code",
   "execution_count": 69,
   "id": "08196993",
   "metadata": {},
   "outputs": [
    {
     "name": "stdout",
     "output_type": "stream",
     "text": [
      "Root Mean Squared Error of the model is : 12486.511\n",
      "R-squared value of the model is : -0.08\n"
     ]
    }
   ],
   "source": [
    "### Calculating RMSE and R-squared for the model\n",
    "\n",
    "mse = round(mean_squared_error(Y_test, Y_pred), 3)\n",
    "rmse = round(sqrt(mse), 3)\n",
    "\n",
    "r2_value = round(r2_score(Y_test, Y_pred), 3)\n",
    "\n",
    "model_rmse['Support Vector Regression'] = rmse\n",
    "model_r2['Support Vector Regression'] = r2_value\n",
    "\n",
    "print('Root Mean Squared Error of the model is : {}'.format(rmse))\n",
    "print('R-squared value of the model is : {}'.format(r2_value))"
   ]
  },
  {
   "cell_type": "markdown",
   "id": "5e39868d",
   "metadata": {},
   "source": [
    "##### 5.2.5 Applying Decision Tree Regression"
   ]
  },
  {
   "cell_type": "code",
   "execution_count": 70,
   "id": "a0734463",
   "metadata": {},
   "outputs": [
    {
     "data": {
      "text/plain": [
       "DecisionTreeRegressor()"
      ]
     },
     "execution_count": 70,
     "metadata": {},
     "output_type": "execute_result"
    }
   ],
   "source": [
    "### Training the Decision Tree Regression model on the Training set\n",
    "\n",
    "decision_tree_regressor = DecisionTreeRegressor()\n",
    "decision_tree_regressor.fit(X_train, Y_train)"
   ]
  },
  {
   "cell_type": "code",
   "execution_count": 71,
   "id": "35fbcb46",
   "metadata": {},
   "outputs": [],
   "source": [
    "### Predicting the Test set results\n",
    "\n",
    "Y_pred = decision_tree_regressor.predict(X_test)"
   ]
  },
  {
   "cell_type": "code",
   "execution_count": 72,
   "id": "65e74030",
   "metadata": {},
   "outputs": [
    {
     "name": "stdout",
     "output_type": "stream",
     "text": [
      "Root Mean Squared Error of the model is : 6431.123\n",
      "R-squared value of the model is : 0.713\n"
     ]
    }
   ],
   "source": [
    "### Calculating RMSE and R-squared for the model\n",
    "\n",
    "mse = round(mean_squared_error(Y_test, Y_pred), 3)\n",
    "rmse = round(sqrt(mse), 3)\n",
    "\n",
    "r2_value = round(r2_score(Y_test, Y_pred), 3)\n",
    "\n",
    "model_rmse['Decision Tree Regression'] = rmse\n",
    "model_r2['Decision Tree Regression'] = r2_value\n",
    "\n",
    "print('Root Mean Squared Error of the model is : {}'.format(rmse))\n",
    "print('R-squared value of the model is : {}'.format(r2_value))"
   ]
  },
  {
   "cell_type": "markdown",
   "id": "548e6fb3",
   "metadata": {},
   "source": [
    "##### 5.2.6 Applying Random Forest Regression (10 trees)"
   ]
  },
  {
   "cell_type": "code",
   "execution_count": 73,
   "id": "c58229aa",
   "metadata": {},
   "outputs": [
    {
     "data": {
      "text/plain": [
       "RandomForestRegressor(n_estimators=10, random_state=27)"
      ]
     },
     "execution_count": 73,
     "metadata": {},
     "output_type": "execute_result"
    }
   ],
   "source": [
    "### Training the Random Forest Regression model on the Training set\n",
    "\n",
    "random_forest_regressor = RandomForestRegressor(n_estimators = 10, random_state = 27)\n",
    "random_forest_regressor.fit(X_train, Y_train)"
   ]
  },
  {
   "cell_type": "code",
   "execution_count": 74,
   "id": "9d44ae5e",
   "metadata": {},
   "outputs": [],
   "source": [
    "### Predicting the Test set results\n",
    "\n",
    "Y_pred = random_forest_regressor.predict(X_test)"
   ]
  },
  {
   "cell_type": "code",
   "execution_count": 75,
   "id": "392e80e3",
   "metadata": {},
   "outputs": [
    {
     "name": "stdout",
     "output_type": "stream",
     "text": [
      "Root Mean Squared Error of the model is : 5640.572\n",
      "R-squared value of the model is : 0.78\n"
     ]
    }
   ],
   "source": [
    "### Calculating RMSE and R-squared for the model\n",
    "\n",
    "mse = round(mean_squared_error(Y_test, Y_pred), 3)\n",
    "rmse = round(sqrt(mse), 3)\n",
    "\n",
    "r2_value = round(r2_score(Y_test, Y_pred), 3)\n",
    "\n",
    "model_rmse['Random Forest Regression (10 trees)'] = rmse\n",
    "model_r2['Random Forest Regression (10 trees)'] = r2_value\n",
    "\n",
    "print('Root Mean Squared Error of the model is : {}'.format(rmse))\n",
    "print('R-squared value of the model is : {}'.format(r2_value))"
   ]
  },
  {
   "cell_type": "markdown",
   "id": "cbf3a8da",
   "metadata": {},
   "source": [
    "##### 5.2.7 Applying Random Forest Regression (25 trees)"
   ]
  },
  {
   "cell_type": "code",
   "execution_count": 76,
   "id": "eaae814d",
   "metadata": {},
   "outputs": [
    {
     "data": {
      "text/plain": [
       "RandomForestRegressor(n_estimators=25, random_state=27)"
      ]
     },
     "execution_count": 76,
     "metadata": {},
     "output_type": "execute_result"
    }
   ],
   "source": [
    "### Training the Random Forest Regression model on the Training set\n",
    "\n",
    "random_forest_regressor = RandomForestRegressor(n_estimators = 25, random_state = 27)\n",
    "random_forest_regressor.fit(X_train, Y_train)"
   ]
  },
  {
   "cell_type": "code",
   "execution_count": 77,
   "id": "3b4f9d74",
   "metadata": {},
   "outputs": [],
   "source": [
    "### Predicting the Test set results\n",
    "\n",
    "Y_pred = random_forest_regressor.predict(X_test)"
   ]
  },
  {
   "cell_type": "code",
   "execution_count": 78,
   "id": "b3356c58",
   "metadata": {},
   "outputs": [
    {
     "name": "stdout",
     "output_type": "stream",
     "text": [
      "Root Mean Squared Error of the model is : 5380.286\n",
      "R-squared value of the model is : 0.799\n"
     ]
    }
   ],
   "source": [
    "### Calculating RMSE and R-squared for the model\n",
    "\n",
    "mse = round(mean_squared_error(Y_test, Y_pred), 3)\n",
    "rmse = round(sqrt(mse), 3)\n",
    "\n",
    "r2_value = round(r2_score(Y_test, Y_pred), 3)\n",
    "\n",
    "model_rmse['Random Forest Regression (25 trees)'] = rmse\n",
    "model_r2['Random Forest Regression (25 trees)'] = r2_value\n",
    "\n",
    "print('Root Mean Squared Error of the model is : {}'.format(rmse))\n",
    "print('R-squared value of the model is : {}'.format(r2_value))"
   ]
  },
  {
   "cell_type": "markdown",
   "id": "4456e7bf",
   "metadata": {},
   "source": [
    "##### 5.2.8 Applying Random Forest Regression (50 trees)"
   ]
  },
  {
   "cell_type": "code",
   "execution_count": 79,
   "id": "e9baf12c",
   "metadata": {},
   "outputs": [
    {
     "data": {
      "text/plain": [
       "RandomForestRegressor(n_estimators=50, random_state=27)"
      ]
     },
     "execution_count": 79,
     "metadata": {},
     "output_type": "execute_result"
    }
   ],
   "source": [
    "### Training the Random Forest Regression model on the Training set\n",
    "\n",
    "random_forest_regressor = RandomForestRegressor(n_estimators = 50, random_state = 27)\n",
    "random_forest_regressor.fit(X_train, Y_train)"
   ]
  },
  {
   "cell_type": "code",
   "execution_count": 80,
   "id": "9102c188",
   "metadata": {},
   "outputs": [],
   "source": [
    "### Predicting the Test set results\n",
    "\n",
    "Y_pred = random_forest_regressor.predict(X_test)"
   ]
  },
  {
   "cell_type": "code",
   "execution_count": 81,
   "id": "276af98e",
   "metadata": {},
   "outputs": [
    {
     "name": "stdout",
     "output_type": "stream",
     "text": [
      "Root Mean Squared Error of the model is : 5388.606\n",
      "R-squared value of the model is : 0.799\n"
     ]
    }
   ],
   "source": [
    "### Calculating RMSE and R-squared for the model\n",
    "\n",
    "mse = round(mean_squared_error(Y_test, Y_pred), 3)\n",
    "rmse = round(sqrt(mse), 3)\n",
    "\n",
    "r2_value = round(r2_score(Y_test, Y_pred), 3)\n",
    "\n",
    "model_rmse['Random Forest Regression (50 trees)'] = rmse\n",
    "model_r2['Random Forest Regression (50 trees)'] = r2_value\n",
    "\n",
    "print('Root Mean Squared Error of the model is : {}'.format(rmse))\n",
    "print('R-squared value of the model is : {}'.format(r2_value))"
   ]
  },
  {
   "cell_type": "markdown",
   "id": "926c8eef",
   "metadata": {},
   "source": [
    "##### 5.2.9 Applying Random Forest Regression (100 trees)"
   ]
  },
  {
   "cell_type": "code",
   "execution_count": 82,
   "id": "e7a529a0",
   "metadata": {},
   "outputs": [
    {
     "data": {
      "text/plain": [
       "RandomForestRegressor(random_state=27)"
      ]
     },
     "execution_count": 82,
     "metadata": {},
     "output_type": "execute_result"
    }
   ],
   "source": [
    "### Training the Random Forest Regression model on the Training set\n",
    "\n",
    "random_forest_regressor = RandomForestRegressor(n_estimators = 100, random_state = 27)\n",
    "random_forest_regressor.fit(X_train, Y_train)"
   ]
  },
  {
   "cell_type": "code",
   "execution_count": 83,
   "id": "2c7b086d",
   "metadata": {},
   "outputs": [],
   "source": [
    "### Predicting the Test set results\n",
    "\n",
    "Y_pred = random_forest_regressor.predict(X_test)"
   ]
  },
  {
   "cell_type": "code",
   "execution_count": 84,
   "id": "4937efa2",
   "metadata": {},
   "outputs": [
    {
     "name": "stdout",
     "output_type": "stream",
     "text": [
      "Root Mean Squared Error of the model is : 5387.378\n",
      "R-squared value of the model is : 0.799\n"
     ]
    }
   ],
   "source": [
    "### Calculating RMSE and R-squared for the model\n",
    "\n",
    "mse = round(mean_squared_error(Y_test, Y_pred), 3)\n",
    "rmse = round(sqrt(mse), 3)\n",
    "\n",
    "r2_value = round(r2_score(Y_test, Y_pred), 3)\n",
    "\n",
    "model_rmse['Random Forest Regression (100 trees)'] = rmse\n",
    "model_r2['Random Forest Regression (100 trees)'] = r2_value\n",
    "\n",
    "print('Root Mean Squared Error of the model is : {}'.format(rmse))\n",
    "print('R-squared value of the model is : {}'.format(r2_value))"
   ]
  },
  {
   "cell_type": "markdown",
   "id": "7d5fed6b",
   "metadata": {},
   "source": [
    "##### 5.2.10 Applying Random Forest Regression (1000 trees)"
   ]
  },
  {
   "cell_type": "code",
   "execution_count": 85,
   "id": "a1f882ca",
   "metadata": {},
   "outputs": [
    {
     "data": {
      "text/plain": [
       "RandomForestRegressor(n_estimators=1000, random_state=27)"
      ]
     },
     "execution_count": 85,
     "metadata": {},
     "output_type": "execute_result"
    }
   ],
   "source": [
    "### Training the Random Forest Regression model on the Training set\n",
    "\n",
    "random_forest_regressor = RandomForestRegressor(n_estimators = 1000, random_state = 27)\n",
    "random_forest_regressor.fit(X_train, Y_train)"
   ]
  },
  {
   "cell_type": "code",
   "execution_count": 86,
   "id": "d418c32c",
   "metadata": {},
   "outputs": [],
   "source": [
    "### Predicting the Test set results\n",
    "\n",
    "Y_pred = random_forest_regressor.predict(X_test)"
   ]
  },
  {
   "cell_type": "code",
   "execution_count": 87,
   "id": "d18aba31",
   "metadata": {},
   "outputs": [
    {
     "name": "stdout",
     "output_type": "stream",
     "text": [
      "Root Mean Squared Error of the model is : 5369.371\n",
      "R-squared value of the model is : 0.8\n"
     ]
    }
   ],
   "source": [
    "### Calculating RMSE and R-squared for the model\n",
    "\n",
    "mse = round(mean_squared_error(Y_test, Y_pred), 3)\n",
    "rmse = round(sqrt(mse), 3)\n",
    "\n",
    "r2_value = round(r2_score(Y_test, Y_pred), 3)\n",
    "\n",
    "model_rmse['Random Forest Regression (1000 trees)'] = rmse\n",
    "model_r2['Random Forest Regression (1000 trees)'] = r2_value\n",
    "\n",
    "print('Root Mean Squared Error of the model is : {}'.format(rmse))\n",
    "print('R-squared value of the model is : {}'.format(r2_value))"
   ]
  },
  {
   "cell_type": "markdown",
   "id": "6f74e7b3",
   "metadata": {},
   "source": [
    "##### 5.2.11 Applying Stacking Regression"
   ]
  },
  {
   "cell_type": "code",
   "execution_count": 88,
   "id": "30795b92",
   "metadata": {},
   "outputs": [],
   "source": [
    "### Preparing the Stacking Regressor\n",
    "\n",
    "### Define the base models\n",
    "\n",
    "base_models = list()\n",
    "\n",
    "base_models.append(('decision_tree', decision_tree_regressor))\n",
    "base_models.append(('linear_regression', linear_regressor))\n",
    "\n",
    "### Define the meta models\n",
    "\n",
    "meta_model = random_forest_regressor"
   ]
  },
  {
   "cell_type": "code",
   "execution_count": 89,
   "id": "61a38a5b",
   "metadata": {},
   "outputs": [
    {
     "data": {
      "text/plain": [
       "StackingRegressor(estimators=[('decision_tree', DecisionTreeRegressor()),\n",
       "                              ('linear_regression', LinearRegression())],\n",
       "                  final_estimator=RandomForestRegressor(n_estimators=1000,\n",
       "                                                        random_state=27))"
      ]
     },
     "execution_count": 89,
     "metadata": {},
     "output_type": "execute_result"
    }
   ],
   "source": [
    "### Training the Stacking Regression model on the Training set\n",
    "\n",
    "stacking_regressor = StackingRegressor(estimators = base_models, final_estimator = meta_model)\n",
    "stacking_regressor.fit(X_train, Y_train)"
   ]
  },
  {
   "cell_type": "code",
   "execution_count": 90,
   "id": "5dd76332",
   "metadata": {},
   "outputs": [],
   "source": [
    "### Predicting the Test set results\n",
    "\n",
    "Y_pred = stacking_regressor.predict(X_test)"
   ]
  },
  {
   "cell_type": "code",
   "execution_count": 91,
   "id": "f82a4d4e",
   "metadata": {},
   "outputs": [
    {
     "name": "stdout",
     "output_type": "stream",
     "text": [
      "Root Mean Squared Error of the model is : 5565.766\n",
      "R-squared value of the model is : 0.785\n"
     ]
    }
   ],
   "source": [
    "### Calculating RMSE and R-squared for the model\n",
    "\n",
    "mse = round(mean_squared_error(Y_test, Y_pred), 3)\n",
    "rmse = round(sqrt(mse), 3)\n",
    "\n",
    "r2_value = round(r2_score(Y_test, Y_pred), 3)\n",
    "\n",
    "model_rmse['Stacking Regression'] = rmse\n",
    "model_r2['Stacking Regression'] = r2_value\n",
    "\n",
    "print('Root Mean Squared Error of the model is : {}'.format(rmse))\n",
    "print('R-squared value of the model is : {}'.format(r2_value))"
   ]
  },
  {
   "cell_type": "markdown",
   "id": "6aa06b0b",
   "metadata": {},
   "source": [
    "##### 5.2.12 Applying XGBoost Regression"
   ]
  },
  {
   "cell_type": "code",
   "execution_count": 92,
   "id": "6846ca4e",
   "metadata": {},
   "outputs": [
    {
     "name": "stdout",
     "output_type": "stream",
     "text": [
      "[20:43:53] WARNING: C:/Users/Administrator/workspace/xgboost-win64_release_1.5.1/src/objective/regression_obj.cu:188: reg:linear is now deprecated in favor of reg:squarederror.\n"
     ]
    },
    {
     "data": {
      "text/plain": [
       "XGBRegressor(base_score=0.5, booster='gbtree', colsample_bylevel=1,\n",
       "             colsample_bynode=1, colsample_bytree=1, enable_categorical=False,\n",
       "             gamma=0, gpu_id=-1, importance_type=None,\n",
       "             interaction_constraints='', learning_rate=0.300000012,\n",
       "             max_delta_step=0, max_depth=6, min_child_weight=1, missing=nan,\n",
       "             monotone_constraints='()', n_estimators=100, n_jobs=8,\n",
       "             num_parallel_tree=1, objective='reg:linear', predictor='auto',\n",
       "             random_state=27, reg_alpha=0, reg_lambda=1, scale_pos_weight=1,\n",
       "             seed=27, subsample=1, tree_method='exact', validate_parameters=1,\n",
       "             verbosity=None)"
      ]
     },
     "execution_count": 92,
     "metadata": {},
     "output_type": "execute_result"
    }
   ],
   "source": [
    "### Training the XGBoost Regression model on the Training set\n",
    "\n",
    "xgboost_regressor = xg.XGBRegressor(objective ='reg:linear', n_estimators = 100, seed = 27)\n",
    "xgboost_regressor.fit(X_train, Y_train)"
   ]
  },
  {
   "cell_type": "code",
   "execution_count": 93,
   "id": "1ed99d0f",
   "metadata": {},
   "outputs": [],
   "source": [
    "### Predicting the Test set results\n",
    "\n",
    "Y_pred = xgboost_regressor.predict(X_test)"
   ]
  },
  {
   "cell_type": "code",
   "execution_count": 94,
   "id": "e07c6e4a",
   "metadata": {},
   "outputs": [
    {
     "name": "stdout",
     "output_type": "stream",
     "text": [
      "Root Mean Squared Error of the model is : 5806.516\n",
      "R-squared value of the model is : 0.766\n"
     ]
    }
   ],
   "source": [
    "### Calculating RMSE and R-squared for the model\n",
    "\n",
    "mse = round(mean_squared_error(Y_test, Y_pred), 3)\n",
    "rmse = round(sqrt(mse), 3)\n",
    "\n",
    "r2_value = round(r2_score(Y_test, Y_pred), 3)\n",
    "\n",
    "model_rmse['XGBoost Regression'] = rmse\n",
    "model_r2['XGBoost Regression'] = r2_value\n",
    "\n",
    "print('Root Mean Squared Error of the model is : {}'.format(rmse))\n",
    "print('R-squared value of the model is : {}'.format(r2_value))"
   ]
  },
  {
   "cell_type": "markdown",
   "id": "1b89f064",
   "metadata": {},
   "source": [
    "#### 5.3 Model evaluation"
   ]
  },
  {
   "cell_type": "markdown",
   "id": "58c3cd62",
   "metadata": {},
   "source": [
    "Model evaluation is the process of using different evaluation metrics to understand a machine learning model's performance, as well as its strengths and weaknesses."
   ]
  },
  {
   "cell_type": "markdown",
   "id": "aaa85534",
   "metadata": {},
   "source": [
    "##### 5.3.1 RMSE, R-squared of the models"
   ]
  },
  {
   "cell_type": "markdown",
   "id": "5c776ea3",
   "metadata": {},
   "source": [
    "Now we will tabulate all the models along with their RMSE, R-Squared. This data is stored in the model_rmse, model_r2 dictionary. We will use the tabulate package for tabulating the results."
   ]
  },
  {
   "cell_type": "code",
   "execution_count": 95,
   "id": "ba8a5850",
   "metadata": {},
   "outputs": [
    {
     "data": {
      "text/plain": [
       "OrderedDict([('Multi Linear Regression', 6416.105),\n",
       "             ('Lasso Regression', 6402.604),\n",
       "             ('Ridge Regression', 6403.902),\n",
       "             ('Support Vector Regression', 12486.511),\n",
       "             ('Decision Tree Regression', 6431.123),\n",
       "             ('Random Forest Regression (10 trees)', 5640.572),\n",
       "             ('Random Forest Regression (25 trees)', 5380.286),\n",
       "             ('Random Forest Regression (50 trees)', 5388.606),\n",
       "             ('Random Forest Regression (100 trees)', 5387.378),\n",
       "             ('Random Forest Regression (1000 trees)', 5369.371),\n",
       "             ('Stacking Regression', 5565.766),\n",
       "             ('XGBoost Regression', 5806.516)])"
      ]
     },
     "execution_count": 95,
     "metadata": {},
     "output_type": "execute_result"
    }
   ],
   "source": [
    "### Looking at the model rmse dictionary\n",
    "\n",
    "model_rmse"
   ]
  },
  {
   "cell_type": "code",
   "execution_count": 96,
   "id": "3818da22",
   "metadata": {},
   "outputs": [
    {
     "data": {
      "text/plain": [
       "OrderedDict([('Multi Linear Regression', 0.715),\n",
       "             ('Lasso Regression', 0.716),\n",
       "             ('Ridge Regression', 0.716),\n",
       "             ('Support Vector Regression', -0.08),\n",
       "             ('Decision Tree Regression', 0.713),\n",
       "             ('Random Forest Regression (10 trees)', 0.78),\n",
       "             ('Random Forest Regression (25 trees)', 0.799),\n",
       "             ('Random Forest Regression (50 trees)', 0.799),\n",
       "             ('Random Forest Regression (100 trees)', 0.799),\n",
       "             ('Random Forest Regression (1000 trees)', 0.8),\n",
       "             ('Stacking Regression', 0.785),\n",
       "             ('XGBoost Regression', 0.766)])"
      ]
     },
     "execution_count": 96,
     "metadata": {},
     "output_type": "execute_result"
    }
   ],
   "source": [
    "### Looking at the model r-squared dictionary\n",
    "\n",
    "model_r2"
   ]
  },
  {
   "cell_type": "code",
   "execution_count": 97,
   "id": "445dc13b",
   "metadata": {},
   "outputs": [
    {
     "name": "stdout",
     "output_type": "stream",
     "text": [
      "╒═════════╤═══════════════════════════════════════╤═══════════════════════════╤═════════════╕\n",
      "│   S.No. │ Classification Model                  │   Root Mean Squared Error │   R-squared │\n",
      "╞═════════╪═══════════════════════════════════════╪═══════════════════════════╪═════════════╡\n",
      "│       1 │ Multi Linear Regression               │                   6416.1  │       0.715 │\n",
      "├─────────┼───────────────────────────────────────┼───────────────────────────┼─────────────┤\n",
      "│       2 │ Lasso Regression                      │                   6402.6  │       0.716 │\n",
      "├─────────┼───────────────────────────────────────┼───────────────────────────┼─────────────┤\n",
      "│       3 │ Ridge Regression                      │                   6403.9  │       0.716 │\n",
      "├─────────┼───────────────────────────────────────┼───────────────────────────┼─────────────┤\n",
      "│       4 │ Support Vector Regression             │                  12486.5  │      -0.08  │\n",
      "├─────────┼───────────────────────────────────────┼───────────────────────────┼─────────────┤\n",
      "│       5 │ Decision Tree Regression              │                   6431.12 │       0.713 │\n",
      "├─────────┼───────────────────────────────────────┼───────────────────────────┼─────────────┤\n",
      "│       6 │ Random Forest Regression (10 trees)   │                   5640.57 │       0.78  │\n",
      "├─────────┼───────────────────────────────────────┼───────────────────────────┼─────────────┤\n",
      "│       7 │ Random Forest Regression (25 trees)   │                   5380.29 │       0.799 │\n",
      "├─────────┼───────────────────────────────────────┼───────────────────────────┼─────────────┤\n",
      "│       8 │ Random Forest Regression (50 trees)   │                   5388.61 │       0.799 │\n",
      "├─────────┼───────────────────────────────────────┼───────────────────────────┼─────────────┤\n",
      "│       9 │ Random Forest Regression (100 trees)  │                   5387.38 │       0.799 │\n",
      "├─────────┼───────────────────────────────────────┼───────────────────────────┼─────────────┤\n",
      "│      10 │ Random Forest Regression (1000 trees) │                   5369.37 │       0.8   │\n",
      "├─────────┼───────────────────────────────────────┼───────────────────────────┼─────────────┤\n",
      "│      11 │ Stacking Regression                   │                   5565.77 │       0.785 │\n",
      "├─────────┼───────────────────────────────────────┼───────────────────────────┼─────────────┤\n",
      "│      12 │ XGBoost Regression                    │                   5806.52 │       0.766 │\n",
      "╘═════════╧═══════════════════════════════════════╧═══════════════════════════╧═════════════╛\n"
     ]
    }
   ],
   "source": [
    "### Tabulating the results\n",
    "\n",
    "table = []\n",
    "table.append(['S.No.', 'Classification Model', 'Root Mean Squared Error', 'R-squared'])\n",
    "count = 1\n",
    "\n",
    "for model in model_rmse:\n",
    "    row = [count, model, model_rmse[model], model_r2[model]]\n",
    "    table.append(row)\n",
    "    count += 1\n",
    "    \n",
    "print(tabulate(table, headers = 'firstrow', tablefmt = 'fancy_grid'))"
   ]
  },
  {
   "cell_type": "markdown",
   "id": "5a60f892",
   "metadata": {},
   "source": [
    "From the above table, we can see that the model Random Forest Regression has the least Root Mean Squared Error of 5369.37 and the highest R-squared value of 0.8."
   ]
  },
  {
   "cell_type": "markdown",
   "id": "b59ca81b",
   "metadata": {},
   "source": [
    "### 6. Conclusion"
   ]
  },
  {
   "cell_type": "markdown",
   "id": "82d587a5",
   "metadata": {},
   "source": [
    "Hence, for this problem, we will use Random Forest regressor to predict the Health Insurance Cost for an individual."
   ]
  }
 ],
 "metadata": {
  "kernelspec": {
   "display_name": "Python 3",
   "language": "python",
   "name": "python3"
  },
  "language_info": {
   "codemirror_mode": {
    "name": "ipython",
    "version": 3
   },
   "file_extension": ".py",
   "mimetype": "text/x-python",
   "name": "python",
   "nbconvert_exporter": "python",
   "pygments_lexer": "ipython3",
   "version": "3.8.8"
  }
 },
 "nbformat": 4,
 "nbformat_minor": 5
}
