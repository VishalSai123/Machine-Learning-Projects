{
 "cells": [
  {
   "cell_type": "markdown",
   "id": "8cd9b2a6",
   "metadata": {},
   "source": [
    "# Boston House Prices Prediction"
   ]
  },
  {
   "cell_type": "markdown",
   "id": "2fd35343",
   "metadata": {},
   "source": [
    "### 1. Importing the libraries"
   ]
  },
  {
   "cell_type": "markdown",
   "id": "54a91396",
   "metadata": {},
   "source": [
    "A Python library is a collection of related modules. It contains bundles of code that can be used repeatedly in different programs. It makes Python Programming simpler and convenient for the programmer. As we don't need to write the same code again and again for different programs.\n",
    "\n",
    "In this notebook, we will be using the following libraries."
   ]
  },
  {
   "cell_type": "code",
   "execution_count": 1,
   "id": "22d1db08",
   "metadata": {},
   "outputs": [],
   "source": [
    "### Data Wrangling \n",
    "\n",
    "import numpy as np\n",
    "import pandas as pd\n",
    "import missingno\n",
    "from collections import Counter\n",
    "from collections import OrderedDict\n",
    "\n",
    "### Data Visualization\n",
    "\n",
    "import matplotlib.pyplot as plt\n",
    "import seaborn as sns\n",
    "\n",
    "### Data Preprocessing\n",
    "\n",
    "import statsmodels.api as sm\n",
    "from scipy import stats\n",
    "\n",
    "### Modelling \n",
    "\n",
    "from sklearn.model_selection import train_test_split\n",
    "from math import sqrt\n",
    "from sklearn.metrics import mean_squared_error\n",
    "from sklearn.model_selection import GridSearchCV\n",
    "from sklearn.linear_model import LinearRegression\n",
    "from sklearn.linear_model import Lasso\n",
    "from sklearn.linear_model import Ridge\n",
    "from sklearn.svm import SVR\n",
    "from sklearn.tree import DecisionTreeRegressor\n",
    "from sklearn.ensemble import RandomForestRegressor\n",
    "from sklearn.ensemble import StackingRegressor\n",
    "import xgboost as xg\n",
    "\n",
    "### Tabulating the results\n",
    "\n",
    "from tabulate import tabulate\n",
    "\n",
    "### Remove unnecessary warnings\n",
    "\n",
    "import warnings\n",
    "warnings.filterwarnings('ignore')"
   ]
  },
  {
   "cell_type": "markdown",
   "id": "36b23a64",
   "metadata": {},
   "source": [
    "### 2. Importing the data"
   ]
  },
  {
   "cell_type": "markdown",
   "id": "0a71b33c",
   "metadata": {},
   "source": [
    "In this section, I will fetch the dataset that is available in the Kaggle's project description in the Data section.\n",
    "\n",
    "The training set should be used to build your machine learning models. For the training set, we provide the outcome (also known as the “ground truth”) for each Boston suburb or town. Your model will be based on “features” like average number of rooms per dwelling, full-value property tax, etc. You can also use feature engineering to create new features.\n",
    "\n",
    "The test set should be used to see how well your model performs on unseen data. For the test set, we do not provide the ground truth. It is your job to predict these outcomes. For each Boston suburb or town, our task is to predict the median value of owner-occupied homes in $1000s."
   ]
  },
  {
   "cell_type": "code",
   "execution_count": 2,
   "id": "51d82d44",
   "metadata": {},
   "outputs": [],
   "source": [
    "### Fetching the dataset\n",
    "\n",
    "column_names = ['CRIM', 'ZN', 'INDUS', 'CHAS', 'NOX', 'RM', 'AGE', 'DIS', 'RAD', 'TAX', 'PTRATIO', 'B', 'LSTAT', 'MEDV']\n",
    "dataset = pd.read_csv('../Datasets/housing.csv', header = None, delimiter = r\"\\s+\", names = column_names)"
   ]
  },
  {
   "cell_type": "code",
   "execution_count": 3,
   "id": "5da62b7c",
   "metadata": {},
   "outputs": [
    {
     "data": {
      "text/html": [
       "<div>\n",
       "<style scoped>\n",
       "    .dataframe tbody tr th:only-of-type {\n",
       "        vertical-align: middle;\n",
       "    }\n",
       "\n",
       "    .dataframe tbody tr th {\n",
       "        vertical-align: top;\n",
       "    }\n",
       "\n",
       "    .dataframe thead th {\n",
       "        text-align: right;\n",
       "    }\n",
       "</style>\n",
       "<table border=\"1\" class=\"dataframe\">\n",
       "  <thead>\n",
       "    <tr style=\"text-align: right;\">\n",
       "      <th></th>\n",
       "      <th>CRIM</th>\n",
       "      <th>ZN</th>\n",
       "      <th>INDUS</th>\n",
       "      <th>CHAS</th>\n",
       "      <th>NOX</th>\n",
       "      <th>RM</th>\n",
       "      <th>AGE</th>\n",
       "      <th>DIS</th>\n",
       "      <th>RAD</th>\n",
       "      <th>TAX</th>\n",
       "      <th>PTRATIO</th>\n",
       "      <th>B</th>\n",
       "      <th>LSTAT</th>\n",
       "      <th>MEDV</th>\n",
       "    </tr>\n",
       "  </thead>\n",
       "  <tbody>\n",
       "    <tr>\n",
       "      <th>0</th>\n",
       "      <td>0.00632</td>\n",
       "      <td>18.0</td>\n",
       "      <td>2.31</td>\n",
       "      <td>0</td>\n",
       "      <td>0.538</td>\n",
       "      <td>6.575</td>\n",
       "      <td>65.2</td>\n",
       "      <td>4.0900</td>\n",
       "      <td>1</td>\n",
       "      <td>296.0</td>\n",
       "      <td>15.3</td>\n",
       "      <td>396.90</td>\n",
       "      <td>4.98</td>\n",
       "      <td>24.0</td>\n",
       "    </tr>\n",
       "    <tr>\n",
       "      <th>1</th>\n",
       "      <td>0.02731</td>\n",
       "      <td>0.0</td>\n",
       "      <td>7.07</td>\n",
       "      <td>0</td>\n",
       "      <td>0.469</td>\n",
       "      <td>6.421</td>\n",
       "      <td>78.9</td>\n",
       "      <td>4.9671</td>\n",
       "      <td>2</td>\n",
       "      <td>242.0</td>\n",
       "      <td>17.8</td>\n",
       "      <td>396.90</td>\n",
       "      <td>9.14</td>\n",
       "      <td>21.6</td>\n",
       "    </tr>\n",
       "    <tr>\n",
       "      <th>2</th>\n",
       "      <td>0.02729</td>\n",
       "      <td>0.0</td>\n",
       "      <td>7.07</td>\n",
       "      <td>0</td>\n",
       "      <td>0.469</td>\n",
       "      <td>7.185</td>\n",
       "      <td>61.1</td>\n",
       "      <td>4.9671</td>\n",
       "      <td>2</td>\n",
       "      <td>242.0</td>\n",
       "      <td>17.8</td>\n",
       "      <td>392.83</td>\n",
       "      <td>4.03</td>\n",
       "      <td>34.7</td>\n",
       "    </tr>\n",
       "    <tr>\n",
       "      <th>3</th>\n",
       "      <td>0.03237</td>\n",
       "      <td>0.0</td>\n",
       "      <td>2.18</td>\n",
       "      <td>0</td>\n",
       "      <td>0.458</td>\n",
       "      <td>6.998</td>\n",
       "      <td>45.8</td>\n",
       "      <td>6.0622</td>\n",
       "      <td>3</td>\n",
       "      <td>222.0</td>\n",
       "      <td>18.7</td>\n",
       "      <td>394.63</td>\n",
       "      <td>2.94</td>\n",
       "      <td>33.4</td>\n",
       "    </tr>\n",
       "    <tr>\n",
       "      <th>4</th>\n",
       "      <td>0.06905</td>\n",
       "      <td>0.0</td>\n",
       "      <td>2.18</td>\n",
       "      <td>0</td>\n",
       "      <td>0.458</td>\n",
       "      <td>7.147</td>\n",
       "      <td>54.2</td>\n",
       "      <td>6.0622</td>\n",
       "      <td>3</td>\n",
       "      <td>222.0</td>\n",
       "      <td>18.7</td>\n",
       "      <td>396.90</td>\n",
       "      <td>5.33</td>\n",
       "      <td>36.2</td>\n",
       "    </tr>\n",
       "    <tr>\n",
       "      <th>5</th>\n",
       "      <td>0.02985</td>\n",
       "      <td>0.0</td>\n",
       "      <td>2.18</td>\n",
       "      <td>0</td>\n",
       "      <td>0.458</td>\n",
       "      <td>6.430</td>\n",
       "      <td>58.7</td>\n",
       "      <td>6.0622</td>\n",
       "      <td>3</td>\n",
       "      <td>222.0</td>\n",
       "      <td>18.7</td>\n",
       "      <td>394.12</td>\n",
       "      <td>5.21</td>\n",
       "      <td>28.7</td>\n",
       "    </tr>\n",
       "    <tr>\n",
       "      <th>6</th>\n",
       "      <td>0.08829</td>\n",
       "      <td>12.5</td>\n",
       "      <td>7.87</td>\n",
       "      <td>0</td>\n",
       "      <td>0.524</td>\n",
       "      <td>6.012</td>\n",
       "      <td>66.6</td>\n",
       "      <td>5.5605</td>\n",
       "      <td>5</td>\n",
       "      <td>311.0</td>\n",
       "      <td>15.2</td>\n",
       "      <td>395.60</td>\n",
       "      <td>12.43</td>\n",
       "      <td>22.9</td>\n",
       "    </tr>\n",
       "    <tr>\n",
       "      <th>7</th>\n",
       "      <td>0.14455</td>\n",
       "      <td>12.5</td>\n",
       "      <td>7.87</td>\n",
       "      <td>0</td>\n",
       "      <td>0.524</td>\n",
       "      <td>6.172</td>\n",
       "      <td>96.1</td>\n",
       "      <td>5.9505</td>\n",
       "      <td>5</td>\n",
       "      <td>311.0</td>\n",
       "      <td>15.2</td>\n",
       "      <td>396.90</td>\n",
       "      <td>19.15</td>\n",
       "      <td>27.1</td>\n",
       "    </tr>\n",
       "    <tr>\n",
       "      <th>8</th>\n",
       "      <td>0.21124</td>\n",
       "      <td>12.5</td>\n",
       "      <td>7.87</td>\n",
       "      <td>0</td>\n",
       "      <td>0.524</td>\n",
       "      <td>5.631</td>\n",
       "      <td>100.0</td>\n",
       "      <td>6.0821</td>\n",
       "      <td>5</td>\n",
       "      <td>311.0</td>\n",
       "      <td>15.2</td>\n",
       "      <td>386.63</td>\n",
       "      <td>29.93</td>\n",
       "      <td>16.5</td>\n",
       "    </tr>\n",
       "    <tr>\n",
       "      <th>9</th>\n",
       "      <td>0.17004</td>\n",
       "      <td>12.5</td>\n",
       "      <td>7.87</td>\n",
       "      <td>0</td>\n",
       "      <td>0.524</td>\n",
       "      <td>6.004</td>\n",
       "      <td>85.9</td>\n",
       "      <td>6.5921</td>\n",
       "      <td>5</td>\n",
       "      <td>311.0</td>\n",
       "      <td>15.2</td>\n",
       "      <td>386.71</td>\n",
       "      <td>17.10</td>\n",
       "      <td>18.9</td>\n",
       "    </tr>\n",
       "  </tbody>\n",
       "</table>\n",
       "</div>"
      ],
      "text/plain": [
       "      CRIM    ZN  INDUS  CHAS    NOX     RM    AGE     DIS  RAD    TAX  \\\n",
       "0  0.00632  18.0   2.31     0  0.538  6.575   65.2  4.0900    1  296.0   \n",
       "1  0.02731   0.0   7.07     0  0.469  6.421   78.9  4.9671    2  242.0   \n",
       "2  0.02729   0.0   7.07     0  0.469  7.185   61.1  4.9671    2  242.0   \n",
       "3  0.03237   0.0   2.18     0  0.458  6.998   45.8  6.0622    3  222.0   \n",
       "4  0.06905   0.0   2.18     0  0.458  7.147   54.2  6.0622    3  222.0   \n",
       "5  0.02985   0.0   2.18     0  0.458  6.430   58.7  6.0622    3  222.0   \n",
       "6  0.08829  12.5   7.87     0  0.524  6.012   66.6  5.5605    5  311.0   \n",
       "7  0.14455  12.5   7.87     0  0.524  6.172   96.1  5.9505    5  311.0   \n",
       "8  0.21124  12.5   7.87     0  0.524  5.631  100.0  6.0821    5  311.0   \n",
       "9  0.17004  12.5   7.87     0  0.524  6.004   85.9  6.5921    5  311.0   \n",
       "\n",
       "   PTRATIO       B  LSTAT  MEDV  \n",
       "0     15.3  396.90   4.98  24.0  \n",
       "1     17.8  396.90   9.14  21.6  \n",
       "2     17.8  392.83   4.03  34.7  \n",
       "3     18.7  394.63   2.94  33.4  \n",
       "4     18.7  396.90   5.33  36.2  \n",
       "5     18.7  394.12   5.21  28.7  \n",
       "6     15.2  395.60  12.43  22.9  \n",
       "7     15.2  396.90  19.15  27.1  \n",
       "8     15.2  386.63  29.93  16.5  \n",
       "9     15.2  386.71  17.10  18.9  "
      ]
     },
     "execution_count": 3,
     "metadata": {},
     "output_type": "execute_result"
    }
   ],
   "source": [
    "### Looking at the sample data in the dataset\n",
    "\n",
    "dataset.head(10)"
   ]
  },
  {
   "cell_type": "code",
   "execution_count": 4,
   "id": "b4546958",
   "metadata": {},
   "outputs": [
    {
     "data": {
      "text/plain": [
       "(506, 14)"
      ]
     },
     "execution_count": 4,
     "metadata": {},
     "output_type": "execute_result"
    }
   ],
   "source": [
    "### Shape of the dataset\n",
    "\n",
    "dataset.shape"
   ]
  },
  {
   "cell_type": "markdown",
   "id": "05e66c4e",
   "metadata": {},
   "source": [
    "The training dataset consists of 14 columns and 506 rows."
   ]
  },
  {
   "cell_type": "markdown",
   "id": "13797d4b",
   "metadata": {},
   "source": [
    "### 3. Exploratory Data Analysis"
   ]
  },
  {
   "cell_type": "markdown",
   "id": "cf8e56d4",
   "metadata": {},
   "source": [
    "Exploratory Data Analysis refers to the critical process of performing initial investigations on data so as to discover patterns,to spot anomalies,to test hypothesis and to check assumptions with the help of summary statistics and graphical representations.\n",
    "\n",
    "Here, we will perform EDA on the categorical columns of the dataset - CHAS, RAD and the numerical columns of the dataset - CRIM, ZN, INDUS, NOX, RM, AGE, DIS, TAX, PTRATIO, B, LSTAT, MEDV."
   ]
  },
  {
   "cell_type": "markdown",
   "id": "3249b513",
   "metadata": {},
   "source": [
    "#### 3.1 Datatypes, Missing Data, and Summary Statistics"
   ]
  },
  {
   "cell_type": "code",
   "execution_count": 5,
   "id": "eae835e3",
   "metadata": {},
   "outputs": [
    {
     "name": "stdout",
     "output_type": "stream",
     "text": [
      "<class 'pandas.core.frame.DataFrame'>\n",
      "RangeIndex: 506 entries, 0 to 505\n",
      "Data columns (total 14 columns):\n",
      " #   Column   Non-Null Count  Dtype  \n",
      "---  ------   --------------  -----  \n",
      " 0   CRIM     506 non-null    float64\n",
      " 1   ZN       506 non-null    float64\n",
      " 2   INDUS    506 non-null    float64\n",
      " 3   CHAS     506 non-null    int64  \n",
      " 4   NOX      506 non-null    float64\n",
      " 5   RM       506 non-null    float64\n",
      " 6   AGE      506 non-null    float64\n",
      " 7   DIS      506 non-null    float64\n",
      " 8   RAD      506 non-null    int64  \n",
      " 9   TAX      506 non-null    float64\n",
      " 10  PTRATIO  506 non-null    float64\n",
      " 11  B        506 non-null    float64\n",
      " 12  LSTAT    506 non-null    float64\n",
      " 13  MEDV     506 non-null    float64\n",
      "dtypes: float64(12), int64(2)\n",
      "memory usage: 55.5 KB\n"
     ]
    }
   ],
   "source": [
    "### Looking at the datatypes of the dataset\n",
    "\n",
    "dataset.info()"
   ]
  },
  {
   "cell_type": "markdown",
   "id": "2201c7c6",
   "metadata": {},
   "source": [
    "Here, the columns - CHAS and RAD are categorical. Hence, we modify the datatype of these columns to category."
   ]
  },
  {
   "cell_type": "code",
   "execution_count": 6,
   "id": "f911a16b",
   "metadata": {},
   "outputs": [],
   "source": [
    "### Changing the datatype of the columns - CHAS, RAD to category in the dataset\n",
    "\n",
    "dataset.CHAS = dataset.CHAS.astype('category')\n",
    "dataset.RAD = dataset.RAD.astype('category')"
   ]
  },
  {
   "cell_type": "markdown",
   "id": "4d4d500f",
   "metadata": {},
   "source": [
    "Looking at the modified datatypes of the columns in the dataset."
   ]
  },
  {
   "cell_type": "code",
   "execution_count": 7,
   "id": "d6f88c02",
   "metadata": {},
   "outputs": [
    {
     "name": "stdout",
     "output_type": "stream",
     "text": [
      "<class 'pandas.core.frame.DataFrame'>\n",
      "RangeIndex: 506 entries, 0 to 505\n",
      "Data columns (total 14 columns):\n",
      " #   Column   Non-Null Count  Dtype   \n",
      "---  ------   --------------  -----   \n",
      " 0   CRIM     506 non-null    float64 \n",
      " 1   ZN       506 non-null    float64 \n",
      " 2   INDUS    506 non-null    float64 \n",
      " 3   CHAS     506 non-null    category\n",
      " 4   NOX      506 non-null    float64 \n",
      " 5   RM       506 non-null    float64 \n",
      " 6   AGE      506 non-null    float64 \n",
      " 7   DIS      506 non-null    float64 \n",
      " 8   RAD      506 non-null    category\n",
      " 9   TAX      506 non-null    float64 \n",
      " 10  PTRATIO  506 non-null    float64 \n",
      " 11  B        506 non-null    float64 \n",
      " 12  LSTAT    506 non-null    float64 \n",
      " 13  MEDV     506 non-null    float64 \n",
      "dtypes: category(2), float64(12)\n",
      "memory usage: 49.0 KB\n"
     ]
    }
   ],
   "source": [
    "### Looking at the modified datatypes of the dataset\n",
    "\n",
    "dataset.info()"
   ]
  },
  {
   "cell_type": "markdown",
   "id": "46fd657a",
   "metadata": {},
   "source": [
    "From the above data, it is evident that there are no missing values in the dataset. Let's verify that."
   ]
  },
  {
   "cell_type": "code",
   "execution_count": 8,
   "id": "a82a24b2",
   "metadata": {},
   "outputs": [
    {
     "data": {
      "text/plain": [
       "CRIM       0\n",
       "ZN         0\n",
       "INDUS      0\n",
       "CHAS       0\n",
       "NOX        0\n",
       "RM         0\n",
       "AGE        0\n",
       "DIS        0\n",
       "RAD        0\n",
       "TAX        0\n",
       "PTRATIO    0\n",
       "B          0\n",
       "LSTAT      0\n",
       "MEDV       0\n",
       "dtype: int64"
      ]
     },
     "execution_count": 8,
     "metadata": {},
     "output_type": "execute_result"
    }
   ],
   "source": [
    "### Missing data by columns in the dataset\n",
    "\n",
    "dataset.isnull().sum().sort_values(ascending = False)"
   ]
  },
  {
   "cell_type": "markdown",
   "id": "9a23a742",
   "metadata": {},
   "source": [
    "Here, we can see that there are no missing values in the dataset."
   ]
  },
  {
   "cell_type": "code",
   "execution_count": 9,
   "id": "6f516036",
   "metadata": {},
   "outputs": [
    {
     "data": {
      "text/plain": [
       "<AxesSubplot:>"
      ]
     },
     "execution_count": 9,
     "metadata": {},
     "output_type": "execute_result"
    },
    {
     "data": {
      "image/png": "[encoded data removed]",
      "text/plain": [
       "<Figure size 1800x720 with 2 Axes>"
      ]
     },
     "metadata": {
      "needs_background": "light"
     },
     "output_type": "display_data"
    }
   ],
   "source": [
    "### Visual representation of the missing data in the dataset\n",
    "\n",
    "missingno.matrix(dataset)"
   ]
  },
  {
   "cell_type": "code",
   "execution_count": 10,
   "id": "371549ac",
   "metadata": {},
   "outputs": [
    {
     "data": {
      "text/html": [
       "<div>\n",
       "<style scoped>\n",
       "    .dataframe tbody tr th:only-of-type {\n",
       "        vertical-align: middle;\n",
       "    }\n",
       "\n",
       "    .dataframe tbody tr th {\n",
       "        vertical-align: top;\n",
       "    }\n",
       "\n",
       "    .dataframe thead th {\n",
       "        text-align: right;\n",
       "    }\n",
       "</style>\n",
       "<table border=\"1\" class=\"dataframe\">\n",
       "  <thead>\n",
       "    <tr style=\"text-align: right;\">\n",
       "      <th></th>\n",
       "      <th>CRIM</th>\n",
       "      <th>ZN</th>\n",
       "      <th>INDUS</th>\n",
       "      <th>NOX</th>\n",
       "      <th>RM</th>\n",
       "      <th>AGE</th>\n",
       "      <th>DIS</th>\n",
       "      <th>TAX</th>\n",
       "      <th>PTRATIO</th>\n",
       "      <th>B</th>\n",
       "      <th>LSTAT</th>\n",
       "      <th>MEDV</th>\n",
       "    </tr>\n",
       "  </thead>\n",
       "  <tbody>\n",
       "    <tr>\n",
       "      <th>count</th>\n",
       "      <td>506.000000</td>\n",
       "      <td>506.000000</td>\n",
       "      <td>506.000000</td>\n",
       "      <td>506.000000</td>\n",
       "      <td>506.000000</td>\n",
       "      <td>506.000000</td>\n",
       "      <td>506.000000</td>\n",
       "      <td>506.000000</td>\n",
       "      <td>506.000000</td>\n",
       "      <td>506.000000</td>\n",
       "      <td>506.000000</td>\n",
       "      <td>506.000000</td>\n",
       "    </tr>\n",
       "    <tr>\n",
       "      <th>mean</th>\n",
       "      <td>3.613524</td>\n",
       "      <td>11.363636</td>\n",
       "      <td>11.136779</td>\n",
       "      <td>0.554695</td>\n",
       "      <td>6.284634</td>\n",
       "      <td>68.574901</td>\n",
       "      <td>3.795043</td>\n",
       "      <td>408.237154</td>\n",
       "      <td>18.455534</td>\n",
       "      <td>356.674032</td>\n",
       "      <td>12.653063</td>\n",
       "      <td>22.532806</td>\n",
       "    </tr>\n",
       "    <tr>\n",
       "      <th>std</th>\n",
       "      <td>8.601545</td>\n",
       "      <td>23.322453</td>\n",
       "      <td>6.860353</td>\n",
       "      <td>0.115878</td>\n",
       "      <td>0.702617</td>\n",
       "      <td>28.148861</td>\n",
       "      <td>2.105710</td>\n",
       "      <td>168.537116</td>\n",
       "      <td>2.164946</td>\n",
       "      <td>91.294864</td>\n",
       "      <td>7.141062</td>\n",
       "      <td>9.197104</td>\n",
       "    </tr>\n",
       "    <tr>\n",
       "      <th>min</th>\n",
       "      <td>0.006320</td>\n",
       "      <td>0.000000</td>\n",
       "      <td>0.460000</td>\n",
       "      <td>0.385000</td>\n",
       "      <td>3.561000</td>\n",
       "      <td>2.900000</td>\n",
       "      <td>1.129600</td>\n",
       "      <td>187.000000</td>\n",
       "      <td>12.600000</td>\n",
       "      <td>0.320000</td>\n",
       "      <td>1.730000</td>\n",
       "      <td>5.000000</td>\n",
       "    </tr>\n",
       "    <tr>\n",
       "      <th>25%</th>\n",
       "      <td>0.082045</td>\n",
       "      <td>0.000000</td>\n",
       "      <td>5.190000</td>\n",
       "      <td>0.449000</td>\n",
       "      <td>5.885500</td>\n",
       "      <td>45.025000</td>\n",
       "      <td>2.100175</td>\n",
       "      <td>279.000000</td>\n",
       "      <td>17.400000</td>\n",
       "      <td>375.377500</td>\n",
       "      <td>6.950000</td>\n",
       "      <td>17.025000</td>\n",
       "    </tr>\n",
       "    <tr>\n",
       "      <th>50%</th>\n",
       "      <td>0.256510</td>\n",
       "      <td>0.000000</td>\n",
       "      <td>9.690000</td>\n",
       "      <td>0.538000</td>\n",
       "      <td>6.208500</td>\n",
       "      <td>77.500000</td>\n",
       "      <td>3.207450</td>\n",
       "      <td>330.000000</td>\n",
       "      <td>19.050000</td>\n",
       "      <td>391.440000</td>\n",
       "      <td>11.360000</td>\n",
       "      <td>21.200000</td>\n",
       "    </tr>\n",
       "    <tr>\n",
       "      <th>75%</th>\n",
       "      <td>3.677083</td>\n",
       "      <td>12.500000</td>\n",
       "      <td>18.100000</td>\n",
       "      <td>0.624000</td>\n",
       "      <td>6.623500</td>\n",
       "      <td>94.075000</td>\n",
       "      <td>5.188425</td>\n",
       "      <td>666.000000</td>\n",
       "      <td>20.200000</td>\n",
       "      <td>396.225000</td>\n",
       "      <td>16.955000</td>\n",
       "      <td>25.000000</td>\n",
       "    </tr>\n",
       "    <tr>\n",
       "      <th>max</th>\n",
       "      <td>88.976200</td>\n",
       "      <td>100.000000</td>\n",
       "      <td>27.740000</td>\n",
       "      <td>0.871000</td>\n",
       "      <td>8.780000</td>\n",
       "      <td>100.000000</td>\n",
       "      <td>12.126500</td>\n",
       "      <td>711.000000</td>\n",
       "      <td>22.000000</td>\n",
       "      <td>396.900000</td>\n",
       "      <td>37.970000</td>\n",
       "      <td>50.000000</td>\n",
       "    </tr>\n",
       "  </tbody>\n",
       "</table>\n",
       "</div>"
      ],
      "text/plain": [
       "             CRIM          ZN       INDUS         NOX          RM         AGE  \\\n",
       "count  506.000000  506.000000  506.000000  506.000000  506.000000  506.000000   \n",
       "mean     3.613524   11.363636   11.136779    0.554695    6.284634   68.574901   \n",
       "std      8.601545   23.322453    6.860353    0.115878    0.702617   28.148861   \n",
       "min      0.006320    0.000000    0.460000    0.385000    3.561000    2.900000   \n",
       "25%      0.082045    0.000000    5.190000    0.449000    5.885500   45.025000   \n",
       "50%      0.256510    0.000000    9.690000    0.538000    6.208500   77.500000   \n",
       "75%      3.677083   12.500000   18.100000    0.624000    6.623500   94.075000   \n",
       "max     88.976200  100.000000   27.740000    0.871000    8.780000  100.000000   \n",
       "\n",
       "              DIS         TAX     PTRATIO           B       LSTAT        MEDV  \n",
       "count  506.000000  506.000000  506.000000  506.000000  506.000000  506.000000  \n",
       "mean     3.795043  408.237154   18.455534  356.674032   12.653063   22.532806  \n",
       "std      2.105710  168.537116    2.164946   91.294864    7.141062    9.197104  \n",
       "min      1.129600  187.000000   12.600000    0.320000    1.730000    5.000000  \n",
       "25%      2.100175  279.000000   17.400000  375.377500    6.950000   17.025000  \n",
       "50%      3.207450  330.000000   19.050000  391.440000   11.360000   21.200000  \n",
       "75%      5.188425  666.000000   20.200000  396.225000   16.955000   25.000000  \n",
       "max     12.126500  711.000000   22.000000  396.900000   37.970000   50.000000  "
      ]
     },
     "execution_count": 10,
     "metadata": {},
     "output_type": "execute_result"
    }
   ],
   "source": [
    "### Summary statistics of the numerical columns in the dataset\n",
    "\n",
    "dataset.describe()"
   ]
  },
  {
   "cell_type": "markdown",
   "id": "56469232",
   "metadata": {},
   "source": [
    "#### 3.2 Feature Analysis"
   ]
  },
  {
   "cell_type": "markdown",
   "id": "326ecc95",
   "metadata": {},
   "source": [
    "##### 3.2.1 Categorical variable - CHAS"
   ]
  },
  {
   "cell_type": "code",
   "execution_count": 11,
   "id": "6de7a074",
   "metadata": {},
   "outputs": [
    {
     "data": {
      "text/plain": [
       "0    471\n",
       "1     35\n",
       "Name: CHAS, dtype: int64"
      ]
     },
     "execution_count": 11,
     "metadata": {},
     "output_type": "execute_result"
    }
   ],
   "source": [
    "### Value counts of the column - CHAS\n",
    "\n",
    "chas_count = dataset['CHAS'].value_counts(dropna = False)\n",
    "chas_count"
   ]
  },
  {
   "cell_type": "code",
   "execution_count": 12,
   "id": "3cd0d845",
   "metadata": {},
   "outputs": [
    {
     "data": {
      "image/png": "[encoded data removed]",
      "text/plain": [
       "<Figure size 432x288 with 1 Axes>"
      ]
     },
     "metadata": {
      "needs_background": "light"
     },
     "output_type": "display_data"
    }
   ],
   "source": [
    "### Bar graph showing the value counts of the column - CHAS\n",
    "\n",
    "sns.barplot(chas_count.index, chas_count.values, alpha = 0.8)\n",
    "plt.title('Bar graph showing the value counts of the column - CHAS')\n",
    "plt.ylabel('Number of Occurrences', fontsize = 12)\n",
    "plt.xlabel('CHAS', fontsize = 12)\n",
    "plt.show()"
   ]
  },
  {
   "cell_type": "markdown",
   "id": "26f90ddf",
   "metadata": {},
   "source": [
    "From the above graph, we can see that most of the values of the column CHAS is 0."
   ]
  },
  {
   "cell_type": "code",
   "execution_count": 13,
   "id": "c7253bb2",
   "metadata": {},
   "outputs": [
    {
     "data": {
      "text/html": [
       "<div>\n",
       "<style scoped>\n",
       "    .dataframe tbody tr th:only-of-type {\n",
       "        vertical-align: middle;\n",
       "    }\n",
       "\n",
       "    .dataframe tbody tr th {\n",
       "        vertical-align: top;\n",
       "    }\n",
       "\n",
       "    .dataframe thead th {\n",
       "        text-align: right;\n",
       "    }\n",
       "</style>\n",
       "<table border=\"1\" class=\"dataframe\">\n",
       "  <thead>\n",
       "    <tr style=\"text-align: right;\">\n",
       "      <th></th>\n",
       "      <th>CHAS</th>\n",
       "      <th>MEDV</th>\n",
       "    </tr>\n",
       "  </thead>\n",
       "  <tbody>\n",
       "    <tr>\n",
       "      <th>0</th>\n",
       "      <td>0</td>\n",
       "      <td>22.093843</td>\n",
       "    </tr>\n",
       "    <tr>\n",
       "      <th>1</th>\n",
       "      <td>1</td>\n",
       "      <td>28.440000</td>\n",
       "    </tr>\n",
       "  </tbody>\n",
       "</table>\n",
       "</div>"
      ],
      "text/plain": [
       "  CHAS       MEDV\n",
       "0    0  22.093843\n",
       "1    1  28.440000"
      ]
     },
     "execution_count": 13,
     "metadata": {},
     "output_type": "execute_result"
    }
   ],
   "source": [
    "### Mean price per each CHAS \n",
    "\n",
    "mean_price_chas = dataset[['CHAS', 'MEDV']].groupby('CHAS', as_index = False).mean()\n",
    "mean_price_chas"
   ]
  },
  {
   "cell_type": "code",
   "execution_count": 14,
   "id": "803159e9",
   "metadata": {},
   "outputs": [
    {
     "data": {
      "image/png": "[encoded data removed]",
      "text/plain": [
       "<Figure size 432x288 with 1 Axes>"
      ]
     },
     "metadata": {
      "needs_background": "light"
     },
     "output_type": "display_data"
    }
   ],
   "source": [
    "### Mean Sales Price for each CHAS\n",
    "\n",
    "sns.barplot(mean_price_chas['CHAS'], mean_price_chas['MEDV'], alpha = 0.8)\n",
    "plt.title('Mean Sales Price for each CHAS')\n",
    "plt.ylabel('Mean Sales Price', fontsize = 12)\n",
    "plt.xlabel('CHAS', fontsize = 12)\n",
    "plt.show()"
   ]
  },
  {
   "cell_type": "markdown",
   "id": "e5bb44e0",
   "metadata": {},
   "source": [
    "From the above graph, we can see that the mean sales price of a house is similar in both the houses that are either river bound or not."
   ]
  },
  {
   "cell_type": "markdown",
   "id": "077be838",
   "metadata": {},
   "source": [
    "##### 3.2.2 Categorical variable - RAD"
   ]
  },
  {
   "cell_type": "code",
   "execution_count": 15,
   "id": "24590430",
   "metadata": {},
   "outputs": [
    {
     "data": {
      "text/plain": [
       "24    132\n",
       "5     115\n",
       "4     110\n",
       "3      38\n",
       "6      26\n",
       "2      24\n",
       "8      24\n",
       "1      20\n",
       "7      17\n",
       "Name: RAD, dtype: int64"
      ]
     },
     "execution_count": 15,
     "metadata": {},
     "output_type": "execute_result"
    }
   ],
   "source": [
    "### Value counts of the column - RAD\n",
    "\n",
    "rad_count = dataset['RAD'].value_counts(dropna = False)\n",
    "rad_count"
   ]
  },
  {
   "cell_type": "code",
   "execution_count": 16,
   "id": "3b20327c",
   "metadata": {},
   "outputs": [
    {
     "data": {
      "image/png": "[encoded data removed]",
      "text/plain": [
       "<Figure size 432x288 with 1 Axes>"
      ]
     },
     "metadata": {
      "needs_background": "light"
     },
     "output_type": "display_data"
    }
   ],
   "source": [
    "### Bar graph showing the value counts of the column - RAD\n",
    "\n",
    "sns.barplot(rad_count.index, rad_count.values, alpha = 0.8)\n",
    "plt.title('Bar graph showing the value counts of the column - RAD')\n",
    "plt.ylabel('Number of Occurrences', fontsize = 12)\n",
    "plt.xlabel('RAD', fontsize = 12)\n",
    "plt.show()"
   ]
  },
  {
   "cell_type": "markdown",
   "id": "4cc869b9",
   "metadata": {},
   "source": [
    "From the above graph, we can see that there are 9 different values for the column - RAD."
   ]
  },
  {
   "cell_type": "code",
   "execution_count": 17,
   "id": "a3374108",
   "metadata": {},
   "outputs": [
    {
     "data": {
      "text/html": [
       "<div>\n",
       "<style scoped>\n",
       "    .dataframe tbody tr th:only-of-type {\n",
       "        vertical-align: middle;\n",
       "    }\n",
       "\n",
       "    .dataframe tbody tr th {\n",
       "        vertical-align: top;\n",
       "    }\n",
       "\n",
       "    .dataframe thead th {\n",
       "        text-align: right;\n",
       "    }\n",
       "</style>\n",
       "<table border=\"1\" class=\"dataframe\">\n",
       "  <thead>\n",
       "    <tr style=\"text-align: right;\">\n",
       "      <th></th>\n",
       "      <th>RAD</th>\n",
       "      <th>MEDV</th>\n",
       "    </tr>\n",
       "  </thead>\n",
       "  <tbody>\n",
       "    <tr>\n",
       "      <th>0</th>\n",
       "      <td>1</td>\n",
       "      <td>24.365000</td>\n",
       "    </tr>\n",
       "    <tr>\n",
       "      <th>1</th>\n",
       "      <td>2</td>\n",
       "      <td>26.833333</td>\n",
       "    </tr>\n",
       "    <tr>\n",
       "      <th>2</th>\n",
       "      <td>3</td>\n",
       "      <td>27.928947</td>\n",
       "    </tr>\n",
       "    <tr>\n",
       "      <th>3</th>\n",
       "      <td>4</td>\n",
       "      <td>21.387273</td>\n",
       "    </tr>\n",
       "    <tr>\n",
       "      <th>4</th>\n",
       "      <td>5</td>\n",
       "      <td>25.706957</td>\n",
       "    </tr>\n",
       "    <tr>\n",
       "      <th>5</th>\n",
       "      <td>6</td>\n",
       "      <td>20.976923</td>\n",
       "    </tr>\n",
       "    <tr>\n",
       "      <th>6</th>\n",
       "      <td>7</td>\n",
       "      <td>27.105882</td>\n",
       "    </tr>\n",
       "    <tr>\n",
       "      <th>7</th>\n",
       "      <td>8</td>\n",
       "      <td>30.358333</td>\n",
       "    </tr>\n",
       "    <tr>\n",
       "      <th>8</th>\n",
       "      <td>24</td>\n",
       "      <td>16.403788</td>\n",
       "    </tr>\n",
       "  </tbody>\n",
       "</table>\n",
       "</div>"
      ],
      "text/plain": [
       "  RAD       MEDV\n",
       "0   1  24.365000\n",
       "1   2  26.833333\n",
       "2   3  27.928947\n",
       "3   4  21.387273\n",
       "4   5  25.706957\n",
       "5   6  20.976923\n",
       "6   7  27.105882\n",
       "7   8  30.358333\n",
       "8  24  16.403788"
      ]
     },
     "execution_count": 17,
     "metadata": {},
     "output_type": "execute_result"
    }
   ],
   "source": [
    "### Mean price per each RAD \n",
    "\n",
    "mean_price_rad = dataset[['RAD', 'MEDV']].groupby('RAD', as_index = False).mean()\n",
    "mean_price_rad"
   ]
  },
  {
   "cell_type": "code",
   "execution_count": 18,
   "id": "9ba7e156",
   "metadata": {},
   "outputs": [
    {
     "data": {
      "image/png": "[encoded data removed]",
      "text/plain": [
       "<Figure size 432x288 with 1 Axes>"
      ]
     },
     "metadata": {
      "needs_background": "light"
     },
     "output_type": "display_data"
    }
   ],
   "source": [
    "### Mean Sales Price for each RAD\n",
    "\n",
    "sns.barplot(mean_price_rad['RAD'], mean_price_rad['MEDV'], alpha = 0.8)\n",
    "plt.title('Mean Sales Price for each RAD')\n",
    "plt.ylabel('Mean Sales Price', fontsize = 12)\n",
    "plt.xlabel('RAD', fontsize = 12)\n",
    "plt.show()"
   ]
  },
  {
   "cell_type": "markdown",
   "id": "645d8243",
   "metadata": {},
   "source": [
    "Here, we can see that the mean sales price based on RAD is almost similar for each RAD type except 24. We will use this observation during Feature Engineering where we focus on reducing the number of different values for RAD."
   ]
  },
  {
   "cell_type": "markdown",
   "id": "3bc5e370",
   "metadata": {},
   "source": [
    "##### 3.2.3 Numerical variable - MEDV"
   ]
  },
  {
   "cell_type": "code",
   "execution_count": 19,
   "id": "1bd3d7b0",
   "metadata": {},
   "outputs": [
    {
     "data": {
      "text/plain": [
       "Text(0.5, 1.0, 'Median Value Distribution')"
      ]
     },
     "execution_count": 19,
     "metadata": {},
     "output_type": "execute_result"
    },
    {
     "data": {
      "image/png": "[encoded data removed]",
      "text/plain": [
       "<Figure size 432x288 with 1 Axes>"
      ]
     },
     "metadata": {
      "needs_background": "light"
     },
     "output_type": "display_data"
    }
   ],
   "source": [
    "### Understanding the distribution of the column - MEDV\n",
    "\n",
    "sns.distplot(dataset['MEDV'], label = 'Skewness: %.2f'%(dataset['MEDV'].skew()))\n",
    "plt.legend(loc = 'best')\n",
    "plt.title('Median Value Distribution')"
   ]
  },
  {
   "cell_type": "markdown",
   "id": "78f2cbda",
   "metadata": {},
   "source": [
    "From the above graph, we can see that the distribution is close to normal distribution with a slight skewness."
   ]
  },
  {
   "cell_type": "markdown",
   "id": "a92c34c5",
   "metadata": {},
   "source": [
    "##### 3.2.4 Numerical variable - CRIM"
   ]
  },
  {
   "cell_type": "code",
   "execution_count": 20,
   "id": "f24c51c7",
   "metadata": {},
   "outputs": [
    {
     "data": {
      "text/plain": [
       "Text(0.5, 1.0, 'Per Capita Crime Rate By Town')"
      ]
     },
     "execution_count": 20,
     "metadata": {},
     "output_type": "execute_result"
    },
    {
     "data": {
      "image/png": "[encoded data removed]",
      "text/plain": [
       "<Figure size 432x288 with 1 Axes>"
      ]
     },
     "metadata": {
      "needs_background": "light"
     },
     "output_type": "display_data"
    }
   ],
   "source": [
    "### Understanding the distribution of the column - CRIM\n",
    "\n",
    "sns.distplot(dataset['CRIM'], label = 'Skewness: %.2f'%(dataset['CRIM'].skew()))\n",
    "plt.legend(loc = 'best')\n",
    "plt.title('Per Capita Crime Rate By Town')"
   ]
  },
  {
   "cell_type": "markdown",
   "id": "845ebbbd",
   "metadata": {},
   "source": [
    "From the above graph, we can see that there is a high degree of skewness in the distribution of the column - CRIM."
   ]
  },
  {
   "cell_type": "markdown",
   "id": "a531b3f3",
   "metadata": {},
   "source": [
    "##### 3.2.5 Numerical variable - ZN"
   ]
  },
  {
   "cell_type": "code",
   "execution_count": 21,
   "id": "58ca5774",
   "metadata": {},
   "outputs": [
    {
     "data": {
      "text/plain": [
       "Text(0.5, 1.0, 'Proportion of Residential Land Zones')"
      ]
     },
     "execution_count": 21,
     "metadata": {},
     "output_type": "execute_result"
    },
    {
     "data": {
      "image/png": "[encoded data removed]",
      "text/plain": [
       "<Figure size 432x288 with 1 Axes>"
      ]
     },
     "metadata": {
      "needs_background": "light"
     },
     "output_type": "display_data"
    }
   ],
   "source": [
    "### Understanding the distribution of the column - ZN\n",
    "\n",
    "sns.distplot(dataset['ZN'], label = 'Skewness: %.2f'%(dataset['ZN'].skew()))\n",
    "plt.legend(loc = 'best')\n",
    "plt.title('Proportion of Residential Land Zones')"
   ]
  },
  {
   "cell_type": "markdown",
   "id": "712870eb",
   "metadata": {},
   "source": [
    "From the above graph, we can see that there is a high degree of skewness in the distribution of the column - ZN."
   ]
  },
  {
   "cell_type": "markdown",
   "id": "a015b4cd",
   "metadata": {},
   "source": [
    "##### 3.2.6 Numerical variable - INDUS"
   ]
  },
  {
   "cell_type": "code",
   "execution_count": 22,
   "id": "6ed304bd",
   "metadata": {},
   "outputs": [
    {
     "data": {
      "text/plain": [
       "Text(0.5, 1.0, 'Proportion of Non - Retail Business Acres Per Town')"
      ]
     },
     "execution_count": 22,
     "metadata": {},
     "output_type": "execute_result"
    },
    {
     "data": {
      "image/png": "[encoded data removed]",
      "text/plain": [
       "<Figure size 432x288 with 1 Axes>"
      ]
     },
     "metadata": {
      "needs_background": "light"
     },
     "output_type": "display_data"
    }
   ],
   "source": [
    "### Understanding the distribution of the column - INDUS\n",
    "\n",
    "sns.distplot(dataset['INDUS'], label = 'Skewness: %.2f'%(dataset['INDUS'].skew()))\n",
    "plt.legend(loc = 'best')\n",
    "plt.title('Proportion of Non - Retail Business Acres Per Town')"
   ]
  },
  {
   "cell_type": "markdown",
   "id": "e9960f51",
   "metadata": {},
   "source": [
    "From the above graph, we can see that there are 2 modes for the column - INDUS."
   ]
  },
  {
   "cell_type": "markdown",
   "id": "d4eb4e3e",
   "metadata": {},
   "source": [
    "##### 3.2.7 Numerical variable - NOX"
   ]
  },
  {
   "cell_type": "code",
   "execution_count": 23,
   "id": "baa80839",
   "metadata": {},
   "outputs": [
    {
     "data": {
      "text/plain": [
       "Text(0.5, 1.0, 'Nitric Oxide Concentration - Distribution')"
      ]
     },
     "execution_count": 23,
     "metadata": {},
     "output_type": "execute_result"
    },
    {
     "data": {
      "image/png": "[encoded data removed]",
      "text/plain": [
       "<Figure size 432x288 with 1 Axes>"
      ]
     },
     "metadata": {
      "needs_background": "light"
     },
     "output_type": "display_data"
    }
   ],
   "source": [
    "### Understanding the distribution of the column - NOX\n",
    "\n",
    "sns.distplot(dataset['NOX'], label = 'Skewness: %.2f'%(dataset['NOX'].skew()))\n",
    "plt.legend(loc = 'best')\n",
    "plt.title('Nitric Oxide Concentration - Distribution')"
   ]
  },
  {
   "cell_type": "markdown",
   "id": "ac108694",
   "metadata": {},
   "source": [
    "From the above graph, we can see that the above distribution has a less degree of skewness."
   ]
  },
  {
   "cell_type": "markdown",
   "id": "70fa322e",
   "metadata": {},
   "source": [
    "##### 3.2.8 Numerical variable - RM"
   ]
  },
  {
   "cell_type": "code",
   "execution_count": 24,
   "id": "7708e2a7",
   "metadata": {},
   "outputs": [
    {
     "data": {
      "text/plain": [
       "Text(0.5, 1.0, 'Average number of rooms per dwelling')"
      ]
     },
     "execution_count": 24,
     "metadata": {},
     "output_type": "execute_result"
    },
    {
     "data": {
      "image/png": "[encoded data removed]",
      "text/plain": [
       "<Figure size 432x288 with 1 Axes>"
      ]
     },
     "metadata": {
      "needs_background": "light"
     },
     "output_type": "display_data"
    }
   ],
   "source": [
    "### Understanding the distribution of the column - RM\n",
    "\n",
    "sns.distplot(dataset['RM'], label = 'Skewness: %.2f'%(dataset['RM'].skew()))\n",
    "plt.legend(loc = 'best')\n",
    "plt.title('Average number of rooms per dwelling')"
   ]
  },
  {
   "cell_type": "markdown",
   "id": "a6f46bfb",
   "metadata": {},
   "source": [
    "From the above graph, we can see that the distribution is close to normal distribution with a very slight skewness."
   ]
  },
  {
   "cell_type": "markdown",
   "id": "ba5d55e4",
   "metadata": {},
   "source": [
    "##### 3.2.9 Numerical variable - AGE"
   ]
  },
  {
   "cell_type": "code",
   "execution_count": 25,
   "id": "05193a18",
   "metadata": {},
   "outputs": [
    {
     "data": {
      "text/plain": [
       "Text(0.5, 1.0, 'Proportion of Owner Occupied Units')"
      ]
     },
     "execution_count": 25,
     "metadata": {},
     "output_type": "execute_result"
    },
    {
     "data": {
      "image/png": "[encoded data removed]",
      "text/plain": [
       "<Figure size 432x288 with 1 Axes>"
      ]
     },
     "metadata": {
      "needs_background": "light"
     },
     "output_type": "display_data"
    }
   ],
   "source": [
    "### Understanding the distribution of the column - AGE\n",
    "\n",
    "sns.distplot(dataset['AGE'], label = 'Skewness: %.2f'%(dataset['AGE'].skew()))\n",
    "plt.legend(loc = 'best')\n",
    "plt.title('Proportion of Owner Occupied Units')"
   ]
  },
  {
   "cell_type": "markdown",
   "id": "583fe16a",
   "metadata": {},
   "source": [
    "From the above graph, we can see that the distribution is slightly left skewed."
   ]
  },
  {
   "cell_type": "markdown",
   "id": "0e65d145",
   "metadata": {},
   "source": [
    "##### 3.2.10 Numerical variable - DIS"
   ]
  },
  {
   "cell_type": "code",
   "execution_count": 26,
   "id": "d6941537",
   "metadata": {},
   "outputs": [
    {
     "data": {
      "text/plain": [
       "Text(0.5, 1.0, 'Weighted Distances Distribution')"
      ]
     },
     "execution_count": 26,
     "metadata": {},
     "output_type": "execute_result"
    },
    {
     "data": {
      "image/png": "[encoded data removed]",
      "text/plain": [
       "<Figure size 432x288 with 1 Axes>"
      ]
     },
     "metadata": {
      "needs_background": "light"
     },
     "output_type": "display_data"
    }
   ],
   "source": [
    "### Understanding the distribution of the column - DIS\n",
    "\n",
    "sns.distplot(dataset['DIS'], label = 'Skewness: %.2f'%(dataset['DIS'].skew()))\n",
    "plt.legend(loc = 'best')\n",
    "plt.title('Weighted Distances Distribution')"
   ]
  },
  {
   "cell_type": "markdown",
   "id": "bbebf30c",
   "metadata": {},
   "source": [
    "From the above graph, we can see that the distribution is slightly right skewed with a slight degree of skewness."
   ]
  },
  {
   "cell_type": "markdown",
   "id": "530bbbdf",
   "metadata": {},
   "source": [
    "##### 3.2.11 Numerical variable - TAX"
   ]
  },
  {
   "cell_type": "code",
   "execution_count": 27,
   "id": "a8896c76",
   "metadata": {},
   "outputs": [
    {
     "data": {
      "text/plain": [
       "Text(0.5, 1.0, 'Full Value Property Tax Distribution')"
      ]
     },
     "execution_count": 27,
     "metadata": {},
     "output_type": "execute_result"
    },
    {
     "data": {
      "image/png": "[encoded data removed]",
      "text/plain": [
       "<Figure size 432x288 with 1 Axes>"
      ]
     },
     "metadata": {
      "needs_background": "light"
     },
     "output_type": "display_data"
    }
   ],
   "source": [
    "### Understanding the distribution of the column - TAX\n",
    "\n",
    "sns.distplot(dataset['TAX'], label = 'Skewness: %.2f'%(dataset['TAX'].skew()))\n",
    "plt.legend(loc = 'best')\n",
    "plt.title('Full Value Property Tax Distribution')"
   ]
  },
  {
   "cell_type": "markdown",
   "id": "c5bfe1be",
   "metadata": {},
   "source": [
    "From the above graph, we can see that there are 2 modes for the column - TAX."
   ]
  },
  {
   "cell_type": "markdown",
   "id": "424f57a0",
   "metadata": {},
   "source": [
    "##### 3.2.12 Numerical variable - PTRATIO"
   ]
  },
  {
   "cell_type": "code",
   "execution_count": 28,
   "id": "ddfa70ba",
   "metadata": {},
   "outputs": [
    {
     "data": {
      "text/plain": [
       "Text(0.5, 1.0, 'Pupil Teacher Ratio By Town')"
      ]
     },
     "execution_count": 28,
     "metadata": {},
     "output_type": "execute_result"
    },
    {
     "data": {
      "image/png": "[encoded data removed]",
      "text/plain": [
       "<Figure size 432x288 with 1 Axes>"
      ]
     },
     "metadata": {
      "needs_background": "light"
     },
     "output_type": "display_data"
    }
   ],
   "source": [
    "### Understanding the distribution of the column - PTRATIO\n",
    "\n",
    "sns.distplot(dataset['PTRATIO'], label = 'Skewness: %.2f'%(dataset['PTRATIO'].skew()))\n",
    "plt.legend(loc = 'best')\n",
    "plt.title('Pupil Teacher Ratio By Town')"
   ]
  },
  {
   "cell_type": "markdown",
   "id": "815c1c78",
   "metadata": {},
   "source": [
    "From the above graph, we can see that the distribution is slightly left skewed."
   ]
  },
  {
   "cell_type": "markdown",
   "id": "e4b47a7e",
   "metadata": {},
   "source": [
    "##### 3.2.13 Numerical variable - B"
   ]
  },
  {
   "cell_type": "code",
   "execution_count": 29,
   "id": "df13bd05",
   "metadata": {},
   "outputs": [
    {
     "data": {
      "text/plain": [
       "Text(0.5, 1.0, 'Proportion of Blacks By Town')"
      ]
     },
     "execution_count": 29,
     "metadata": {},
     "output_type": "execute_result"
    },
    {
     "data": {
      "image/png": "[encoded data removed]",
      "text/plain": [
       "<Figure size 432x288 with 1 Axes>"
      ]
     },
     "metadata": {
      "needs_background": "light"
     },
     "output_type": "display_data"
    }
   ],
   "source": [
    "### Understanding the distribution of the column - B\n",
    "\n",
    "sns.distplot(dataset['B'], label = 'Skewness: %.2f'%(dataset['B'].skew()))\n",
    "plt.legend(loc = 'best')\n",
    "plt.title('Proportion of Blacks By Town')"
   ]
  },
  {
   "cell_type": "markdown",
   "id": "c8f6b9e3",
   "metadata": {},
   "source": [
    "From the above graph, we can see that the distribution is highly left skewed."
   ]
  },
  {
   "cell_type": "markdown",
   "id": "6abd30f7",
   "metadata": {},
   "source": [
    "##### 3.2.14 Numerical variable - LSTAT"
   ]
  },
  {
   "cell_type": "code",
   "execution_count": 30,
   "id": "af518c82",
   "metadata": {},
   "outputs": [
    {
     "data": {
      "text/plain": [
       "Text(0.5, 1.0, 'Distribution of the Lower Status of the Population')"
      ]
     },
     "execution_count": 30,
     "metadata": {},
     "output_type": "execute_result"
    },
    {
     "data": {
      "image/png": "[encoded data removed]",
      "text/plain": [
       "<Figure size 432x288 with 1 Axes>"
      ]
     },
     "metadata": {
      "needs_background": "light"
     },
     "output_type": "display_data"
    }
   ],
   "source": [
    "### Understanding the distribution of the column - LSTAT\n",
    "\n",
    "sns.distplot(dataset['LSTAT'], label = 'Skewness: %.2f'%(dataset['LSTAT'].skew()))\n",
    "plt.legend(loc = 'best')\n",
    "plt.title('Distribution of the Lower Status of the Population')"
   ]
  },
  {
   "cell_type": "markdown",
   "id": "196214ba",
   "metadata": {},
   "source": [
    "From the above graph, we can see that the distribution is slightly right skewed."
   ]
  },
  {
   "cell_type": "markdown",
   "id": "fc03efaa",
   "metadata": {},
   "source": [
    "### 4. Data Preprocessing"
   ]
  },
  {
   "cell_type": "markdown",
   "id": "dc24a216",
   "metadata": {},
   "source": [
    "Data preprocessing is the process of getting our dataset ready for model training. In this section, we will perform the following preprocessing steps:\n",
    "\n",
    "1. Detect and remove outliers in numerical variables\n",
    "2. Feature Engineering\n",
    "3. Data Trasformation\n",
    "4. Feature Encoding\n",
    "5. Feature Selection"
   ]
  },
  {
   "cell_type": "markdown",
   "id": "97b76a09",
   "metadata": {},
   "source": [
    "#### 4.1 Detect and remove outliers in numerical variables"
   ]
  },
  {
   "cell_type": "markdown",
   "id": "edaa7c7c",
   "metadata": {},
   "source": [
    "Outliers are data points that have extreme values and they do not conform with the majority of the data. It is important to address this because outliers tend to skew our data towards extremes and can cause inaccurate model predictions. I will use the Tukey method to remove these outliers.\n",
    "\n",
    "Here, we will write a function that will loop through a list of features and detect outliers in each one of those features. In each loop, a data point is deemed an outlier if it is less than the first quartile minus the outlier step or exceeds third quartile plus the outlier step. The outlier step is defined as 1.5 times the interquartile range. Once the outliers have been determined for one feature, their indices will be stored in a list before proceeding to the next feature and the process repeats until the very last feature is completed. Finally, using the list with outlier indices, we will count the frequencies of the index numbers and return them if their frequency exceeds n times."
   ]
  },
  {
   "cell_type": "code",
   "execution_count": 31,
   "id": "cf26f8aa",
   "metadata": {},
   "outputs": [
    {
     "name": "stdout",
     "output_type": "stream",
     "text": [
      "We will drop these 13 indices:  [195, 203, 204, 257, 262, 267, 283, 367, 374, 384, 412, 414, 438]\n"
     ]
    }
   ],
   "source": [
    "def detect_outliers(df, n, features_list):\n",
    "    outlier_indices = [] \n",
    "    for feature in features_list: \n",
    "        Q1 = np.percentile(df[feature], 25)\n",
    "        Q3 = np.percentile(df[feature], 75)\n",
    "        IQR = Q3 - Q1\n",
    "        outlier_step = 1.5 * IQR \n",
    "        outlier_list_col = df[(df[feature] < Q1 - outlier_step) | (df[feature] > Q3 + outlier_step)].index\n",
    "        outlier_indices.extend(outlier_list_col) \n",
    "    outlier_indices = Counter(outlier_indices)\n",
    "    multiple_outliers = list(key for key, value in outlier_indices.items() if value > n) \n",
    "    return multiple_outliers\n",
    "\n",
    "outliers_to_drop = detect_outliers(dataset, 2, ['MEDV', 'CRIM', 'ZN', 'INDUS', 'NOX', 'RM', 'AGE', \n",
    "                                               'DIS', 'TAX', 'PTRATIO', 'B', 'LSTAT'])\n",
    "print(\"We will drop these {} indices: \".format(len(outliers_to_drop)), outliers_to_drop)"
   ]
  },
  {
   "cell_type": "markdown",
   "id": "22dd7a8f",
   "metadata": {},
   "source": [
    "Now let's look at the data present in the rows."
   ]
  },
  {
   "cell_type": "code",
   "execution_count": 32,
   "id": "ccd1027b",
   "metadata": {},
   "outputs": [
    {
     "data": {
      "text/html": [
       "<div>\n",
       "<style scoped>\n",
       "    .dataframe tbody tr th:only-of-type {\n",
       "        vertical-align: middle;\n",
       "    }\n",
       "\n",
       "    .dataframe tbody tr th {\n",
       "        vertical-align: top;\n",
       "    }\n",
       "\n",
       "    .dataframe thead th {\n",
       "        text-align: right;\n",
       "    }\n",
       "</style>\n",
       "<table border=\"1\" class=\"dataframe\">\n",
       "  <thead>\n",
       "    <tr style=\"text-align: right;\">\n",
       "      <th></th>\n",
       "      <th>CRIM</th>\n",
       "      <th>ZN</th>\n",
       "      <th>INDUS</th>\n",
       "      <th>CHAS</th>\n",
       "      <th>NOX</th>\n",
       "      <th>RM</th>\n",
       "      <th>AGE</th>\n",
       "      <th>DIS</th>\n",
       "      <th>RAD</th>\n",
       "      <th>TAX</th>\n",
       "      <th>PTRATIO</th>\n",
       "      <th>B</th>\n",
       "      <th>LSTAT</th>\n",
       "      <th>MEDV</th>\n",
       "    </tr>\n",
       "  </thead>\n",
       "  <tbody>\n",
       "    <tr>\n",
       "      <th>195</th>\n",
       "      <td>0.01381</td>\n",
       "      <td>80.0</td>\n",
       "      <td>0.46</td>\n",
       "      <td>0</td>\n",
       "      <td>0.4220</td>\n",
       "      <td>7.875</td>\n",
       "      <td>32.0</td>\n",
       "      <td>5.6484</td>\n",
       "      <td>4</td>\n",
       "      <td>255.0</td>\n",
       "      <td>14.4</td>\n",
       "      <td>394.23</td>\n",
       "      <td>2.97</td>\n",
       "      <td>50.0</td>\n",
       "    </tr>\n",
       "    <tr>\n",
       "      <th>203</th>\n",
       "      <td>0.03510</td>\n",
       "      <td>95.0</td>\n",
       "      <td>2.68</td>\n",
       "      <td>0</td>\n",
       "      <td>0.4161</td>\n",
       "      <td>7.853</td>\n",
       "      <td>33.2</td>\n",
       "      <td>5.1180</td>\n",
       "      <td>4</td>\n",
       "      <td>224.0</td>\n",
       "      <td>14.7</td>\n",
       "      <td>392.78</td>\n",
       "      <td>3.81</td>\n",
       "      <td>48.5</td>\n",
       "    </tr>\n",
       "    <tr>\n",
       "      <th>204</th>\n",
       "      <td>0.02009</td>\n",
       "      <td>95.0</td>\n",
       "      <td>2.68</td>\n",
       "      <td>0</td>\n",
       "      <td>0.4161</td>\n",
       "      <td>8.034</td>\n",
       "      <td>31.9</td>\n",
       "      <td>5.1180</td>\n",
       "      <td>4</td>\n",
       "      <td>224.0</td>\n",
       "      <td>14.7</td>\n",
       "      <td>390.55</td>\n",
       "      <td>2.88</td>\n",
       "      <td>50.0</td>\n",
       "    </tr>\n",
       "    <tr>\n",
       "      <th>257</th>\n",
       "      <td>0.61154</td>\n",
       "      <td>20.0</td>\n",
       "      <td>3.97</td>\n",
       "      <td>0</td>\n",
       "      <td>0.6470</td>\n",
       "      <td>8.704</td>\n",
       "      <td>86.9</td>\n",
       "      <td>1.8010</td>\n",
       "      <td>5</td>\n",
       "      <td>264.0</td>\n",
       "      <td>13.0</td>\n",
       "      <td>389.70</td>\n",
       "      <td>5.12</td>\n",
       "      <td>50.0</td>\n",
       "    </tr>\n",
       "    <tr>\n",
       "      <th>262</th>\n",
       "      <td>0.52014</td>\n",
       "      <td>20.0</td>\n",
       "      <td>3.97</td>\n",
       "      <td>0</td>\n",
       "      <td>0.6470</td>\n",
       "      <td>8.398</td>\n",
       "      <td>91.5</td>\n",
       "      <td>2.2885</td>\n",
       "      <td>5</td>\n",
       "      <td>264.0</td>\n",
       "      <td>13.0</td>\n",
       "      <td>386.86</td>\n",
       "      <td>5.91</td>\n",
       "      <td>48.8</td>\n",
       "    </tr>\n",
       "    <tr>\n",
       "      <th>267</th>\n",
       "      <td>0.57834</td>\n",
       "      <td>20.0</td>\n",
       "      <td>3.97</td>\n",
       "      <td>0</td>\n",
       "      <td>0.5750</td>\n",
       "      <td>8.297</td>\n",
       "      <td>67.0</td>\n",
       "      <td>2.4216</td>\n",
       "      <td>5</td>\n",
       "      <td>264.0</td>\n",
       "      <td>13.0</td>\n",
       "      <td>384.54</td>\n",
       "      <td>7.44</td>\n",
       "      <td>50.0</td>\n",
       "    </tr>\n",
       "    <tr>\n",
       "      <th>283</th>\n",
       "      <td>0.01501</td>\n",
       "      <td>90.0</td>\n",
       "      <td>1.21</td>\n",
       "      <td>1</td>\n",
       "      <td>0.4010</td>\n",
       "      <td>7.923</td>\n",
       "      <td>24.8</td>\n",
       "      <td>5.8850</td>\n",
       "      <td>1</td>\n",
       "      <td>198.0</td>\n",
       "      <td>13.6</td>\n",
       "      <td>395.52</td>\n",
       "      <td>3.16</td>\n",
       "      <td>50.0</td>\n",
       "    </tr>\n",
       "    <tr>\n",
       "      <th>367</th>\n",
       "      <td>13.52220</td>\n",
       "      <td>0.0</td>\n",
       "      <td>18.10</td>\n",
       "      <td>0</td>\n",
       "      <td>0.6310</td>\n",
       "      <td>3.863</td>\n",
       "      <td>100.0</td>\n",
       "      <td>1.5106</td>\n",
       "      <td>24</td>\n",
       "      <td>666.0</td>\n",
       "      <td>20.2</td>\n",
       "      <td>131.42</td>\n",
       "      <td>13.33</td>\n",
       "      <td>23.1</td>\n",
       "    </tr>\n",
       "    <tr>\n",
       "      <th>374</th>\n",
       "      <td>18.49820</td>\n",
       "      <td>0.0</td>\n",
       "      <td>18.10</td>\n",
       "      <td>0</td>\n",
       "      <td>0.6680</td>\n",
       "      <td>4.138</td>\n",
       "      <td>100.0</td>\n",
       "      <td>1.1370</td>\n",
       "      <td>24</td>\n",
       "      <td>666.0</td>\n",
       "      <td>20.2</td>\n",
       "      <td>396.90</td>\n",
       "      <td>37.97</td>\n",
       "      <td>13.8</td>\n",
       "    </tr>\n",
       "    <tr>\n",
       "      <th>384</th>\n",
       "      <td>20.08490</td>\n",
       "      <td>0.0</td>\n",
       "      <td>18.10</td>\n",
       "      <td>0</td>\n",
       "      <td>0.7000</td>\n",
       "      <td>4.368</td>\n",
       "      <td>91.2</td>\n",
       "      <td>1.4395</td>\n",
       "      <td>24</td>\n",
       "      <td>666.0</td>\n",
       "      <td>20.2</td>\n",
       "      <td>285.83</td>\n",
       "      <td>30.63</td>\n",
       "      <td>8.8</td>\n",
       "    </tr>\n",
       "    <tr>\n",
       "      <th>412</th>\n",
       "      <td>18.81100</td>\n",
       "      <td>0.0</td>\n",
       "      <td>18.10</td>\n",
       "      <td>0</td>\n",
       "      <td>0.5970</td>\n",
       "      <td>4.628</td>\n",
       "      <td>100.0</td>\n",
       "      <td>1.5539</td>\n",
       "      <td>24</td>\n",
       "      <td>666.0</td>\n",
       "      <td>20.2</td>\n",
       "      <td>28.79</td>\n",
       "      <td>34.37</td>\n",
       "      <td>17.9</td>\n",
       "    </tr>\n",
       "    <tr>\n",
       "      <th>414</th>\n",
       "      <td>45.74610</td>\n",
       "      <td>0.0</td>\n",
       "      <td>18.10</td>\n",
       "      <td>0</td>\n",
       "      <td>0.6930</td>\n",
       "      <td>4.519</td>\n",
       "      <td>100.0</td>\n",
       "      <td>1.6582</td>\n",
       "      <td>24</td>\n",
       "      <td>666.0</td>\n",
       "      <td>20.2</td>\n",
       "      <td>88.27</td>\n",
       "      <td>36.98</td>\n",
       "      <td>7.0</td>\n",
       "    </tr>\n",
       "    <tr>\n",
       "      <th>438</th>\n",
       "      <td>13.67810</td>\n",
       "      <td>0.0</td>\n",
       "      <td>18.10</td>\n",
       "      <td>0</td>\n",
       "      <td>0.7400</td>\n",
       "      <td>5.935</td>\n",
       "      <td>87.9</td>\n",
       "      <td>1.8206</td>\n",
       "      <td>24</td>\n",
       "      <td>666.0</td>\n",
       "      <td>20.2</td>\n",
       "      <td>68.95</td>\n",
       "      <td>34.02</td>\n",
       "      <td>8.4</td>\n",
       "    </tr>\n",
       "  </tbody>\n",
       "</table>\n",
       "</div>"
      ],
      "text/plain": [
       "         CRIM    ZN  INDUS CHAS     NOX     RM    AGE     DIS RAD    TAX  \\\n",
       "195   0.01381  80.0   0.46    0  0.4220  7.875   32.0  5.6484   4  255.0   \n",
       "203   0.03510  95.0   2.68    0  0.4161  7.853   33.2  5.1180   4  224.0   \n",
       "204   0.02009  95.0   2.68    0  0.4161  8.034   31.9  5.1180   4  224.0   \n",
       "257   0.61154  20.0   3.97    0  0.6470  8.704   86.9  1.8010   5  264.0   \n",
       "262   0.52014  20.0   3.97    0  0.6470  8.398   91.5  2.2885   5  264.0   \n",
       "267   0.57834  20.0   3.97    0  0.5750  8.297   67.0  2.4216   5  264.0   \n",
       "283   0.01501  90.0   1.21    1  0.4010  7.923   24.8  5.8850   1  198.0   \n",
       "367  13.52220   0.0  18.10    0  0.6310  3.863  100.0  1.5106  24  666.0   \n",
       "374  18.49820   0.0  18.10    0  0.6680  4.138  100.0  1.1370  24  666.0   \n",
       "384  20.08490   0.0  18.10    0  0.7000  4.368   91.2  1.4395  24  666.0   \n",
       "412  18.81100   0.0  18.10    0  0.5970  4.628  100.0  1.5539  24  666.0   \n",
       "414  45.74610   0.0  18.10    0  0.6930  4.519  100.0  1.6582  24  666.0   \n",
       "438  13.67810   0.0  18.10    0  0.7400  5.935   87.9  1.8206  24  666.0   \n",
       "\n",
       "     PTRATIO       B  LSTAT  MEDV  \n",
       "195     14.4  394.23   2.97  50.0  \n",
       "203     14.7  392.78   3.81  48.5  \n",
       "204     14.7  390.55   2.88  50.0  \n",
       "257     13.0  389.70   5.12  50.0  \n",
       "262     13.0  386.86   5.91  48.8  \n",
       "267     13.0  384.54   7.44  50.0  \n",
       "283     13.6  395.52   3.16  50.0  \n",
       "367     20.2  131.42  13.33  23.1  \n",
       "374     20.2  396.90  37.97  13.8  \n",
       "384     20.2  285.83  30.63   8.8  \n",
       "412     20.2   28.79  34.37  17.9  \n",
       "414     20.2   88.27  36.98   7.0  \n",
       "438     20.2   68.95  34.02   8.4  "
      ]
     },
     "execution_count": 32,
     "metadata": {},
     "output_type": "execute_result"
    }
   ],
   "source": [
    "dataset.iloc[outliers_to_drop, :]"
   ]
  },
  {
   "cell_type": "markdown",
   "id": "50e1fb20",
   "metadata": {},
   "source": [
    "We will drop these rows from the dataset."
   ]
  },
  {
   "cell_type": "code",
   "execution_count": 33,
   "id": "bcbe93f0",
   "metadata": {},
   "outputs": [
    {
     "name": "stdout",
     "output_type": "stream",
     "text": [
      "Before: 506 rows\n",
      "After: 493 rows\n"
     ]
    }
   ],
   "source": [
    "### Drop outliers and reset index\n",
    "\n",
    "print(\"Before: {} rows\".format(len(dataset)))\n",
    "dataset = dataset.drop(outliers_to_drop, axis = 0).reset_index(drop = True)\n",
    "print(\"After: {} rows\".format(len(dataset)))"
   ]
  },
  {
   "cell_type": "code",
   "execution_count": 34,
   "id": "628e83df",
   "metadata": {},
   "outputs": [
    {
     "data": {
      "text/html": [
       "<div>\n",
       "<style scoped>\n",
       "    .dataframe tbody tr th:only-of-type {\n",
       "        vertical-align: middle;\n",
       "    }\n",
       "\n",
       "    .dataframe tbody tr th {\n",
       "        vertical-align: top;\n",
       "    }\n",
       "\n",
       "    .dataframe thead th {\n",
       "        text-align: right;\n",
       "    }\n",
       "</style>\n",
       "<table border=\"1\" class=\"dataframe\">\n",
       "  <thead>\n",
       "    <tr style=\"text-align: right;\">\n",
       "      <th></th>\n",
       "      <th>CRIM</th>\n",
       "      <th>ZN</th>\n",
       "      <th>INDUS</th>\n",
       "      <th>CHAS</th>\n",
       "      <th>NOX</th>\n",
       "      <th>RM</th>\n",
       "      <th>AGE</th>\n",
       "      <th>DIS</th>\n",
       "      <th>RAD</th>\n",
       "      <th>TAX</th>\n",
       "      <th>PTRATIO</th>\n",
       "      <th>B</th>\n",
       "      <th>LSTAT</th>\n",
       "      <th>MEDV</th>\n",
       "    </tr>\n",
       "  </thead>\n",
       "  <tbody>\n",
       "    <tr>\n",
       "      <th>0</th>\n",
       "      <td>0.00632</td>\n",
       "      <td>18.0</td>\n",
       "      <td>2.31</td>\n",
       "      <td>0</td>\n",
       "      <td>0.538</td>\n",
       "      <td>6.575</td>\n",
       "      <td>65.2</td>\n",
       "      <td>4.0900</td>\n",
       "      <td>1</td>\n",
       "      <td>296.0</td>\n",
       "      <td>15.3</td>\n",
       "      <td>396.90</td>\n",
       "      <td>4.98</td>\n",
       "      <td>24.0</td>\n",
       "    </tr>\n",
       "    <tr>\n",
       "      <th>1</th>\n",
       "      <td>0.02731</td>\n",
       "      <td>0.0</td>\n",
       "      <td>7.07</td>\n",
       "      <td>0</td>\n",
       "      <td>0.469</td>\n",
       "      <td>6.421</td>\n",
       "      <td>78.9</td>\n",
       "      <td>4.9671</td>\n",
       "      <td>2</td>\n",
       "      <td>242.0</td>\n",
       "      <td>17.8</td>\n",
       "      <td>396.90</td>\n",
       "      <td>9.14</td>\n",
       "      <td>21.6</td>\n",
       "    </tr>\n",
       "    <tr>\n",
       "      <th>2</th>\n",
       "      <td>0.02729</td>\n",
       "      <td>0.0</td>\n",
       "      <td>7.07</td>\n",
       "      <td>0</td>\n",
       "      <td>0.469</td>\n",
       "      <td>7.185</td>\n",
       "      <td>61.1</td>\n",
       "      <td>4.9671</td>\n",
       "      <td>2</td>\n",
       "      <td>242.0</td>\n",
       "      <td>17.8</td>\n",
       "      <td>392.83</td>\n",
       "      <td>4.03</td>\n",
       "      <td>34.7</td>\n",
       "    </tr>\n",
       "    <tr>\n",
       "      <th>3</th>\n",
       "      <td>0.03237</td>\n",
       "      <td>0.0</td>\n",
       "      <td>2.18</td>\n",
       "      <td>0</td>\n",
       "      <td>0.458</td>\n",
       "      <td>6.998</td>\n",
       "      <td>45.8</td>\n",
       "      <td>6.0622</td>\n",
       "      <td>3</td>\n",
       "      <td>222.0</td>\n",
       "      <td>18.7</td>\n",
       "      <td>394.63</td>\n",
       "      <td>2.94</td>\n",
       "      <td>33.4</td>\n",
       "    </tr>\n",
       "    <tr>\n",
       "      <th>4</th>\n",
       "      <td>0.06905</td>\n",
       "      <td>0.0</td>\n",
       "      <td>2.18</td>\n",
       "      <td>0</td>\n",
       "      <td>0.458</td>\n",
       "      <td>7.147</td>\n",
       "      <td>54.2</td>\n",
       "      <td>6.0622</td>\n",
       "      <td>3</td>\n",
       "      <td>222.0</td>\n",
       "      <td>18.7</td>\n",
       "      <td>396.90</td>\n",
       "      <td>5.33</td>\n",
       "      <td>36.2</td>\n",
       "    </tr>\n",
       "    <tr>\n",
       "      <th>...</th>\n",
       "      <td>...</td>\n",
       "      <td>...</td>\n",
       "      <td>...</td>\n",
       "      <td>...</td>\n",
       "      <td>...</td>\n",
       "      <td>...</td>\n",
       "      <td>...</td>\n",
       "      <td>...</td>\n",
       "      <td>...</td>\n",
       "      <td>...</td>\n",
       "      <td>...</td>\n",
       "      <td>...</td>\n",
       "      <td>...</td>\n",
       "      <td>...</td>\n",
       "    </tr>\n",
       "    <tr>\n",
       "      <th>488</th>\n",
       "      <td>0.06263</td>\n",
       "      <td>0.0</td>\n",
       "      <td>11.93</td>\n",
       "      <td>0</td>\n",
       "      <td>0.573</td>\n",
       "      <td>6.593</td>\n",
       "      <td>69.1</td>\n",
       "      <td>2.4786</td>\n",
       "      <td>1</td>\n",
       "      <td>273.0</td>\n",
       "      <td>21.0</td>\n",
       "      <td>391.99</td>\n",
       "      <td>9.67</td>\n",
       "      <td>22.4</td>\n",
       "    </tr>\n",
       "    <tr>\n",
       "      <th>489</th>\n",
       "      <td>0.04527</td>\n",
       "      <td>0.0</td>\n",
       "      <td>11.93</td>\n",
       "      <td>0</td>\n",
       "      <td>0.573</td>\n",
       "      <td>6.120</td>\n",
       "      <td>76.7</td>\n",
       "      <td>2.2875</td>\n",
       "      <td>1</td>\n",
       "      <td>273.0</td>\n",
       "      <td>21.0</td>\n",
       "      <td>396.90</td>\n",
       "      <td>9.08</td>\n",
       "      <td>20.6</td>\n",
       "    </tr>\n",
       "    <tr>\n",
       "      <th>490</th>\n",
       "      <td>0.06076</td>\n",
       "      <td>0.0</td>\n",
       "      <td>11.93</td>\n",
       "      <td>0</td>\n",
       "      <td>0.573</td>\n",
       "      <td>6.976</td>\n",
       "      <td>91.0</td>\n",
       "      <td>2.1675</td>\n",
       "      <td>1</td>\n",
       "      <td>273.0</td>\n",
       "      <td>21.0</td>\n",
       "      <td>396.90</td>\n",
       "      <td>5.64</td>\n",
       "      <td>23.9</td>\n",
       "    </tr>\n",
       "    <tr>\n",
       "      <th>491</th>\n",
       "      <td>0.10959</td>\n",
       "      <td>0.0</td>\n",
       "      <td>11.93</td>\n",
       "      <td>0</td>\n",
       "      <td>0.573</td>\n",
       "      <td>6.794</td>\n",
       "      <td>89.3</td>\n",
       "      <td>2.3889</td>\n",
       "      <td>1</td>\n",
       "      <td>273.0</td>\n",
       "      <td>21.0</td>\n",
       "      <td>393.45</td>\n",
       "      <td>6.48</td>\n",
       "      <td>22.0</td>\n",
       "    </tr>\n",
       "    <tr>\n",
       "      <th>492</th>\n",
       "      <td>0.04741</td>\n",
       "      <td>0.0</td>\n",
       "      <td>11.93</td>\n",
       "      <td>0</td>\n",
       "      <td>0.573</td>\n",
       "      <td>6.030</td>\n",
       "      <td>80.8</td>\n",
       "      <td>2.5050</td>\n",
       "      <td>1</td>\n",
       "      <td>273.0</td>\n",
       "      <td>21.0</td>\n",
       "      <td>396.90</td>\n",
       "      <td>7.88</td>\n",
       "      <td>11.9</td>\n",
       "    </tr>\n",
       "  </tbody>\n",
       "</table>\n",
       "<p>493 rows × 14 columns</p>\n",
       "</div>"
      ],
      "text/plain": [
       "        CRIM    ZN  INDUS CHAS    NOX     RM   AGE     DIS RAD    TAX  \\\n",
       "0    0.00632  18.0   2.31    0  0.538  6.575  65.2  4.0900   1  296.0   \n",
       "1    0.02731   0.0   7.07    0  0.469  6.421  78.9  4.9671   2  242.0   \n",
       "2    0.02729   0.0   7.07    0  0.469  7.185  61.1  4.9671   2  242.0   \n",
       "3    0.03237   0.0   2.18    0  0.458  6.998  45.8  6.0622   3  222.0   \n",
       "4    0.06905   0.0   2.18    0  0.458  7.147  54.2  6.0622   3  222.0   \n",
       "..       ...   ...    ...  ...    ...    ...   ...     ...  ..    ...   \n",
       "488  0.06263   0.0  11.93    0  0.573  6.593  69.1  2.4786   1  273.0   \n",
       "489  0.04527   0.0  11.93    0  0.573  6.120  76.7  2.2875   1  273.0   \n",
       "490  0.06076   0.0  11.93    0  0.573  6.976  91.0  2.1675   1  273.0   \n",
       "491  0.10959   0.0  11.93    0  0.573  6.794  89.3  2.3889   1  273.0   \n",
       "492  0.04741   0.0  11.93    0  0.573  6.030  80.8  2.5050   1  273.0   \n",
       "\n",
       "     PTRATIO       B  LSTAT  MEDV  \n",
       "0       15.3  396.90   4.98  24.0  \n",
       "1       17.8  396.90   9.14  21.6  \n",
       "2       17.8  392.83   4.03  34.7  \n",
       "3       18.7  394.63   2.94  33.4  \n",
       "4       18.7  396.90   5.33  36.2  \n",
       "..       ...     ...    ...   ...  \n",
       "488     21.0  391.99   9.67  22.4  \n",
       "489     21.0  396.90   9.08  20.6  \n",
       "490     21.0  396.90   5.64  23.9  \n",
       "491     21.0  393.45   6.48  22.0  \n",
       "492     21.0  396.90   7.88  11.9  \n",
       "\n",
       "[493 rows x 14 columns]"
      ]
     },
     "execution_count": 34,
     "metadata": {},
     "output_type": "execute_result"
    }
   ],
   "source": [
    "### Lets look at the new dataset\n",
    "\n",
    "dataset"
   ]
  },
  {
   "cell_type": "markdown",
   "id": "cd10c53c",
   "metadata": {},
   "source": [
    "#### 4.2 Feature Engineering"
   ]
  },
  {
   "cell_type": "markdown",
   "id": "98c0ebc7",
   "metadata": {},
   "source": [
    "Feature engineering is arguably the most important art in machine learning. It is the process of creating new features from existing features to better represent the underlying problem to the predictive models resulting in improved model accuracy on unseen data.\n",
    "\n",
    "Here, we focus on creating new columns for:\n",
    "1. RiverBound - using the column CHAS\n",
    "2. NewRAD - using the column RAD\n",
    "3. TaxSlab - using the column Tax"
   ]
  },
  {
   "cell_type": "markdown",
   "id": "0c3cdada",
   "metadata": {},
   "source": [
    "##### 4.2.1 RiverBound - using the column CHAS"
   ]
  },
  {
   "cell_type": "markdown",
   "id": "c16563b3",
   "metadata": {},
   "source": [
    "The column RiverBound consists of two variables - Yes or No based on the column - CHAS. If CHAS value is 1, then RiverBound is Yes; else No."
   ]
  },
  {
   "cell_type": "code",
   "execution_count": 35,
   "id": "b6afbd38",
   "metadata": {},
   "outputs": [],
   "source": [
    "### Fetching the data - CHAS\n",
    "\n",
    "chas_data = list(dataset['CHAS'])\n",
    "\n",
    "### Creating new column - RiverBound\n",
    "\n",
    "river_bound = []\n",
    "for value in chas_data:\n",
    "    if value == 1:\n",
    "        river_bound.append('Yes')\n",
    "    else:\n",
    "        river_bound.append('No')"
   ]
  },
  {
   "cell_type": "code",
   "execution_count": 36,
   "id": "9d3d980f",
   "metadata": {},
   "outputs": [
    {
     "data": {
      "text/html": [
       "<div>\n",
       "<style scoped>\n",
       "    .dataframe tbody tr th:only-of-type {\n",
       "        vertical-align: middle;\n",
       "    }\n",
       "\n",
       "    .dataframe tbody tr th {\n",
       "        vertical-align: top;\n",
       "    }\n",
       "\n",
       "    .dataframe thead th {\n",
       "        text-align: right;\n",
       "    }\n",
       "</style>\n",
       "<table border=\"1\" class=\"dataframe\">\n",
       "  <thead>\n",
       "    <tr style=\"text-align: right;\">\n",
       "      <th></th>\n",
       "      <th>CRIM</th>\n",
       "      <th>ZN</th>\n",
       "      <th>INDUS</th>\n",
       "      <th>CHAS</th>\n",
       "      <th>NOX</th>\n",
       "      <th>RM</th>\n",
       "      <th>AGE</th>\n",
       "      <th>DIS</th>\n",
       "      <th>RAD</th>\n",
       "      <th>TAX</th>\n",
       "      <th>PTRATIO</th>\n",
       "      <th>B</th>\n",
       "      <th>LSTAT</th>\n",
       "      <th>MEDV</th>\n",
       "      <th>RiverBound</th>\n",
       "    </tr>\n",
       "  </thead>\n",
       "  <tbody>\n",
       "    <tr>\n",
       "      <th>0</th>\n",
       "      <td>0.00632</td>\n",
       "      <td>18.0</td>\n",
       "      <td>2.31</td>\n",
       "      <td>0</td>\n",
       "      <td>0.538</td>\n",
       "      <td>6.575</td>\n",
       "      <td>65.2</td>\n",
       "      <td>4.0900</td>\n",
       "      <td>1</td>\n",
       "      <td>296.0</td>\n",
       "      <td>15.3</td>\n",
       "      <td>396.90</td>\n",
       "      <td>4.98</td>\n",
       "      <td>24.0</td>\n",
       "      <td>No</td>\n",
       "    </tr>\n",
       "    <tr>\n",
       "      <th>1</th>\n",
       "      <td>0.02731</td>\n",
       "      <td>0.0</td>\n",
       "      <td>7.07</td>\n",
       "      <td>0</td>\n",
       "      <td>0.469</td>\n",
       "      <td>6.421</td>\n",
       "      <td>78.9</td>\n",
       "      <td>4.9671</td>\n",
       "      <td>2</td>\n",
       "      <td>242.0</td>\n",
       "      <td>17.8</td>\n",
       "      <td>396.90</td>\n",
       "      <td>9.14</td>\n",
       "      <td>21.6</td>\n",
       "      <td>No</td>\n",
       "    </tr>\n",
       "    <tr>\n",
       "      <th>2</th>\n",
       "      <td>0.02729</td>\n",
       "      <td>0.0</td>\n",
       "      <td>7.07</td>\n",
       "      <td>0</td>\n",
       "      <td>0.469</td>\n",
       "      <td>7.185</td>\n",
       "      <td>61.1</td>\n",
       "      <td>4.9671</td>\n",
       "      <td>2</td>\n",
       "      <td>242.0</td>\n",
       "      <td>17.8</td>\n",
       "      <td>392.83</td>\n",
       "      <td>4.03</td>\n",
       "      <td>34.7</td>\n",
       "      <td>No</td>\n",
       "    </tr>\n",
       "    <tr>\n",
       "      <th>3</th>\n",
       "      <td>0.03237</td>\n",
       "      <td>0.0</td>\n",
       "      <td>2.18</td>\n",
       "      <td>0</td>\n",
       "      <td>0.458</td>\n",
       "      <td>6.998</td>\n",
       "      <td>45.8</td>\n",
       "      <td>6.0622</td>\n",
       "      <td>3</td>\n",
       "      <td>222.0</td>\n",
       "      <td>18.7</td>\n",
       "      <td>394.63</td>\n",
       "      <td>2.94</td>\n",
       "      <td>33.4</td>\n",
       "      <td>No</td>\n",
       "    </tr>\n",
       "    <tr>\n",
       "      <th>4</th>\n",
       "      <td>0.06905</td>\n",
       "      <td>0.0</td>\n",
       "      <td>2.18</td>\n",
       "      <td>0</td>\n",
       "      <td>0.458</td>\n",
       "      <td>7.147</td>\n",
       "      <td>54.2</td>\n",
       "      <td>6.0622</td>\n",
       "      <td>3</td>\n",
       "      <td>222.0</td>\n",
       "      <td>18.7</td>\n",
       "      <td>396.90</td>\n",
       "      <td>5.33</td>\n",
       "      <td>36.2</td>\n",
       "      <td>No</td>\n",
       "    </tr>\n",
       "    <tr>\n",
       "      <th>...</th>\n",
       "      <td>...</td>\n",
       "      <td>...</td>\n",
       "      <td>...</td>\n",
       "      <td>...</td>\n",
       "      <td>...</td>\n",
       "      <td>...</td>\n",
       "      <td>...</td>\n",
       "      <td>...</td>\n",
       "      <td>...</td>\n",
       "      <td>...</td>\n",
       "      <td>...</td>\n",
       "      <td>...</td>\n",
       "      <td>...</td>\n",
       "      <td>...</td>\n",
       "      <td>...</td>\n",
       "    </tr>\n",
       "    <tr>\n",
       "      <th>488</th>\n",
       "      <td>0.06263</td>\n",
       "      <td>0.0</td>\n",
       "      <td>11.93</td>\n",
       "      <td>0</td>\n",
       "      <td>0.573</td>\n",
       "      <td>6.593</td>\n",
       "      <td>69.1</td>\n",
       "      <td>2.4786</td>\n",
       "      <td>1</td>\n",
       "      <td>273.0</td>\n",
       "      <td>21.0</td>\n",
       "      <td>391.99</td>\n",
       "      <td>9.67</td>\n",
       "      <td>22.4</td>\n",
       "      <td>No</td>\n",
       "    </tr>\n",
       "    <tr>\n",
       "      <th>489</th>\n",
       "      <td>0.04527</td>\n",
       "      <td>0.0</td>\n",
       "      <td>11.93</td>\n",
       "      <td>0</td>\n",
       "      <td>0.573</td>\n",
       "      <td>6.120</td>\n",
       "      <td>76.7</td>\n",
       "      <td>2.2875</td>\n",
       "      <td>1</td>\n",
       "      <td>273.0</td>\n",
       "      <td>21.0</td>\n",
       "      <td>396.90</td>\n",
       "      <td>9.08</td>\n",
       "      <td>20.6</td>\n",
       "      <td>No</td>\n",
       "    </tr>\n",
       "    <tr>\n",
       "      <th>490</th>\n",
       "      <td>0.06076</td>\n",
       "      <td>0.0</td>\n",
       "      <td>11.93</td>\n",
       "      <td>0</td>\n",
       "      <td>0.573</td>\n",
       "      <td>6.976</td>\n",
       "      <td>91.0</td>\n",
       "      <td>2.1675</td>\n",
       "      <td>1</td>\n",
       "      <td>273.0</td>\n",
       "      <td>21.0</td>\n",
       "      <td>396.90</td>\n",
       "      <td>5.64</td>\n",
       "      <td>23.9</td>\n",
       "      <td>No</td>\n",
       "    </tr>\n",
       "    <tr>\n",
       "      <th>491</th>\n",
       "      <td>0.10959</td>\n",
       "      <td>0.0</td>\n",
       "      <td>11.93</td>\n",
       "      <td>0</td>\n",
       "      <td>0.573</td>\n",
       "      <td>6.794</td>\n",
       "      <td>89.3</td>\n",
       "      <td>2.3889</td>\n",
       "      <td>1</td>\n",
       "      <td>273.0</td>\n",
       "      <td>21.0</td>\n",
       "      <td>393.45</td>\n",
       "      <td>6.48</td>\n",
       "      <td>22.0</td>\n",
       "      <td>No</td>\n",
       "    </tr>\n",
       "    <tr>\n",
       "      <th>492</th>\n",
       "      <td>0.04741</td>\n",
       "      <td>0.0</td>\n",
       "      <td>11.93</td>\n",
       "      <td>0</td>\n",
       "      <td>0.573</td>\n",
       "      <td>6.030</td>\n",
       "      <td>80.8</td>\n",
       "      <td>2.5050</td>\n",
       "      <td>1</td>\n",
       "      <td>273.0</td>\n",
       "      <td>21.0</td>\n",
       "      <td>396.90</td>\n",
       "      <td>7.88</td>\n",
       "      <td>11.9</td>\n",
       "      <td>No</td>\n",
       "    </tr>\n",
       "  </tbody>\n",
       "</table>\n",
       "<p>493 rows × 15 columns</p>\n",
       "</div>"
      ],
      "text/plain": [
       "        CRIM    ZN  INDUS CHAS    NOX     RM   AGE     DIS RAD    TAX  \\\n",
       "0    0.00632  18.0   2.31    0  0.538  6.575  65.2  4.0900   1  296.0   \n",
       "1    0.02731   0.0   7.07    0  0.469  6.421  78.9  4.9671   2  242.0   \n",
       "2    0.02729   0.0   7.07    0  0.469  7.185  61.1  4.9671   2  242.0   \n",
       "3    0.03237   0.0   2.18    0  0.458  6.998  45.8  6.0622   3  222.0   \n",
       "4    0.06905   0.0   2.18    0  0.458  7.147  54.2  6.0622   3  222.0   \n",
       "..       ...   ...    ...  ...    ...    ...   ...     ...  ..    ...   \n",
       "488  0.06263   0.0  11.93    0  0.573  6.593  69.1  2.4786   1  273.0   \n",
       "489  0.04527   0.0  11.93    0  0.573  6.120  76.7  2.2875   1  273.0   \n",
       "490  0.06076   0.0  11.93    0  0.573  6.976  91.0  2.1675   1  273.0   \n",
       "491  0.10959   0.0  11.93    0  0.573  6.794  89.3  2.3889   1  273.0   \n",
       "492  0.04741   0.0  11.93    0  0.573  6.030  80.8  2.5050   1  273.0   \n",
       "\n",
       "     PTRATIO       B  LSTAT  MEDV RiverBound  \n",
       "0       15.3  396.90   4.98  24.0         No  \n",
       "1       17.8  396.90   9.14  21.6         No  \n",
       "2       17.8  392.83   4.03  34.7         No  \n",
       "3       18.7  394.63   2.94  33.4         No  \n",
       "4       18.7  396.90   5.33  36.2         No  \n",
       "..       ...     ...    ...   ...        ...  \n",
       "488     21.0  391.99   9.67  22.4         No  \n",
       "489     21.0  396.90   9.08  20.6         No  \n",
       "490     21.0  396.90   5.64  23.9         No  \n",
       "491     21.0  393.45   6.48  22.0         No  \n",
       "492     21.0  396.90   7.88  11.9         No  \n",
       "\n",
       "[493 rows x 15 columns]"
      ]
     },
     "execution_count": 36,
     "metadata": {},
     "output_type": "execute_result"
    }
   ],
   "source": [
    "### Adding the river_bound data to RiverBound column of the dataset\n",
    "\n",
    "dataset['RiverBound'] = river_bound\n",
    "dataset"
   ]
  },
  {
   "cell_type": "code",
   "execution_count": 37,
   "id": "55714993",
   "metadata": {},
   "outputs": [
    {
     "data": {
      "text/html": [
       "<div>\n",
       "<style scoped>\n",
       "    .dataframe tbody tr th:only-of-type {\n",
       "        vertical-align: middle;\n",
       "    }\n",
       "\n",
       "    .dataframe tbody tr th {\n",
       "        vertical-align: top;\n",
       "    }\n",
       "\n",
       "    .dataframe thead th {\n",
       "        text-align: right;\n",
       "    }\n",
       "</style>\n",
       "<table border=\"1\" class=\"dataframe\">\n",
       "  <thead>\n",
       "    <tr style=\"text-align: right;\">\n",
       "      <th></th>\n",
       "      <th>CRIM</th>\n",
       "      <th>ZN</th>\n",
       "      <th>INDUS</th>\n",
       "      <th>NOX</th>\n",
       "      <th>RM</th>\n",
       "      <th>AGE</th>\n",
       "      <th>DIS</th>\n",
       "      <th>RAD</th>\n",
       "      <th>TAX</th>\n",
       "      <th>PTRATIO</th>\n",
       "      <th>B</th>\n",
       "      <th>LSTAT</th>\n",
       "      <th>MEDV</th>\n",
       "      <th>RiverBound</th>\n",
       "    </tr>\n",
       "  </thead>\n",
       "  <tbody>\n",
       "    <tr>\n",
       "      <th>0</th>\n",
       "      <td>0.00632</td>\n",
       "      <td>18.0</td>\n",
       "      <td>2.31</td>\n",
       "      <td>0.538</td>\n",
       "      <td>6.575</td>\n",
       "      <td>65.2</td>\n",
       "      <td>4.0900</td>\n",
       "      <td>1</td>\n",
       "      <td>296.0</td>\n",
       "      <td>15.3</td>\n",
       "      <td>396.90</td>\n",
       "      <td>4.98</td>\n",
       "      <td>24.0</td>\n",
       "      <td>No</td>\n",
       "    </tr>\n",
       "    <tr>\n",
       "      <th>1</th>\n",
       "      <td>0.02731</td>\n",
       "      <td>0.0</td>\n",
       "      <td>7.07</td>\n",
       "      <td>0.469</td>\n",
       "      <td>6.421</td>\n",
       "      <td>78.9</td>\n",
       "      <td>4.9671</td>\n",
       "      <td>2</td>\n",
       "      <td>242.0</td>\n",
       "      <td>17.8</td>\n",
       "      <td>396.90</td>\n",
       "      <td>9.14</td>\n",
       "      <td>21.6</td>\n",
       "      <td>No</td>\n",
       "    </tr>\n",
       "    <tr>\n",
       "      <th>2</th>\n",
       "      <td>0.02729</td>\n",
       "      <td>0.0</td>\n",
       "      <td>7.07</td>\n",
       "      <td>0.469</td>\n",
       "      <td>7.185</td>\n",
       "      <td>61.1</td>\n",
       "      <td>4.9671</td>\n",
       "      <td>2</td>\n",
       "      <td>242.0</td>\n",
       "      <td>17.8</td>\n",
       "      <td>392.83</td>\n",
       "      <td>4.03</td>\n",
       "      <td>34.7</td>\n",
       "      <td>No</td>\n",
       "    </tr>\n",
       "    <tr>\n",
       "      <th>3</th>\n",
       "      <td>0.03237</td>\n",
       "      <td>0.0</td>\n",
       "      <td>2.18</td>\n",
       "      <td>0.458</td>\n",
       "      <td>6.998</td>\n",
       "      <td>45.8</td>\n",
       "      <td>6.0622</td>\n",
       "      <td>3</td>\n",
       "      <td>222.0</td>\n",
       "      <td>18.7</td>\n",
       "      <td>394.63</td>\n",
       "      <td>2.94</td>\n",
       "      <td>33.4</td>\n",
       "      <td>No</td>\n",
       "    </tr>\n",
       "    <tr>\n",
       "      <th>4</th>\n",
       "      <td>0.06905</td>\n",
       "      <td>0.0</td>\n",
       "      <td>2.18</td>\n",
       "      <td>0.458</td>\n",
       "      <td>7.147</td>\n",
       "      <td>54.2</td>\n",
       "      <td>6.0622</td>\n",
       "      <td>3</td>\n",
       "      <td>222.0</td>\n",
       "      <td>18.7</td>\n",
       "      <td>396.90</td>\n",
       "      <td>5.33</td>\n",
       "      <td>36.2</td>\n",
       "      <td>No</td>\n",
       "    </tr>\n",
       "    <tr>\n",
       "      <th>...</th>\n",
       "      <td>...</td>\n",
       "      <td>...</td>\n",
       "      <td>...</td>\n",
       "      <td>...</td>\n",
       "      <td>...</td>\n",
       "      <td>...</td>\n",
       "      <td>...</td>\n",
       "      <td>...</td>\n",
       "      <td>...</td>\n",
       "      <td>...</td>\n",
       "      <td>...</td>\n",
       "      <td>...</td>\n",
       "      <td>...</td>\n",
       "      <td>...</td>\n",
       "    </tr>\n",
       "    <tr>\n",
       "      <th>488</th>\n",
       "      <td>0.06263</td>\n",
       "      <td>0.0</td>\n",
       "      <td>11.93</td>\n",
       "      <td>0.573</td>\n",
       "      <td>6.593</td>\n",
       "      <td>69.1</td>\n",
       "      <td>2.4786</td>\n",
       "      <td>1</td>\n",
       "      <td>273.0</td>\n",
       "      <td>21.0</td>\n",
       "      <td>391.99</td>\n",
       "      <td>9.67</td>\n",
       "      <td>22.4</td>\n",
       "      <td>No</td>\n",
       "    </tr>\n",
       "    <tr>\n",
       "      <th>489</th>\n",
       "      <td>0.04527</td>\n",
       "      <td>0.0</td>\n",
       "      <td>11.93</td>\n",
       "      <td>0.573</td>\n",
       "      <td>6.120</td>\n",
       "      <td>76.7</td>\n",
       "      <td>2.2875</td>\n",
       "      <td>1</td>\n",
       "      <td>273.0</td>\n",
       "      <td>21.0</td>\n",
       "      <td>396.90</td>\n",
       "      <td>9.08</td>\n",
       "      <td>20.6</td>\n",
       "      <td>No</td>\n",
       "    </tr>\n",
       "    <tr>\n",
       "      <th>490</th>\n",
       "      <td>0.06076</td>\n",
       "      <td>0.0</td>\n",
       "      <td>11.93</td>\n",
       "      <td>0.573</td>\n",
       "      <td>6.976</td>\n",
       "      <td>91.0</td>\n",
       "      <td>2.1675</td>\n",
       "      <td>1</td>\n",
       "      <td>273.0</td>\n",
       "      <td>21.0</td>\n",
       "      <td>396.90</td>\n",
       "      <td>5.64</td>\n",
       "      <td>23.9</td>\n",
       "      <td>No</td>\n",
       "    </tr>\n",
       "    <tr>\n",
       "      <th>491</th>\n",
       "      <td>0.10959</td>\n",
       "      <td>0.0</td>\n",
       "      <td>11.93</td>\n",
       "      <td>0.573</td>\n",
       "      <td>6.794</td>\n",
       "      <td>89.3</td>\n",
       "      <td>2.3889</td>\n",
       "      <td>1</td>\n",
       "      <td>273.0</td>\n",
       "      <td>21.0</td>\n",
       "      <td>393.45</td>\n",
       "      <td>6.48</td>\n",
       "      <td>22.0</td>\n",
       "      <td>No</td>\n",
       "    </tr>\n",
       "    <tr>\n",
       "      <th>492</th>\n",
       "      <td>0.04741</td>\n",
       "      <td>0.0</td>\n",
       "      <td>11.93</td>\n",
       "      <td>0.573</td>\n",
       "      <td>6.030</td>\n",
       "      <td>80.8</td>\n",
       "      <td>2.5050</td>\n",
       "      <td>1</td>\n",
       "      <td>273.0</td>\n",
       "      <td>21.0</td>\n",
       "      <td>396.90</td>\n",
       "      <td>7.88</td>\n",
       "      <td>11.9</td>\n",
       "      <td>No</td>\n",
       "    </tr>\n",
       "  </tbody>\n",
       "</table>\n",
       "<p>493 rows × 14 columns</p>\n",
       "</div>"
      ],
      "text/plain": [
       "        CRIM    ZN  INDUS    NOX     RM   AGE     DIS RAD    TAX  PTRATIO  \\\n",
       "0    0.00632  18.0   2.31  0.538  6.575  65.2  4.0900   1  296.0     15.3   \n",
       "1    0.02731   0.0   7.07  0.469  6.421  78.9  4.9671   2  242.0     17.8   \n",
       "2    0.02729   0.0   7.07  0.469  7.185  61.1  4.9671   2  242.0     17.8   \n",
       "3    0.03237   0.0   2.18  0.458  6.998  45.8  6.0622   3  222.0     18.7   \n",
       "4    0.06905   0.0   2.18  0.458  7.147  54.2  6.0622   3  222.0     18.7   \n",
       "..       ...   ...    ...    ...    ...   ...     ...  ..    ...      ...   \n",
       "488  0.06263   0.0  11.93  0.573  6.593  69.1  2.4786   1  273.0     21.0   \n",
       "489  0.04527   0.0  11.93  0.573  6.120  76.7  2.2875   1  273.0     21.0   \n",
       "490  0.06076   0.0  11.93  0.573  6.976  91.0  2.1675   1  273.0     21.0   \n",
       "491  0.10959   0.0  11.93  0.573  6.794  89.3  2.3889   1  273.0     21.0   \n",
       "492  0.04741   0.0  11.93  0.573  6.030  80.8  2.5050   1  273.0     21.0   \n",
       "\n",
       "          B  LSTAT  MEDV RiverBound  \n",
       "0    396.90   4.98  24.0         No  \n",
       "1    396.90   9.14  21.6         No  \n",
       "2    392.83   4.03  34.7         No  \n",
       "3    394.63   2.94  33.4         No  \n",
       "4    396.90   5.33  36.2         No  \n",
       "..      ...    ...   ...        ...  \n",
       "488  391.99   9.67  22.4         No  \n",
       "489  396.90   9.08  20.6         No  \n",
       "490  396.90   5.64  23.9         No  \n",
       "491  393.45   6.48  22.0         No  \n",
       "492  396.90   7.88  11.9         No  \n",
       "\n",
       "[493 rows x 14 columns]"
      ]
     },
     "execution_count": 37,
     "metadata": {},
     "output_type": "execute_result"
    }
   ],
   "source": [
    "### Dropping the column - CHAS from the dataset\n",
    "\n",
    "dataset.drop(['CHAS'], axis = 1, inplace = True)\n",
    "dataset"
   ]
  },
  {
   "cell_type": "markdown",
   "id": "7c60c825",
   "metadata": {},
   "source": [
    "##### 4.2.2 NewRAD - using the column RAD"
   ]
  },
  {
   "cell_type": "markdown",
   "id": "c0917312",
   "metadata": {},
   "source": [
    "Here, we will modify the RAD column to 2 new classes. One belonging to RAD value 24 and other belonging to remaining all RAD values."
   ]
  },
  {
   "cell_type": "code",
   "execution_count": 38,
   "id": "85bd2563",
   "metadata": {},
   "outputs": [],
   "source": [
    "### Fetching the data - RAD\n",
    "\n",
    "rad_data = list(dataset['RAD'])\n",
    "\n",
    "### Creating new column - NewRAD\n",
    "\n",
    "new_rad = []\n",
    "for value in rad_data:\n",
    "    if value == 24:\n",
    "        new_rad.append(1)\n",
    "    else:\n",
    "        new_rad.append(2)"
   ]
  },
  {
   "cell_type": "code",
   "execution_count": 39,
   "id": "3fd8f796",
   "metadata": {},
   "outputs": [
    {
     "data": {
      "text/html": [
       "<div>\n",
       "<style scoped>\n",
       "    .dataframe tbody tr th:only-of-type {\n",
       "        vertical-align: middle;\n",
       "    }\n",
       "\n",
       "    .dataframe tbody tr th {\n",
       "        vertical-align: top;\n",
       "    }\n",
       "\n",
       "    .dataframe thead th {\n",
       "        text-align: right;\n",
       "    }\n",
       "</style>\n",
       "<table border=\"1\" class=\"dataframe\">\n",
       "  <thead>\n",
       "    <tr style=\"text-align: right;\">\n",
       "      <th></th>\n",
       "      <th>CRIM</th>\n",
       "      <th>ZN</th>\n",
       "      <th>INDUS</th>\n",
       "      <th>NOX</th>\n",
       "      <th>RM</th>\n",
       "      <th>AGE</th>\n",
       "      <th>DIS</th>\n",
       "      <th>RAD</th>\n",
       "      <th>TAX</th>\n",
       "      <th>PTRATIO</th>\n",
       "      <th>B</th>\n",
       "      <th>LSTAT</th>\n",
       "      <th>MEDV</th>\n",
       "      <th>RiverBound</th>\n",
       "      <th>NewRAD</th>\n",
       "    </tr>\n",
       "  </thead>\n",
       "  <tbody>\n",
       "    <tr>\n",
       "      <th>0</th>\n",
       "      <td>0.00632</td>\n",
       "      <td>18.0</td>\n",
       "      <td>2.31</td>\n",
       "      <td>0.538</td>\n",
       "      <td>6.575</td>\n",
       "      <td>65.2</td>\n",
       "      <td>4.0900</td>\n",
       "      <td>1</td>\n",
       "      <td>296.0</td>\n",
       "      <td>15.3</td>\n",
       "      <td>396.90</td>\n",
       "      <td>4.98</td>\n",
       "      <td>24.0</td>\n",
       "      <td>No</td>\n",
       "      <td>2</td>\n",
       "    </tr>\n",
       "    <tr>\n",
       "      <th>1</th>\n",
       "      <td>0.02731</td>\n",
       "      <td>0.0</td>\n",
       "      <td>7.07</td>\n",
       "      <td>0.469</td>\n",
       "      <td>6.421</td>\n",
       "      <td>78.9</td>\n",
       "      <td>4.9671</td>\n",
       "      <td>2</td>\n",
       "      <td>242.0</td>\n",
       "      <td>17.8</td>\n",
       "      <td>396.90</td>\n",
       "      <td>9.14</td>\n",
       "      <td>21.6</td>\n",
       "      <td>No</td>\n",
       "      <td>2</td>\n",
       "    </tr>\n",
       "    <tr>\n",
       "      <th>2</th>\n",
       "      <td>0.02729</td>\n",
       "      <td>0.0</td>\n",
       "      <td>7.07</td>\n",
       "      <td>0.469</td>\n",
       "      <td>7.185</td>\n",
       "      <td>61.1</td>\n",
       "      <td>4.9671</td>\n",
       "      <td>2</td>\n",
       "      <td>242.0</td>\n",
       "      <td>17.8</td>\n",
       "      <td>392.83</td>\n",
       "      <td>4.03</td>\n",
       "      <td>34.7</td>\n",
       "      <td>No</td>\n",
       "      <td>2</td>\n",
       "    </tr>\n",
       "    <tr>\n",
       "      <th>3</th>\n",
       "      <td>0.03237</td>\n",
       "      <td>0.0</td>\n",
       "      <td>2.18</td>\n",
       "      <td>0.458</td>\n",
       "      <td>6.998</td>\n",
       "      <td>45.8</td>\n",
       "      <td>6.0622</td>\n",
       "      <td>3</td>\n",
       "      <td>222.0</td>\n",
       "      <td>18.7</td>\n",
       "      <td>394.63</td>\n",
       "      <td>2.94</td>\n",
       "      <td>33.4</td>\n",
       "      <td>No</td>\n",
       "      <td>2</td>\n",
       "    </tr>\n",
       "    <tr>\n",
       "      <th>4</th>\n",
       "      <td>0.06905</td>\n",
       "      <td>0.0</td>\n",
       "      <td>2.18</td>\n",
       "      <td>0.458</td>\n",
       "      <td>7.147</td>\n",
       "      <td>54.2</td>\n",
       "      <td>6.0622</td>\n",
       "      <td>3</td>\n",
       "      <td>222.0</td>\n",
       "      <td>18.7</td>\n",
       "      <td>396.90</td>\n",
       "      <td>5.33</td>\n",
       "      <td>36.2</td>\n",
       "      <td>No</td>\n",
       "      <td>2</td>\n",
       "    </tr>\n",
       "    <tr>\n",
       "      <th>...</th>\n",
       "      <td>...</td>\n",
       "      <td>...</td>\n",
       "      <td>...</td>\n",
       "      <td>...</td>\n",
       "      <td>...</td>\n",
       "      <td>...</td>\n",
       "      <td>...</td>\n",
       "      <td>...</td>\n",
       "      <td>...</td>\n",
       "      <td>...</td>\n",
       "      <td>...</td>\n",
       "      <td>...</td>\n",
       "      <td>...</td>\n",
       "      <td>...</td>\n",
       "      <td>...</td>\n",
       "    </tr>\n",
       "    <tr>\n",
       "      <th>488</th>\n",
       "      <td>0.06263</td>\n",
       "      <td>0.0</td>\n",
       "      <td>11.93</td>\n",
       "      <td>0.573</td>\n",
       "      <td>6.593</td>\n",
       "      <td>69.1</td>\n",
       "      <td>2.4786</td>\n",
       "      <td>1</td>\n",
       "      <td>273.0</td>\n",
       "      <td>21.0</td>\n",
       "      <td>391.99</td>\n",
       "      <td>9.67</td>\n",
       "      <td>22.4</td>\n",
       "      <td>No</td>\n",
       "      <td>2</td>\n",
       "    </tr>\n",
       "    <tr>\n",
       "      <th>489</th>\n",
       "      <td>0.04527</td>\n",
       "      <td>0.0</td>\n",
       "      <td>11.93</td>\n",
       "      <td>0.573</td>\n",
       "      <td>6.120</td>\n",
       "      <td>76.7</td>\n",
       "      <td>2.2875</td>\n",
       "      <td>1</td>\n",
       "      <td>273.0</td>\n",
       "      <td>21.0</td>\n",
       "      <td>396.90</td>\n",
       "      <td>9.08</td>\n",
       "      <td>20.6</td>\n",
       "      <td>No</td>\n",
       "      <td>2</td>\n",
       "    </tr>\n",
       "    <tr>\n",
       "      <th>490</th>\n",
       "      <td>0.06076</td>\n",
       "      <td>0.0</td>\n",
       "      <td>11.93</td>\n",
       "      <td>0.573</td>\n",
       "      <td>6.976</td>\n",
       "      <td>91.0</td>\n",
       "      <td>2.1675</td>\n",
       "      <td>1</td>\n",
       "      <td>273.0</td>\n",
       "      <td>21.0</td>\n",
       "      <td>396.90</td>\n",
       "      <td>5.64</td>\n",
       "      <td>23.9</td>\n",
       "      <td>No</td>\n",
       "      <td>2</td>\n",
       "    </tr>\n",
       "    <tr>\n",
       "      <th>491</th>\n",
       "      <td>0.10959</td>\n",
       "      <td>0.0</td>\n",
       "      <td>11.93</td>\n",
       "      <td>0.573</td>\n",
       "      <td>6.794</td>\n",
       "      <td>89.3</td>\n",
       "      <td>2.3889</td>\n",
       "      <td>1</td>\n",
       "      <td>273.0</td>\n",
       "      <td>21.0</td>\n",
       "      <td>393.45</td>\n",
       "      <td>6.48</td>\n",
       "      <td>22.0</td>\n",
       "      <td>No</td>\n",
       "      <td>2</td>\n",
       "    </tr>\n",
       "    <tr>\n",
       "      <th>492</th>\n",
       "      <td>0.04741</td>\n",
       "      <td>0.0</td>\n",
       "      <td>11.93</td>\n",
       "      <td>0.573</td>\n",
       "      <td>6.030</td>\n",
       "      <td>80.8</td>\n",
       "      <td>2.5050</td>\n",
       "      <td>1</td>\n",
       "      <td>273.0</td>\n",
       "      <td>21.0</td>\n",
       "      <td>396.90</td>\n",
       "      <td>7.88</td>\n",
       "      <td>11.9</td>\n",
       "      <td>No</td>\n",
       "      <td>2</td>\n",
       "    </tr>\n",
       "  </tbody>\n",
       "</table>\n",
       "<p>493 rows × 15 columns</p>\n",
       "</div>"
      ],
      "text/plain": [
       "        CRIM    ZN  INDUS    NOX     RM   AGE     DIS RAD    TAX  PTRATIO  \\\n",
       "0    0.00632  18.0   2.31  0.538  6.575  65.2  4.0900   1  296.0     15.3   \n",
       "1    0.02731   0.0   7.07  0.469  6.421  78.9  4.9671   2  242.0     17.8   \n",
       "2    0.02729   0.0   7.07  0.469  7.185  61.1  4.9671   2  242.0     17.8   \n",
       "3    0.03237   0.0   2.18  0.458  6.998  45.8  6.0622   3  222.0     18.7   \n",
       "4    0.06905   0.0   2.18  0.458  7.147  54.2  6.0622   3  222.0     18.7   \n",
       "..       ...   ...    ...    ...    ...   ...     ...  ..    ...      ...   \n",
       "488  0.06263   0.0  11.93  0.573  6.593  69.1  2.4786   1  273.0     21.0   \n",
       "489  0.04527   0.0  11.93  0.573  6.120  76.7  2.2875   1  273.0     21.0   \n",
       "490  0.06076   0.0  11.93  0.573  6.976  91.0  2.1675   1  273.0     21.0   \n",
       "491  0.10959   0.0  11.93  0.573  6.794  89.3  2.3889   1  273.0     21.0   \n",
       "492  0.04741   0.0  11.93  0.573  6.030  80.8  2.5050   1  273.0     21.0   \n",
       "\n",
       "          B  LSTAT  MEDV RiverBound  NewRAD  \n",
       "0    396.90   4.98  24.0         No       2  \n",
       "1    396.90   9.14  21.6         No       2  \n",
       "2    392.83   4.03  34.7         No       2  \n",
       "3    394.63   2.94  33.4         No       2  \n",
       "4    396.90   5.33  36.2         No       2  \n",
       "..      ...    ...   ...        ...     ...  \n",
       "488  391.99   9.67  22.4         No       2  \n",
       "489  396.90   9.08  20.6         No       2  \n",
       "490  396.90   5.64  23.9         No       2  \n",
       "491  393.45   6.48  22.0         No       2  \n",
       "492  396.90   7.88  11.9         No       2  \n",
       "\n",
       "[493 rows x 15 columns]"
      ]
     },
     "execution_count": 39,
     "metadata": {},
     "output_type": "execute_result"
    }
   ],
   "source": [
    "### Adding the new_rad data to NewRAD column of the dataset\n",
    "\n",
    "dataset['NewRAD'] = new_rad\n",
    "dataset"
   ]
  },
  {
   "cell_type": "code",
   "execution_count": 40,
   "id": "dbef7048",
   "metadata": {},
   "outputs": [
    {
     "data": {
      "text/html": [
       "<div>\n",
       "<style scoped>\n",
       "    .dataframe tbody tr th:only-of-type {\n",
       "        vertical-align: middle;\n",
       "    }\n",
       "\n",
       "    .dataframe tbody tr th {\n",
       "        vertical-align: top;\n",
       "    }\n",
       "\n",
       "    .dataframe thead th {\n",
       "        text-align: right;\n",
       "    }\n",
       "</style>\n",
       "<table border=\"1\" class=\"dataframe\">\n",
       "  <thead>\n",
       "    <tr style=\"text-align: right;\">\n",
       "      <th></th>\n",
       "      <th>CRIM</th>\n",
       "      <th>ZN</th>\n",
       "      <th>INDUS</th>\n",
       "      <th>NOX</th>\n",
       "      <th>RM</th>\n",
       "      <th>AGE</th>\n",
       "      <th>DIS</th>\n",
       "      <th>TAX</th>\n",
       "      <th>PTRATIO</th>\n",
       "      <th>B</th>\n",
       "      <th>LSTAT</th>\n",
       "      <th>MEDV</th>\n",
       "      <th>RiverBound</th>\n",
       "      <th>NewRAD</th>\n",
       "    </tr>\n",
       "  </thead>\n",
       "  <tbody>\n",
       "    <tr>\n",
       "      <th>0</th>\n",
       "      <td>0.00632</td>\n",
       "      <td>18.0</td>\n",
       "      <td>2.31</td>\n",
       "      <td>0.538</td>\n",
       "      <td>6.575</td>\n",
       "      <td>65.2</td>\n",
       "      <td>4.0900</td>\n",
       "      <td>296.0</td>\n",
       "      <td>15.3</td>\n",
       "      <td>396.90</td>\n",
       "      <td>4.98</td>\n",
       "      <td>24.0</td>\n",
       "      <td>No</td>\n",
       "      <td>2</td>\n",
       "    </tr>\n",
       "    <tr>\n",
       "      <th>1</th>\n",
       "      <td>0.02731</td>\n",
       "      <td>0.0</td>\n",
       "      <td>7.07</td>\n",
       "      <td>0.469</td>\n",
       "      <td>6.421</td>\n",
       "      <td>78.9</td>\n",
       "      <td>4.9671</td>\n",
       "      <td>242.0</td>\n",
       "      <td>17.8</td>\n",
       "      <td>396.90</td>\n",
       "      <td>9.14</td>\n",
       "      <td>21.6</td>\n",
       "      <td>No</td>\n",
       "      <td>2</td>\n",
       "    </tr>\n",
       "    <tr>\n",
       "      <th>2</th>\n",
       "      <td>0.02729</td>\n",
       "      <td>0.0</td>\n",
       "      <td>7.07</td>\n",
       "      <td>0.469</td>\n",
       "      <td>7.185</td>\n",
       "      <td>61.1</td>\n",
       "      <td>4.9671</td>\n",
       "      <td>242.0</td>\n",
       "      <td>17.8</td>\n",
       "      <td>392.83</td>\n",
       "      <td>4.03</td>\n",
       "      <td>34.7</td>\n",
       "      <td>No</td>\n",
       "      <td>2</td>\n",
       "    </tr>\n",
       "    <tr>\n",
       "      <th>3</th>\n",
       "      <td>0.03237</td>\n",
       "      <td>0.0</td>\n",
       "      <td>2.18</td>\n",
       "      <td>0.458</td>\n",
       "      <td>6.998</td>\n",
       "      <td>45.8</td>\n",
       "      <td>6.0622</td>\n",
       "      <td>222.0</td>\n",
       "      <td>18.7</td>\n",
       "      <td>394.63</td>\n",
       "      <td>2.94</td>\n",
       "      <td>33.4</td>\n",
       "      <td>No</td>\n",
       "      <td>2</td>\n",
       "    </tr>\n",
       "    <tr>\n",
       "      <th>4</th>\n",
       "      <td>0.06905</td>\n",
       "      <td>0.0</td>\n",
       "      <td>2.18</td>\n",
       "      <td>0.458</td>\n",
       "      <td>7.147</td>\n",
       "      <td>54.2</td>\n",
       "      <td>6.0622</td>\n",
       "      <td>222.0</td>\n",
       "      <td>18.7</td>\n",
       "      <td>396.90</td>\n",
       "      <td>5.33</td>\n",
       "      <td>36.2</td>\n",
       "      <td>No</td>\n",
       "      <td>2</td>\n",
       "    </tr>\n",
       "    <tr>\n",
       "      <th>...</th>\n",
       "      <td>...</td>\n",
       "      <td>...</td>\n",
       "      <td>...</td>\n",
       "      <td>...</td>\n",
       "      <td>...</td>\n",
       "      <td>...</td>\n",
       "      <td>...</td>\n",
       "      <td>...</td>\n",
       "      <td>...</td>\n",
       "      <td>...</td>\n",
       "      <td>...</td>\n",
       "      <td>...</td>\n",
       "      <td>...</td>\n",
       "      <td>...</td>\n",
       "    </tr>\n",
       "    <tr>\n",
       "      <th>488</th>\n",
       "      <td>0.06263</td>\n",
       "      <td>0.0</td>\n",
       "      <td>11.93</td>\n",
       "      <td>0.573</td>\n",
       "      <td>6.593</td>\n",
       "      <td>69.1</td>\n",
       "      <td>2.4786</td>\n",
       "      <td>273.0</td>\n",
       "      <td>21.0</td>\n",
       "      <td>391.99</td>\n",
       "      <td>9.67</td>\n",
       "      <td>22.4</td>\n",
       "      <td>No</td>\n",
       "      <td>2</td>\n",
       "    </tr>\n",
       "    <tr>\n",
       "      <th>489</th>\n",
       "      <td>0.04527</td>\n",
       "      <td>0.0</td>\n",
       "      <td>11.93</td>\n",
       "      <td>0.573</td>\n",
       "      <td>6.120</td>\n",
       "      <td>76.7</td>\n",
       "      <td>2.2875</td>\n",
       "      <td>273.0</td>\n",
       "      <td>21.0</td>\n",
       "      <td>396.90</td>\n",
       "      <td>9.08</td>\n",
       "      <td>20.6</td>\n",
       "      <td>No</td>\n",
       "      <td>2</td>\n",
       "    </tr>\n",
       "    <tr>\n",
       "      <th>490</th>\n",
       "      <td>0.06076</td>\n",
       "      <td>0.0</td>\n",
       "      <td>11.93</td>\n",
       "      <td>0.573</td>\n",
       "      <td>6.976</td>\n",
       "      <td>91.0</td>\n",
       "      <td>2.1675</td>\n",
       "      <td>273.0</td>\n",
       "      <td>21.0</td>\n",
       "      <td>396.90</td>\n",
       "      <td>5.64</td>\n",
       "      <td>23.9</td>\n",
       "      <td>No</td>\n",
       "      <td>2</td>\n",
       "    </tr>\n",
       "    <tr>\n",
       "      <th>491</th>\n",
       "      <td>0.10959</td>\n",
       "      <td>0.0</td>\n",
       "      <td>11.93</td>\n",
       "      <td>0.573</td>\n",
       "      <td>6.794</td>\n",
       "      <td>89.3</td>\n",
       "      <td>2.3889</td>\n",
       "      <td>273.0</td>\n",
       "      <td>21.0</td>\n",
       "      <td>393.45</td>\n",
       "      <td>6.48</td>\n",
       "      <td>22.0</td>\n",
       "      <td>No</td>\n",
       "      <td>2</td>\n",
       "    </tr>\n",
       "    <tr>\n",
       "      <th>492</th>\n",
       "      <td>0.04741</td>\n",
       "      <td>0.0</td>\n",
       "      <td>11.93</td>\n",
       "      <td>0.573</td>\n",
       "      <td>6.030</td>\n",
       "      <td>80.8</td>\n",
       "      <td>2.5050</td>\n",
       "      <td>273.0</td>\n",
       "      <td>21.0</td>\n",
       "      <td>396.90</td>\n",
       "      <td>7.88</td>\n",
       "      <td>11.9</td>\n",
       "      <td>No</td>\n",
       "      <td>2</td>\n",
       "    </tr>\n",
       "  </tbody>\n",
       "</table>\n",
       "<p>493 rows × 14 columns</p>\n",
       "</div>"
      ],
      "text/plain": [
       "        CRIM    ZN  INDUS    NOX     RM   AGE     DIS    TAX  PTRATIO       B  \\\n",
       "0    0.00632  18.0   2.31  0.538  6.575  65.2  4.0900  296.0     15.3  396.90   \n",
       "1    0.02731   0.0   7.07  0.469  6.421  78.9  4.9671  242.0     17.8  396.90   \n",
       "2    0.02729   0.0   7.07  0.469  7.185  61.1  4.9671  242.0     17.8  392.83   \n",
       "3    0.03237   0.0   2.18  0.458  6.998  45.8  6.0622  222.0     18.7  394.63   \n",
       "4    0.06905   0.0   2.18  0.458  7.147  54.2  6.0622  222.0     18.7  396.90   \n",
       "..       ...   ...    ...    ...    ...   ...     ...    ...      ...     ...   \n",
       "488  0.06263   0.0  11.93  0.573  6.593  69.1  2.4786  273.0     21.0  391.99   \n",
       "489  0.04527   0.0  11.93  0.573  6.120  76.7  2.2875  273.0     21.0  396.90   \n",
       "490  0.06076   0.0  11.93  0.573  6.976  91.0  2.1675  273.0     21.0  396.90   \n",
       "491  0.10959   0.0  11.93  0.573  6.794  89.3  2.3889  273.0     21.0  393.45   \n",
       "492  0.04741   0.0  11.93  0.573  6.030  80.8  2.5050  273.0     21.0  396.90   \n",
       "\n",
       "     LSTAT  MEDV RiverBound  NewRAD  \n",
       "0     4.98  24.0         No       2  \n",
       "1     9.14  21.6         No       2  \n",
       "2     4.03  34.7         No       2  \n",
       "3     2.94  33.4         No       2  \n",
       "4     5.33  36.2         No       2  \n",
       "..     ...   ...        ...     ...  \n",
       "488   9.67  22.4         No       2  \n",
       "489   9.08  20.6         No       2  \n",
       "490   5.64  23.9         No       2  \n",
       "491   6.48  22.0         No       2  \n",
       "492   7.88  11.9         No       2  \n",
       "\n",
       "[493 rows x 14 columns]"
      ]
     },
     "execution_count": 40,
     "metadata": {},
     "output_type": "execute_result"
    }
   ],
   "source": [
    "### Dropping the column - RAD from the dataset\n",
    "\n",
    "dataset.drop(['RAD'], axis = 1, inplace = True)\n",
    "dataset"
   ]
  },
  {
   "cell_type": "markdown",
   "id": "36aab6b9",
   "metadata": {},
   "source": [
    "##### 4.2.3 TaxSlab - using the Tax column"
   ]
  },
  {
   "cell_type": "markdown",
   "id": "6c510bb4",
   "metadata": {},
   "source": [
    "Since, the Tax column is bi-modal with clear seperation between the data, we will divide the data into 2 categories and check if the Sales Price of a house varies with each class."
   ]
  },
  {
   "cell_type": "code",
   "execution_count": 41,
   "id": "1775fcf4",
   "metadata": {},
   "outputs": [],
   "source": [
    "### Fetching the data - TAX\n",
    "\n",
    "tax_data = list(dataset['TAX'])\n",
    "\n",
    "### Creating new column - TaxSlab\n",
    "\n",
    "tax_slab = []\n",
    "for value in tax_data:\n",
    "    if value <= np.median(tax_data):\n",
    "        tax_slab.append('Class 1')\n",
    "    else:\n",
    "        tax_slab.append('Class 2')"
   ]
  },
  {
   "cell_type": "code",
   "execution_count": 42,
   "id": "be2fdce5",
   "metadata": {},
   "outputs": [
    {
     "data": {
      "text/html": [
       "<div>\n",
       "<style scoped>\n",
       "    .dataframe tbody tr th:only-of-type {\n",
       "        vertical-align: middle;\n",
       "    }\n",
       "\n",
       "    .dataframe tbody tr th {\n",
       "        vertical-align: top;\n",
       "    }\n",
       "\n",
       "    .dataframe thead th {\n",
       "        text-align: right;\n",
       "    }\n",
       "</style>\n",
       "<table border=\"1\" class=\"dataframe\">\n",
       "  <thead>\n",
       "    <tr style=\"text-align: right;\">\n",
       "      <th></th>\n",
       "      <th>CRIM</th>\n",
       "      <th>ZN</th>\n",
       "      <th>INDUS</th>\n",
       "      <th>NOX</th>\n",
       "      <th>RM</th>\n",
       "      <th>AGE</th>\n",
       "      <th>DIS</th>\n",
       "      <th>TAX</th>\n",
       "      <th>PTRATIO</th>\n",
       "      <th>B</th>\n",
       "      <th>LSTAT</th>\n",
       "      <th>MEDV</th>\n",
       "      <th>RiverBound</th>\n",
       "      <th>NewRAD</th>\n",
       "      <th>TaxSlab</th>\n",
       "    </tr>\n",
       "  </thead>\n",
       "  <tbody>\n",
       "    <tr>\n",
       "      <th>0</th>\n",
       "      <td>0.00632</td>\n",
       "      <td>18.0</td>\n",
       "      <td>2.31</td>\n",
       "      <td>0.538</td>\n",
       "      <td>6.575</td>\n",
       "      <td>65.2</td>\n",
       "      <td>4.0900</td>\n",
       "      <td>296.0</td>\n",
       "      <td>15.3</td>\n",
       "      <td>396.90</td>\n",
       "      <td>4.98</td>\n",
       "      <td>24.0</td>\n",
       "      <td>No</td>\n",
       "      <td>2</td>\n",
       "      <td>Class 1</td>\n",
       "    </tr>\n",
       "    <tr>\n",
       "      <th>1</th>\n",
       "      <td>0.02731</td>\n",
       "      <td>0.0</td>\n",
       "      <td>7.07</td>\n",
       "      <td>0.469</td>\n",
       "      <td>6.421</td>\n",
       "      <td>78.9</td>\n",
       "      <td>4.9671</td>\n",
       "      <td>242.0</td>\n",
       "      <td>17.8</td>\n",
       "      <td>396.90</td>\n",
       "      <td>9.14</td>\n",
       "      <td>21.6</td>\n",
       "      <td>No</td>\n",
       "      <td>2</td>\n",
       "      <td>Class 1</td>\n",
       "    </tr>\n",
       "    <tr>\n",
       "      <th>2</th>\n",
       "      <td>0.02729</td>\n",
       "      <td>0.0</td>\n",
       "      <td>7.07</td>\n",
       "      <td>0.469</td>\n",
       "      <td>7.185</td>\n",
       "      <td>61.1</td>\n",
       "      <td>4.9671</td>\n",
       "      <td>242.0</td>\n",
       "      <td>17.8</td>\n",
       "      <td>392.83</td>\n",
       "      <td>4.03</td>\n",
       "      <td>34.7</td>\n",
       "      <td>No</td>\n",
       "      <td>2</td>\n",
       "      <td>Class 1</td>\n",
       "    </tr>\n",
       "    <tr>\n",
       "      <th>3</th>\n",
       "      <td>0.03237</td>\n",
       "      <td>0.0</td>\n",
       "      <td>2.18</td>\n",
       "      <td>0.458</td>\n",
       "      <td>6.998</td>\n",
       "      <td>45.8</td>\n",
       "      <td>6.0622</td>\n",
       "      <td>222.0</td>\n",
       "      <td>18.7</td>\n",
       "      <td>394.63</td>\n",
       "      <td>2.94</td>\n",
       "      <td>33.4</td>\n",
       "      <td>No</td>\n",
       "      <td>2</td>\n",
       "      <td>Class 1</td>\n",
       "    </tr>\n",
       "    <tr>\n",
       "      <th>4</th>\n",
       "      <td>0.06905</td>\n",
       "      <td>0.0</td>\n",
       "      <td>2.18</td>\n",
       "      <td>0.458</td>\n",
       "      <td>7.147</td>\n",
       "      <td>54.2</td>\n",
       "      <td>6.0622</td>\n",
       "      <td>222.0</td>\n",
       "      <td>18.7</td>\n",
       "      <td>396.90</td>\n",
       "      <td>5.33</td>\n",
       "      <td>36.2</td>\n",
       "      <td>No</td>\n",
       "      <td>2</td>\n",
       "      <td>Class 1</td>\n",
       "    </tr>\n",
       "    <tr>\n",
       "      <th>...</th>\n",
       "      <td>...</td>\n",
       "      <td>...</td>\n",
       "      <td>...</td>\n",
       "      <td>...</td>\n",
       "      <td>...</td>\n",
       "      <td>...</td>\n",
       "      <td>...</td>\n",
       "      <td>...</td>\n",
       "      <td>...</td>\n",
       "      <td>...</td>\n",
       "      <td>...</td>\n",
       "      <td>...</td>\n",
       "      <td>...</td>\n",
       "      <td>...</td>\n",
       "      <td>...</td>\n",
       "    </tr>\n",
       "    <tr>\n",
       "      <th>488</th>\n",
       "      <td>0.06263</td>\n",
       "      <td>0.0</td>\n",
       "      <td>11.93</td>\n",
       "      <td>0.573</td>\n",
       "      <td>6.593</td>\n",
       "      <td>69.1</td>\n",
       "      <td>2.4786</td>\n",
       "      <td>273.0</td>\n",
       "      <td>21.0</td>\n",
       "      <td>391.99</td>\n",
       "      <td>9.67</td>\n",
       "      <td>22.4</td>\n",
       "      <td>No</td>\n",
       "      <td>2</td>\n",
       "      <td>Class 1</td>\n",
       "    </tr>\n",
       "    <tr>\n",
       "      <th>489</th>\n",
       "      <td>0.04527</td>\n",
       "      <td>0.0</td>\n",
       "      <td>11.93</td>\n",
       "      <td>0.573</td>\n",
       "      <td>6.120</td>\n",
       "      <td>76.7</td>\n",
       "      <td>2.2875</td>\n",
       "      <td>273.0</td>\n",
       "      <td>21.0</td>\n",
       "      <td>396.90</td>\n",
       "      <td>9.08</td>\n",
       "      <td>20.6</td>\n",
       "      <td>No</td>\n",
       "      <td>2</td>\n",
       "      <td>Class 1</td>\n",
       "    </tr>\n",
       "    <tr>\n",
       "      <th>490</th>\n",
       "      <td>0.06076</td>\n",
       "      <td>0.0</td>\n",
       "      <td>11.93</td>\n",
       "      <td>0.573</td>\n",
       "      <td>6.976</td>\n",
       "      <td>91.0</td>\n",
       "      <td>2.1675</td>\n",
       "      <td>273.0</td>\n",
       "      <td>21.0</td>\n",
       "      <td>396.90</td>\n",
       "      <td>5.64</td>\n",
       "      <td>23.9</td>\n",
       "      <td>No</td>\n",
       "      <td>2</td>\n",
       "      <td>Class 1</td>\n",
       "    </tr>\n",
       "    <tr>\n",
       "      <th>491</th>\n",
       "      <td>0.10959</td>\n",
       "      <td>0.0</td>\n",
       "      <td>11.93</td>\n",
       "      <td>0.573</td>\n",
       "      <td>6.794</td>\n",
       "      <td>89.3</td>\n",
       "      <td>2.3889</td>\n",
       "      <td>273.0</td>\n",
       "      <td>21.0</td>\n",
       "      <td>393.45</td>\n",
       "      <td>6.48</td>\n",
       "      <td>22.0</td>\n",
       "      <td>No</td>\n",
       "      <td>2</td>\n",
       "      <td>Class 1</td>\n",
       "    </tr>\n",
       "    <tr>\n",
       "      <th>492</th>\n",
       "      <td>0.04741</td>\n",
       "      <td>0.0</td>\n",
       "      <td>11.93</td>\n",
       "      <td>0.573</td>\n",
       "      <td>6.030</td>\n",
       "      <td>80.8</td>\n",
       "      <td>2.5050</td>\n",
       "      <td>273.0</td>\n",
       "      <td>21.0</td>\n",
       "      <td>396.90</td>\n",
       "      <td>7.88</td>\n",
       "      <td>11.9</td>\n",
       "      <td>No</td>\n",
       "      <td>2</td>\n",
       "      <td>Class 1</td>\n",
       "    </tr>\n",
       "  </tbody>\n",
       "</table>\n",
       "<p>493 rows × 15 columns</p>\n",
       "</div>"
      ],
      "text/plain": [
       "        CRIM    ZN  INDUS    NOX     RM   AGE     DIS    TAX  PTRATIO       B  \\\n",
       "0    0.00632  18.0   2.31  0.538  6.575  65.2  4.0900  296.0     15.3  396.90   \n",
       "1    0.02731   0.0   7.07  0.469  6.421  78.9  4.9671  242.0     17.8  396.90   \n",
       "2    0.02729   0.0   7.07  0.469  7.185  61.1  4.9671  242.0     17.8  392.83   \n",
       "3    0.03237   0.0   2.18  0.458  6.998  45.8  6.0622  222.0     18.7  394.63   \n",
       "4    0.06905   0.0   2.18  0.458  7.147  54.2  6.0622  222.0     18.7  396.90   \n",
       "..       ...   ...    ...    ...    ...   ...     ...    ...      ...     ...   \n",
       "488  0.06263   0.0  11.93  0.573  6.593  69.1  2.4786  273.0     21.0  391.99   \n",
       "489  0.04527   0.0  11.93  0.573  6.120  76.7  2.2875  273.0     21.0  396.90   \n",
       "490  0.06076   0.0  11.93  0.573  6.976  91.0  2.1675  273.0     21.0  396.90   \n",
       "491  0.10959   0.0  11.93  0.573  6.794  89.3  2.3889  273.0     21.0  393.45   \n",
       "492  0.04741   0.0  11.93  0.573  6.030  80.8  2.5050  273.0     21.0  396.90   \n",
       "\n",
       "     LSTAT  MEDV RiverBound  NewRAD  TaxSlab  \n",
       "0     4.98  24.0         No       2  Class 1  \n",
       "1     9.14  21.6         No       2  Class 1  \n",
       "2     4.03  34.7         No       2  Class 1  \n",
       "3     2.94  33.4         No       2  Class 1  \n",
       "4     5.33  36.2         No       2  Class 1  \n",
       "..     ...   ...        ...     ...      ...  \n",
       "488   9.67  22.4         No       2  Class 1  \n",
       "489   9.08  20.6         No       2  Class 1  \n",
       "490   5.64  23.9         No       2  Class 1  \n",
       "491   6.48  22.0         No       2  Class 1  \n",
       "492   7.88  11.9         No       2  Class 1  \n",
       "\n",
       "[493 rows x 15 columns]"
      ]
     },
     "execution_count": 42,
     "metadata": {},
     "output_type": "execute_result"
    }
   ],
   "source": [
    "### Adding the tax_slab data to TaxSlab column of the dataset\n",
    "\n",
    "dataset['TaxSlab'] = tax_slab\n",
    "dataset"
   ]
  },
  {
   "cell_type": "code",
   "execution_count": 43,
   "id": "6ba16f61",
   "metadata": {},
   "outputs": [
    {
     "data": {
      "text/plain": [
       "Class 1    249\n",
       "Class 2    244\n",
       "Name: TaxSlab, dtype: int64"
      ]
     },
     "execution_count": 43,
     "metadata": {},
     "output_type": "execute_result"
    }
   ],
   "source": [
    "### Value counts of the column - TaxSlab\n",
    "\n",
    "tax_slab_count = dataset['TaxSlab'].value_counts(dropna = False)\n",
    "tax_slab_count"
   ]
  },
  {
   "cell_type": "code",
   "execution_count": 44,
   "id": "0b77bf39",
   "metadata": {},
   "outputs": [
    {
     "data": {
      "image/png": "[encoded data removed]",
      "text/plain": [
       "<Figure size 432x288 with 1 Axes>"
      ]
     },
     "metadata": {
      "needs_background": "light"
     },
     "output_type": "display_data"
    }
   ],
   "source": [
    "### Bar graph showing the value counts of the column - TaxSlab\n",
    "\n",
    "sns.barplot(tax_slab_count.index, tax_slab_count.values, alpha = 0.8)\n",
    "plt.title('Bar graph showing the value counts of the column - TaxSlab')\n",
    "plt.ylabel('Number of Occurrences', fontsize = 12)\n",
    "plt.xlabel('TaxSlab', fontsize = 12)\n",
    "plt.show()"
   ]
  },
  {
   "cell_type": "code",
   "execution_count": 45,
   "id": "162f83ed",
   "metadata": {},
   "outputs": [
    {
     "data": {
      "text/html": [
       "<div>\n",
       "<style scoped>\n",
       "    .dataframe tbody tr th:only-of-type {\n",
       "        vertical-align: middle;\n",
       "    }\n",
       "\n",
       "    .dataframe tbody tr th {\n",
       "        vertical-align: top;\n",
       "    }\n",
       "\n",
       "    .dataframe thead th {\n",
       "        text-align: right;\n",
       "    }\n",
       "</style>\n",
       "<table border=\"1\" class=\"dataframe\">\n",
       "  <thead>\n",
       "    <tr style=\"text-align: right;\">\n",
       "      <th></th>\n",
       "      <th>TaxSlab</th>\n",
       "      <th>MEDV</th>\n",
       "    </tr>\n",
       "  </thead>\n",
       "  <tbody>\n",
       "    <tr>\n",
       "      <th>0</th>\n",
       "      <td>Class 1</td>\n",
       "      <td>25.315663</td>\n",
       "    </tr>\n",
       "    <tr>\n",
       "      <th>1</th>\n",
       "      <td>Class 2</td>\n",
       "      <td>19.146311</td>\n",
       "    </tr>\n",
       "  </tbody>\n",
       "</table>\n",
       "</div>"
      ],
      "text/plain": [
       "   TaxSlab       MEDV\n",
       "0  Class 1  25.315663\n",
       "1  Class 2  19.146311"
      ]
     },
     "execution_count": 45,
     "metadata": {},
     "output_type": "execute_result"
    }
   ],
   "source": [
    "### Mean price per each RAD \n",
    "\n",
    "mean_price_tax_slab = dataset[['TaxSlab', 'MEDV']].groupby('TaxSlab', as_index = False).mean()\n",
    "mean_price_tax_slab"
   ]
  },
  {
   "cell_type": "code",
   "execution_count": 46,
   "id": "896ee4b8",
   "metadata": {},
   "outputs": [
    {
     "data": {
      "image/png": "[encoded data removed]",
      "text/plain": [
       "<Figure size 432x288 with 1 Axes>"
      ]
     },
     "metadata": {
      "needs_background": "light"
     },
     "output_type": "display_data"
    }
   ],
   "source": [
    "### Mean Sales Price for each TaxSlab\n",
    "\n",
    "sns.barplot(mean_price_tax_slab['TaxSlab'], mean_price_tax_slab['MEDV'], alpha = 0.8)\n",
    "plt.title('Mean Sales Price for each TaxSlab')\n",
    "plt.ylabel('Mean Sales Price', fontsize = 12)\n",
    "plt.xlabel('TaxSlab', fontsize = 12)\n",
    "plt.show()"
   ]
  },
  {
   "cell_type": "markdown",
   "id": "83e92a20",
   "metadata": {},
   "source": [
    "From the above graph, we can see that the Sales Price is lesser for the houses that belong to Class 2."
   ]
  },
  {
   "cell_type": "code",
   "execution_count": 47,
   "id": "ddb7dbc0",
   "metadata": {},
   "outputs": [
    {
     "data": {
      "text/html": [
       "<div>\n",
       "<style scoped>\n",
       "    .dataframe tbody tr th:only-of-type {\n",
       "        vertical-align: middle;\n",
       "    }\n",
       "\n",
       "    .dataframe tbody tr th {\n",
       "        vertical-align: top;\n",
       "    }\n",
       "\n",
       "    .dataframe thead th {\n",
       "        text-align: right;\n",
       "    }\n",
       "</style>\n",
       "<table border=\"1\" class=\"dataframe\">\n",
       "  <thead>\n",
       "    <tr style=\"text-align: right;\">\n",
       "      <th></th>\n",
       "      <th>CRIM</th>\n",
       "      <th>ZN</th>\n",
       "      <th>INDUS</th>\n",
       "      <th>NOX</th>\n",
       "      <th>RM</th>\n",
       "      <th>AGE</th>\n",
       "      <th>DIS</th>\n",
       "      <th>PTRATIO</th>\n",
       "      <th>B</th>\n",
       "      <th>LSTAT</th>\n",
       "      <th>MEDV</th>\n",
       "      <th>RiverBound</th>\n",
       "      <th>NewRAD</th>\n",
       "      <th>TaxSlab</th>\n",
       "    </tr>\n",
       "  </thead>\n",
       "  <tbody>\n",
       "    <tr>\n",
       "      <th>0</th>\n",
       "      <td>0.00632</td>\n",
       "      <td>18.0</td>\n",
       "      <td>2.31</td>\n",
       "      <td>0.538</td>\n",
       "      <td>6.575</td>\n",
       "      <td>65.2</td>\n",
       "      <td>4.0900</td>\n",
       "      <td>15.3</td>\n",
       "      <td>396.90</td>\n",
       "      <td>4.98</td>\n",
       "      <td>24.0</td>\n",
       "      <td>No</td>\n",
       "      <td>2</td>\n",
       "      <td>Class 1</td>\n",
       "    </tr>\n",
       "    <tr>\n",
       "      <th>1</th>\n",
       "      <td>0.02731</td>\n",
       "      <td>0.0</td>\n",
       "      <td>7.07</td>\n",
       "      <td>0.469</td>\n",
       "      <td>6.421</td>\n",
       "      <td>78.9</td>\n",
       "      <td>4.9671</td>\n",
       "      <td>17.8</td>\n",
       "      <td>396.90</td>\n",
       "      <td>9.14</td>\n",
       "      <td>21.6</td>\n",
       "      <td>No</td>\n",
       "      <td>2</td>\n",
       "      <td>Class 1</td>\n",
       "    </tr>\n",
       "    <tr>\n",
       "      <th>2</th>\n",
       "      <td>0.02729</td>\n",
       "      <td>0.0</td>\n",
       "      <td>7.07</td>\n",
       "      <td>0.469</td>\n",
       "      <td>7.185</td>\n",
       "      <td>61.1</td>\n",
       "      <td>4.9671</td>\n",
       "      <td>17.8</td>\n",
       "      <td>392.83</td>\n",
       "      <td>4.03</td>\n",
       "      <td>34.7</td>\n",
       "      <td>No</td>\n",
       "      <td>2</td>\n",
       "      <td>Class 1</td>\n",
       "    </tr>\n",
       "    <tr>\n",
       "      <th>3</th>\n",
       "      <td>0.03237</td>\n",
       "      <td>0.0</td>\n",
       "      <td>2.18</td>\n",
       "      <td>0.458</td>\n",
       "      <td>6.998</td>\n",
       "      <td>45.8</td>\n",
       "      <td>6.0622</td>\n",
       "      <td>18.7</td>\n",
       "      <td>394.63</td>\n",
       "      <td>2.94</td>\n",
       "      <td>33.4</td>\n",
       "      <td>No</td>\n",
       "      <td>2</td>\n",
       "      <td>Class 1</td>\n",
       "    </tr>\n",
       "    <tr>\n",
       "      <th>4</th>\n",
       "      <td>0.06905</td>\n",
       "      <td>0.0</td>\n",
       "      <td>2.18</td>\n",
       "      <td>0.458</td>\n",
       "      <td>7.147</td>\n",
       "      <td>54.2</td>\n",
       "      <td>6.0622</td>\n",
       "      <td>18.7</td>\n",
       "      <td>396.90</td>\n",
       "      <td>5.33</td>\n",
       "      <td>36.2</td>\n",
       "      <td>No</td>\n",
       "      <td>2</td>\n",
       "      <td>Class 1</td>\n",
       "    </tr>\n",
       "    <tr>\n",
       "      <th>...</th>\n",
       "      <td>...</td>\n",
       "      <td>...</td>\n",
       "      <td>...</td>\n",
       "      <td>...</td>\n",
       "      <td>...</td>\n",
       "      <td>...</td>\n",
       "      <td>...</td>\n",
       "      <td>...</td>\n",
       "      <td>...</td>\n",
       "      <td>...</td>\n",
       "      <td>...</td>\n",
       "      <td>...</td>\n",
       "      <td>...</td>\n",
       "      <td>...</td>\n",
       "    </tr>\n",
       "    <tr>\n",
       "      <th>488</th>\n",
       "      <td>0.06263</td>\n",
       "      <td>0.0</td>\n",
       "      <td>11.93</td>\n",
       "      <td>0.573</td>\n",
       "      <td>6.593</td>\n",
       "      <td>69.1</td>\n",
       "      <td>2.4786</td>\n",
       "      <td>21.0</td>\n",
       "      <td>391.99</td>\n",
       "      <td>9.67</td>\n",
       "      <td>22.4</td>\n",
       "      <td>No</td>\n",
       "      <td>2</td>\n",
       "      <td>Class 1</td>\n",
       "    </tr>\n",
       "    <tr>\n",
       "      <th>489</th>\n",
       "      <td>0.04527</td>\n",
       "      <td>0.0</td>\n",
       "      <td>11.93</td>\n",
       "      <td>0.573</td>\n",
       "      <td>6.120</td>\n",
       "      <td>76.7</td>\n",
       "      <td>2.2875</td>\n",
       "      <td>21.0</td>\n",
       "      <td>396.90</td>\n",
       "      <td>9.08</td>\n",
       "      <td>20.6</td>\n",
       "      <td>No</td>\n",
       "      <td>2</td>\n",
       "      <td>Class 1</td>\n",
       "    </tr>\n",
       "    <tr>\n",
       "      <th>490</th>\n",
       "      <td>0.06076</td>\n",
       "      <td>0.0</td>\n",
       "      <td>11.93</td>\n",
       "      <td>0.573</td>\n",
       "      <td>6.976</td>\n",
       "      <td>91.0</td>\n",
       "      <td>2.1675</td>\n",
       "      <td>21.0</td>\n",
       "      <td>396.90</td>\n",
       "      <td>5.64</td>\n",
       "      <td>23.9</td>\n",
       "      <td>No</td>\n",
       "      <td>2</td>\n",
       "      <td>Class 1</td>\n",
       "    </tr>\n",
       "    <tr>\n",
       "      <th>491</th>\n",
       "      <td>0.10959</td>\n",
       "      <td>0.0</td>\n",
       "      <td>11.93</td>\n",
       "      <td>0.573</td>\n",
       "      <td>6.794</td>\n",
       "      <td>89.3</td>\n",
       "      <td>2.3889</td>\n",
       "      <td>21.0</td>\n",
       "      <td>393.45</td>\n",
       "      <td>6.48</td>\n",
       "      <td>22.0</td>\n",
       "      <td>No</td>\n",
       "      <td>2</td>\n",
       "      <td>Class 1</td>\n",
       "    </tr>\n",
       "    <tr>\n",
       "      <th>492</th>\n",
       "      <td>0.04741</td>\n",
       "      <td>0.0</td>\n",
       "      <td>11.93</td>\n",
       "      <td>0.573</td>\n",
       "      <td>6.030</td>\n",
       "      <td>80.8</td>\n",
       "      <td>2.5050</td>\n",
       "      <td>21.0</td>\n",
       "      <td>396.90</td>\n",
       "      <td>7.88</td>\n",
       "      <td>11.9</td>\n",
       "      <td>No</td>\n",
       "      <td>2</td>\n",
       "      <td>Class 1</td>\n",
       "    </tr>\n",
       "  </tbody>\n",
       "</table>\n",
       "<p>493 rows × 14 columns</p>\n",
       "</div>"
      ],
      "text/plain": [
       "        CRIM    ZN  INDUS    NOX     RM   AGE     DIS  PTRATIO       B  LSTAT  \\\n",
       "0    0.00632  18.0   2.31  0.538  6.575  65.2  4.0900     15.3  396.90   4.98   \n",
       "1    0.02731   0.0   7.07  0.469  6.421  78.9  4.9671     17.8  396.90   9.14   \n",
       "2    0.02729   0.0   7.07  0.469  7.185  61.1  4.9671     17.8  392.83   4.03   \n",
       "3    0.03237   0.0   2.18  0.458  6.998  45.8  6.0622     18.7  394.63   2.94   \n",
       "4    0.06905   0.0   2.18  0.458  7.147  54.2  6.0622     18.7  396.90   5.33   \n",
       "..       ...   ...    ...    ...    ...   ...     ...      ...     ...    ...   \n",
       "488  0.06263   0.0  11.93  0.573  6.593  69.1  2.4786     21.0  391.99   9.67   \n",
       "489  0.04527   0.0  11.93  0.573  6.120  76.7  2.2875     21.0  396.90   9.08   \n",
       "490  0.06076   0.0  11.93  0.573  6.976  91.0  2.1675     21.0  396.90   5.64   \n",
       "491  0.10959   0.0  11.93  0.573  6.794  89.3  2.3889     21.0  393.45   6.48   \n",
       "492  0.04741   0.0  11.93  0.573  6.030  80.8  2.5050     21.0  396.90   7.88   \n",
       "\n",
       "     MEDV RiverBound  NewRAD  TaxSlab  \n",
       "0    24.0         No       2  Class 1  \n",
       "1    21.6         No       2  Class 1  \n",
       "2    34.7         No       2  Class 1  \n",
       "3    33.4         No       2  Class 1  \n",
       "4    36.2         No       2  Class 1  \n",
       "..    ...        ...     ...      ...  \n",
       "488  22.4         No       2  Class 1  \n",
       "489  20.6         No       2  Class 1  \n",
       "490  23.9         No       2  Class 1  \n",
       "491  22.0         No       2  Class 1  \n",
       "492  11.9         No       2  Class 1  \n",
       "\n",
       "[493 rows x 14 columns]"
      ]
     },
     "execution_count": 47,
     "metadata": {},
     "output_type": "execute_result"
    }
   ],
   "source": [
    "### Dropping the column - TAX from the dataset\n",
    "\n",
    "dataset.drop(['TAX'], axis = 1, inplace = True)\n",
    "dataset"
   ]
  },
  {
   "cell_type": "markdown",
   "id": "22b3b0be",
   "metadata": {},
   "source": [
    "#### 4.3 Data Transformation"
   ]
  },
  {
   "cell_type": "markdown",
   "id": "4811ddca",
   "metadata": {},
   "source": [
    "In this section, we will remove the skewness present in the columns - CRIM, ZN by using a Box-Cox transformation on the data. Then, we will normalize all the numerical columns apart from the Target using MinMax Normalization."
   ]
  },
  {
   "cell_type": "markdown",
   "id": "8d268802",
   "metadata": {},
   "source": [
    "##### 4.3.1 Box-Cox Transforming the column - ZN"
   ]
  },
  {
   "cell_type": "code",
   "execution_count": 48,
   "id": "300dc566",
   "metadata": {},
   "outputs": [
    {
     "data": {
      "text/plain": [
       "Text(0.5, 1.0, 'Proportion of Residential Land Zones')"
      ]
     },
     "execution_count": 48,
     "metadata": {},
     "output_type": "execute_result"
    },
    {
     "data": {
      "image/png": "[encoded data removed]",
      "text/plain": [
       "<Figure size 432x288 with 1 Axes>"
      ]
     },
     "metadata": {
      "needs_background": "light"
     },
     "output_type": "display_data"
    }
   ],
   "source": [
    "### Understanding the distribution of the column - ZN\n",
    "\n",
    "sns.distplot(dataset['ZN'], label = 'Skewness: %.2f'%(dataset['ZN'].skew()))\n",
    "plt.legend(loc = 'best')\n",
    "plt.title('Proportion of Residential Land Zones')"
   ]
  },
  {
   "cell_type": "code",
   "execution_count": 49,
   "id": "d77cef35",
   "metadata": {},
   "outputs": [
    {
     "data": {
      "text/plain": [
       "Text(0.5, 1.0, 'Proportion of Residential Land Zones')"
      ]
     },
     "execution_count": 49,
     "metadata": {},
     "output_type": "execute_result"
    },
    {
     "data": {
      "image/png": "[encoded data removed]",
      "text/plain": [
       "<Figure size 432x288 with 1 Axes>"
      ]
     },
     "metadata": {
      "needs_background": "light"
     },
     "output_type": "display_data"
    }
   ],
   "source": [
    "### Understanding the distribution of the data Box_Cox(ZN)\n",
    "\n",
    "zn_data = [1 if value == 0 else value for value in dataset['ZN']]\n",
    "\n",
    "modified_zn, _ = stats.boxcox(zn_data)\n",
    "dataset['ZN'] = modified_zn\n",
    "\n",
    "sns.distplot(dataset['ZN'], label = 'Skewness: %.2f'%(dataset['ZN'].skew()))\n",
    "plt.legend(loc = 'best')\n",
    "plt.title('Proportion of Residential Land Zones')"
   ]
  },
  {
   "cell_type": "markdown",
   "id": "e802a5fd",
   "metadata": {},
   "source": [
    "From the above graph, we can see that the degree of skewness is significantly reduced than compared to the skewness in the original data."
   ]
  },
  {
   "cell_type": "markdown",
   "id": "bdf20063",
   "metadata": {},
   "source": [
    "##### 4.3.2 Box-Cox Transforming the column - CRIM"
   ]
  },
  {
   "cell_type": "code",
   "execution_count": 50,
   "id": "4777d3cd",
   "metadata": {},
   "outputs": [
    {
     "data": {
      "text/plain": [
       "Text(0.5, 1.0, 'Per Capita Crime Rate By Town')"
      ]
     },
     "execution_count": 50,
     "metadata": {},
     "output_type": "execute_result"
    },
    {
     "data": {
      "image/png": "[encoded data removed]",
      "text/plain": [
       "<Figure size 432x288 with 1 Axes>"
      ]
     },
     "metadata": {
      "needs_background": "light"
     },
     "output_type": "display_data"
    }
   ],
   "source": [
    "### Understanding the distribution of the column - CRIM\n",
    "\n",
    "sns.distplot(dataset['CRIM'], label = 'Skewness: %.2f'%(dataset['CRIM'].skew()))\n",
    "plt.legend(loc = 'best')\n",
    "plt.title('Per Capita Crime Rate By Town')"
   ]
  },
  {
   "cell_type": "code",
   "execution_count": 51,
   "id": "9e997801",
   "metadata": {},
   "outputs": [
    {
     "data": {
      "text/plain": [
       "Text(0.5, 1.0, 'Per Capita Crime Rate By Town')"
      ]
     },
     "execution_count": 51,
     "metadata": {},
     "output_type": "execute_result"
    },
    {
     "data": {
      "image/png": "[encoded data removed]",
      "text/plain": [
       "<Figure size 432x288 with 1 Axes>"
      ]
     },
     "metadata": {
      "needs_background": "light"
     },
     "output_type": "display_data"
    }
   ],
   "source": [
    "### Understanding the distribution of the data Box_Cox(CRIM)\n",
    "\n",
    "crim_data = [1 if value < 1 else value for value in dataset['CRIM']]\n",
    "\n",
    "modified_crim, _ = stats.boxcox(crim_data)\n",
    "dataset['CRIM'] = modified_crim\n",
    "\n",
    "sns.distplot(dataset['CRIM'], label = 'Skewness: %.2f'%(dataset['CRIM'].skew()))\n",
    "plt.legend(loc = 'best')\n",
    "plt.title('Per Capita Crime Rate By Town')"
   ]
  },
  {
   "cell_type": "markdown",
   "id": "0279b549",
   "metadata": {},
   "source": [
    "From the above graph, we can see that the degree of skewness is significantly reduced than compared to the skewness in the original data."
   ]
  },
  {
   "cell_type": "markdown",
   "id": "e5d9b78a",
   "metadata": {},
   "source": [
    "##### 4.3.4 Normalizing the numerical columns"
   ]
  },
  {
   "cell_type": "code",
   "execution_count": 52,
   "id": "6d89bb59",
   "metadata": {},
   "outputs": [],
   "source": [
    "### A function to normalize numerical columns\n",
    "\n",
    "def normalize_columns(dataframe, column):\n",
    "    data = dataframe[column]\n",
    "    mini = min(data)\n",
    "    maxi = max(data)\n",
    "    \n",
    "    new_data = []\n",
    "    for value in data:\n",
    "        new_data.append((value - mini)/(maxi - mini))\n",
    "    \n",
    "    dataframe[column] = new_data\n",
    "\n",
    "numerical_columns = list(dataset.columns)[: -4]\n",
    "for each_column in numerical_columns:\n",
    "    normalize_columns(dataset, each_column)"
   ]
  },
  {
   "cell_type": "code",
   "execution_count": 53,
   "id": "6bc3d28c",
   "metadata": {},
   "outputs": [
    {
     "data": {
      "text/html": [
       "<div>\n",
       "<style scoped>\n",
       "    .dataframe tbody tr th:only-of-type {\n",
       "        vertical-align: middle;\n",
       "    }\n",
       "\n",
       "    .dataframe tbody tr th {\n",
       "        vertical-align: top;\n",
       "    }\n",
       "\n",
       "    .dataframe thead th {\n",
       "        text-align: right;\n",
       "    }\n",
       "</style>\n",
       "<table border=\"1\" class=\"dataframe\">\n",
       "  <thead>\n",
       "    <tr style=\"text-align: right;\">\n",
       "      <th></th>\n",
       "      <th>CRIM</th>\n",
       "      <th>ZN</th>\n",
       "      <th>INDUS</th>\n",
       "      <th>NOX</th>\n",
       "      <th>RM</th>\n",
       "      <th>AGE</th>\n",
       "      <th>DIS</th>\n",
       "      <th>PTRATIO</th>\n",
       "      <th>B</th>\n",
       "      <th>LSTAT</th>\n",
       "      <th>MEDV</th>\n",
       "      <th>RiverBound</th>\n",
       "      <th>NewRAD</th>\n",
       "      <th>TaxSlab</th>\n",
       "    </tr>\n",
       "  </thead>\n",
       "  <tbody>\n",
       "    <tr>\n",
       "      <th>0</th>\n",
       "      <td>0.0</td>\n",
       "      <td>0.948555</td>\n",
       "      <td>0.058148</td>\n",
       "      <td>0.314815</td>\n",
       "      <td>0.577505</td>\n",
       "      <td>0.641607</td>\n",
       "      <td>0.269203</td>\n",
       "      <td>0.287234</td>\n",
       "      <td>1.000000</td>\n",
       "      <td>0.098366</td>\n",
       "      <td>24.0</td>\n",
       "      <td>No</td>\n",
       "      <td>2</td>\n",
       "      <td>Class 1</td>\n",
       "    </tr>\n",
       "    <tr>\n",
       "      <th>1</th>\n",
       "      <td>0.0</td>\n",
       "      <td>0.000000</td>\n",
       "      <td>0.234444</td>\n",
       "      <td>0.172840</td>\n",
       "      <td>0.547998</td>\n",
       "      <td>0.782698</td>\n",
       "      <td>0.348962</td>\n",
       "      <td>0.553191</td>\n",
       "      <td>1.000000</td>\n",
       "      <td>0.224274</td>\n",
       "      <td>21.6</td>\n",
       "      <td>No</td>\n",
       "      <td>2</td>\n",
       "      <td>Class 1</td>\n",
       "    </tr>\n",
       "    <tr>\n",
       "      <th>2</th>\n",
       "      <td>0.0</td>\n",
       "      <td>0.000000</td>\n",
       "      <td>0.234444</td>\n",
       "      <td>0.172840</td>\n",
       "      <td>0.694386</td>\n",
       "      <td>0.599382</td>\n",
       "      <td>0.348962</td>\n",
       "      <td>0.553191</td>\n",
       "      <td>0.989737</td>\n",
       "      <td>0.069613</td>\n",
       "      <td>34.7</td>\n",
       "      <td>No</td>\n",
       "      <td>2</td>\n",
       "      <td>Class 1</td>\n",
       "    </tr>\n",
       "    <tr>\n",
       "      <th>3</th>\n",
       "      <td>0.0</td>\n",
       "      <td>0.000000</td>\n",
       "      <td>0.053333</td>\n",
       "      <td>0.150206</td>\n",
       "      <td>0.658555</td>\n",
       "      <td>0.441813</td>\n",
       "      <td>0.448545</td>\n",
       "      <td>0.648936</td>\n",
       "      <td>0.994276</td>\n",
       "      <td>0.036622</td>\n",
       "      <td>33.4</td>\n",
       "      <td>No</td>\n",
       "      <td>2</td>\n",
       "      <td>Class 1</td>\n",
       "    </tr>\n",
       "    <tr>\n",
       "      <th>4</th>\n",
       "      <td>0.0</td>\n",
       "      <td>0.000000</td>\n",
       "      <td>0.053333</td>\n",
       "      <td>0.150206</td>\n",
       "      <td>0.687105</td>\n",
       "      <td>0.528321</td>\n",
       "      <td>0.448545</td>\n",
       "      <td>0.648936</td>\n",
       "      <td>1.000000</td>\n",
       "      <td>0.108959</td>\n",
       "      <td>36.2</td>\n",
       "      <td>No</td>\n",
       "      <td>2</td>\n",
       "      <td>Class 1</td>\n",
       "    </tr>\n",
       "    <tr>\n",
       "      <th>...</th>\n",
       "      <td>...</td>\n",
       "      <td>...</td>\n",
       "      <td>...</td>\n",
       "      <td>...</td>\n",
       "      <td>...</td>\n",
       "      <td>...</td>\n",
       "      <td>...</td>\n",
       "      <td>...</td>\n",
       "      <td>...</td>\n",
       "      <td>...</td>\n",
       "      <td>...</td>\n",
       "      <td>...</td>\n",
       "      <td>...</td>\n",
       "      <td>...</td>\n",
       "    </tr>\n",
       "    <tr>\n",
       "      <th>488</th>\n",
       "      <td>0.0</td>\n",
       "      <td>0.000000</td>\n",
       "      <td>0.414444</td>\n",
       "      <td>0.386831</td>\n",
       "      <td>0.580954</td>\n",
       "      <td>0.681771</td>\n",
       "      <td>0.122671</td>\n",
       "      <td>0.893617</td>\n",
       "      <td>0.987619</td>\n",
       "      <td>0.240315</td>\n",
       "      <td>22.4</td>\n",
       "      <td>No</td>\n",
       "      <td>2</td>\n",
       "      <td>Class 1</td>\n",
       "    </tr>\n",
       "    <tr>\n",
       "      <th>489</th>\n",
       "      <td>0.0</td>\n",
       "      <td>0.000000</td>\n",
       "      <td>0.414444</td>\n",
       "      <td>0.386831</td>\n",
       "      <td>0.490324</td>\n",
       "      <td>0.760041</td>\n",
       "      <td>0.105293</td>\n",
       "      <td>0.893617</td>\n",
       "      <td>1.000000</td>\n",
       "      <td>0.222458</td>\n",
       "      <td>20.6</td>\n",
       "      <td>No</td>\n",
       "      <td>2</td>\n",
       "      <td>Class 1</td>\n",
       "    </tr>\n",
       "    <tr>\n",
       "      <th>490</th>\n",
       "      <td>0.0</td>\n",
       "      <td>0.000000</td>\n",
       "      <td>0.414444</td>\n",
       "      <td>0.386831</td>\n",
       "      <td>0.654340</td>\n",
       "      <td>0.907312</td>\n",
       "      <td>0.094381</td>\n",
       "      <td>0.893617</td>\n",
       "      <td>1.000000</td>\n",
       "      <td>0.118341</td>\n",
       "      <td>23.9</td>\n",
       "      <td>No</td>\n",
       "      <td>2</td>\n",
       "      <td>Class 1</td>\n",
       "    </tr>\n",
       "    <tr>\n",
       "      <th>491</th>\n",
       "      <td>0.0</td>\n",
       "      <td>0.000000</td>\n",
       "      <td>0.414444</td>\n",
       "      <td>0.386831</td>\n",
       "      <td>0.619467</td>\n",
       "      <td>0.889804</td>\n",
       "      <td>0.114514</td>\n",
       "      <td>0.893617</td>\n",
       "      <td>0.991301</td>\n",
       "      <td>0.143765</td>\n",
       "      <td>22.0</td>\n",
       "      <td>No</td>\n",
       "      <td>2</td>\n",
       "      <td>Class 1</td>\n",
       "    </tr>\n",
       "    <tr>\n",
       "      <th>492</th>\n",
       "      <td>0.0</td>\n",
       "      <td>0.000000</td>\n",
       "      <td>0.414444</td>\n",
       "      <td>0.386831</td>\n",
       "      <td>0.473079</td>\n",
       "      <td>0.802266</td>\n",
       "      <td>0.125072</td>\n",
       "      <td>0.893617</td>\n",
       "      <td>1.000000</td>\n",
       "      <td>0.186138</td>\n",
       "      <td>11.9</td>\n",
       "      <td>No</td>\n",
       "      <td>2</td>\n",
       "      <td>Class 1</td>\n",
       "    </tr>\n",
       "  </tbody>\n",
       "</table>\n",
       "<p>493 rows × 14 columns</p>\n",
       "</div>"
      ],
      "text/plain": [
       "     CRIM        ZN     INDUS       NOX        RM       AGE       DIS  \\\n",
       "0     0.0  0.948555  0.058148  0.314815  0.577505  0.641607  0.269203   \n",
       "1     0.0  0.000000  0.234444  0.172840  0.547998  0.782698  0.348962   \n",
       "2     0.0  0.000000  0.234444  0.172840  0.694386  0.599382  0.348962   \n",
       "3     0.0  0.000000  0.053333  0.150206  0.658555  0.441813  0.448545   \n",
       "4     0.0  0.000000  0.053333  0.150206  0.687105  0.528321  0.448545   \n",
       "..    ...       ...       ...       ...       ...       ...       ...   \n",
       "488   0.0  0.000000  0.414444  0.386831  0.580954  0.681771  0.122671   \n",
       "489   0.0  0.000000  0.414444  0.386831  0.490324  0.760041  0.105293   \n",
       "490   0.0  0.000000  0.414444  0.386831  0.654340  0.907312  0.094381   \n",
       "491   0.0  0.000000  0.414444  0.386831  0.619467  0.889804  0.114514   \n",
       "492   0.0  0.000000  0.414444  0.386831  0.473079  0.802266  0.125072   \n",
       "\n",
       "      PTRATIO         B     LSTAT  MEDV RiverBound  NewRAD  TaxSlab  \n",
       "0    0.287234  1.000000  0.098366  24.0         No       2  Class 1  \n",
       "1    0.553191  1.000000  0.224274  21.6         No       2  Class 1  \n",
       "2    0.553191  0.989737  0.069613  34.7         No       2  Class 1  \n",
       "3    0.648936  0.994276  0.036622  33.4         No       2  Class 1  \n",
       "4    0.648936  1.000000  0.108959  36.2         No       2  Class 1  \n",
       "..        ...       ...       ...   ...        ...     ...      ...  \n",
       "488  0.893617  0.987619  0.240315  22.4         No       2  Class 1  \n",
       "489  0.893617  1.000000  0.222458  20.6         No       2  Class 1  \n",
       "490  0.893617  1.000000  0.118341  23.9         No       2  Class 1  \n",
       "491  0.893617  0.991301  0.143765  22.0         No       2  Class 1  \n",
       "492  0.893617  1.000000  0.186138  11.9         No       2  Class 1  \n",
       "\n",
       "[493 rows x 14 columns]"
      ]
     },
     "execution_count": 53,
     "metadata": {},
     "output_type": "execute_result"
    }
   ],
   "source": [
    "### Looking at the sample records of the dataset\n",
    "\n",
    "dataset"
   ]
  },
  {
   "cell_type": "markdown",
   "id": "939cd665",
   "metadata": {},
   "source": [
    "#### 4.4 Feature Encoding"
   ]
  },
  {
   "cell_type": "markdown",
   "id": "8b493fe8",
   "metadata": {},
   "source": [
    "Feature encoding is the process of turning categorical data in a dataset into numerical data. It is essential that we perform feature encoding because most machine learning models can only interpret numerical data and not data in text form.\n",
    "\n",
    "Here, we will use One Hot Encoding for the columns - RiverBound, NewRAD, TaxSlab."
   ]
  },
  {
   "cell_type": "code",
   "execution_count": 54,
   "id": "468d9523",
   "metadata": {},
   "outputs": [
    {
     "data": {
      "text/html": [
       "<div>\n",
       "<style scoped>\n",
       "    .dataframe tbody tr th:only-of-type {\n",
       "        vertical-align: middle;\n",
       "    }\n",
       "\n",
       "    .dataframe tbody tr th {\n",
       "        vertical-align: top;\n",
       "    }\n",
       "\n",
       "    .dataframe thead th {\n",
       "        text-align: right;\n",
       "    }\n",
       "</style>\n",
       "<table border=\"1\" class=\"dataframe\">\n",
       "  <thead>\n",
       "    <tr style=\"text-align: right;\">\n",
       "      <th></th>\n",
       "      <th>CRIM</th>\n",
       "      <th>ZN</th>\n",
       "      <th>INDUS</th>\n",
       "      <th>NOX</th>\n",
       "      <th>RM</th>\n",
       "      <th>AGE</th>\n",
       "      <th>DIS</th>\n",
       "      <th>PTRATIO</th>\n",
       "      <th>B</th>\n",
       "      <th>LSTAT</th>\n",
       "      <th>MEDV</th>\n",
       "      <th>RiverBound_No</th>\n",
       "      <th>RiverBound_Yes</th>\n",
       "      <th>NewRAD_1</th>\n",
       "      <th>NewRAD_2</th>\n",
       "      <th>TaxSlab_Class 1</th>\n",
       "      <th>TaxSlab_Class 2</th>\n",
       "    </tr>\n",
       "  </thead>\n",
       "  <tbody>\n",
       "    <tr>\n",
       "      <th>0</th>\n",
       "      <td>0.0</td>\n",
       "      <td>0.948555</td>\n",
       "      <td>0.058148</td>\n",
       "      <td>0.314815</td>\n",
       "      <td>0.577505</td>\n",
       "      <td>0.641607</td>\n",
       "      <td>0.269203</td>\n",
       "      <td>0.287234</td>\n",
       "      <td>1.000000</td>\n",
       "      <td>0.098366</td>\n",
       "      <td>24.0</td>\n",
       "      <td>1</td>\n",
       "      <td>0</td>\n",
       "      <td>0</td>\n",
       "      <td>1</td>\n",
       "      <td>1</td>\n",
       "      <td>0</td>\n",
       "    </tr>\n",
       "    <tr>\n",
       "      <th>1</th>\n",
       "      <td>0.0</td>\n",
       "      <td>0.000000</td>\n",
       "      <td>0.234444</td>\n",
       "      <td>0.172840</td>\n",
       "      <td>0.547998</td>\n",
       "      <td>0.782698</td>\n",
       "      <td>0.348962</td>\n",
       "      <td>0.553191</td>\n",
       "      <td>1.000000</td>\n",
       "      <td>0.224274</td>\n",
       "      <td>21.6</td>\n",
       "      <td>1</td>\n",
       "      <td>0</td>\n",
       "      <td>0</td>\n",
       "      <td>1</td>\n",
       "      <td>1</td>\n",
       "      <td>0</td>\n",
       "    </tr>\n",
       "    <tr>\n",
       "      <th>2</th>\n",
       "      <td>0.0</td>\n",
       "      <td>0.000000</td>\n",
       "      <td>0.234444</td>\n",
       "      <td>0.172840</td>\n",
       "      <td>0.694386</td>\n",
       "      <td>0.599382</td>\n",
       "      <td>0.348962</td>\n",
       "      <td>0.553191</td>\n",
       "      <td>0.989737</td>\n",
       "      <td>0.069613</td>\n",
       "      <td>34.7</td>\n",
       "      <td>1</td>\n",
       "      <td>0</td>\n",
       "      <td>0</td>\n",
       "      <td>1</td>\n",
       "      <td>1</td>\n",
       "      <td>0</td>\n",
       "    </tr>\n",
       "    <tr>\n",
       "      <th>3</th>\n",
       "      <td>0.0</td>\n",
       "      <td>0.000000</td>\n",
       "      <td>0.053333</td>\n",
       "      <td>0.150206</td>\n",
       "      <td>0.658555</td>\n",
       "      <td>0.441813</td>\n",
       "      <td>0.448545</td>\n",
       "      <td>0.648936</td>\n",
       "      <td>0.994276</td>\n",
       "      <td>0.036622</td>\n",
       "      <td>33.4</td>\n",
       "      <td>1</td>\n",
       "      <td>0</td>\n",
       "      <td>0</td>\n",
       "      <td>1</td>\n",
       "      <td>1</td>\n",
       "      <td>0</td>\n",
       "    </tr>\n",
       "    <tr>\n",
       "      <th>4</th>\n",
       "      <td>0.0</td>\n",
       "      <td>0.000000</td>\n",
       "      <td>0.053333</td>\n",
       "      <td>0.150206</td>\n",
       "      <td>0.687105</td>\n",
       "      <td>0.528321</td>\n",
       "      <td>0.448545</td>\n",
       "      <td>0.648936</td>\n",
       "      <td>1.000000</td>\n",
       "      <td>0.108959</td>\n",
       "      <td>36.2</td>\n",
       "      <td>1</td>\n",
       "      <td>0</td>\n",
       "      <td>0</td>\n",
       "      <td>1</td>\n",
       "      <td>1</td>\n",
       "      <td>0</td>\n",
       "    </tr>\n",
       "    <tr>\n",
       "      <th>...</th>\n",
       "      <td>...</td>\n",
       "      <td>...</td>\n",
       "      <td>...</td>\n",
       "      <td>...</td>\n",
       "      <td>...</td>\n",
       "      <td>...</td>\n",
       "      <td>...</td>\n",
       "      <td>...</td>\n",
       "      <td>...</td>\n",
       "      <td>...</td>\n",
       "      <td>...</td>\n",
       "      <td>...</td>\n",
       "      <td>...</td>\n",
       "      <td>...</td>\n",
       "      <td>...</td>\n",
       "      <td>...</td>\n",
       "      <td>...</td>\n",
       "    </tr>\n",
       "    <tr>\n",
       "      <th>488</th>\n",
       "      <td>0.0</td>\n",
       "      <td>0.000000</td>\n",
       "      <td>0.414444</td>\n",
       "      <td>0.386831</td>\n",
       "      <td>0.580954</td>\n",
       "      <td>0.681771</td>\n",
       "      <td>0.122671</td>\n",
       "      <td>0.893617</td>\n",
       "      <td>0.987619</td>\n",
       "      <td>0.240315</td>\n",
       "      <td>22.4</td>\n",
       "      <td>1</td>\n",
       "      <td>0</td>\n",
       "      <td>0</td>\n",
       "      <td>1</td>\n",
       "      <td>1</td>\n",
       "      <td>0</td>\n",
       "    </tr>\n",
       "    <tr>\n",
       "      <th>489</th>\n",
       "      <td>0.0</td>\n",
       "      <td>0.000000</td>\n",
       "      <td>0.414444</td>\n",
       "      <td>0.386831</td>\n",
       "      <td>0.490324</td>\n",
       "      <td>0.760041</td>\n",
       "      <td>0.105293</td>\n",
       "      <td>0.893617</td>\n",
       "      <td>1.000000</td>\n",
       "      <td>0.222458</td>\n",
       "      <td>20.6</td>\n",
       "      <td>1</td>\n",
       "      <td>0</td>\n",
       "      <td>0</td>\n",
       "      <td>1</td>\n",
       "      <td>1</td>\n",
       "      <td>0</td>\n",
       "    </tr>\n",
       "    <tr>\n",
       "      <th>490</th>\n",
       "      <td>0.0</td>\n",
       "      <td>0.000000</td>\n",
       "      <td>0.414444</td>\n",
       "      <td>0.386831</td>\n",
       "      <td>0.654340</td>\n",
       "      <td>0.907312</td>\n",
       "      <td>0.094381</td>\n",
       "      <td>0.893617</td>\n",
       "      <td>1.000000</td>\n",
       "      <td>0.118341</td>\n",
       "      <td>23.9</td>\n",
       "      <td>1</td>\n",
       "      <td>0</td>\n",
       "      <td>0</td>\n",
       "      <td>1</td>\n",
       "      <td>1</td>\n",
       "      <td>0</td>\n",
       "    </tr>\n",
       "    <tr>\n",
       "      <th>491</th>\n",
       "      <td>0.0</td>\n",
       "      <td>0.000000</td>\n",
       "      <td>0.414444</td>\n",
       "      <td>0.386831</td>\n",
       "      <td>0.619467</td>\n",
       "      <td>0.889804</td>\n",
       "      <td>0.114514</td>\n",
       "      <td>0.893617</td>\n",
       "      <td>0.991301</td>\n",
       "      <td>0.143765</td>\n",
       "      <td>22.0</td>\n",
       "      <td>1</td>\n",
       "      <td>0</td>\n",
       "      <td>0</td>\n",
       "      <td>1</td>\n",
       "      <td>1</td>\n",
       "      <td>0</td>\n",
       "    </tr>\n",
       "    <tr>\n",
       "      <th>492</th>\n",
       "      <td>0.0</td>\n",
       "      <td>0.000000</td>\n",
       "      <td>0.414444</td>\n",
       "      <td>0.386831</td>\n",
       "      <td>0.473079</td>\n",
       "      <td>0.802266</td>\n",
       "      <td>0.125072</td>\n",
       "      <td>0.893617</td>\n",
       "      <td>1.000000</td>\n",
       "      <td>0.186138</td>\n",
       "      <td>11.9</td>\n",
       "      <td>1</td>\n",
       "      <td>0</td>\n",
       "      <td>0</td>\n",
       "      <td>1</td>\n",
       "      <td>1</td>\n",
       "      <td>0</td>\n",
       "    </tr>\n",
       "  </tbody>\n",
       "</table>\n",
       "<p>493 rows × 17 columns</p>\n",
       "</div>"
      ],
      "text/plain": [
       "     CRIM        ZN     INDUS       NOX        RM       AGE       DIS  \\\n",
       "0     0.0  0.948555  0.058148  0.314815  0.577505  0.641607  0.269203   \n",
       "1     0.0  0.000000  0.234444  0.172840  0.547998  0.782698  0.348962   \n",
       "2     0.0  0.000000  0.234444  0.172840  0.694386  0.599382  0.348962   \n",
       "3     0.0  0.000000  0.053333  0.150206  0.658555  0.441813  0.448545   \n",
       "4     0.0  0.000000  0.053333  0.150206  0.687105  0.528321  0.448545   \n",
       "..    ...       ...       ...       ...       ...       ...       ...   \n",
       "488   0.0  0.000000  0.414444  0.386831  0.580954  0.681771  0.122671   \n",
       "489   0.0  0.000000  0.414444  0.386831  0.490324  0.760041  0.105293   \n",
       "490   0.0  0.000000  0.414444  0.386831  0.654340  0.907312  0.094381   \n",
       "491   0.0  0.000000  0.414444  0.386831  0.619467  0.889804  0.114514   \n",
       "492   0.0  0.000000  0.414444  0.386831  0.473079  0.802266  0.125072   \n",
       "\n",
       "      PTRATIO         B     LSTAT  MEDV  RiverBound_No  RiverBound_Yes  \\\n",
       "0    0.287234  1.000000  0.098366  24.0              1               0   \n",
       "1    0.553191  1.000000  0.224274  21.6              1               0   \n",
       "2    0.553191  0.989737  0.069613  34.7              1               0   \n",
       "3    0.648936  0.994276  0.036622  33.4              1               0   \n",
       "4    0.648936  1.000000  0.108959  36.2              1               0   \n",
       "..        ...       ...       ...   ...            ...             ...   \n",
       "488  0.893617  0.987619  0.240315  22.4              1               0   \n",
       "489  0.893617  1.000000  0.222458  20.6              1               0   \n",
       "490  0.893617  1.000000  0.118341  23.9              1               0   \n",
       "491  0.893617  0.991301  0.143765  22.0              1               0   \n",
       "492  0.893617  1.000000  0.186138  11.9              1               0   \n",
       "\n",
       "     NewRAD_1  NewRAD_2  TaxSlab_Class 1  TaxSlab_Class 2  \n",
       "0           0         1                1                0  \n",
       "1           0         1                1                0  \n",
       "2           0         1                1                0  \n",
       "3           0         1                1                0  \n",
       "4           0         1                1                0  \n",
       "..        ...       ...              ...              ...  \n",
       "488         0         1                1                0  \n",
       "489         0         1                1                0  \n",
       "490         0         1                1                0  \n",
       "491         0         1                1                0  \n",
       "492         0         1                1                0  \n",
       "\n",
       "[493 rows x 17 columns]"
      ]
     },
     "execution_count": 54,
     "metadata": {},
     "output_type": "execute_result"
    }
   ],
   "source": [
    "### One Hot Encoding the columns - RiverBound, NewRAD, TaxSlab of the dataset\n",
    "\n",
    "encoded_dataset = pd.get_dummies(data = dataset, columns = ['RiverBound', 'NewRAD', 'TaxSlab'])\n",
    "encoded_dataset"
   ]
  },
  {
   "cell_type": "code",
   "execution_count": 55,
   "id": "195f3ad5",
   "metadata": {},
   "outputs": [
    {
     "data": {
      "text/html": [
       "<div>\n",
       "<style scoped>\n",
       "    .dataframe tbody tr th:only-of-type {\n",
       "        vertical-align: middle;\n",
       "    }\n",
       "\n",
       "    .dataframe tbody tr th {\n",
       "        vertical-align: top;\n",
       "    }\n",
       "\n",
       "    .dataframe thead th {\n",
       "        text-align: right;\n",
       "    }\n",
       "</style>\n",
       "<table border=\"1\" class=\"dataframe\">\n",
       "  <thead>\n",
       "    <tr style=\"text-align: right;\">\n",
       "      <th></th>\n",
       "      <th>CRIM</th>\n",
       "      <th>ZN</th>\n",
       "      <th>INDUS</th>\n",
       "      <th>NOX</th>\n",
       "      <th>RM</th>\n",
       "      <th>AGE</th>\n",
       "      <th>DIS</th>\n",
       "      <th>PTRATIO</th>\n",
       "      <th>B</th>\n",
       "      <th>LSTAT</th>\n",
       "      <th>RiverBound_No</th>\n",
       "      <th>RiverBound_Yes</th>\n",
       "      <th>NewRAD_1</th>\n",
       "      <th>NewRAD_2</th>\n",
       "      <th>TaxSlab_Class 1</th>\n",
       "      <th>TaxSlab_Class 2</th>\n",
       "      <th>Target</th>\n",
       "    </tr>\n",
       "  </thead>\n",
       "  <tbody>\n",
       "    <tr>\n",
       "      <th>0</th>\n",
       "      <td>0.0</td>\n",
       "      <td>0.948555</td>\n",
       "      <td>0.058148</td>\n",
       "      <td>0.314815</td>\n",
       "      <td>0.577505</td>\n",
       "      <td>0.641607</td>\n",
       "      <td>0.269203</td>\n",
       "      <td>0.287234</td>\n",
       "      <td>1.000000</td>\n",
       "      <td>0.098366</td>\n",
       "      <td>1</td>\n",
       "      <td>0</td>\n",
       "      <td>0</td>\n",
       "      <td>1</td>\n",
       "      <td>1</td>\n",
       "      <td>0</td>\n",
       "      <td>24.0</td>\n",
       "    </tr>\n",
       "    <tr>\n",
       "      <th>1</th>\n",
       "      <td>0.0</td>\n",
       "      <td>0.000000</td>\n",
       "      <td>0.234444</td>\n",
       "      <td>0.172840</td>\n",
       "      <td>0.547998</td>\n",
       "      <td>0.782698</td>\n",
       "      <td>0.348962</td>\n",
       "      <td>0.553191</td>\n",
       "      <td>1.000000</td>\n",
       "      <td>0.224274</td>\n",
       "      <td>1</td>\n",
       "      <td>0</td>\n",
       "      <td>0</td>\n",
       "      <td>1</td>\n",
       "      <td>1</td>\n",
       "      <td>0</td>\n",
       "      <td>21.6</td>\n",
       "    </tr>\n",
       "    <tr>\n",
       "      <th>2</th>\n",
       "      <td>0.0</td>\n",
       "      <td>0.000000</td>\n",
       "      <td>0.234444</td>\n",
       "      <td>0.172840</td>\n",
       "      <td>0.694386</td>\n",
       "      <td>0.599382</td>\n",
       "      <td>0.348962</td>\n",
       "      <td>0.553191</td>\n",
       "      <td>0.989737</td>\n",
       "      <td>0.069613</td>\n",
       "      <td>1</td>\n",
       "      <td>0</td>\n",
       "      <td>0</td>\n",
       "      <td>1</td>\n",
       "      <td>1</td>\n",
       "      <td>0</td>\n",
       "      <td>34.7</td>\n",
       "    </tr>\n",
       "    <tr>\n",
       "      <th>3</th>\n",
       "      <td>0.0</td>\n",
       "      <td>0.000000</td>\n",
       "      <td>0.053333</td>\n",
       "      <td>0.150206</td>\n",
       "      <td>0.658555</td>\n",
       "      <td>0.441813</td>\n",
       "      <td>0.448545</td>\n",
       "      <td>0.648936</td>\n",
       "      <td>0.994276</td>\n",
       "      <td>0.036622</td>\n",
       "      <td>1</td>\n",
       "      <td>0</td>\n",
       "      <td>0</td>\n",
       "      <td>1</td>\n",
       "      <td>1</td>\n",
       "      <td>0</td>\n",
       "      <td>33.4</td>\n",
       "    </tr>\n",
       "    <tr>\n",
       "      <th>4</th>\n",
       "      <td>0.0</td>\n",
       "      <td>0.000000</td>\n",
       "      <td>0.053333</td>\n",
       "      <td>0.150206</td>\n",
       "      <td>0.687105</td>\n",
       "      <td>0.528321</td>\n",
       "      <td>0.448545</td>\n",
       "      <td>0.648936</td>\n",
       "      <td>1.000000</td>\n",
       "      <td>0.108959</td>\n",
       "      <td>1</td>\n",
       "      <td>0</td>\n",
       "      <td>0</td>\n",
       "      <td>1</td>\n",
       "      <td>1</td>\n",
       "      <td>0</td>\n",
       "      <td>36.2</td>\n",
       "    </tr>\n",
       "    <tr>\n",
       "      <th>...</th>\n",
       "      <td>...</td>\n",
       "      <td>...</td>\n",
       "      <td>...</td>\n",
       "      <td>...</td>\n",
       "      <td>...</td>\n",
       "      <td>...</td>\n",
       "      <td>...</td>\n",
       "      <td>...</td>\n",
       "      <td>...</td>\n",
       "      <td>...</td>\n",
       "      <td>...</td>\n",
       "      <td>...</td>\n",
       "      <td>...</td>\n",
       "      <td>...</td>\n",
       "      <td>...</td>\n",
       "      <td>...</td>\n",
       "      <td>...</td>\n",
       "    </tr>\n",
       "    <tr>\n",
       "      <th>488</th>\n",
       "      <td>0.0</td>\n",
       "      <td>0.000000</td>\n",
       "      <td>0.414444</td>\n",
       "      <td>0.386831</td>\n",
       "      <td>0.580954</td>\n",
       "      <td>0.681771</td>\n",
       "      <td>0.122671</td>\n",
       "      <td>0.893617</td>\n",
       "      <td>0.987619</td>\n",
       "      <td>0.240315</td>\n",
       "      <td>1</td>\n",
       "      <td>0</td>\n",
       "      <td>0</td>\n",
       "      <td>1</td>\n",
       "      <td>1</td>\n",
       "      <td>0</td>\n",
       "      <td>22.4</td>\n",
       "    </tr>\n",
       "    <tr>\n",
       "      <th>489</th>\n",
       "      <td>0.0</td>\n",
       "      <td>0.000000</td>\n",
       "      <td>0.414444</td>\n",
       "      <td>0.386831</td>\n",
       "      <td>0.490324</td>\n",
       "      <td>0.760041</td>\n",
       "      <td>0.105293</td>\n",
       "      <td>0.893617</td>\n",
       "      <td>1.000000</td>\n",
       "      <td>0.222458</td>\n",
       "      <td>1</td>\n",
       "      <td>0</td>\n",
       "      <td>0</td>\n",
       "      <td>1</td>\n",
       "      <td>1</td>\n",
       "      <td>0</td>\n",
       "      <td>20.6</td>\n",
       "    </tr>\n",
       "    <tr>\n",
       "      <th>490</th>\n",
       "      <td>0.0</td>\n",
       "      <td>0.000000</td>\n",
       "      <td>0.414444</td>\n",
       "      <td>0.386831</td>\n",
       "      <td>0.654340</td>\n",
       "      <td>0.907312</td>\n",
       "      <td>0.094381</td>\n",
       "      <td>0.893617</td>\n",
       "      <td>1.000000</td>\n",
       "      <td>0.118341</td>\n",
       "      <td>1</td>\n",
       "      <td>0</td>\n",
       "      <td>0</td>\n",
       "      <td>1</td>\n",
       "      <td>1</td>\n",
       "      <td>0</td>\n",
       "      <td>23.9</td>\n",
       "    </tr>\n",
       "    <tr>\n",
       "      <th>491</th>\n",
       "      <td>0.0</td>\n",
       "      <td>0.000000</td>\n",
       "      <td>0.414444</td>\n",
       "      <td>0.386831</td>\n",
       "      <td>0.619467</td>\n",
       "      <td>0.889804</td>\n",
       "      <td>0.114514</td>\n",
       "      <td>0.893617</td>\n",
       "      <td>0.991301</td>\n",
       "      <td>0.143765</td>\n",
       "      <td>1</td>\n",
       "      <td>0</td>\n",
       "      <td>0</td>\n",
       "      <td>1</td>\n",
       "      <td>1</td>\n",
       "      <td>0</td>\n",
       "      <td>22.0</td>\n",
       "    </tr>\n",
       "    <tr>\n",
       "      <th>492</th>\n",
       "      <td>0.0</td>\n",
       "      <td>0.000000</td>\n",
       "      <td>0.414444</td>\n",
       "      <td>0.386831</td>\n",
       "      <td>0.473079</td>\n",
       "      <td>0.802266</td>\n",
       "      <td>0.125072</td>\n",
       "      <td>0.893617</td>\n",
       "      <td>1.000000</td>\n",
       "      <td>0.186138</td>\n",
       "      <td>1</td>\n",
       "      <td>0</td>\n",
       "      <td>0</td>\n",
       "      <td>1</td>\n",
       "      <td>1</td>\n",
       "      <td>0</td>\n",
       "      <td>11.9</td>\n",
       "    </tr>\n",
       "  </tbody>\n",
       "</table>\n",
       "<p>493 rows × 17 columns</p>\n",
       "</div>"
      ],
      "text/plain": [
       "     CRIM        ZN     INDUS       NOX        RM       AGE       DIS  \\\n",
       "0     0.0  0.948555  0.058148  0.314815  0.577505  0.641607  0.269203   \n",
       "1     0.0  0.000000  0.234444  0.172840  0.547998  0.782698  0.348962   \n",
       "2     0.0  0.000000  0.234444  0.172840  0.694386  0.599382  0.348962   \n",
       "3     0.0  0.000000  0.053333  0.150206  0.658555  0.441813  0.448545   \n",
       "4     0.0  0.000000  0.053333  0.150206  0.687105  0.528321  0.448545   \n",
       "..    ...       ...       ...       ...       ...       ...       ...   \n",
       "488   0.0  0.000000  0.414444  0.386831  0.580954  0.681771  0.122671   \n",
       "489   0.0  0.000000  0.414444  0.386831  0.490324  0.760041  0.105293   \n",
       "490   0.0  0.000000  0.414444  0.386831  0.654340  0.907312  0.094381   \n",
       "491   0.0  0.000000  0.414444  0.386831  0.619467  0.889804  0.114514   \n",
       "492   0.0  0.000000  0.414444  0.386831  0.473079  0.802266  0.125072   \n",
       "\n",
       "      PTRATIO         B     LSTAT  RiverBound_No  RiverBound_Yes  NewRAD_1  \\\n",
       "0    0.287234  1.000000  0.098366              1               0         0   \n",
       "1    0.553191  1.000000  0.224274              1               0         0   \n",
       "2    0.553191  0.989737  0.069613              1               0         0   \n",
       "3    0.648936  0.994276  0.036622              1               0         0   \n",
       "4    0.648936  1.000000  0.108959              1               0         0   \n",
       "..        ...       ...       ...            ...             ...       ...   \n",
       "488  0.893617  0.987619  0.240315              1               0         0   \n",
       "489  0.893617  1.000000  0.222458              1               0         0   \n",
       "490  0.893617  1.000000  0.118341              1               0         0   \n",
       "491  0.893617  0.991301  0.143765              1               0         0   \n",
       "492  0.893617  1.000000  0.186138              1               0         0   \n",
       "\n",
       "     NewRAD_2  TaxSlab_Class 1  TaxSlab_Class 2  Target  \n",
       "0           1                1                0    24.0  \n",
       "1           1                1                0    21.6  \n",
       "2           1                1                0    34.7  \n",
       "3           1                1                0    33.4  \n",
       "4           1                1                0    36.2  \n",
       "..        ...              ...              ...     ...  \n",
       "488         1                1                0    22.4  \n",
       "489         1                1                0    20.6  \n",
       "490         1                1                0    23.9  \n",
       "491         1                1                0    22.0  \n",
       "492         1                1                0    11.9  \n",
       "\n",
       "[493 rows x 17 columns]"
      ]
     },
     "execution_count": 55,
     "metadata": {},
     "output_type": "execute_result"
    }
   ],
   "source": [
    "### Create the column - Target using MEDV\n",
    "\n",
    "target_data = encoded_dataset['MEDV']\n",
    "encoded_dataset['Target'] = target_data\n",
    "\n",
    "### Dropping the column - MEDV\n",
    "\n",
    "encoded_dataset.drop(['MEDV'], axis = 1, inplace = True)\n",
    "encoded_dataset"
   ]
  },
  {
   "cell_type": "markdown",
   "id": "e5d105f8",
   "metadata": {},
   "source": [
    "#### 4.5 Feature Selection"
   ]
  },
  {
   "cell_type": "markdown",
   "id": "385b18a6",
   "metadata": {},
   "source": [
    "Feature selection is the process of reducing the number of input variables when developing a predictive model. It is desirable to reduce the number of input variables to both reduce the computational cost of modeling and, in some cases, to improve the performance of the model."
   ]
  },
  {
   "cell_type": "markdown",
   "id": "b005ae86",
   "metadata": {},
   "source": [
    "##### 4.5.1 Plotting the correlation matrix for the numerical columns"
   ]
  },
  {
   "cell_type": "code",
   "execution_count": 56,
   "id": "3f3a6e9e",
   "metadata": {},
   "outputs": [
    {
     "data": {
      "text/plain": [
       "Text(0.5, 1.0, 'Correlation Heatmap')"
      ]
     },
     "execution_count": 56,
     "metadata": {},
     "output_type": "execute_result"
    },
    {
     "data": {
      "image/png": "[encoded data removed]",
      "text/plain": [
       "<Figure size 720x720 with 2 Axes>"
      ]
     },
     "metadata": {
      "needs_background": "light"
     },
     "output_type": "display_data"
    }
   ],
   "source": [
    "### Plotting the correlation between various columns of the filter_dataset\n",
    "\n",
    "plt.figure(figsize = (10, 10))\n",
    "heatmap = sns.heatmap(encoded_dataset.corr(), vmin = -1, vmax = 1, annot = True)\n",
    "heatmap.set_title('Correlation Heatmap', fontdict = {'fontsize' : 12}, pad = 12)"
   ]
  },
  {
   "cell_type": "markdown",
   "id": "26606e9f",
   "metadata": {},
   "source": [
    "From the above figure, we can see that there are a few strong correlations between the columns."
   ]
  },
  {
   "cell_type": "markdown",
   "id": "077ce59d",
   "metadata": {},
   "source": [
    "##### 4.5.2 Removing the columns that cause multicollinearity"
   ]
  },
  {
   "cell_type": "markdown",
   "id": "66be65e8",
   "metadata": {},
   "source": [
    "On observing the above correlations, we will drop the columns NOX, DIS, AGE from the dataset to ensure we reduce the impact of certain features over other."
   ]
  },
  {
   "cell_type": "markdown",
   "id": "b3ffb6c6",
   "metadata": {},
   "source": [
    "Now, we will remove the columns - NOX, DIS, AGE from the encoded dataset."
   ]
  },
  {
   "cell_type": "code",
   "execution_count": 57,
   "id": "eacd416f",
   "metadata": {},
   "outputs": [
    {
     "data": {
      "text/html": [
       "<div>\n",
       "<style scoped>\n",
       "    .dataframe tbody tr th:only-of-type {\n",
       "        vertical-align: middle;\n",
       "    }\n",
       "\n",
       "    .dataframe tbody tr th {\n",
       "        vertical-align: top;\n",
       "    }\n",
       "\n",
       "    .dataframe thead th {\n",
       "        text-align: right;\n",
       "    }\n",
       "</style>\n",
       "<table border=\"1\" class=\"dataframe\">\n",
       "  <thead>\n",
       "    <tr style=\"text-align: right;\">\n",
       "      <th></th>\n",
       "      <th>CRIM</th>\n",
       "      <th>ZN</th>\n",
       "      <th>INDUS</th>\n",
       "      <th>RM</th>\n",
       "      <th>PTRATIO</th>\n",
       "      <th>B</th>\n",
       "      <th>LSTAT</th>\n",
       "      <th>RiverBound_No</th>\n",
       "      <th>RiverBound_Yes</th>\n",
       "      <th>NewRAD_1</th>\n",
       "      <th>NewRAD_2</th>\n",
       "      <th>TaxSlab_Class 1</th>\n",
       "      <th>TaxSlab_Class 2</th>\n",
       "      <th>Target</th>\n",
       "    </tr>\n",
       "  </thead>\n",
       "  <tbody>\n",
       "    <tr>\n",
       "      <th>0</th>\n",
       "      <td>0.0</td>\n",
       "      <td>0.948555</td>\n",
       "      <td>0.058148</td>\n",
       "      <td>0.577505</td>\n",
       "      <td>0.287234</td>\n",
       "      <td>1.000000</td>\n",
       "      <td>0.098366</td>\n",
       "      <td>1</td>\n",
       "      <td>0</td>\n",
       "      <td>0</td>\n",
       "      <td>1</td>\n",
       "      <td>1</td>\n",
       "      <td>0</td>\n",
       "      <td>24.0</td>\n",
       "    </tr>\n",
       "    <tr>\n",
       "      <th>1</th>\n",
       "      <td>0.0</td>\n",
       "      <td>0.000000</td>\n",
       "      <td>0.234444</td>\n",
       "      <td>0.547998</td>\n",
       "      <td>0.553191</td>\n",
       "      <td>1.000000</td>\n",
       "      <td>0.224274</td>\n",
       "      <td>1</td>\n",
       "      <td>0</td>\n",
       "      <td>0</td>\n",
       "      <td>1</td>\n",
       "      <td>1</td>\n",
       "      <td>0</td>\n",
       "      <td>21.6</td>\n",
       "    </tr>\n",
       "    <tr>\n",
       "      <th>2</th>\n",
       "      <td>0.0</td>\n",
       "      <td>0.000000</td>\n",
       "      <td>0.234444</td>\n",
       "      <td>0.694386</td>\n",
       "      <td>0.553191</td>\n",
       "      <td>0.989737</td>\n",
       "      <td>0.069613</td>\n",
       "      <td>1</td>\n",
       "      <td>0</td>\n",
       "      <td>0</td>\n",
       "      <td>1</td>\n",
       "      <td>1</td>\n",
       "      <td>0</td>\n",
       "      <td>34.7</td>\n",
       "    </tr>\n",
       "    <tr>\n",
       "      <th>3</th>\n",
       "      <td>0.0</td>\n",
       "      <td>0.000000</td>\n",
       "      <td>0.053333</td>\n",
       "      <td>0.658555</td>\n",
       "      <td>0.648936</td>\n",
       "      <td>0.994276</td>\n",
       "      <td>0.036622</td>\n",
       "      <td>1</td>\n",
       "      <td>0</td>\n",
       "      <td>0</td>\n",
       "      <td>1</td>\n",
       "      <td>1</td>\n",
       "      <td>0</td>\n",
       "      <td>33.4</td>\n",
       "    </tr>\n",
       "    <tr>\n",
       "      <th>4</th>\n",
       "      <td>0.0</td>\n",
       "      <td>0.000000</td>\n",
       "      <td>0.053333</td>\n",
       "      <td>0.687105</td>\n",
       "      <td>0.648936</td>\n",
       "      <td>1.000000</td>\n",
       "      <td>0.108959</td>\n",
       "      <td>1</td>\n",
       "      <td>0</td>\n",
       "      <td>0</td>\n",
       "      <td>1</td>\n",
       "      <td>1</td>\n",
       "      <td>0</td>\n",
       "      <td>36.2</td>\n",
       "    </tr>\n",
       "    <tr>\n",
       "      <th>...</th>\n",
       "      <td>...</td>\n",
       "      <td>...</td>\n",
       "      <td>...</td>\n",
       "      <td>...</td>\n",
       "      <td>...</td>\n",
       "      <td>...</td>\n",
       "      <td>...</td>\n",
       "      <td>...</td>\n",
       "      <td>...</td>\n",
       "      <td>...</td>\n",
       "      <td>...</td>\n",
       "      <td>...</td>\n",
       "      <td>...</td>\n",
       "      <td>...</td>\n",
       "    </tr>\n",
       "    <tr>\n",
       "      <th>488</th>\n",
       "      <td>0.0</td>\n",
       "      <td>0.000000</td>\n",
       "      <td>0.414444</td>\n",
       "      <td>0.580954</td>\n",
       "      <td>0.893617</td>\n",
       "      <td>0.987619</td>\n",
       "      <td>0.240315</td>\n",
       "      <td>1</td>\n",
       "      <td>0</td>\n",
       "      <td>0</td>\n",
       "      <td>1</td>\n",
       "      <td>1</td>\n",
       "      <td>0</td>\n",
       "      <td>22.4</td>\n",
       "    </tr>\n",
       "    <tr>\n",
       "      <th>489</th>\n",
       "      <td>0.0</td>\n",
       "      <td>0.000000</td>\n",
       "      <td>0.414444</td>\n",
       "      <td>0.490324</td>\n",
       "      <td>0.893617</td>\n",
       "      <td>1.000000</td>\n",
       "      <td>0.222458</td>\n",
       "      <td>1</td>\n",
       "      <td>0</td>\n",
       "      <td>0</td>\n",
       "      <td>1</td>\n",
       "      <td>1</td>\n",
       "      <td>0</td>\n",
       "      <td>20.6</td>\n",
       "    </tr>\n",
       "    <tr>\n",
       "      <th>490</th>\n",
       "      <td>0.0</td>\n",
       "      <td>0.000000</td>\n",
       "      <td>0.414444</td>\n",
       "      <td>0.654340</td>\n",
       "      <td>0.893617</td>\n",
       "      <td>1.000000</td>\n",
       "      <td>0.118341</td>\n",
       "      <td>1</td>\n",
       "      <td>0</td>\n",
       "      <td>0</td>\n",
       "      <td>1</td>\n",
       "      <td>1</td>\n",
       "      <td>0</td>\n",
       "      <td>23.9</td>\n",
       "    </tr>\n",
       "    <tr>\n",
       "      <th>491</th>\n",
       "      <td>0.0</td>\n",
       "      <td>0.000000</td>\n",
       "      <td>0.414444</td>\n",
       "      <td>0.619467</td>\n",
       "      <td>0.893617</td>\n",
       "      <td>0.991301</td>\n",
       "      <td>0.143765</td>\n",
       "      <td>1</td>\n",
       "      <td>0</td>\n",
       "      <td>0</td>\n",
       "      <td>1</td>\n",
       "      <td>1</td>\n",
       "      <td>0</td>\n",
       "      <td>22.0</td>\n",
       "    </tr>\n",
       "    <tr>\n",
       "      <th>492</th>\n",
       "      <td>0.0</td>\n",
       "      <td>0.000000</td>\n",
       "      <td>0.414444</td>\n",
       "      <td>0.473079</td>\n",
       "      <td>0.893617</td>\n",
       "      <td>1.000000</td>\n",
       "      <td>0.186138</td>\n",
       "      <td>1</td>\n",
       "      <td>0</td>\n",
       "      <td>0</td>\n",
       "      <td>1</td>\n",
       "      <td>1</td>\n",
       "      <td>0</td>\n",
       "      <td>11.9</td>\n",
       "    </tr>\n",
       "  </tbody>\n",
       "</table>\n",
       "<p>493 rows × 14 columns</p>\n",
       "</div>"
      ],
      "text/plain": [
       "     CRIM        ZN     INDUS        RM   PTRATIO         B     LSTAT  \\\n",
       "0     0.0  0.948555  0.058148  0.577505  0.287234  1.000000  0.098366   \n",
       "1     0.0  0.000000  0.234444  0.547998  0.553191  1.000000  0.224274   \n",
       "2     0.0  0.000000  0.234444  0.694386  0.553191  0.989737  0.069613   \n",
       "3     0.0  0.000000  0.053333  0.658555  0.648936  0.994276  0.036622   \n",
       "4     0.0  0.000000  0.053333  0.687105  0.648936  1.000000  0.108959   \n",
       "..    ...       ...       ...       ...       ...       ...       ...   \n",
       "488   0.0  0.000000  0.414444  0.580954  0.893617  0.987619  0.240315   \n",
       "489   0.0  0.000000  0.414444  0.490324  0.893617  1.000000  0.222458   \n",
       "490   0.0  0.000000  0.414444  0.654340  0.893617  1.000000  0.118341   \n",
       "491   0.0  0.000000  0.414444  0.619467  0.893617  0.991301  0.143765   \n",
       "492   0.0  0.000000  0.414444  0.473079  0.893617  1.000000  0.186138   \n",
       "\n",
       "     RiverBound_No  RiverBound_Yes  NewRAD_1  NewRAD_2  TaxSlab_Class 1  \\\n",
       "0                1               0         0         1                1   \n",
       "1                1               0         0         1                1   \n",
       "2                1               0         0         1                1   \n",
       "3                1               0         0         1                1   \n",
       "4                1               0         0         1                1   \n",
       "..             ...             ...       ...       ...              ...   \n",
       "488              1               0         0         1                1   \n",
       "489              1               0         0         1                1   \n",
       "490              1               0         0         1                1   \n",
       "491              1               0         0         1                1   \n",
       "492              1               0         0         1                1   \n",
       "\n",
       "     TaxSlab_Class 2  Target  \n",
       "0                  0    24.0  \n",
       "1                  0    21.6  \n",
       "2                  0    34.7  \n",
       "3                  0    33.4  \n",
       "4                  0    36.2  \n",
       "..               ...     ...  \n",
       "488                0    22.4  \n",
       "489                0    20.6  \n",
       "490                0    23.9  \n",
       "491                0    22.0  \n",
       "492                0    11.9  \n",
       "\n",
       "[493 rows x 14 columns]"
      ]
     },
     "execution_count": 57,
     "metadata": {},
     "output_type": "execute_result"
    }
   ],
   "source": [
    "### Dropping the columns - NOX, DIS, AGE from the encoded dataset\n",
    "\n",
    "encoded_dataset.drop(['NOX', 'DIS', 'AGE'], axis = 1, inplace = True)\n",
    "encoded_dataset"
   ]
  },
  {
   "cell_type": "code",
   "execution_count": 58,
   "id": "cafed79c",
   "metadata": {},
   "outputs": [
    {
     "data": {
      "text/plain": [
       "Text(0.5, 1.0, 'Correlation Heatmap')"
      ]
     },
     "execution_count": 58,
     "metadata": {},
     "output_type": "execute_result"
    },
    {
     "data": {
      "image/png": "[encoded data removed]",
      "text/plain": [
       "<Figure size 720x720 with 2 Axes>"
      ]
     },
     "metadata": {
      "needs_background": "light"
     },
     "output_type": "display_data"
    }
   ],
   "source": [
    "### Plotting the new correlation matrix\n",
    "\n",
    "plt.figure(figsize = (10, 10))\n",
    "heatmap = sns.heatmap(encoded_dataset.corr(), vmin = -1, vmax = 1, annot = True)\n",
    "heatmap.set_title('Correlation Heatmap', fontdict = {'fontsize' : 12}, pad = 12)"
   ]
  },
  {
   "cell_type": "markdown",
   "id": "d5389a78",
   "metadata": {},
   "source": [
    "Now our datasets are ready for modelling."
   ]
  },
  {
   "cell_type": "markdown",
   "id": "64feb4c2",
   "metadata": {},
   "source": [
    "### 5. Modelling"
   ]
  },
  {
   "cell_type": "markdown",
   "id": "c7129b84",
   "metadata": {},
   "source": [
    "Scikit-learn is one of the most popular libraries for machine learning in Python and that is what we will use in the modelling part of this project.\n",
    "\n",
    "Since Boston House Prices is a regression problem, we will need to use regression models, also known as regressors, to train on our model to make predictions. I highly recommend checking out the scikit-learn documentation for more information on the different machine learning models available in their library. I have chosen the following regression models for the job:\n",
    "\n",
    "1. Multi Linear Regression\n",
    "2. Lasso Regression\n",
    "3. Ridge Regression\n",
    "4. Support Vector Regression\n",
    "5. Decision Tree regression\n",
    "6. Random Forest Regression\n",
    "7. Stacking Regression\n",
    "8. XGBoost Regression \n",
    "\n",
    "In this section of the notebook, I will fit the models to the training set as outlined above and evaluate their Root Mean Squared Error (RMSE) at making predictions. Then, we will select the best model based on the least RMSE value."
   ]
  },
  {
   "cell_type": "markdown",
   "id": "f5a3b520",
   "metadata": {},
   "source": [
    "#### 5.1 Splitting the data to Training and Test sets"
   ]
  },
  {
   "cell_type": "markdown",
   "id": "cc5cf1c9",
   "metadata": {},
   "source": [
    "Here, we will split the training data into X_train, X_test, Y_train, and Y_test so that they can be fed to the machine learning models that are used in the next section. Then the model with the best performance will be used to predict the result on the given test dataset."
   ]
  },
  {
   "cell_type": "code",
   "execution_count": 59,
   "id": "af48c8a4",
   "metadata": {},
   "outputs": [],
   "source": [
    "### Splitting the dataset to the matrices X and Y\n",
    "\n",
    "X = encoded_dataset.iloc[:, : -1].values\n",
    "Y = encoded_dataset.iloc[:, -1].values"
   ]
  },
  {
   "cell_type": "code",
   "execution_count": 60,
   "id": "40a50748",
   "metadata": {},
   "outputs": [
    {
     "data": {
      "text/plain": [
       "array([[0.        , 0.94855526, 0.05814815, ..., 1.        , 1.        ,\n",
       "        0.        ],\n",
       "       [0.        , 0.        , 0.23444444, ..., 1.        , 1.        ,\n",
       "        0.        ],\n",
       "       [0.        , 0.        , 0.23444444, ..., 1.        , 1.        ,\n",
       "        0.        ],\n",
       "       ...,\n",
       "       [0.        , 0.        , 0.41444444, ..., 1.        , 1.        ,\n",
       "        0.        ],\n",
       "       [0.        , 0.        , 0.41444444, ..., 1.        , 1.        ,\n",
       "        0.        ],\n",
       "       [0.        , 0.        , 0.41444444, ..., 1.        , 1.        ,\n",
       "        0.        ]])"
      ]
     },
     "execution_count": 60,
     "metadata": {},
     "output_type": "execute_result"
    }
   ],
   "source": [
    "### Looking at the new training data - X\n",
    "\n",
    "X"
   ]
  },
  {
   "cell_type": "code",
   "execution_count": 61,
   "id": "78010a08",
   "metadata": {},
   "outputs": [
    {
     "data": {
      "text/plain": [
       "array([24. , 21.6, 34.7, 33.4, 36.2, 28.7, 22.9, 27.1, 16.5, 18.9, 15. ,\n",
       "       18.9, 21.7, 20.4, 18.2, 19.9, 23.1, 17.5, 20.2, 18.2, 13.6, 19.6,\n",
       "       15.2, 14.5, 15.6, 13.9, 16.6, 14.8, 18.4, 21. , 12.7, 14.5, 13.2,\n",
       "       13.1, 13.5, 18.9, 20. , 21. , 24.7, 30.8, 34.9, 26.6, 25.3, 24.7,\n",
       "       21.2, 19.3, 20. , 16.6, 14.4, 19.4, 19.7, 20.5, 25. , 23.4, 18.9,\n",
       "       35.4, 24.7, 31.6, 23.3, 19.6, 18.7, 16. , 22.2, 25. , 33. , 23.5,\n",
       "       19.4, 22. , 17.4, 20.9, 24.2, 21.7, 22.8, 23.4, 24.1, 21.4, 20. ,\n",
       "       20.8, 21.2, 20.3, 28. , 23.9, 24.8, 22.9, 23.9, 26.6, 22.5, 22.2,\n",
       "       23.6, 28.7, 22.6, 22. , 22.9, 25. , 20.6, 28.4, 21.4, 38.7, 43.8,\n",
       "       33.2, 27.5, 26.5, 18.6, 19.3, 20.1, 19.5, 19.5, 20.4, 19.8, 19.4,\n",
       "       21.7, 22.8, 18.8, 18.7, 18.5, 18.3, 21.2, 19.2, 20.4, 19.3, 22. ,\n",
       "       20.3, 20.5, 17.3, 18.8, 21.4, 15.7, 16.2, 18. , 14.3, 19.2, 19.6,\n",
       "       23. , 18.4, 15.6, 18.1, 17.4, 17.1, 13.3, 17.8, 14. , 14.4, 13.4,\n",
       "       15.6, 11.8, 13.8, 15.6, 14.6, 17.8, 15.4, 21.5, 19.6, 15.3, 19.4,\n",
       "       17. , 15.6, 13.1, 41.3, 24.3, 23.3, 27. , 50. , 50. , 50. , 22.7,\n",
       "       25. , 50. , 23.8, 23.8, 22.3, 17.4, 19.1, 23.1, 23.6, 22.6, 29.4,\n",
       "       23.2, 24.6, 29.9, 37.2, 39.8, 36.2, 37.9, 32.5, 26.4, 29.6, 50. ,\n",
       "       32. , 29.8, 34.9, 37. , 30.5, 36.4, 31.1, 29.1, 33.3, 30.3, 34.6,\n",
       "       34.9, 32.9, 24.1, 42.3, 22.6, 24.4, 22.5, 24.4, 20. , 21.7, 19.3,\n",
       "       22.4, 28.1, 23.7, 25. , 23.3, 28.7, 21.5, 23. , 26.7, 21.7, 27.5,\n",
       "       30.1, 44.8, 50. , 37.6, 31.6, 46.7, 31.5, 24.3, 31.7, 41.7, 48.3,\n",
       "       29. , 24. , 25.1, 31.5, 23.7, 23.3, 22. , 20.1, 22.2, 23.7, 17.6,\n",
       "       18.5, 24.3, 20.5, 24.5, 26.2, 24.4, 24.8, 29.6, 42.8, 21.9, 20.9,\n",
       "       44. , 36. , 30.1, 33.8, 43.1, 31. , 36.5, 22.8, 30.7, 43.5, 20.7,\n",
       "       21.1, 25.2, 24.4, 35.2, 32.4, 32. , 33.2, 33.1, 29.1, 35.1, 45.4,\n",
       "       35.4, 46. , 32.2, 22. , 20.1, 23.2, 22.3, 24.8, 28.5, 37.3, 27.9,\n",
       "       23.9, 21.7, 28.6, 27.1, 20.3, 22.5, 29. , 24.8, 22. , 26.4, 33.1,\n",
       "       36.1, 28.4, 33.4, 28.2, 22.8, 20.3, 16.1, 22.1, 19.4, 21.6, 23.8,\n",
       "       16.2, 17.8, 19.8, 23.1, 21. , 23.8, 23.1, 20.4, 18.5, 25. , 24.6,\n",
       "       23. , 22.2, 19.3, 22.6, 19.8, 17.1, 19.4, 22.2, 20.7, 21.1, 19.5,\n",
       "       18.5, 20.6, 19. , 18.7, 32.7, 16.5, 23.9, 31.2, 17.5, 17.2, 23.1,\n",
       "       24.5, 26.6, 22.9, 24.1, 18.6, 30.1, 18.2, 20.6, 17.8, 21.7, 22.7,\n",
       "       22.6, 25. , 19.9, 20.8, 16.8, 21.9, 27.5, 21.9, 50. , 50. , 50. ,\n",
       "       50. , 50. , 13.8, 15. , 13.9, 13.3, 13.1, 10.2, 10.4, 10.9, 11.3,\n",
       "       12.3,  7.2, 10.5,  7.4, 10.2, 11.5, 15.1, 23.2,  9.7, 13.8, 12.7,\n",
       "       13.1, 12.5,  8.5,  5. ,  6.3,  5.6,  7.2, 12.1,  8.3,  8.5,  5. ,\n",
       "       11.9, 27.9, 17.2, 27.5, 15. , 17.2, 16.3,  7.2,  7.5, 10.4,  8.8,\n",
       "        8.4, 16.7, 14.2, 20.8, 13.4, 11.7,  8.3, 10.2, 10.9, 11. ,  9.5,\n",
       "       14.5, 14.1, 16.1, 14.3, 11.7, 13.4,  9.6,  8.7, 12.8, 10.5, 17.1,\n",
       "       18.4, 15.4, 10.8, 11.8, 14.9, 12.6, 14.1, 13. , 13.4, 15.2, 16.1,\n",
       "       17.8, 14.9, 14.1, 12.7, 13.5, 14.9, 20. , 16.4, 17.7, 19.5, 20.2,\n",
       "       21.4, 19.9, 19. , 19.1, 19.1, 20.1, 19.9, 19.6, 23.2, 29.8, 13.8,\n",
       "       13.3, 16.7, 12. , 14.6, 21.4, 23. , 23.7, 25. , 21.8, 20.6, 21.2,\n",
       "       19.1, 20.6, 15.2,  7. ,  8.1, 13.6, 20.1, 21.8, 24.5, 23.1, 19.7,\n",
       "       18.3, 21.2, 17.5, 16.8, 22.4, 20.6, 23.9, 22. , 11.9])"
      ]
     },
     "execution_count": 61,
     "metadata": {},
     "output_type": "execute_result"
    }
   ],
   "source": [
    "### Looking at the new test data - Y\n",
    "\n",
    "Y"
   ]
  },
  {
   "cell_type": "code",
   "execution_count": 62,
   "id": "3a00d807",
   "metadata": {},
   "outputs": [],
   "source": [
    "### Dividing the dataset into train and test in the ratio of 80 : 20\n",
    "\n",
    "X_train, X_test, Y_train, Y_test = train_test_split(X, Y, test_size = 0.2, random_state = 27, shuffle = True)"
   ]
  },
  {
   "cell_type": "code",
   "execution_count": 63,
   "id": "212fab87",
   "metadata": {},
   "outputs": [
    {
     "data": {
      "text/plain": [
       "array([[0.        , 0.        , 0.41444444, ..., 1.        , 1.        ,\n",
       "        0.        ],\n",
       "       [0.        , 0.        , 0.24592593, ..., 1.        , 1.        ,\n",
       "        0.        ],\n",
       "       [0.86771209, 0.        , 0.64296296, ..., 0.        , 0.        ,\n",
       "        1.        ],\n",
       "       ...,\n",
       "       [0.        , 0.        , 0.16481481, ..., 1.        , 1.        ,\n",
       "        0.        ],\n",
       "       [0.        , 0.        , 0.0637037 , ..., 1.        , 1.        ,\n",
       "        0.        ],\n",
       "       [0.        , 0.        , 0.27407407, ..., 1.        , 1.        ,\n",
       "        0.        ]])"
      ]
     },
     "execution_count": 63,
     "metadata": {},
     "output_type": "execute_result"
    }
   ],
   "source": [
    "X_train"
   ]
  },
  {
   "cell_type": "code",
   "execution_count": 64,
   "id": "09888676",
   "metadata": {},
   "outputs": [
    {
     "data": {
      "text/plain": [
       "array([[0.90983087, 0.        , 0.64296296, ..., 0.        , 0.        ,\n",
       "        1.        ],\n",
       "       [0.        , 0.99868721, 0.11148148, ..., 1.        , 1.        ,\n",
       "        0.        ],\n",
       "       [0.        , 0.        , 0.20222222, ..., 1.        , 1.        ,\n",
       "        0.        ],\n",
       "       ...,\n",
       "       [0.35788995, 0.        , 0.69777778, ..., 1.        , 0.        ,\n",
       "        1.        ],\n",
       "       [0.        , 0.98580819, 0.1       , ..., 1.        , 0.        ,\n",
       "        1.        ],\n",
       "       [0.        , 0.        , 0.33148148, ..., 1.        , 0.        ,\n",
       "        1.        ]])"
      ]
     },
     "execution_count": 64,
     "metadata": {},
     "output_type": "execute_result"
    }
   ],
   "source": [
    "X_test"
   ]
  },
  {
   "cell_type": "code",
   "execution_count": 65,
   "id": "99282f05",
   "metadata": {},
   "outputs": [
    {
     "data": {
      "text/plain": [
       "array([20.6, 23.1, 16.4, 13.1, 15.3, 20.4, 23.9, 17.3, 26.7, 50. ,  8.8,\n",
       "       20.8, 23.3, 30.1, 31.5, 19.6, 31. , 50. , 22.5, 23.2, 24.8, 27. ,\n",
       "       17.2, 16.5, 21.9, 30.8, 45.4, 15.6, 27.1, 11.9, 19.5, 22.8, 21.2,\n",
       "       23.1, 23. ,  8.7, 13.6, 15. , 22. , 30.1, 32.2, 19.4, 16.6, 24.1,\n",
       "       32.7, 31.1, 14.8, 23.7, 33.4, 23.8, 22.2, 25. , 18.6, 22.3, 24.2,\n",
       "       19.3,  8.3, 22. ,  5.6, 24.3, 27.1, 29. , 19.5, 21.2, 17.4, 20.1,\n",
       "       20.2, 10.5,  9.6, 25. , 17.6, 22.3, 26.6, 20.6,  7.5, 30.7, 28.5,\n",
       "       18.9, 42.3, 20. , 13.8, 21.7, 25.2,  7.4, 19.4, 23.6, 31.2, 33.8,\n",
       "       35.1, 24.5,  7.2, 15.6, 10.5, 28.7, 32.9, 13.8,  9.7, 13.1, 28.1,\n",
       "       24.3,  5. , 16.7, 17.8, 19.3, 26.5, 27.5, 22.7, 20.9, 13.4, 16.7,\n",
       "       15.1, 19.3, 22.1, 15.6, 38.7, 20. , 15.2, 15. , 10.8, 10.2, 15.2,\n",
       "       19.4, 12.7, 22.2, 21.7, 48.3, 43.8, 10.2, 21.1, 16. , 41.7, 14.4,\n",
       "       18.3, 25. ,  8.1, 11. , 24.7, 23.6, 17.1, 24.1, 22.7, 28.7, 33.1,\n",
       "       26.2, 39.8, 23.9, 15.7, 10.9, 18.5, 26.6, 13.6, 17.1, 19.6, 22.6,\n",
       "       24. , 21.9, 28. , 19. , 18.9, 50. , 13.5, 21.7, 36.2, 11.7, 35.4,\n",
       "       16.3, 33.1, 23.3, 21.4, 22.9, 25. , 50. , 20.5, 22.2, 25.1, 14.9,\n",
       "       19.1, 17.2, 37. , 21.7, 15.4, 16.5, 14. , 12.7, 19.3, 25. , 21.2,\n",
       "       41.3, 13.5, 36. , 20.4, 17.8, 28.4, 17.8, 14.3, 27.5, 14.3, 20.9,\n",
       "        7.2, 32. , 19.9, 24. , 50. , 14.9, 14.1, 10.4, 19.7, 24.7, 19.4,\n",
       "       29.1, 25. , 18.2, 18.7, 17.8, 13.3, 13.8, 20.8, 23.9, 20.3, 28.7,\n",
       "       19.3, 24.4, 24.1, 19.5, 14.5, 21.4, 18.9, 18.7, 22. , 31.6, 21.5,\n",
       "       25. ,  8.5, 26.6, 29.9, 22.8, 23.7, 12.7, 20.6, 13.2, 14.2, 46. ,\n",
       "       22.5, 18.1, 31.6, 20.4, 29.4, 22.8, 20. , 19. , 20.5, 21.2, 13. ,\n",
       "       22.9, 22.4, 16.1, 34.9, 22.9, 22. , 11.8, 19.1, 36.4, 13.9, 19.2,\n",
       "       18.5, 22.2, 24.3, 43.5, 22.9, 34.9, 21.5, 19.2, 25.3, 31.5, 11.8,\n",
       "       19.1, 13.3, 18. , 18.2, 27.5, 18.8, 17.5, 24.5, 24.4, 22.8, 37.9,\n",
       "       34.6,  5. , 23.1, 23.2, 18.4, 23.9, 18.5, 27.5, 19.1, 20.3, 19.7,\n",
       "       21.7, 23.1, 23.8, 28.2, 12. , 18.6, 29.6, 20. , 24.8, 33.2, 19.8,\n",
       "       20.1, 21.6, 11.7, 37.3, 36.1, 20.2, 43.1, 21.4, 18.8, 37.2, 23.7,\n",
       "       19.8, 21.6, 20.3, 19.4, 33. , 20.7, 18.5, 30.3, 29.1, 23.4, 27.9,\n",
       "       16.8, 12.1, 18.4,  7.2, 22.6, 16.1, 17.5, 23.9, 16.2, 19.6, 20.1,\n",
       "       13.4, 11.9, 12.8, 18.4, 14.1, 33.2, 23.2, 23. , 22.6, 13.1, 23.4,\n",
       "       50. , 32. , 26.4, 19.9, 25. , 20.7, 24.6, 22.5, 12.3, 21.7, 36.5,\n",
       "       29.8, 23.8, 24.5, 28.6, 42.8, 20.3, 19.9, 17.2, 23.3, 15.2, 20. ,\n",
       "       36.2, 24.6,  8.5, 22.6, 46.7, 17.4, 30.5, 16.2, 34.7, 13.1, 14.4,\n",
       "       13.9, 15.6, 24.8, 23.7, 21. , 14.5, 21.1, 26.4, 18.2])"
      ]
     },
     "execution_count": 65,
     "metadata": {},
     "output_type": "execute_result"
    }
   ],
   "source": [
    "Y_train"
   ]
  },
  {
   "cell_type": "code",
   "execution_count": 66,
   "id": "f28c4e6f",
   "metadata": {},
   "outputs": [
    {
     "data": {
      "text/plain": [
       "array([16.1, 44. , 37.6, 18.3,  9.5,  6.3,  8.3,  7. , 33.3, 21. , 10.9,\n",
       "       50. , 20.1, 19.5, 13.8, 23.8, 23.3, 20.1, 50. , 35.2, 14.5, 19.9,\n",
       "       30.1, 16.8, 23. , 23. , 21. , 17.4, 28.4, 15.4, 13.4, 12.6, 20.6,\n",
       "       29. , 23.2, 20.8, 21.8, 14.6, 12.5, 21.4, 24.4, 33.4, 13.3, 22. ,\n",
       "       29.6, 34.9, 17.1, 19.8, 22.4, 20.5, 18.7, 50. , 24.7, 21.8, 32.4,\n",
       "       18.9, 19.6, 16.6, 21.7, 15.6, 50. , 24.4, 35.4, 11.5, 21.4, 23.1,\n",
       "       15. , 11.3, 10.2, 19.6, 44.8,  8.4, 19.4, 10.4, 17.7, 22.2, 21.9,\n",
       "       27.9, 20.6, 20.6, 23.1, 22. , 14.9, 21.2, 20.4, 50. , 13.4, 14.1,\n",
       "       32.5, 14.6, 17.8, 22.6, 24.8, 22. , 31.7, 23.5, 17. , 29.8, 17.5])"
      ]
     },
     "execution_count": 66,
     "metadata": {},
     "output_type": "execute_result"
    }
   ],
   "source": [
    "Y_test"
   ]
  },
  {
   "cell_type": "markdown",
   "id": "d1d47bc4",
   "metadata": {},
   "source": [
    "Now, we apply regressors using the above data."
   ]
  },
  {
   "cell_type": "markdown",
   "id": "18fbddf2",
   "metadata": {},
   "source": [
    "#### 5.2 Fit the model"
   ]
  },
  {
   "cell_type": "markdown",
   "id": "a27f6168",
   "metadata": {},
   "source": [
    "In this section, we use various machine learning models to predict the results for our test data (X_test). We will store the model and its corresponding Root Mean Squared Error so that we can tabulate them later for choosing the best model."
   ]
  },
  {
   "cell_type": "code",
   "execution_count": 67,
   "id": "b6cd5191",
   "metadata": {},
   "outputs": [],
   "source": [
    "### Dictionary to store model and its performance\n",
    "\n",
    "model_performance = OrderedDict()"
   ]
  },
  {
   "cell_type": "markdown",
   "id": "ff3ae828",
   "metadata": {},
   "source": [
    "##### 5.2.1 Applying Multi Linear Regression"
   ]
  },
  {
   "cell_type": "code",
   "execution_count": 68,
   "id": "adeed5c7",
   "metadata": {},
   "outputs": [
    {
     "data": {
      "text/plain": [
       "LinearRegression()"
      ]
     },
     "execution_count": 68,
     "metadata": {},
     "output_type": "execute_result"
    }
   ],
   "source": [
    "### Training the Multi Linear Regression model on the Training set\n",
    "\n",
    "linear_regressor = LinearRegression()\n",
    "linear_regressor.fit(X_train, Y_train)"
   ]
  },
  {
   "cell_type": "code",
   "execution_count": 69,
   "id": "99fcc4bd",
   "metadata": {},
   "outputs": [],
   "source": [
    "### Predicting the Test set results\n",
    "\n",
    "Y_pred = linear_regressor.predict(X_test)"
   ]
  },
  {
   "cell_type": "code",
   "execution_count": 70,
   "id": "a92f8892",
   "metadata": {},
   "outputs": [
    {
     "name": "stdout",
     "output_type": "stream",
     "text": [
      "Root Mean Squared Error of the model is : 6.33\n"
     ]
    }
   ],
   "source": [
    "### Calculating Mean Squared Log Error for the model\n",
    "\n",
    "mse = round(mean_squared_error(Y_test, Y_pred), 3)\n",
    "rmse = round(sqrt(mse), 3)\n",
    "\n",
    "model_performance['Multi Linear Regression'] = rmse\n",
    "\n",
    "print('Root Mean Squared Error of the model is : {}'.format(rmse))"
   ]
  },
  {
   "cell_type": "markdown",
   "id": "4e941490",
   "metadata": {},
   "source": [
    "##### 5.2.2 Applying Lasso Regression "
   ]
  },
  {
   "cell_type": "code",
   "execution_count": 71,
   "id": "2156dc52",
   "metadata": {},
   "outputs": [
    {
     "data": {
      "text/plain": [
       "GridSearchCV(cv=5, estimator=Lasso(),\n",
       "             param_grid={'alpha': [1e-15, 1e-10, 1e-08, 0.001, 0.01, 1, 5, 10,\n",
       "                                   20, 30, 35, 40, 45, 50, 55, 100]},\n",
       "             scoring='neg_mean_squared_error')"
      ]
     },
     "execution_count": 71,
     "metadata": {},
     "output_type": "execute_result"
    }
   ],
   "source": [
    "### Training the Lasso Regression model on the Training set\n",
    "\n",
    "lasso = Lasso()\n",
    "parameters = {'alpha': [1e-15, 1e-10, 1e-8, 1e-3, 1e-2, 1, 5, 10, 20, 30, 35, 40, 45, 50, 55, 100]}\n",
    "lasso_regressor = GridSearchCV(lasso, parameters, scoring = 'neg_mean_squared_error', cv = 5)\n",
    "lasso_regressor.fit(X_train, Y_train)"
   ]
  },
  {
   "cell_type": "code",
   "execution_count": 72,
   "id": "b546835c",
   "metadata": {},
   "outputs": [
    {
     "name": "stdout",
     "output_type": "stream",
     "text": [
      "{'alpha': 0.01}\n",
      "-19.94382391340629\n"
     ]
    }
   ],
   "source": [
    "# Finding out negative mean squared error in Lasso Regression\n",
    "\n",
    "print(lasso_regressor.best_params_)\n",
    "print(lasso_regressor.best_score_)"
   ]
  },
  {
   "cell_type": "code",
   "execution_count": 73,
   "id": "adf08e1e",
   "metadata": {},
   "outputs": [],
   "source": [
    "### Predicting the Test set results\n",
    "\n",
    "Y_pred = lasso_regressor.predict(X_test)"
   ]
  },
  {
   "cell_type": "code",
   "execution_count": 74,
   "id": "beedce84",
   "metadata": {},
   "outputs": [
    {
     "name": "stdout",
     "output_type": "stream",
     "text": [
      "Root Mean Squared Error of the model is : 6.347\n"
     ]
    }
   ],
   "source": [
    "### Calculating Mean Squared Log Error for the model\n",
    "\n",
    "mse = round(mean_squared_error(Y_test, Y_pred), 3)\n",
    "rmse = round(sqrt(mse), 3)\n",
    "\n",
    "model_performance['Lasso Regression'] = rmse\n",
    "\n",
    "print('Root Mean Squared Error of the model is : {}'.format(rmse))"
   ]
  },
  {
   "cell_type": "markdown",
   "id": "0573ba76",
   "metadata": {},
   "source": [
    "##### 5.2.3 Applying Ridge Regression"
   ]
  },
  {
   "cell_type": "code",
   "execution_count": 75,
   "id": "1e7ae86f",
   "metadata": {},
   "outputs": [
    {
     "data": {
      "text/plain": [
       "GridSearchCV(cv=5, estimator=Ridge(),\n",
       "             param_grid={'alpha': [1e-15, 1e-10, 1e-08, 0.001, 0.01, 1, 5, 10,\n",
       "                                   20, 30, 35, 40, 45, 50, 55, 100]},\n",
       "             scoring='neg_mean_squared_error')"
      ]
     },
     "execution_count": 75,
     "metadata": {},
     "output_type": "execute_result"
    }
   ],
   "source": [
    "### Training the Ridge Regression model on the Training set\n",
    "\n",
    "ridge = Ridge()\n",
    "parameters = {'alpha': [1e-15, 1e-10, 1e-8, 1e-3, 1e-2, 1, 5, 10, 20, 30, 35, 40, 45, 50, 55, 100]}\n",
    "ridge_regressor = GridSearchCV(ridge, parameters, scoring = 'neg_mean_squared_error', cv = 5)\n",
    "ridge_regressor.fit(X_train, Y_train)"
   ]
  },
  {
   "cell_type": "code",
   "execution_count": 76,
   "id": "2bc0974b",
   "metadata": {},
   "outputs": [
    {
     "name": "stdout",
     "output_type": "stream",
     "text": [
      "{'alpha': 0.01}\n",
      "-20.050548788807628\n"
     ]
    }
   ],
   "source": [
    "# Finding out negative mean squared error in Lasso Regression\n",
    "\n",
    "print(ridge_regressor.best_params_)\n",
    "print(ridge_regressor.best_score_)"
   ]
  },
  {
   "cell_type": "code",
   "execution_count": 77,
   "id": "362fa081",
   "metadata": {},
   "outputs": [],
   "source": [
    "### Predicting the Test set results\n",
    "\n",
    "Y_pred = ridge_regressor.predict(X_test)"
   ]
  },
  {
   "cell_type": "code",
   "execution_count": 78,
   "id": "392239db",
   "metadata": {},
   "outputs": [
    {
     "name": "stdout",
     "output_type": "stream",
     "text": [
      "Root Mean Squared Error of the model is : 6.33\n"
     ]
    }
   ],
   "source": [
    "### Calculating Mean Squared Log Error for the model\n",
    "\n",
    "mse = round(mean_squared_error(Y_test, Y_pred), 3)\n",
    "rmse = round(sqrt(mse), 3)\n",
    "\n",
    "model_performance['Ridge Regression'] = rmse\n",
    "\n",
    "print('Root Mean Squared Error of the model is : {}'.format(rmse))"
   ]
  },
  {
   "cell_type": "markdown",
   "id": "e12015b2",
   "metadata": {},
   "source": [
    "##### 5.2.4 Applying Support Vector Regression"
   ]
  },
  {
   "cell_type": "code",
   "execution_count": 79,
   "id": "38dd0b21",
   "metadata": {},
   "outputs": [
    {
     "data": {
      "text/plain": [
       "SVR()"
      ]
     },
     "execution_count": 79,
     "metadata": {},
     "output_type": "execute_result"
    }
   ],
   "source": [
    "### Training the Support Vector Regression model on the Training set\n",
    "\n",
    "support_vector_regressor = SVR(kernel = 'rbf')\n",
    "support_vector_regressor.fit(X_train, Y_train)"
   ]
  },
  {
   "cell_type": "code",
   "execution_count": 80,
   "id": "2a045f0d",
   "metadata": {},
   "outputs": [],
   "source": [
    "### Predicting the Test set results\n",
    "\n",
    "Y_pred = support_vector_regressor.predict(X_test)"
   ]
  },
  {
   "cell_type": "code",
   "execution_count": 81,
   "id": "7c8b8bf4",
   "metadata": {},
   "outputs": [
    {
     "name": "stdout",
     "output_type": "stream",
     "text": [
      "Root Mean Squared Error of the model is : 7.865\n"
     ]
    }
   ],
   "source": [
    "### Calculating Mean Squared Log Error for the model\n",
    "\n",
    "mse = round(mean_squared_error(Y_test, Y_pred), 3)\n",
    "rmse = round(sqrt(mse), 3)\n",
    "\n",
    "model_performance['Support Vector Regression'] = rmse\n",
    "\n",
    "print('Root Mean Squared Error of the model is : {}'.format(rmse))"
   ]
  },
  {
   "cell_type": "markdown",
   "id": "26bee807",
   "metadata": {},
   "source": [
    "##### 5.2.5 Applying Decision Tree Regression"
   ]
  },
  {
   "cell_type": "code",
   "execution_count": 82,
   "id": "f65a5b65",
   "metadata": {},
   "outputs": [
    {
     "data": {
      "text/plain": [
       "DecisionTreeRegressor()"
      ]
     },
     "execution_count": 82,
     "metadata": {},
     "output_type": "execute_result"
    }
   ],
   "source": [
    "### Training the Decision Tree Regression model on the Training set\n",
    "\n",
    "decision_tree_regressor = DecisionTreeRegressor()\n",
    "decision_tree_regressor.fit(X_train, Y_train)"
   ]
  },
  {
   "cell_type": "code",
   "execution_count": 83,
   "id": "0f44d368",
   "metadata": {},
   "outputs": [],
   "source": [
    "### Predicting the Test set results\n",
    "\n",
    "Y_pred = decision_tree_regressor.predict(X_test)"
   ]
  },
  {
   "cell_type": "code",
   "execution_count": 84,
   "id": "1bd5f9b7",
   "metadata": {},
   "outputs": [
    {
     "name": "stdout",
     "output_type": "stream",
     "text": [
      "Root Mean Squared Error of the model is : 6.308\n"
     ]
    }
   ],
   "source": [
    "### Calculating Mean Squared Log Error for the model\n",
    "\n",
    "mse = round(mean_squared_error(Y_test, Y_pred), 3)\n",
    "rmse = round(sqrt(mse), 3)\n",
    "\n",
    "model_performance['Decision Tree Regression'] = rmse\n",
    "\n",
    "print('Root Mean Squared Error of the model is : {}'.format(rmse))"
   ]
  },
  {
   "cell_type": "markdown",
   "id": "ef13d138",
   "metadata": {},
   "source": [
    "##### 5.2.6 Applying Random Forest Regression (10 trees)"
   ]
  },
  {
   "cell_type": "code",
   "execution_count": 85,
   "id": "7544f3ec",
   "metadata": {},
   "outputs": [
    {
     "data": {
      "text/plain": [
       "RandomForestRegressor(n_estimators=10, random_state=27)"
      ]
     },
     "execution_count": 85,
     "metadata": {},
     "output_type": "execute_result"
    }
   ],
   "source": [
    "### Training the Random Forest Regression model on the Training set\n",
    "\n",
    "random_forest_regressor = RandomForestRegressor(n_estimators = 10, random_state = 27)\n",
    "random_forest_regressor.fit(X_train, Y_train)"
   ]
  },
  {
   "cell_type": "code",
   "execution_count": 86,
   "id": "6c5ca1de",
   "metadata": {},
   "outputs": [],
   "source": [
    "### Predicting the Test set results\n",
    "\n",
    "Y_pred = random_forest_regressor.predict(X_test)"
   ]
  },
  {
   "cell_type": "code",
   "execution_count": 87,
   "id": "901a72c7",
   "metadata": {},
   "outputs": [
    {
     "name": "stdout",
     "output_type": "stream",
     "text": [
      "Root Mean Squared Error of the model is : 5.984\n"
     ]
    }
   ],
   "source": [
    "### Calculating Mean Squared Log Error for the model\n",
    "\n",
    "mse = round(mean_squared_error(Y_test, Y_pred), 3)\n",
    "rmse = round(sqrt(mse), 3)\n",
    "\n",
    "model_performance['Random Forest Regression (10 trees)'] = rmse\n",
    "\n",
    "print('Root Mean Squared Error of the model is : {}'.format(rmse))"
   ]
  },
  {
   "cell_type": "markdown",
   "id": "30f51594",
   "metadata": {},
   "source": [
    "##### 5.2.7 Applying Random Forest Regression (25 trees)"
   ]
  },
  {
   "cell_type": "code",
   "execution_count": 88,
   "id": "6e4bff47",
   "metadata": {},
   "outputs": [
    {
     "data": {
      "text/plain": [
       "RandomForestRegressor(n_estimators=25, random_state=27)"
      ]
     },
     "execution_count": 88,
     "metadata": {},
     "output_type": "execute_result"
    }
   ],
   "source": [
    "### Training the Random Forest Regression model on the Training set\n",
    "\n",
    "random_forest_regressor = RandomForestRegressor(n_estimators = 25, random_state = 27)\n",
    "random_forest_regressor.fit(X_train, Y_train)"
   ]
  },
  {
   "cell_type": "code",
   "execution_count": 89,
   "id": "d2410ae6",
   "metadata": {},
   "outputs": [],
   "source": [
    "### Predicting the Test set results\n",
    "\n",
    "Y_pred = random_forest_regressor.predict(X_test)"
   ]
  },
  {
   "cell_type": "code",
   "execution_count": 90,
   "id": "ff7a6061",
   "metadata": {},
   "outputs": [
    {
     "name": "stdout",
     "output_type": "stream",
     "text": [
      "Root Mean Squared Error of the model is : 5.683\n"
     ]
    }
   ],
   "source": [
    "### Calculating Mean Squared Log Error for the model\n",
    "\n",
    "mse = round(mean_squared_error(Y_test, Y_pred), 3)\n",
    "rmse = round(sqrt(mse), 3)\n",
    "\n",
    "model_performance['Random Forest Regression (25 trees)'] = rmse\n",
    "\n",
    "print('Root Mean Squared Error of the model is : {}'.format(rmse))"
   ]
  },
  {
   "cell_type": "markdown",
   "id": "6523f236",
   "metadata": {},
   "source": [
    "##### 5.2.8 Applying Random Forest Regression (50 trees)"
   ]
  },
  {
   "cell_type": "code",
   "execution_count": 91,
   "id": "99d6d9ff",
   "metadata": {},
   "outputs": [
    {
     "data": {
      "text/plain": [
       "RandomForestRegressor(n_estimators=50, random_state=27)"
      ]
     },
     "execution_count": 91,
     "metadata": {},
     "output_type": "execute_result"
    }
   ],
   "source": [
    "### Training the Random Forest Regression model on the Training set\n",
    "\n",
    "random_forest_regressor = RandomForestRegressor(n_estimators = 50, random_state = 27)\n",
    "random_forest_regressor.fit(X_train, Y_train)"
   ]
  },
  {
   "cell_type": "code",
   "execution_count": 92,
   "id": "5407b5f4",
   "metadata": {},
   "outputs": [],
   "source": [
    "### Predicting the Test set results\n",
    "\n",
    "Y_pred = random_forest_regressor.predict(X_test)"
   ]
  },
  {
   "cell_type": "code",
   "execution_count": 93,
   "id": "0426ca8b",
   "metadata": {},
   "outputs": [
    {
     "name": "stdout",
     "output_type": "stream",
     "text": [
      "Root Mean Squared Error of the model is : 5.523\n"
     ]
    }
   ],
   "source": [
    "### Calculating Mean Squared Log Error for the model\n",
    "\n",
    "mse = round(mean_squared_error(Y_test, Y_pred), 3)\n",
    "rmse = round(sqrt(mse), 3)\n",
    "\n",
    "model_performance['Random Forest Regression (50 trees)'] = rmse\n",
    "\n",
    "print('Root Mean Squared Error of the model is : {}'.format(rmse))"
   ]
  },
  {
   "cell_type": "markdown",
   "id": "0b509b15",
   "metadata": {},
   "source": [
    "##### 5.2.9 Applying Random Forest Regression (100 trees)"
   ]
  },
  {
   "cell_type": "code",
   "execution_count": 94,
   "id": "fbbf3388",
   "metadata": {},
   "outputs": [
    {
     "data": {
      "text/plain": [
       "RandomForestRegressor(random_state=27)"
      ]
     },
     "execution_count": 94,
     "metadata": {},
     "output_type": "execute_result"
    }
   ],
   "source": [
    "### Training the Random Forest Regression model on the Training set\n",
    "\n",
    "random_forest_regressor = RandomForestRegressor(n_estimators = 100, random_state = 27)\n",
    "random_forest_regressor.fit(X_train, Y_train)"
   ]
  },
  {
   "cell_type": "code",
   "execution_count": 95,
   "id": "22473bbb",
   "metadata": {},
   "outputs": [],
   "source": [
    "### Predicting the Test set results\n",
    "\n",
    "Y_pred = random_forest_regressor.predict(X_test)"
   ]
  },
  {
   "cell_type": "code",
   "execution_count": 96,
   "id": "58eb032c",
   "metadata": {},
   "outputs": [
    {
     "name": "stdout",
     "output_type": "stream",
     "text": [
      "Root Mean Squared Error of the model is : 5.333\n"
     ]
    }
   ],
   "source": [
    "### Calculating Mean Squared Log Error for the model\n",
    "\n",
    "mse = round(mean_squared_error(Y_test, Y_pred), 3)\n",
    "rmse = round(sqrt(mse), 3)\n",
    "\n",
    "model_performance['Random Forest Regression (100 trees)'] = rmse\n",
    "\n",
    "print('Root Mean Squared Error of the model is : {}'.format(rmse))"
   ]
  },
  {
   "cell_type": "markdown",
   "id": "5405b2ef",
   "metadata": {},
   "source": [
    "##### 5.2.10 Applying Stacking Regression"
   ]
  },
  {
   "cell_type": "code",
   "execution_count": 97,
   "id": "818ee75f",
   "metadata": {},
   "outputs": [],
   "source": [
    "### Preparing the Stacking Regressor\n",
    "\n",
    "### Define the base models\n",
    "\n",
    "base_models = list()\n",
    "\n",
    "base_models.append(('ridge_regression', ridge_regressor))\n",
    "base_models.append(('decision_tree', decision_tree_regressor))\n",
    "\n",
    "### Define the meta models\n",
    "\n",
    "meta_model = random_forest_regressor"
   ]
  },
  {
   "cell_type": "code",
   "execution_count": 98,
   "id": "e7f3955e",
   "metadata": {},
   "outputs": [
    {
     "data": {
      "text/plain": [
       "StackingRegressor(estimators=[('ridge_regression',\n",
       "                               GridSearchCV(cv=5, estimator=Ridge(),\n",
       "                                            param_grid={'alpha': [1e-15, 1e-10,\n",
       "                                                                  1e-08, 0.001,\n",
       "                                                                  0.01, 1, 5,\n",
       "                                                                  10, 20, 30,\n",
       "                                                                  35, 40, 45,\n",
       "                                                                  50, 55,\n",
       "                                                                  100]},\n",
       "                                            scoring='neg_mean_squared_error')),\n",
       "                              ('decision_tree', DecisionTreeRegressor())],\n",
       "                  final_estimator=RandomForestRegressor(random_state=27))"
      ]
     },
     "execution_count": 98,
     "metadata": {},
     "output_type": "execute_result"
    }
   ],
   "source": [
    "### Training the Stacking Regression model on the Training set\n",
    "\n",
    "stacking_regressor = StackingRegressor(estimators = base_models, final_estimator = meta_model)\n",
    "stacking_regressor.fit(X_train, Y_train)"
   ]
  },
  {
   "cell_type": "code",
   "execution_count": 99,
   "id": "de60f22b",
   "metadata": {},
   "outputs": [],
   "source": [
    "### Predicting the Test set results\n",
    "\n",
    "Y_pred = stacking_regressor.predict(X_test)"
   ]
  },
  {
   "cell_type": "code",
   "execution_count": 100,
   "id": "041cc979",
   "metadata": {},
   "outputs": [
    {
     "name": "stdout",
     "output_type": "stream",
     "text": [
      "Root Mean Squared Error of the model is : 6.563\n"
     ]
    }
   ],
   "source": [
    "### Calculating Mean Squared Log Error for the model\n",
    "\n",
    "mse = round(mean_squared_error(Y_test, Y_pred), 3)\n",
    "rmse = round(sqrt(mse), 3)\n",
    "\n",
    "model_performance['Stacking Regression'] = rmse\n",
    "\n",
    "print('Root Mean Squared Error of the model is : {}'.format(rmse))"
   ]
  },
  {
   "cell_type": "markdown",
   "id": "6e0c3445",
   "metadata": {},
   "source": [
    "##### 5.2.11 Applying XGBoost Regression"
   ]
  },
  {
   "cell_type": "code",
   "execution_count": 101,
   "id": "3277c6e2",
   "metadata": {},
   "outputs": [
    {
     "name": "stdout",
     "output_type": "stream",
     "text": [
      "[20:15:34] WARNING: C:/Users/Administrator/workspace/xgboost-win64_release_1.5.1/src/objective/regression_obj.cu:188: reg:linear is now deprecated in favor of reg:squarederror.\n"
     ]
    },
    {
     "data": {
      "text/plain": [
       "XGBRegressor(base_score=0.5, booster='gbtree', colsample_bylevel=1,\n",
       "             colsample_bynode=1, colsample_bytree=1, enable_categorical=False,\n",
       "             gamma=0, gpu_id=-1, importance_type=None,\n",
       "             interaction_constraints='', learning_rate=0.300000012,\n",
       "             max_delta_step=0, max_depth=6, min_child_weight=1, missing=nan,\n",
       "             monotone_constraints='()', n_estimators=100, n_jobs=8,\n",
       "             num_parallel_tree=1, objective='reg:linear', predictor='auto',\n",
       "             random_state=27, reg_alpha=0, reg_lambda=1, scale_pos_weight=1,\n",
       "             seed=27, subsample=1, tree_method='exact', validate_parameters=1,\n",
       "             verbosity=None)"
      ]
     },
     "execution_count": 101,
     "metadata": {},
     "output_type": "execute_result"
    }
   ],
   "source": [
    "### Training the XGBoost Regression model on the Training set\n",
    "\n",
    "xgboost_regressor = xg.XGBRegressor(objective ='reg:linear', n_estimators = 100, seed = 27)\n",
    "xgboost_regressor.fit(X_train, Y_train)"
   ]
  },
  {
   "cell_type": "code",
   "execution_count": 102,
   "id": "bc72c613",
   "metadata": {},
   "outputs": [],
   "source": [
    "### Predicting the Test set results\n",
    "\n",
    "Y_pred = xgboost_regressor.predict(X_test)"
   ]
  },
  {
   "cell_type": "code",
   "execution_count": 103,
   "id": "ab558d3a",
   "metadata": {},
   "outputs": [
    {
     "name": "stdout",
     "output_type": "stream",
     "text": [
      "Root Mean Squared Error of the model is : 5.045\n"
     ]
    }
   ],
   "source": [
    "### Calculating Mean Squared Log Error for the model\n",
    "\n",
    "mse = round(mean_squared_error(Y_test, Y_pred), 3)\n",
    "rmse = round(sqrt(mse), 3)\n",
    "\n",
    "model_performance['XGBoost Regression'] = rmse\n",
    "\n",
    "print('Root Mean Squared Error of the model is : {}'.format(rmse))"
   ]
  },
  {
   "cell_type": "markdown",
   "id": "809a4574",
   "metadata": {},
   "source": [
    "#### 5.3 Model evaluation"
   ]
  },
  {
   "cell_type": "markdown",
   "id": "3552324e",
   "metadata": {},
   "source": [
    "Model evaluation is the process of using different evaluation metrics to understand a machine learning model's performance, as well as its strengths and weaknesses."
   ]
  },
  {
   "cell_type": "markdown",
   "id": "eec21413",
   "metadata": {},
   "source": [
    "##### 5.3.1 Mean Squared Logarithmic Error of the models"
   ]
  },
  {
   "cell_type": "markdown",
   "id": "fa69975f",
   "metadata": {},
   "source": [
    "Now we will tabulate all the models along with their msle. This data is stored in the model_performance dictionary. We will use the tabulate package for tabulating the results."
   ]
  },
  {
   "cell_type": "code",
   "execution_count": 104,
   "id": "d6f10dd0",
   "metadata": {},
   "outputs": [
    {
     "data": {
      "text/plain": [
       "OrderedDict([('Multi Linear Regression', 6.33),\n",
       "             ('Lasso Regression', 6.347),\n",
       "             ('Ridge Regression', 6.33),\n",
       "             ('Support Vector Regression', 7.865),\n",
       "             ('Decision Tree Regression', 6.308),\n",
       "             ('Random Forest Regression (10 trees)', 5.984),\n",
       "             ('Random Forest Regression (25 trees)', 5.683),\n",
       "             ('Random Forest Regression (50 trees)', 5.523),\n",
       "             ('Random Forest Regression (100 trees)', 5.333),\n",
       "             ('Stacking Regression', 6.563),\n",
       "             ('XGBoost Regression', 5.045)])"
      ]
     },
     "execution_count": 104,
     "metadata": {},
     "output_type": "execute_result"
    }
   ],
   "source": [
    "### Looking at the model performance dictionary\n",
    "\n",
    "model_performance"
   ]
  },
  {
   "cell_type": "code",
   "execution_count": 105,
   "id": "d6f86f7e",
   "metadata": {},
   "outputs": [
    {
     "name": "stdout",
     "output_type": "stream",
     "text": [
      "╒═════════╤══════════════════════════════════════╤═══════════════════════════╕\n",
      "│   S.No. │ Classification Model                 │   Root Mean Squared Error │\n",
      "╞═════════╪══════════════════════════════════════╪═══════════════════════════╡\n",
      "│       1 │ Multi Linear Regression              │                     6.33  │\n",
      "├─────────┼──────────────────────────────────────┼───────────────────────────┤\n",
      "│       2 │ Lasso Regression                     │                     6.347 │\n",
      "├─────────┼──────────────────────────────────────┼───────────────────────────┤\n",
      "│       3 │ Ridge Regression                     │                     6.33  │\n",
      "├─────────┼──────────────────────────────────────┼───────────────────────────┤\n",
      "│       4 │ Support Vector Regression            │                     7.865 │\n",
      "├─────────┼──────────────────────────────────────┼───────────────────────────┤\n",
      "│       5 │ Decision Tree Regression             │                     6.308 │\n",
      "├─────────┼──────────────────────────────────────┼───────────────────────────┤\n",
      "│       6 │ Random Forest Regression (10 trees)  │                     5.984 │\n",
      "├─────────┼──────────────────────────────────────┼───────────────────────────┤\n",
      "│       7 │ Random Forest Regression (25 trees)  │                     5.683 │\n",
      "├─────────┼──────────────────────────────────────┼───────────────────────────┤\n",
      "│       8 │ Random Forest Regression (50 trees)  │                     5.523 │\n",
      "├─────────┼──────────────────────────────────────┼───────────────────────────┤\n",
      "│       9 │ Random Forest Regression (100 trees) │                     5.333 │\n",
      "├─────────┼──────────────────────────────────────┼───────────────────────────┤\n",
      "│      10 │ Stacking Regression                  │                     6.563 │\n",
      "├─────────┼──────────────────────────────────────┼───────────────────────────┤\n",
      "│      11 │ XGBoost Regression                   │                     5.045 │\n",
      "╘═════════╧══════════════════════════════════════╧═══════════════════════════╛\n"
     ]
    }
   ],
   "source": [
    "### Tabulating the results\n",
    "\n",
    "table = []\n",
    "table.append(['S.No.', 'Classification Model', 'Root Mean Squared Error'])\n",
    "count = 1\n",
    "\n",
    "for model in model_performance:\n",
    "    row = [count, model, model_performance[model]]\n",
    "    table.append(row)\n",
    "    count += 1\n",
    "    \n",
    "print(tabulate(table, headers = 'firstrow', tablefmt = 'fancy_grid'))"
   ]
  },
  {
   "cell_type": "markdown",
   "id": "f1f371cf",
   "metadata": {},
   "source": [
    "From the above table, we can see that the model XGBoost Regressor has the least Root Mean Squared Error of 5.045"
   ]
  },
  {
   "cell_type": "markdown",
   "id": "178f9553",
   "metadata": {},
   "source": [
    "### 6. Conclusion"
   ]
  },
  {
   "cell_type": "markdown",
   "id": "5d10a43d",
   "metadata": {},
   "source": [
    "Hence, for this problem, we will use XGBoost regressor to predict the Sales Price."
   ]
  }
 ],
 "metadata": {
  "kernelspec": {
   "display_name": "Python 3",
   "language": "python",
   "name": "python3"
  },
  "language_info": {
   "codemirror_mode": {
    "name": "ipython",
    "version": 3
   },
   "file_extension": ".py",
   "mimetype": "text/x-python",
   "name": "python",
   "nbconvert_exporter": "python",
   "pygments_lexer": "ipython3",
   "version": "3.8.8"
  }
 },
 "nbformat": 4,
 "nbformat_minor": 5
}
